{
 "cells": [
  {
   "cell_type": "code",
   "execution_count": 1,
   "metadata": {},
   "outputs": [],
   "source": [
    "import torch\n",
    "import numpy as np\n",
    "import copy"
   ]
  },
  {
   "cell_type": "code",
   "execution_count": 2,
   "metadata": {},
   "outputs": [],
   "source": [
    "MODEL_NAME = '0'"
   ]
  },
  {
   "cell_type": "code",
   "execution_count": 3,
   "metadata": {},
   "outputs": [],
   "source": [
    "state_dict = torch.load('weights/_efficientdet_d{}.pth'.format(MODEL_NAME))"
   ]
  },
  {
   "cell_type": "code",
   "execution_count": null,
   "outputs": [],
   "source": [
    "x = torch.rand(1, 3, 512, 512)"
   ],
   "metadata": {
    "collapsed": false,
    "pycharm": {
     "name": "#%%\n"
    }
   }
  },
  {
   "cell_type": "code",
   "execution_count": null,
   "outputs": [],
   "source": [
    "torch.save(x, 'input_tensor.pth')"
   ],
   "metadata": {
    "collapsed": false,
    "pycharm": {
     "name": "#%%\n"
    }
   }
  },
  {
   "cell_type": "code",
   "execution_count": null,
   "outputs": [],
   "source": [
    "from model import EfficientDet\n",
    "model = EfficientDet('efficientdet-d{}'.format(MODEL_NAME))\n",
    "model.load_state_dict(torch.load('weights/efficientdet-d{}.pth'.format(MODEL_NAME)))"
   ],
   "metadata": {
    "collapsed": false,
    "pycharm": {
     "name": "#%%\n"
    }
   }
  },
  {
   "cell_type": "code",
   "execution_count": null,
   "outputs": [],
   "source": [
    "model.eval()\n",
    "cls, box = model(x)"
   ],
   "metadata": {
    "collapsed": false,
    "pycharm": {
     "name": "#%%\n"
    }
   }
  },
  {
   "cell_type": "code",
   "execution_count": null,
   "outputs": [],
   "source": [
    "for c, b in zip(cls, box):\n",
    "    cls_name = 'cls{}.pth'.format(c.shape[2])\n",
    "    box_name = 'box{}.pth'.format(b.shape[2])\n",
    "    torch.save(c, cls_name)\n",
    "    torch.save(b, box_name)"
   ],
   "metadata": {
    "collapsed": false,
    "pycharm": {
     "name": "#%%\n"
    }
   }
  },
  {
   "cell_type": "code",
   "execution_count": 4,
   "metadata": {
    "scrolled": true
   },
   "outputs": [],
   "source": [
    "state_dict.keys()"
   ]
  },
  {
   "cell_type": "code",
   "execution_count": 5,
   "metadata": {},
   "outputs": [],
   "source": [
    "torch.save(x, 'input_tensor.pth')"
   ]
  },
  {
   "cell_type": "code",
   "execution_count": 6,
   "metadata": {},
   "outputs": [
    {
     "name": "stdout",
     "output_type": "stream",
     "text": [
      "Loaded pretrained weights for efficientnet-b0\n"
     ]
    },
    {
     "data": {
      "text/plain": [
       "<All keys matched successfully>"
      ]
     },
     "execution_count": 6,
     "metadata": {},
     "output_type": "execute_result"
    }
   ],
   "source": [
    "from model import EfficientDet\n",
    "model = EfficientDet('efficientdet-d{}'.format(MODEL_NAME))\n",
    "model.load_state_dict(torch.load('weights/efficientdet-d{}.pth'.format(MODEL_NAME)))"
   ]
  },
  {
   "cell_type": "code",
   "execution_count": 7,
   "metadata": {},
   "outputs": [],
   "source": [
    "model.eval()\n",
    "cls, box = model(x)"
   ]
  },
  {
   "cell_type": "code",
   "execution_count": 10,
   "metadata": {},
   "outputs": [],
   "source": [
    "for c, b in zip(cls, box):\n",
    "    cls_name = 'cls{}.pth'.format(c.shape[2])\n",
    "    box_name = 'box{}.pth'.format(b.shape[2])\n",
    "    torch.save(c, cls_name)\n",
    "    torch.save(b, box_name)"
   ]
  },
  {
   "cell_type": "code",
   "execution_count": 414,
   "metadata": {},
   "outputs": [
    {
     "data": {
      "text/plain": [
       "odict_keys(['backbone.conv_stem.weight', 'backbone.bn1.weight', 'backbone.bn1.bias', 'backbone.bn1.running_mean', 'backbone.bn1.running_var', 'backbone.bn1.num_batches_tracked', 'backbone.blocks.0.0.conv_dw.weight', 'backbone.blocks.0.0.bn1.weight', 'backbone.blocks.0.0.bn1.bias', 'backbone.blocks.0.0.bn1.running_mean', 'backbone.blocks.0.0.bn1.running_var', 'backbone.blocks.0.0.bn1.num_batches_tracked', 'backbone.blocks.0.0.se.conv_reduce.weight', 'backbone.blocks.0.0.se.conv_reduce.bias', 'backbone.blocks.0.0.se.conv_expand.weight', 'backbone.blocks.0.0.se.conv_expand.bias', 'backbone.blocks.0.0.conv_pw.weight', 'backbone.blocks.0.0.bn2.weight', 'backbone.blocks.0.0.bn2.bias', 'backbone.blocks.0.0.bn2.running_mean', 'backbone.blocks.0.0.bn2.running_var', 'backbone.blocks.0.0.bn2.num_batches_tracked', 'backbone.blocks.0.1.conv_dw.weight', 'backbone.blocks.0.1.bn1.weight', 'backbone.blocks.0.1.bn1.bias', 'backbone.blocks.0.1.bn1.running_mean', 'backbone.blocks.0.1.bn1.running_var', 'backbone.blocks.0.1.bn1.num_batches_tracked', 'backbone.blocks.0.1.se.conv_reduce.weight', 'backbone.blocks.0.1.se.conv_reduce.bias', 'backbone.blocks.0.1.se.conv_expand.weight', 'backbone.blocks.0.1.se.conv_expand.bias', 'backbone.blocks.0.1.conv_pw.weight', 'backbone.blocks.0.1.bn2.weight', 'backbone.blocks.0.1.bn2.bias', 'backbone.blocks.0.1.bn2.running_mean', 'backbone.blocks.0.1.bn2.running_var', 'backbone.blocks.0.1.bn2.num_batches_tracked', 'backbone.blocks.0.2.conv_dw.weight', 'backbone.blocks.0.2.bn1.weight', 'backbone.blocks.0.2.bn1.bias', 'backbone.blocks.0.2.bn1.running_mean', 'backbone.blocks.0.2.bn1.running_var', 'backbone.blocks.0.2.bn1.num_batches_tracked', 'backbone.blocks.0.2.se.conv_reduce.weight', 'backbone.blocks.0.2.se.conv_reduce.bias', 'backbone.blocks.0.2.se.conv_expand.weight', 'backbone.blocks.0.2.se.conv_expand.bias', 'backbone.blocks.0.2.conv_pw.weight', 'backbone.blocks.0.2.bn2.weight', 'backbone.blocks.0.2.bn2.bias', 'backbone.blocks.0.2.bn2.running_mean', 'backbone.blocks.0.2.bn2.running_var', 'backbone.blocks.0.2.bn2.num_batches_tracked', 'backbone.blocks.1.0.conv_pw.weight', 'backbone.blocks.1.0.bn1.weight', 'backbone.blocks.1.0.bn1.bias', 'backbone.blocks.1.0.bn1.running_mean', 'backbone.blocks.1.0.bn1.running_var', 'backbone.blocks.1.0.bn1.num_batches_tracked', 'backbone.blocks.1.0.conv_dw.weight', 'backbone.blocks.1.0.bn2.weight', 'backbone.blocks.1.0.bn2.bias', 'backbone.blocks.1.0.bn2.running_mean', 'backbone.blocks.1.0.bn2.running_var', 'backbone.blocks.1.0.bn2.num_batches_tracked', 'backbone.blocks.1.0.se.conv_reduce.weight', 'backbone.blocks.1.0.se.conv_reduce.bias', 'backbone.blocks.1.0.se.conv_expand.weight', 'backbone.blocks.1.0.se.conv_expand.bias', 'backbone.blocks.1.0.conv_pwl.weight', 'backbone.blocks.1.0.bn3.weight', 'backbone.blocks.1.0.bn3.bias', 'backbone.blocks.1.0.bn3.running_mean', 'backbone.blocks.1.0.bn3.running_var', 'backbone.blocks.1.0.bn3.num_batches_tracked', 'backbone.blocks.1.1.conv_pw.weight', 'backbone.blocks.1.1.bn1.weight', 'backbone.blocks.1.1.bn1.bias', 'backbone.blocks.1.1.bn1.running_mean', 'backbone.blocks.1.1.bn1.running_var', 'backbone.blocks.1.1.bn1.num_batches_tracked', 'backbone.blocks.1.1.conv_dw.weight', 'backbone.blocks.1.1.bn2.weight', 'backbone.blocks.1.1.bn2.bias', 'backbone.blocks.1.1.bn2.running_mean', 'backbone.blocks.1.1.bn2.running_var', 'backbone.blocks.1.1.bn2.num_batches_tracked', 'backbone.blocks.1.1.se.conv_reduce.weight', 'backbone.blocks.1.1.se.conv_reduce.bias', 'backbone.blocks.1.1.se.conv_expand.weight', 'backbone.blocks.1.1.se.conv_expand.bias', 'backbone.blocks.1.1.conv_pwl.weight', 'backbone.blocks.1.1.bn3.weight', 'backbone.blocks.1.1.bn3.bias', 'backbone.blocks.1.1.bn3.running_mean', 'backbone.blocks.1.1.bn3.running_var', 'backbone.blocks.1.1.bn3.num_batches_tracked', 'backbone.blocks.1.2.conv_pw.weight', 'backbone.blocks.1.2.bn1.weight', 'backbone.blocks.1.2.bn1.bias', 'backbone.blocks.1.2.bn1.running_mean', 'backbone.blocks.1.2.bn1.running_var', 'backbone.blocks.1.2.bn1.num_batches_tracked', 'backbone.blocks.1.2.conv_dw.weight', 'backbone.blocks.1.2.bn2.weight', 'backbone.blocks.1.2.bn2.bias', 'backbone.blocks.1.2.bn2.running_mean', 'backbone.blocks.1.2.bn2.running_var', 'backbone.blocks.1.2.bn2.num_batches_tracked', 'backbone.blocks.1.2.se.conv_reduce.weight', 'backbone.blocks.1.2.se.conv_reduce.bias', 'backbone.blocks.1.2.se.conv_expand.weight', 'backbone.blocks.1.2.se.conv_expand.bias', 'backbone.blocks.1.2.conv_pwl.weight', 'backbone.blocks.1.2.bn3.weight', 'backbone.blocks.1.2.bn3.bias', 'backbone.blocks.1.2.bn3.running_mean', 'backbone.blocks.1.2.bn3.running_var', 'backbone.blocks.1.2.bn3.num_batches_tracked', 'backbone.blocks.1.3.conv_pw.weight', 'backbone.blocks.1.3.bn1.weight', 'backbone.blocks.1.3.bn1.bias', 'backbone.blocks.1.3.bn1.running_mean', 'backbone.blocks.1.3.bn1.running_var', 'backbone.blocks.1.3.bn1.num_batches_tracked', 'backbone.blocks.1.3.conv_dw.weight', 'backbone.blocks.1.3.bn2.weight', 'backbone.blocks.1.3.bn2.bias', 'backbone.blocks.1.3.bn2.running_mean', 'backbone.blocks.1.3.bn2.running_var', 'backbone.blocks.1.3.bn2.num_batches_tracked', 'backbone.blocks.1.3.se.conv_reduce.weight', 'backbone.blocks.1.3.se.conv_reduce.bias', 'backbone.blocks.1.3.se.conv_expand.weight', 'backbone.blocks.1.3.se.conv_expand.bias', 'backbone.blocks.1.3.conv_pwl.weight', 'backbone.blocks.1.3.bn3.weight', 'backbone.blocks.1.3.bn3.bias', 'backbone.blocks.1.3.bn3.running_mean', 'backbone.blocks.1.3.bn3.running_var', 'backbone.blocks.1.3.bn3.num_batches_tracked', 'backbone.blocks.1.4.conv_pw.weight', 'backbone.blocks.1.4.bn1.weight', 'backbone.blocks.1.4.bn1.bias', 'backbone.blocks.1.4.bn1.running_mean', 'backbone.blocks.1.4.bn1.running_var', 'backbone.blocks.1.4.bn1.num_batches_tracked', 'backbone.blocks.1.4.conv_dw.weight', 'backbone.blocks.1.4.bn2.weight', 'backbone.blocks.1.4.bn2.bias', 'backbone.blocks.1.4.bn2.running_mean', 'backbone.blocks.1.4.bn2.running_var', 'backbone.blocks.1.4.bn2.num_batches_tracked', 'backbone.blocks.1.4.se.conv_reduce.weight', 'backbone.blocks.1.4.se.conv_reduce.bias', 'backbone.blocks.1.4.se.conv_expand.weight', 'backbone.blocks.1.4.se.conv_expand.bias', 'backbone.blocks.1.4.conv_pwl.weight', 'backbone.blocks.1.4.bn3.weight', 'backbone.blocks.1.4.bn3.bias', 'backbone.blocks.1.4.bn3.running_mean', 'backbone.blocks.1.4.bn3.running_var', 'backbone.blocks.1.4.bn3.num_batches_tracked', 'backbone.blocks.2.0.conv_pw.weight', 'backbone.blocks.2.0.bn1.weight', 'backbone.blocks.2.0.bn1.bias', 'backbone.blocks.2.0.bn1.running_mean', 'backbone.blocks.2.0.bn1.running_var', 'backbone.blocks.2.0.bn1.num_batches_tracked', 'backbone.blocks.2.0.conv_dw.weight', 'backbone.blocks.2.0.bn2.weight', 'backbone.blocks.2.0.bn2.bias', 'backbone.blocks.2.0.bn2.running_mean', 'backbone.blocks.2.0.bn2.running_var', 'backbone.blocks.2.0.bn2.num_batches_tracked', 'backbone.blocks.2.0.se.conv_reduce.weight', 'backbone.blocks.2.0.se.conv_reduce.bias', 'backbone.blocks.2.0.se.conv_expand.weight', 'backbone.blocks.2.0.se.conv_expand.bias', 'backbone.blocks.2.0.conv_pwl.weight', 'backbone.blocks.2.0.bn3.weight', 'backbone.blocks.2.0.bn3.bias', 'backbone.blocks.2.0.bn3.running_mean', 'backbone.blocks.2.0.bn3.running_var', 'backbone.blocks.2.0.bn3.num_batches_tracked', 'backbone.blocks.2.1.conv_pw.weight', 'backbone.blocks.2.1.bn1.weight', 'backbone.blocks.2.1.bn1.bias', 'backbone.blocks.2.1.bn1.running_mean', 'backbone.blocks.2.1.bn1.running_var', 'backbone.blocks.2.1.bn1.num_batches_tracked', 'backbone.blocks.2.1.conv_dw.weight', 'backbone.blocks.2.1.bn2.weight', 'backbone.blocks.2.1.bn2.bias', 'backbone.blocks.2.1.bn2.running_mean', 'backbone.blocks.2.1.bn2.running_var', 'backbone.blocks.2.1.bn2.num_batches_tracked', 'backbone.blocks.2.1.se.conv_reduce.weight', 'backbone.blocks.2.1.se.conv_reduce.bias', 'backbone.blocks.2.1.se.conv_expand.weight', 'backbone.blocks.2.1.se.conv_expand.bias', 'backbone.blocks.2.1.conv_pwl.weight', 'backbone.blocks.2.1.bn3.weight', 'backbone.blocks.2.1.bn3.bias', 'backbone.blocks.2.1.bn3.running_mean', 'backbone.blocks.2.1.bn3.running_var', 'backbone.blocks.2.1.bn3.num_batches_tracked', 'backbone.blocks.2.2.conv_pw.weight', 'backbone.blocks.2.2.bn1.weight', 'backbone.blocks.2.2.bn1.bias', 'backbone.blocks.2.2.bn1.running_mean', 'backbone.blocks.2.2.bn1.running_var', 'backbone.blocks.2.2.bn1.num_batches_tracked', 'backbone.blocks.2.2.conv_dw.weight', 'backbone.blocks.2.2.bn2.weight', 'backbone.blocks.2.2.bn2.bias', 'backbone.blocks.2.2.bn2.running_mean', 'backbone.blocks.2.2.bn2.running_var', 'backbone.blocks.2.2.bn2.num_batches_tracked', 'backbone.blocks.2.2.se.conv_reduce.weight', 'backbone.blocks.2.2.se.conv_reduce.bias', 'backbone.blocks.2.2.se.conv_expand.weight', 'backbone.blocks.2.2.se.conv_expand.bias', 'backbone.blocks.2.2.conv_pwl.weight', 'backbone.blocks.2.2.bn3.weight', 'backbone.blocks.2.2.bn3.bias', 'backbone.blocks.2.2.bn3.running_mean', 'backbone.blocks.2.2.bn3.running_var', 'backbone.blocks.2.2.bn3.num_batches_tracked', 'backbone.blocks.2.3.conv_pw.weight', 'backbone.blocks.2.3.bn1.weight', 'backbone.blocks.2.3.bn1.bias', 'backbone.blocks.2.3.bn1.running_mean', 'backbone.blocks.2.3.bn1.running_var', 'backbone.blocks.2.3.bn1.num_batches_tracked', 'backbone.blocks.2.3.conv_dw.weight', 'backbone.blocks.2.3.bn2.weight', 'backbone.blocks.2.3.bn2.bias', 'backbone.blocks.2.3.bn2.running_mean', 'backbone.blocks.2.3.bn2.running_var', 'backbone.blocks.2.3.bn2.num_batches_tracked', 'backbone.blocks.2.3.se.conv_reduce.weight', 'backbone.blocks.2.3.se.conv_reduce.bias', 'backbone.blocks.2.3.se.conv_expand.weight', 'backbone.blocks.2.3.se.conv_expand.bias', 'backbone.blocks.2.3.conv_pwl.weight', 'backbone.blocks.2.3.bn3.weight', 'backbone.blocks.2.3.bn3.bias', 'backbone.blocks.2.3.bn3.running_mean', 'backbone.blocks.2.3.bn3.running_var', 'backbone.blocks.2.3.bn3.num_batches_tracked', 'backbone.blocks.2.4.conv_pw.weight', 'backbone.blocks.2.4.bn1.weight', 'backbone.blocks.2.4.bn1.bias', 'backbone.blocks.2.4.bn1.running_mean', 'backbone.blocks.2.4.bn1.running_var', 'backbone.blocks.2.4.bn1.num_batches_tracked', 'backbone.blocks.2.4.conv_dw.weight', 'backbone.blocks.2.4.bn2.weight', 'backbone.blocks.2.4.bn2.bias', 'backbone.blocks.2.4.bn2.running_mean', 'backbone.blocks.2.4.bn2.running_var', 'backbone.blocks.2.4.bn2.num_batches_tracked', 'backbone.blocks.2.4.se.conv_reduce.weight', 'backbone.blocks.2.4.se.conv_reduce.bias', 'backbone.blocks.2.4.se.conv_expand.weight', 'backbone.blocks.2.4.se.conv_expand.bias', 'backbone.blocks.2.4.conv_pwl.weight', 'backbone.blocks.2.4.bn3.weight', 'backbone.blocks.2.4.bn3.bias', 'backbone.blocks.2.4.bn3.running_mean', 'backbone.blocks.2.4.bn3.running_var', 'backbone.blocks.2.4.bn3.num_batches_tracked', 'backbone.blocks.3.0.conv_pw.weight', 'backbone.blocks.3.0.bn1.weight', 'backbone.blocks.3.0.bn1.bias', 'backbone.blocks.3.0.bn1.running_mean', 'backbone.blocks.3.0.bn1.running_var', 'backbone.blocks.3.0.bn1.num_batches_tracked', 'backbone.blocks.3.0.conv_dw.weight', 'backbone.blocks.3.0.bn2.weight', 'backbone.blocks.3.0.bn2.bias', 'backbone.blocks.3.0.bn2.running_mean', 'backbone.blocks.3.0.bn2.running_var', 'backbone.blocks.3.0.bn2.num_batches_tracked', 'backbone.blocks.3.0.se.conv_reduce.weight', 'backbone.blocks.3.0.se.conv_reduce.bias', 'backbone.blocks.3.0.se.conv_expand.weight', 'backbone.blocks.3.0.se.conv_expand.bias', 'backbone.blocks.3.0.conv_pwl.weight', 'backbone.blocks.3.0.bn3.weight', 'backbone.blocks.3.0.bn3.bias', 'backbone.blocks.3.0.bn3.running_mean', 'backbone.blocks.3.0.bn3.running_var', 'backbone.blocks.3.0.bn3.num_batches_tracked', 'backbone.blocks.3.1.conv_pw.weight', 'backbone.blocks.3.1.bn1.weight', 'backbone.blocks.3.1.bn1.bias', 'backbone.blocks.3.1.bn1.running_mean', 'backbone.blocks.3.1.bn1.running_var', 'backbone.blocks.3.1.bn1.num_batches_tracked', 'backbone.blocks.3.1.conv_dw.weight', 'backbone.blocks.3.1.bn2.weight', 'backbone.blocks.3.1.bn2.bias', 'backbone.blocks.3.1.bn2.running_mean', 'backbone.blocks.3.1.bn2.running_var', 'backbone.blocks.3.1.bn2.num_batches_tracked', 'backbone.blocks.3.1.se.conv_reduce.weight', 'backbone.blocks.3.1.se.conv_reduce.bias', 'backbone.blocks.3.1.se.conv_expand.weight', 'backbone.blocks.3.1.se.conv_expand.bias', 'backbone.blocks.3.1.conv_pwl.weight', 'backbone.blocks.3.1.bn3.weight', 'backbone.blocks.3.1.bn3.bias', 'backbone.blocks.3.1.bn3.running_mean', 'backbone.blocks.3.1.bn3.running_var', 'backbone.blocks.3.1.bn3.num_batches_tracked', 'backbone.blocks.3.2.conv_pw.weight', 'backbone.blocks.3.2.bn1.weight', 'backbone.blocks.3.2.bn1.bias', 'backbone.blocks.3.2.bn1.running_mean', 'backbone.blocks.3.2.bn1.running_var', 'backbone.blocks.3.2.bn1.num_batches_tracked', 'backbone.blocks.3.2.conv_dw.weight', 'backbone.blocks.3.2.bn2.weight', 'backbone.blocks.3.2.bn2.bias', 'backbone.blocks.3.2.bn2.running_mean', 'backbone.blocks.3.2.bn2.running_var', 'backbone.blocks.3.2.bn2.num_batches_tracked', 'backbone.blocks.3.2.se.conv_reduce.weight', 'backbone.blocks.3.2.se.conv_reduce.bias', 'backbone.blocks.3.2.se.conv_expand.weight', 'backbone.blocks.3.2.se.conv_expand.bias', 'backbone.blocks.3.2.conv_pwl.weight', 'backbone.blocks.3.2.bn3.weight', 'backbone.blocks.3.2.bn3.bias', 'backbone.blocks.3.2.bn3.running_mean', 'backbone.blocks.3.2.bn3.running_var', 'backbone.blocks.3.2.bn3.num_batches_tracked', 'backbone.blocks.3.3.conv_pw.weight', 'backbone.blocks.3.3.bn1.weight', 'backbone.blocks.3.3.bn1.bias', 'backbone.blocks.3.3.bn1.running_mean', 'backbone.blocks.3.3.bn1.running_var', 'backbone.blocks.3.3.bn1.num_batches_tracked', 'backbone.blocks.3.3.conv_dw.weight', 'backbone.blocks.3.3.bn2.weight', 'backbone.blocks.3.3.bn2.bias', 'backbone.blocks.3.3.bn2.running_mean', 'backbone.blocks.3.3.bn2.running_var', 'backbone.blocks.3.3.bn2.num_batches_tracked', 'backbone.blocks.3.3.se.conv_reduce.weight', 'backbone.blocks.3.3.se.conv_reduce.bias', 'backbone.blocks.3.3.se.conv_expand.weight', 'backbone.blocks.3.3.se.conv_expand.bias', 'backbone.blocks.3.3.conv_pwl.weight', 'backbone.blocks.3.3.bn3.weight', 'backbone.blocks.3.3.bn3.bias', 'backbone.blocks.3.3.bn3.running_mean', 'backbone.blocks.3.3.bn3.running_var', 'backbone.blocks.3.3.bn3.num_batches_tracked', 'backbone.blocks.3.4.conv_pw.weight', 'backbone.blocks.3.4.bn1.weight', 'backbone.blocks.3.4.bn1.bias', 'backbone.blocks.3.4.bn1.running_mean', 'backbone.blocks.3.4.bn1.running_var', 'backbone.blocks.3.4.bn1.num_batches_tracked', 'backbone.blocks.3.4.conv_dw.weight', 'backbone.blocks.3.4.bn2.weight', 'backbone.blocks.3.4.bn2.bias', 'backbone.blocks.3.4.bn2.running_mean', 'backbone.blocks.3.4.bn2.running_var', 'backbone.blocks.3.4.bn2.num_batches_tracked', 'backbone.blocks.3.4.se.conv_reduce.weight', 'backbone.blocks.3.4.se.conv_reduce.bias', 'backbone.blocks.3.4.se.conv_expand.weight', 'backbone.blocks.3.4.se.conv_expand.bias', 'backbone.blocks.3.4.conv_pwl.weight', 'backbone.blocks.3.4.bn3.weight', 'backbone.blocks.3.4.bn3.bias', 'backbone.blocks.3.4.bn3.running_mean', 'backbone.blocks.3.4.bn3.running_var', 'backbone.blocks.3.4.bn3.num_batches_tracked', 'backbone.blocks.3.5.conv_pw.weight', 'backbone.blocks.3.5.bn1.weight', 'backbone.blocks.3.5.bn1.bias', 'backbone.blocks.3.5.bn1.running_mean', 'backbone.blocks.3.5.bn1.running_var', 'backbone.blocks.3.5.bn1.num_batches_tracked', 'backbone.blocks.3.5.conv_dw.weight', 'backbone.blocks.3.5.bn2.weight', 'backbone.blocks.3.5.bn2.bias', 'backbone.blocks.3.5.bn2.running_mean', 'backbone.blocks.3.5.bn2.running_var', 'backbone.blocks.3.5.bn2.num_batches_tracked', 'backbone.blocks.3.5.se.conv_reduce.weight', 'backbone.blocks.3.5.se.conv_reduce.bias', 'backbone.blocks.3.5.se.conv_expand.weight', 'backbone.blocks.3.5.se.conv_expand.bias', 'backbone.blocks.3.5.conv_pwl.weight', 'backbone.blocks.3.5.bn3.weight', 'backbone.blocks.3.5.bn3.bias', 'backbone.blocks.3.5.bn3.running_mean', 'backbone.blocks.3.5.bn3.running_var', 'backbone.blocks.3.5.bn3.num_batches_tracked', 'backbone.blocks.3.6.conv_pw.weight', 'backbone.blocks.3.6.bn1.weight', 'backbone.blocks.3.6.bn1.bias', 'backbone.blocks.3.6.bn1.running_mean', 'backbone.blocks.3.6.bn1.running_var', 'backbone.blocks.3.6.bn1.num_batches_tracked', 'backbone.blocks.3.6.conv_dw.weight', 'backbone.blocks.3.6.bn2.weight', 'backbone.blocks.3.6.bn2.bias', 'backbone.blocks.3.6.bn2.running_mean', 'backbone.blocks.3.6.bn2.running_var', 'backbone.blocks.3.6.bn2.num_batches_tracked', 'backbone.blocks.3.6.se.conv_reduce.weight', 'backbone.blocks.3.6.se.conv_reduce.bias', 'backbone.blocks.3.6.se.conv_expand.weight', 'backbone.blocks.3.6.se.conv_expand.bias', 'backbone.blocks.3.6.conv_pwl.weight', 'backbone.blocks.3.6.bn3.weight', 'backbone.blocks.3.6.bn3.bias', 'backbone.blocks.3.6.bn3.running_mean', 'backbone.blocks.3.6.bn3.running_var', 'backbone.blocks.3.6.bn3.num_batches_tracked', 'backbone.blocks.4.0.conv_pw.weight', 'backbone.blocks.4.0.bn1.weight', 'backbone.blocks.4.0.bn1.bias', 'backbone.blocks.4.0.bn1.running_mean', 'backbone.blocks.4.0.bn1.running_var', 'backbone.blocks.4.0.bn1.num_batches_tracked', 'backbone.blocks.4.0.conv_dw.weight', 'backbone.blocks.4.0.bn2.weight', 'backbone.blocks.4.0.bn2.bias', 'backbone.blocks.4.0.bn2.running_mean', 'backbone.blocks.4.0.bn2.running_var', 'backbone.blocks.4.0.bn2.num_batches_tracked', 'backbone.blocks.4.0.se.conv_reduce.weight', 'backbone.blocks.4.0.se.conv_reduce.bias', 'backbone.blocks.4.0.se.conv_expand.weight', 'backbone.blocks.4.0.se.conv_expand.bias', 'backbone.blocks.4.0.conv_pwl.weight', 'backbone.blocks.4.0.bn3.weight', 'backbone.blocks.4.0.bn3.bias', 'backbone.blocks.4.0.bn3.running_mean', 'backbone.blocks.4.0.bn3.running_var', 'backbone.blocks.4.0.bn3.num_batches_tracked', 'backbone.blocks.4.1.conv_pw.weight', 'backbone.blocks.4.1.bn1.weight', 'backbone.blocks.4.1.bn1.bias', 'backbone.blocks.4.1.bn1.running_mean', 'backbone.blocks.4.1.bn1.running_var', 'backbone.blocks.4.1.bn1.num_batches_tracked', 'backbone.blocks.4.1.conv_dw.weight', 'backbone.blocks.4.1.bn2.weight', 'backbone.blocks.4.1.bn2.bias', 'backbone.blocks.4.1.bn2.running_mean', 'backbone.blocks.4.1.bn2.running_var', 'backbone.blocks.4.1.bn2.num_batches_tracked', 'backbone.blocks.4.1.se.conv_reduce.weight', 'backbone.blocks.4.1.se.conv_reduce.bias', 'backbone.blocks.4.1.se.conv_expand.weight', 'backbone.blocks.4.1.se.conv_expand.bias', 'backbone.blocks.4.1.conv_pwl.weight', 'backbone.blocks.4.1.bn3.weight', 'backbone.blocks.4.1.bn3.bias', 'backbone.blocks.4.1.bn3.running_mean', 'backbone.blocks.4.1.bn3.running_var', 'backbone.blocks.4.1.bn3.num_batches_tracked', 'backbone.blocks.4.2.conv_pw.weight', 'backbone.blocks.4.2.bn1.weight', 'backbone.blocks.4.2.bn1.bias', 'backbone.blocks.4.2.bn1.running_mean', 'backbone.blocks.4.2.bn1.running_var', 'backbone.blocks.4.2.bn1.num_batches_tracked', 'backbone.blocks.4.2.conv_dw.weight', 'backbone.blocks.4.2.bn2.weight', 'backbone.blocks.4.2.bn2.bias', 'backbone.blocks.4.2.bn2.running_mean', 'backbone.blocks.4.2.bn2.running_var', 'backbone.blocks.4.2.bn2.num_batches_tracked', 'backbone.blocks.4.2.se.conv_reduce.weight', 'backbone.blocks.4.2.se.conv_reduce.bias', 'backbone.blocks.4.2.se.conv_expand.weight', 'backbone.blocks.4.2.se.conv_expand.bias', 'backbone.blocks.4.2.conv_pwl.weight', 'backbone.blocks.4.2.bn3.weight', 'backbone.blocks.4.2.bn3.bias', 'backbone.blocks.4.2.bn3.running_mean', 'backbone.blocks.4.2.bn3.running_var', 'backbone.blocks.4.2.bn3.num_batches_tracked', 'backbone.blocks.4.3.conv_pw.weight', 'backbone.blocks.4.3.bn1.weight', 'backbone.blocks.4.3.bn1.bias', 'backbone.blocks.4.3.bn1.running_mean', 'backbone.blocks.4.3.bn1.running_var', 'backbone.blocks.4.3.bn1.num_batches_tracked', 'backbone.blocks.4.3.conv_dw.weight', 'backbone.blocks.4.3.bn2.weight', 'backbone.blocks.4.3.bn2.bias', 'backbone.blocks.4.3.bn2.running_mean', 'backbone.blocks.4.3.bn2.running_var', 'backbone.blocks.4.3.bn2.num_batches_tracked', 'backbone.blocks.4.3.se.conv_reduce.weight', 'backbone.blocks.4.3.se.conv_reduce.bias', 'backbone.blocks.4.3.se.conv_expand.weight', 'backbone.blocks.4.3.se.conv_expand.bias', 'backbone.blocks.4.3.conv_pwl.weight', 'backbone.blocks.4.3.bn3.weight', 'backbone.blocks.4.3.bn3.bias', 'backbone.blocks.4.3.bn3.running_mean', 'backbone.blocks.4.3.bn3.running_var', 'backbone.blocks.4.3.bn3.num_batches_tracked', 'backbone.blocks.4.4.conv_pw.weight', 'backbone.blocks.4.4.bn1.weight', 'backbone.blocks.4.4.bn1.bias', 'backbone.blocks.4.4.bn1.running_mean', 'backbone.blocks.4.4.bn1.running_var', 'backbone.blocks.4.4.bn1.num_batches_tracked', 'backbone.blocks.4.4.conv_dw.weight', 'backbone.blocks.4.4.bn2.weight', 'backbone.blocks.4.4.bn2.bias', 'backbone.blocks.4.4.bn2.running_mean', 'backbone.blocks.4.4.bn2.running_var', 'backbone.blocks.4.4.bn2.num_batches_tracked', 'backbone.blocks.4.4.se.conv_reduce.weight', 'backbone.blocks.4.4.se.conv_reduce.bias', 'backbone.blocks.4.4.se.conv_expand.weight', 'backbone.blocks.4.4.se.conv_expand.bias', 'backbone.blocks.4.4.conv_pwl.weight', 'backbone.blocks.4.4.bn3.weight', 'backbone.blocks.4.4.bn3.bias', 'backbone.blocks.4.4.bn3.running_mean', 'backbone.blocks.4.4.bn3.running_var', 'backbone.blocks.4.4.bn3.num_batches_tracked', 'backbone.blocks.4.5.conv_pw.weight', 'backbone.blocks.4.5.bn1.weight', 'backbone.blocks.4.5.bn1.bias', 'backbone.blocks.4.5.bn1.running_mean', 'backbone.blocks.4.5.bn1.running_var', 'backbone.blocks.4.5.bn1.num_batches_tracked', 'backbone.blocks.4.5.conv_dw.weight', 'backbone.blocks.4.5.bn2.weight', 'backbone.blocks.4.5.bn2.bias', 'backbone.blocks.4.5.bn2.running_mean', 'backbone.blocks.4.5.bn2.running_var', 'backbone.blocks.4.5.bn2.num_batches_tracked', 'backbone.blocks.4.5.se.conv_reduce.weight', 'backbone.blocks.4.5.se.conv_reduce.bias', 'backbone.blocks.4.5.se.conv_expand.weight', 'backbone.blocks.4.5.se.conv_expand.bias', 'backbone.blocks.4.5.conv_pwl.weight', 'backbone.blocks.4.5.bn3.weight', 'backbone.blocks.4.5.bn3.bias', 'backbone.blocks.4.5.bn3.running_mean', 'backbone.blocks.4.5.bn3.running_var', 'backbone.blocks.4.5.bn3.num_batches_tracked', 'backbone.blocks.4.6.conv_pw.weight', 'backbone.blocks.4.6.bn1.weight', 'backbone.blocks.4.6.bn1.bias', 'backbone.blocks.4.6.bn1.running_mean', 'backbone.blocks.4.6.bn1.running_var', 'backbone.blocks.4.6.bn1.num_batches_tracked', 'backbone.blocks.4.6.conv_dw.weight', 'backbone.blocks.4.6.bn2.weight', 'backbone.blocks.4.6.bn2.bias', 'backbone.blocks.4.6.bn2.running_mean', 'backbone.blocks.4.6.bn2.running_var', 'backbone.blocks.4.6.bn2.num_batches_tracked', 'backbone.blocks.4.6.se.conv_reduce.weight', 'backbone.blocks.4.6.se.conv_reduce.bias', 'backbone.blocks.4.6.se.conv_expand.weight', 'backbone.blocks.4.6.se.conv_expand.bias', 'backbone.blocks.4.6.conv_pwl.weight', 'backbone.blocks.4.6.bn3.weight', 'backbone.blocks.4.6.bn3.bias', 'backbone.blocks.4.6.bn3.running_mean', 'backbone.blocks.4.6.bn3.running_var', 'backbone.blocks.4.6.bn3.num_batches_tracked', 'backbone.blocks.5.0.conv_pw.weight', 'backbone.blocks.5.0.bn1.weight', 'backbone.blocks.5.0.bn1.bias', 'backbone.blocks.5.0.bn1.running_mean', 'backbone.blocks.5.0.bn1.running_var', 'backbone.blocks.5.0.bn1.num_batches_tracked', 'backbone.blocks.5.0.conv_dw.weight', 'backbone.blocks.5.0.bn2.weight', 'backbone.blocks.5.0.bn2.bias', 'backbone.blocks.5.0.bn2.running_mean', 'backbone.blocks.5.0.bn2.running_var', 'backbone.blocks.5.0.bn2.num_batches_tracked', 'backbone.blocks.5.0.se.conv_reduce.weight', 'backbone.blocks.5.0.se.conv_reduce.bias', 'backbone.blocks.5.0.se.conv_expand.weight', 'backbone.blocks.5.0.se.conv_expand.bias', 'backbone.blocks.5.0.conv_pwl.weight', 'backbone.blocks.5.0.bn3.weight', 'backbone.blocks.5.0.bn3.bias', 'backbone.blocks.5.0.bn3.running_mean', 'backbone.blocks.5.0.bn3.running_var', 'backbone.blocks.5.0.bn3.num_batches_tracked', 'backbone.blocks.5.1.conv_pw.weight', 'backbone.blocks.5.1.bn1.weight', 'backbone.blocks.5.1.bn1.bias', 'backbone.blocks.5.1.bn1.running_mean', 'backbone.blocks.5.1.bn1.running_var', 'backbone.blocks.5.1.bn1.num_batches_tracked', 'backbone.blocks.5.1.conv_dw.weight', 'backbone.blocks.5.1.bn2.weight', 'backbone.blocks.5.1.bn2.bias', 'backbone.blocks.5.1.bn2.running_mean', 'backbone.blocks.5.1.bn2.running_var', 'backbone.blocks.5.1.bn2.num_batches_tracked', 'backbone.blocks.5.1.se.conv_reduce.weight', 'backbone.blocks.5.1.se.conv_reduce.bias', 'backbone.blocks.5.1.se.conv_expand.weight', 'backbone.blocks.5.1.se.conv_expand.bias', 'backbone.blocks.5.1.conv_pwl.weight', 'backbone.blocks.5.1.bn3.weight', 'backbone.blocks.5.1.bn3.bias', 'backbone.blocks.5.1.bn3.running_mean', 'backbone.blocks.5.1.bn3.running_var', 'backbone.blocks.5.1.bn3.num_batches_tracked', 'backbone.blocks.5.2.conv_pw.weight', 'backbone.blocks.5.2.bn1.weight', 'backbone.blocks.5.2.bn1.bias', 'backbone.blocks.5.2.bn1.running_mean', 'backbone.blocks.5.2.bn1.running_var', 'backbone.blocks.5.2.bn1.num_batches_tracked', 'backbone.blocks.5.2.conv_dw.weight', 'backbone.blocks.5.2.bn2.weight', 'backbone.blocks.5.2.bn2.bias', 'backbone.blocks.5.2.bn2.running_mean', 'backbone.blocks.5.2.bn2.running_var', 'backbone.blocks.5.2.bn2.num_batches_tracked', 'backbone.blocks.5.2.se.conv_reduce.weight', 'backbone.blocks.5.2.se.conv_reduce.bias', 'backbone.blocks.5.2.se.conv_expand.weight', 'backbone.blocks.5.2.se.conv_expand.bias', 'backbone.blocks.5.2.conv_pwl.weight', 'backbone.blocks.5.2.bn3.weight', 'backbone.blocks.5.2.bn3.bias', 'backbone.blocks.5.2.bn3.running_mean', 'backbone.blocks.5.2.bn3.running_var', 'backbone.blocks.5.2.bn3.num_batches_tracked', 'backbone.blocks.5.3.conv_pw.weight', 'backbone.blocks.5.3.bn1.weight', 'backbone.blocks.5.3.bn1.bias', 'backbone.blocks.5.3.bn1.running_mean', 'backbone.blocks.5.3.bn1.running_var', 'backbone.blocks.5.3.bn1.num_batches_tracked', 'backbone.blocks.5.3.conv_dw.weight', 'backbone.blocks.5.3.bn2.weight', 'backbone.blocks.5.3.bn2.bias', 'backbone.blocks.5.3.bn2.running_mean', 'backbone.blocks.5.3.bn2.running_var', 'backbone.blocks.5.3.bn2.num_batches_tracked', 'backbone.blocks.5.3.se.conv_reduce.weight', 'backbone.blocks.5.3.se.conv_reduce.bias', 'backbone.blocks.5.3.se.conv_expand.weight', 'backbone.blocks.5.3.se.conv_expand.bias', 'backbone.blocks.5.3.conv_pwl.weight', 'backbone.blocks.5.3.bn3.weight', 'backbone.blocks.5.3.bn3.bias', 'backbone.blocks.5.3.bn3.running_mean', 'backbone.blocks.5.3.bn3.running_var', 'backbone.blocks.5.3.bn3.num_batches_tracked', 'backbone.blocks.5.4.conv_pw.weight', 'backbone.blocks.5.4.bn1.weight', 'backbone.blocks.5.4.bn1.bias', 'backbone.blocks.5.4.bn1.running_mean', 'backbone.blocks.5.4.bn1.running_var', 'backbone.blocks.5.4.bn1.num_batches_tracked', 'backbone.blocks.5.4.conv_dw.weight', 'backbone.blocks.5.4.bn2.weight', 'backbone.blocks.5.4.bn2.bias', 'backbone.blocks.5.4.bn2.running_mean', 'backbone.blocks.5.4.bn2.running_var', 'backbone.blocks.5.4.bn2.num_batches_tracked', 'backbone.blocks.5.4.se.conv_reduce.weight', 'backbone.blocks.5.4.se.conv_reduce.bias', 'backbone.blocks.5.4.se.conv_expand.weight', 'backbone.blocks.5.4.se.conv_expand.bias', 'backbone.blocks.5.4.conv_pwl.weight', 'backbone.blocks.5.4.bn3.weight', 'backbone.blocks.5.4.bn3.bias', 'backbone.blocks.5.4.bn3.running_mean', 'backbone.blocks.5.4.bn3.running_var', 'backbone.blocks.5.4.bn3.num_batches_tracked', 'backbone.blocks.5.5.conv_pw.weight', 'backbone.blocks.5.5.bn1.weight', 'backbone.blocks.5.5.bn1.bias', 'backbone.blocks.5.5.bn1.running_mean', 'backbone.blocks.5.5.bn1.running_var', 'backbone.blocks.5.5.bn1.num_batches_tracked', 'backbone.blocks.5.5.conv_dw.weight', 'backbone.blocks.5.5.bn2.weight', 'backbone.blocks.5.5.bn2.bias', 'backbone.blocks.5.5.bn2.running_mean', 'backbone.blocks.5.5.bn2.running_var', 'backbone.blocks.5.5.bn2.num_batches_tracked', 'backbone.blocks.5.5.se.conv_reduce.weight', 'backbone.blocks.5.5.se.conv_reduce.bias', 'backbone.blocks.5.5.se.conv_expand.weight', 'backbone.blocks.5.5.se.conv_expand.bias', 'backbone.blocks.5.5.conv_pwl.weight', 'backbone.blocks.5.5.bn3.weight', 'backbone.blocks.5.5.bn3.bias', 'backbone.blocks.5.5.bn3.running_mean', 'backbone.blocks.5.5.bn3.running_var', 'backbone.blocks.5.5.bn3.num_batches_tracked', 'backbone.blocks.5.6.conv_pw.weight', 'backbone.blocks.5.6.bn1.weight', 'backbone.blocks.5.6.bn1.bias', 'backbone.blocks.5.6.bn1.running_mean', 'backbone.blocks.5.6.bn1.running_var', 'backbone.blocks.5.6.bn1.num_batches_tracked', 'backbone.blocks.5.6.conv_dw.weight', 'backbone.blocks.5.6.bn2.weight', 'backbone.blocks.5.6.bn2.bias', 'backbone.blocks.5.6.bn2.running_mean', 'backbone.blocks.5.6.bn2.running_var', 'backbone.blocks.5.6.bn2.num_batches_tracked', 'backbone.blocks.5.6.se.conv_reduce.weight', 'backbone.blocks.5.6.se.conv_reduce.bias', 'backbone.blocks.5.6.se.conv_expand.weight', 'backbone.blocks.5.6.se.conv_expand.bias', 'backbone.blocks.5.6.conv_pwl.weight', 'backbone.blocks.5.6.bn3.weight', 'backbone.blocks.5.6.bn3.bias', 'backbone.blocks.5.6.bn3.running_mean', 'backbone.blocks.5.6.bn3.running_var', 'backbone.blocks.5.6.bn3.num_batches_tracked', 'backbone.blocks.5.7.conv_pw.weight', 'backbone.blocks.5.7.bn1.weight', 'backbone.blocks.5.7.bn1.bias', 'backbone.blocks.5.7.bn1.running_mean', 'backbone.blocks.5.7.bn1.running_var', 'backbone.blocks.5.7.bn1.num_batches_tracked', 'backbone.blocks.5.7.conv_dw.weight', 'backbone.blocks.5.7.bn2.weight', 'backbone.blocks.5.7.bn2.bias', 'backbone.blocks.5.7.bn2.running_mean', 'backbone.blocks.5.7.bn2.running_var', 'backbone.blocks.5.7.bn2.num_batches_tracked', 'backbone.blocks.5.7.se.conv_reduce.weight', 'backbone.blocks.5.7.se.conv_reduce.bias', 'backbone.blocks.5.7.se.conv_expand.weight', 'backbone.blocks.5.7.se.conv_expand.bias', 'backbone.blocks.5.7.conv_pwl.weight', 'backbone.blocks.5.7.bn3.weight', 'backbone.blocks.5.7.bn3.bias', 'backbone.blocks.5.7.bn3.running_mean', 'backbone.blocks.5.7.bn3.running_var', 'backbone.blocks.5.7.bn3.num_batches_tracked', 'backbone.blocks.5.8.conv_pw.weight', 'backbone.blocks.5.8.bn1.weight', 'backbone.blocks.5.8.bn1.bias', 'backbone.blocks.5.8.bn1.running_mean', 'backbone.blocks.5.8.bn1.running_var', 'backbone.blocks.5.8.bn1.num_batches_tracked', 'backbone.blocks.5.8.conv_dw.weight', 'backbone.blocks.5.8.bn2.weight', 'backbone.blocks.5.8.bn2.bias', 'backbone.blocks.5.8.bn2.running_mean', 'backbone.blocks.5.8.bn2.running_var', 'backbone.blocks.5.8.bn2.num_batches_tracked', 'backbone.blocks.5.8.se.conv_reduce.weight', 'backbone.blocks.5.8.se.conv_reduce.bias', 'backbone.blocks.5.8.se.conv_expand.weight', 'backbone.blocks.5.8.se.conv_expand.bias', 'backbone.blocks.5.8.conv_pwl.weight', 'backbone.blocks.5.8.bn3.weight', 'backbone.blocks.5.8.bn3.bias', 'backbone.blocks.5.8.bn3.running_mean', 'backbone.blocks.5.8.bn3.running_var', 'backbone.blocks.5.8.bn3.num_batches_tracked', 'backbone.blocks.6.0.conv_pw.weight', 'backbone.blocks.6.0.bn1.weight', 'backbone.blocks.6.0.bn1.bias', 'backbone.blocks.6.0.bn1.running_mean', 'backbone.blocks.6.0.bn1.running_var', 'backbone.blocks.6.0.bn1.num_batches_tracked', 'backbone.blocks.6.0.conv_dw.weight', 'backbone.blocks.6.0.bn2.weight', 'backbone.blocks.6.0.bn2.bias', 'backbone.blocks.6.0.bn2.running_mean', 'backbone.blocks.6.0.bn2.running_var', 'backbone.blocks.6.0.bn2.num_batches_tracked', 'backbone.blocks.6.0.se.conv_reduce.weight', 'backbone.blocks.6.0.se.conv_reduce.bias', 'backbone.blocks.6.0.se.conv_expand.weight', 'backbone.blocks.6.0.se.conv_expand.bias', 'backbone.blocks.6.0.conv_pwl.weight', 'backbone.blocks.6.0.bn3.weight', 'backbone.blocks.6.0.bn3.bias', 'backbone.blocks.6.0.bn3.running_mean', 'backbone.blocks.6.0.bn3.running_var', 'backbone.blocks.6.0.bn3.num_batches_tracked', 'backbone.blocks.6.1.conv_pw.weight', 'backbone.blocks.6.1.bn1.weight', 'backbone.blocks.6.1.bn1.bias', 'backbone.blocks.6.1.bn1.running_mean', 'backbone.blocks.6.1.bn1.running_var', 'backbone.blocks.6.1.bn1.num_batches_tracked', 'backbone.blocks.6.1.conv_dw.weight', 'backbone.blocks.6.1.bn2.weight', 'backbone.blocks.6.1.bn2.bias', 'backbone.blocks.6.1.bn2.running_mean', 'backbone.blocks.6.1.bn2.running_var', 'backbone.blocks.6.1.bn2.num_batches_tracked', 'backbone.blocks.6.1.se.conv_reduce.weight', 'backbone.blocks.6.1.se.conv_reduce.bias', 'backbone.blocks.6.1.se.conv_expand.weight', 'backbone.blocks.6.1.se.conv_expand.bias', 'backbone.blocks.6.1.conv_pwl.weight', 'backbone.blocks.6.1.bn3.weight', 'backbone.blocks.6.1.bn3.bias', 'backbone.blocks.6.1.bn3.running_mean', 'backbone.blocks.6.1.bn3.running_var', 'backbone.blocks.6.1.bn3.num_batches_tracked', 'backbone.blocks.6.2.conv_pw.weight', 'backbone.blocks.6.2.bn1.weight', 'backbone.blocks.6.2.bn1.bias', 'backbone.blocks.6.2.bn1.running_mean', 'backbone.blocks.6.2.bn1.running_var', 'backbone.blocks.6.2.bn1.num_batches_tracked', 'backbone.blocks.6.2.conv_dw.weight', 'backbone.blocks.6.2.bn2.weight', 'backbone.blocks.6.2.bn2.bias', 'backbone.blocks.6.2.bn2.running_mean', 'backbone.blocks.6.2.bn2.running_var', 'backbone.blocks.6.2.bn2.num_batches_tracked', 'backbone.blocks.6.2.se.conv_reduce.weight', 'backbone.blocks.6.2.se.conv_reduce.bias', 'backbone.blocks.6.2.se.conv_expand.weight', 'backbone.blocks.6.2.se.conv_expand.bias', 'backbone.blocks.6.2.conv_pwl.weight', 'backbone.blocks.6.2.bn3.weight', 'backbone.blocks.6.2.bn3.bias', 'backbone.blocks.6.2.bn3.running_mean', 'backbone.blocks.6.2.bn3.running_var', 'backbone.blocks.6.2.bn3.num_batches_tracked', 'fpn.resample.3.conv.conv.weight', 'fpn.resample.3.conv.conv.bias', 'fpn.resample.3.conv.bn.weight', 'fpn.resample.3.conv.bn.bias', 'fpn.resample.3.conv.bn.running_mean', 'fpn.resample.3.conv.bn.running_var', 'fpn.resample.3.conv.bn.num_batches_tracked', 'fpn.cell.0.fnode.0.combine.edge_weights', 'fpn.cell.0.fnode.0.after_combine.conv.conv_dw.weight', 'fpn.cell.0.fnode.0.after_combine.conv.conv_pw.weight', 'fpn.cell.0.fnode.0.after_combine.conv.conv_pw.bias', 'fpn.cell.0.fnode.0.after_combine.conv.bn.weight', 'fpn.cell.0.fnode.0.after_combine.conv.bn.bias', 'fpn.cell.0.fnode.0.after_combine.conv.bn.running_mean', 'fpn.cell.0.fnode.0.after_combine.conv.bn.running_var', 'fpn.cell.0.fnode.0.after_combine.conv.bn.num_batches_tracked', 'fpn.cell.0.fnode.1.combine.edge_weights', 'fpn.cell.0.fnode.1.combine.resample.2.conv.conv.weight', 'fpn.cell.0.fnode.1.combine.resample.2.conv.conv.bias', 'fpn.cell.0.fnode.1.combine.resample.2.conv.bn.weight', 'fpn.cell.0.fnode.1.combine.resample.2.conv.bn.bias', 'fpn.cell.0.fnode.1.combine.resample.2.conv.bn.running_mean', 'fpn.cell.0.fnode.1.combine.resample.2.conv.bn.running_var', 'fpn.cell.0.fnode.1.combine.resample.2.conv.bn.num_batches_tracked', 'fpn.cell.0.fnode.1.after_combine.conv.conv_dw.weight', 'fpn.cell.0.fnode.1.after_combine.conv.conv_pw.weight', 'fpn.cell.0.fnode.1.after_combine.conv.conv_pw.bias', 'fpn.cell.0.fnode.1.after_combine.conv.bn.weight', 'fpn.cell.0.fnode.1.after_combine.conv.bn.bias', 'fpn.cell.0.fnode.1.after_combine.conv.bn.running_mean', 'fpn.cell.0.fnode.1.after_combine.conv.bn.running_var', 'fpn.cell.0.fnode.1.after_combine.conv.bn.num_batches_tracked', 'fpn.cell.0.fnode.2.combine.edge_weights', 'fpn.cell.0.fnode.2.combine.resample.1.conv.conv.weight', 'fpn.cell.0.fnode.2.combine.resample.1.conv.conv.bias', 'fpn.cell.0.fnode.2.combine.resample.1.conv.bn.weight', 'fpn.cell.0.fnode.2.combine.resample.1.conv.bn.bias', 'fpn.cell.0.fnode.2.combine.resample.1.conv.bn.running_mean', 'fpn.cell.0.fnode.2.combine.resample.1.conv.bn.running_var', 'fpn.cell.0.fnode.2.combine.resample.1.conv.bn.num_batches_tracked', 'fpn.cell.0.fnode.2.after_combine.conv.conv_dw.weight', 'fpn.cell.0.fnode.2.after_combine.conv.conv_pw.weight', 'fpn.cell.0.fnode.2.after_combine.conv.conv_pw.bias', 'fpn.cell.0.fnode.2.after_combine.conv.bn.weight', 'fpn.cell.0.fnode.2.after_combine.conv.bn.bias', 'fpn.cell.0.fnode.2.after_combine.conv.bn.running_mean', 'fpn.cell.0.fnode.2.after_combine.conv.bn.running_var', 'fpn.cell.0.fnode.2.after_combine.conv.bn.num_batches_tracked', 'fpn.cell.0.fnode.3.combine.edge_weights', 'fpn.cell.0.fnode.3.combine.resample.0.conv.conv.weight', 'fpn.cell.0.fnode.3.combine.resample.0.conv.conv.bias', 'fpn.cell.0.fnode.3.combine.resample.0.conv.bn.weight', 'fpn.cell.0.fnode.3.combine.resample.0.conv.bn.bias', 'fpn.cell.0.fnode.3.combine.resample.0.conv.bn.running_mean', 'fpn.cell.0.fnode.3.combine.resample.0.conv.bn.running_var', 'fpn.cell.0.fnode.3.combine.resample.0.conv.bn.num_batches_tracked', 'fpn.cell.0.fnode.3.after_combine.conv.conv_dw.weight', 'fpn.cell.0.fnode.3.after_combine.conv.conv_pw.weight', 'fpn.cell.0.fnode.3.after_combine.conv.conv_pw.bias', 'fpn.cell.0.fnode.3.after_combine.conv.bn.weight', 'fpn.cell.0.fnode.3.after_combine.conv.bn.bias', 'fpn.cell.0.fnode.3.after_combine.conv.bn.running_mean', 'fpn.cell.0.fnode.3.after_combine.conv.bn.running_var', 'fpn.cell.0.fnode.3.after_combine.conv.bn.num_batches_tracked', 'fpn.cell.0.fnode.4.combine.edge_weights', 'fpn.cell.0.fnode.4.combine.resample.1.conv.conv.weight', 'fpn.cell.0.fnode.4.combine.resample.1.conv.conv.bias', 'fpn.cell.0.fnode.4.combine.resample.1.conv.bn.weight', 'fpn.cell.0.fnode.4.combine.resample.1.conv.bn.bias', 'fpn.cell.0.fnode.4.combine.resample.1.conv.bn.running_mean', 'fpn.cell.0.fnode.4.combine.resample.1.conv.bn.running_var', 'fpn.cell.0.fnode.4.combine.resample.1.conv.bn.num_batches_tracked', 'fpn.cell.0.fnode.4.after_combine.conv.conv_dw.weight', 'fpn.cell.0.fnode.4.after_combine.conv.conv_pw.weight', 'fpn.cell.0.fnode.4.after_combine.conv.conv_pw.bias', 'fpn.cell.0.fnode.4.after_combine.conv.bn.weight', 'fpn.cell.0.fnode.4.after_combine.conv.bn.bias', 'fpn.cell.0.fnode.4.after_combine.conv.bn.running_mean', 'fpn.cell.0.fnode.4.after_combine.conv.bn.running_var', 'fpn.cell.0.fnode.4.after_combine.conv.bn.num_batches_tracked', 'fpn.cell.0.fnode.5.combine.edge_weights', 'fpn.cell.0.fnode.5.combine.resample.2.conv.conv.weight', 'fpn.cell.0.fnode.5.combine.resample.2.conv.conv.bias', 'fpn.cell.0.fnode.5.combine.resample.2.conv.bn.weight', 'fpn.cell.0.fnode.5.combine.resample.2.conv.bn.bias', 'fpn.cell.0.fnode.5.combine.resample.2.conv.bn.running_mean', 'fpn.cell.0.fnode.5.combine.resample.2.conv.bn.running_var', 'fpn.cell.0.fnode.5.combine.resample.2.conv.bn.num_batches_tracked', 'fpn.cell.0.fnode.5.after_combine.conv.conv_dw.weight', 'fpn.cell.0.fnode.5.after_combine.conv.conv_pw.weight', 'fpn.cell.0.fnode.5.after_combine.conv.conv_pw.bias', 'fpn.cell.0.fnode.5.after_combine.conv.bn.weight', 'fpn.cell.0.fnode.5.after_combine.conv.bn.bias', 'fpn.cell.0.fnode.5.after_combine.conv.bn.running_mean', 'fpn.cell.0.fnode.5.after_combine.conv.bn.running_var', 'fpn.cell.0.fnode.5.after_combine.conv.bn.num_batches_tracked', 'fpn.cell.0.fnode.6.combine.edge_weights', 'fpn.cell.0.fnode.6.after_combine.conv.conv_dw.weight', 'fpn.cell.0.fnode.6.after_combine.conv.conv_pw.weight', 'fpn.cell.0.fnode.6.after_combine.conv.conv_pw.bias', 'fpn.cell.0.fnode.6.after_combine.conv.bn.weight', 'fpn.cell.0.fnode.6.after_combine.conv.bn.bias', 'fpn.cell.0.fnode.6.after_combine.conv.bn.running_mean', 'fpn.cell.0.fnode.6.after_combine.conv.bn.running_var', 'fpn.cell.0.fnode.6.after_combine.conv.bn.num_batches_tracked', 'fpn.cell.0.fnode.7.combine.edge_weights', 'fpn.cell.0.fnode.7.after_combine.conv.conv_dw.weight', 'fpn.cell.0.fnode.7.after_combine.conv.conv_pw.weight', 'fpn.cell.0.fnode.7.after_combine.conv.conv_pw.bias', 'fpn.cell.0.fnode.7.after_combine.conv.bn.weight', 'fpn.cell.0.fnode.7.after_combine.conv.bn.bias', 'fpn.cell.0.fnode.7.after_combine.conv.bn.running_mean', 'fpn.cell.0.fnode.7.after_combine.conv.bn.running_var', 'fpn.cell.0.fnode.7.after_combine.conv.bn.num_batches_tracked', 'fpn.cell.1.fnode.0.combine.edge_weights', 'fpn.cell.1.fnode.0.after_combine.conv.conv_dw.weight', 'fpn.cell.1.fnode.0.after_combine.conv.conv_pw.weight', 'fpn.cell.1.fnode.0.after_combine.conv.conv_pw.bias', 'fpn.cell.1.fnode.0.after_combine.conv.bn.weight', 'fpn.cell.1.fnode.0.after_combine.conv.bn.bias', 'fpn.cell.1.fnode.0.after_combine.conv.bn.running_mean', 'fpn.cell.1.fnode.0.after_combine.conv.bn.running_var', 'fpn.cell.1.fnode.0.after_combine.conv.bn.num_batches_tracked', 'fpn.cell.1.fnode.1.combine.edge_weights', 'fpn.cell.1.fnode.1.after_combine.conv.conv_dw.weight', 'fpn.cell.1.fnode.1.after_combine.conv.conv_pw.weight', 'fpn.cell.1.fnode.1.after_combine.conv.conv_pw.bias', 'fpn.cell.1.fnode.1.after_combine.conv.bn.weight', 'fpn.cell.1.fnode.1.after_combine.conv.bn.bias', 'fpn.cell.1.fnode.1.after_combine.conv.bn.running_mean', 'fpn.cell.1.fnode.1.after_combine.conv.bn.running_var', 'fpn.cell.1.fnode.1.after_combine.conv.bn.num_batches_tracked', 'fpn.cell.1.fnode.2.combine.edge_weights', 'fpn.cell.1.fnode.2.after_combine.conv.conv_dw.weight', 'fpn.cell.1.fnode.2.after_combine.conv.conv_pw.weight', 'fpn.cell.1.fnode.2.after_combine.conv.conv_pw.bias', 'fpn.cell.1.fnode.2.after_combine.conv.bn.weight', 'fpn.cell.1.fnode.2.after_combine.conv.bn.bias', 'fpn.cell.1.fnode.2.after_combine.conv.bn.running_mean', 'fpn.cell.1.fnode.2.after_combine.conv.bn.running_var', 'fpn.cell.1.fnode.2.after_combine.conv.bn.num_batches_tracked', 'fpn.cell.1.fnode.3.combine.edge_weights', 'fpn.cell.1.fnode.3.after_combine.conv.conv_dw.weight', 'fpn.cell.1.fnode.3.after_combine.conv.conv_pw.weight', 'fpn.cell.1.fnode.3.after_combine.conv.conv_pw.bias', 'fpn.cell.1.fnode.3.after_combine.conv.bn.weight', 'fpn.cell.1.fnode.3.after_combine.conv.bn.bias', 'fpn.cell.1.fnode.3.after_combine.conv.bn.running_mean', 'fpn.cell.1.fnode.3.after_combine.conv.bn.running_var', 'fpn.cell.1.fnode.3.after_combine.conv.bn.num_batches_tracked', 'fpn.cell.1.fnode.4.combine.edge_weights', 'fpn.cell.1.fnode.4.after_combine.conv.conv_dw.weight', 'fpn.cell.1.fnode.4.after_combine.conv.conv_pw.weight', 'fpn.cell.1.fnode.4.after_combine.conv.conv_pw.bias', 'fpn.cell.1.fnode.4.after_combine.conv.bn.weight', 'fpn.cell.1.fnode.4.after_combine.conv.bn.bias', 'fpn.cell.1.fnode.4.after_combine.conv.bn.running_mean', 'fpn.cell.1.fnode.4.after_combine.conv.bn.running_var', 'fpn.cell.1.fnode.4.after_combine.conv.bn.num_batches_tracked', 'fpn.cell.1.fnode.5.combine.edge_weights', 'fpn.cell.1.fnode.5.after_combine.conv.conv_dw.weight', 'fpn.cell.1.fnode.5.after_combine.conv.conv_pw.weight', 'fpn.cell.1.fnode.5.after_combine.conv.conv_pw.bias', 'fpn.cell.1.fnode.5.after_combine.conv.bn.weight', 'fpn.cell.1.fnode.5.after_combine.conv.bn.bias', 'fpn.cell.1.fnode.5.after_combine.conv.bn.running_mean', 'fpn.cell.1.fnode.5.after_combine.conv.bn.running_var', 'fpn.cell.1.fnode.5.after_combine.conv.bn.num_batches_tracked', 'fpn.cell.1.fnode.6.combine.edge_weights', 'fpn.cell.1.fnode.6.after_combine.conv.conv_dw.weight', 'fpn.cell.1.fnode.6.after_combine.conv.conv_pw.weight', 'fpn.cell.1.fnode.6.after_combine.conv.conv_pw.bias', 'fpn.cell.1.fnode.6.after_combine.conv.bn.weight', 'fpn.cell.1.fnode.6.after_combine.conv.bn.bias', 'fpn.cell.1.fnode.6.after_combine.conv.bn.running_mean', 'fpn.cell.1.fnode.6.after_combine.conv.bn.running_var', 'fpn.cell.1.fnode.6.after_combine.conv.bn.num_batches_tracked', 'fpn.cell.1.fnode.7.combine.edge_weights', 'fpn.cell.1.fnode.7.after_combine.conv.conv_dw.weight', 'fpn.cell.1.fnode.7.after_combine.conv.conv_pw.weight', 'fpn.cell.1.fnode.7.after_combine.conv.conv_pw.bias', 'fpn.cell.1.fnode.7.after_combine.conv.bn.weight', 'fpn.cell.1.fnode.7.after_combine.conv.bn.bias', 'fpn.cell.1.fnode.7.after_combine.conv.bn.running_mean', 'fpn.cell.1.fnode.7.after_combine.conv.bn.running_var', 'fpn.cell.1.fnode.7.after_combine.conv.bn.num_batches_tracked', 'fpn.cell.2.fnode.0.combine.edge_weights', 'fpn.cell.2.fnode.0.after_combine.conv.conv_dw.weight', 'fpn.cell.2.fnode.0.after_combine.conv.conv_pw.weight', 'fpn.cell.2.fnode.0.after_combine.conv.conv_pw.bias', 'fpn.cell.2.fnode.0.after_combine.conv.bn.weight', 'fpn.cell.2.fnode.0.after_combine.conv.bn.bias', 'fpn.cell.2.fnode.0.after_combine.conv.bn.running_mean', 'fpn.cell.2.fnode.0.after_combine.conv.bn.running_var', 'fpn.cell.2.fnode.0.after_combine.conv.bn.num_batches_tracked', 'fpn.cell.2.fnode.1.combine.edge_weights', 'fpn.cell.2.fnode.1.after_combine.conv.conv_dw.weight', 'fpn.cell.2.fnode.1.after_combine.conv.conv_pw.weight', 'fpn.cell.2.fnode.1.after_combine.conv.conv_pw.bias', 'fpn.cell.2.fnode.1.after_combine.conv.bn.weight', 'fpn.cell.2.fnode.1.after_combine.conv.bn.bias', 'fpn.cell.2.fnode.1.after_combine.conv.bn.running_mean', 'fpn.cell.2.fnode.1.after_combine.conv.bn.running_var', 'fpn.cell.2.fnode.1.after_combine.conv.bn.num_batches_tracked', 'fpn.cell.2.fnode.2.combine.edge_weights', 'fpn.cell.2.fnode.2.after_combine.conv.conv_dw.weight', 'fpn.cell.2.fnode.2.after_combine.conv.conv_pw.weight', 'fpn.cell.2.fnode.2.after_combine.conv.conv_pw.bias', 'fpn.cell.2.fnode.2.after_combine.conv.bn.weight', 'fpn.cell.2.fnode.2.after_combine.conv.bn.bias', 'fpn.cell.2.fnode.2.after_combine.conv.bn.running_mean', 'fpn.cell.2.fnode.2.after_combine.conv.bn.running_var', 'fpn.cell.2.fnode.2.after_combine.conv.bn.num_batches_tracked', 'fpn.cell.2.fnode.3.combine.edge_weights', 'fpn.cell.2.fnode.3.after_combine.conv.conv_dw.weight', 'fpn.cell.2.fnode.3.after_combine.conv.conv_pw.weight', 'fpn.cell.2.fnode.3.after_combine.conv.conv_pw.bias', 'fpn.cell.2.fnode.3.after_combine.conv.bn.weight', 'fpn.cell.2.fnode.3.after_combine.conv.bn.bias', 'fpn.cell.2.fnode.3.after_combine.conv.bn.running_mean', 'fpn.cell.2.fnode.3.after_combine.conv.bn.running_var', 'fpn.cell.2.fnode.3.after_combine.conv.bn.num_batches_tracked', 'fpn.cell.2.fnode.4.combine.edge_weights', 'fpn.cell.2.fnode.4.after_combine.conv.conv_dw.weight', 'fpn.cell.2.fnode.4.after_combine.conv.conv_pw.weight', 'fpn.cell.2.fnode.4.after_combine.conv.conv_pw.bias', 'fpn.cell.2.fnode.4.after_combine.conv.bn.weight', 'fpn.cell.2.fnode.4.after_combine.conv.bn.bias', 'fpn.cell.2.fnode.4.after_combine.conv.bn.running_mean', 'fpn.cell.2.fnode.4.after_combine.conv.bn.running_var', 'fpn.cell.2.fnode.4.after_combine.conv.bn.num_batches_tracked', 'fpn.cell.2.fnode.5.combine.edge_weights', 'fpn.cell.2.fnode.5.after_combine.conv.conv_dw.weight', 'fpn.cell.2.fnode.5.after_combine.conv.conv_pw.weight', 'fpn.cell.2.fnode.5.after_combine.conv.conv_pw.bias', 'fpn.cell.2.fnode.5.after_combine.conv.bn.weight', 'fpn.cell.2.fnode.5.after_combine.conv.bn.bias', 'fpn.cell.2.fnode.5.after_combine.conv.bn.running_mean', 'fpn.cell.2.fnode.5.after_combine.conv.bn.running_var', 'fpn.cell.2.fnode.5.after_combine.conv.bn.num_batches_tracked', 'fpn.cell.2.fnode.6.combine.edge_weights', 'fpn.cell.2.fnode.6.after_combine.conv.conv_dw.weight', 'fpn.cell.2.fnode.6.after_combine.conv.conv_pw.weight', 'fpn.cell.2.fnode.6.after_combine.conv.conv_pw.bias', 'fpn.cell.2.fnode.6.after_combine.conv.bn.weight', 'fpn.cell.2.fnode.6.after_combine.conv.bn.bias', 'fpn.cell.2.fnode.6.after_combine.conv.bn.running_mean', 'fpn.cell.2.fnode.6.after_combine.conv.bn.running_var', 'fpn.cell.2.fnode.6.after_combine.conv.bn.num_batches_tracked', 'fpn.cell.2.fnode.7.combine.edge_weights', 'fpn.cell.2.fnode.7.after_combine.conv.conv_dw.weight', 'fpn.cell.2.fnode.7.after_combine.conv.conv_pw.weight', 'fpn.cell.2.fnode.7.after_combine.conv.conv_pw.bias', 'fpn.cell.2.fnode.7.after_combine.conv.bn.weight', 'fpn.cell.2.fnode.7.after_combine.conv.bn.bias', 'fpn.cell.2.fnode.7.after_combine.conv.bn.running_mean', 'fpn.cell.2.fnode.7.after_combine.conv.bn.running_var', 'fpn.cell.2.fnode.7.after_combine.conv.bn.num_batches_tracked', 'fpn.cell.3.fnode.0.combine.edge_weights', 'fpn.cell.3.fnode.0.after_combine.conv.conv_dw.weight', 'fpn.cell.3.fnode.0.after_combine.conv.conv_pw.weight', 'fpn.cell.3.fnode.0.after_combine.conv.conv_pw.bias', 'fpn.cell.3.fnode.0.after_combine.conv.bn.weight', 'fpn.cell.3.fnode.0.after_combine.conv.bn.bias', 'fpn.cell.3.fnode.0.after_combine.conv.bn.running_mean', 'fpn.cell.3.fnode.0.after_combine.conv.bn.running_var', 'fpn.cell.3.fnode.0.after_combine.conv.bn.num_batches_tracked', 'fpn.cell.3.fnode.1.combine.edge_weights', 'fpn.cell.3.fnode.1.after_combine.conv.conv_dw.weight', 'fpn.cell.3.fnode.1.after_combine.conv.conv_pw.weight', 'fpn.cell.3.fnode.1.after_combine.conv.conv_pw.bias', 'fpn.cell.3.fnode.1.after_combine.conv.bn.weight', 'fpn.cell.3.fnode.1.after_combine.conv.bn.bias', 'fpn.cell.3.fnode.1.after_combine.conv.bn.running_mean', 'fpn.cell.3.fnode.1.after_combine.conv.bn.running_var', 'fpn.cell.3.fnode.1.after_combine.conv.bn.num_batches_tracked', 'fpn.cell.3.fnode.2.combine.edge_weights', 'fpn.cell.3.fnode.2.after_combine.conv.conv_dw.weight', 'fpn.cell.3.fnode.2.after_combine.conv.conv_pw.weight', 'fpn.cell.3.fnode.2.after_combine.conv.conv_pw.bias', 'fpn.cell.3.fnode.2.after_combine.conv.bn.weight', 'fpn.cell.3.fnode.2.after_combine.conv.bn.bias', 'fpn.cell.3.fnode.2.after_combine.conv.bn.running_mean', 'fpn.cell.3.fnode.2.after_combine.conv.bn.running_var', 'fpn.cell.3.fnode.2.after_combine.conv.bn.num_batches_tracked', 'fpn.cell.3.fnode.3.combine.edge_weights', 'fpn.cell.3.fnode.3.after_combine.conv.conv_dw.weight', 'fpn.cell.3.fnode.3.after_combine.conv.conv_pw.weight', 'fpn.cell.3.fnode.3.after_combine.conv.conv_pw.bias', 'fpn.cell.3.fnode.3.after_combine.conv.bn.weight', 'fpn.cell.3.fnode.3.after_combine.conv.bn.bias', 'fpn.cell.3.fnode.3.after_combine.conv.bn.running_mean', 'fpn.cell.3.fnode.3.after_combine.conv.bn.running_var', 'fpn.cell.3.fnode.3.after_combine.conv.bn.num_batches_tracked', 'fpn.cell.3.fnode.4.combine.edge_weights', 'fpn.cell.3.fnode.4.after_combine.conv.conv_dw.weight', 'fpn.cell.3.fnode.4.after_combine.conv.conv_pw.weight', 'fpn.cell.3.fnode.4.after_combine.conv.conv_pw.bias', 'fpn.cell.3.fnode.4.after_combine.conv.bn.weight', 'fpn.cell.3.fnode.4.after_combine.conv.bn.bias', 'fpn.cell.3.fnode.4.after_combine.conv.bn.running_mean', 'fpn.cell.3.fnode.4.after_combine.conv.bn.running_var', 'fpn.cell.3.fnode.4.after_combine.conv.bn.num_batches_tracked', 'fpn.cell.3.fnode.5.combine.edge_weights', 'fpn.cell.3.fnode.5.after_combine.conv.conv_dw.weight', 'fpn.cell.3.fnode.5.after_combine.conv.conv_pw.weight', 'fpn.cell.3.fnode.5.after_combine.conv.conv_pw.bias', 'fpn.cell.3.fnode.5.after_combine.conv.bn.weight', 'fpn.cell.3.fnode.5.after_combine.conv.bn.bias', 'fpn.cell.3.fnode.5.after_combine.conv.bn.running_mean', 'fpn.cell.3.fnode.5.after_combine.conv.bn.running_var', 'fpn.cell.3.fnode.5.after_combine.conv.bn.num_batches_tracked', 'fpn.cell.3.fnode.6.combine.edge_weights', 'fpn.cell.3.fnode.6.after_combine.conv.conv_dw.weight', 'fpn.cell.3.fnode.6.after_combine.conv.conv_pw.weight', 'fpn.cell.3.fnode.6.after_combine.conv.conv_pw.bias', 'fpn.cell.3.fnode.6.after_combine.conv.bn.weight', 'fpn.cell.3.fnode.6.after_combine.conv.bn.bias', 'fpn.cell.3.fnode.6.after_combine.conv.bn.running_mean', 'fpn.cell.3.fnode.6.after_combine.conv.bn.running_var', 'fpn.cell.3.fnode.6.after_combine.conv.bn.num_batches_tracked', 'fpn.cell.3.fnode.7.combine.edge_weights', 'fpn.cell.3.fnode.7.after_combine.conv.conv_dw.weight', 'fpn.cell.3.fnode.7.after_combine.conv.conv_pw.weight', 'fpn.cell.3.fnode.7.after_combine.conv.conv_pw.bias', 'fpn.cell.3.fnode.7.after_combine.conv.bn.weight', 'fpn.cell.3.fnode.7.after_combine.conv.bn.bias', 'fpn.cell.3.fnode.7.after_combine.conv.bn.running_mean', 'fpn.cell.3.fnode.7.after_combine.conv.bn.running_var', 'fpn.cell.3.fnode.7.after_combine.conv.bn.num_batches_tracked', 'fpn.cell.4.fnode.0.combine.edge_weights', 'fpn.cell.4.fnode.0.after_combine.conv.conv_dw.weight', 'fpn.cell.4.fnode.0.after_combine.conv.conv_pw.weight', 'fpn.cell.4.fnode.0.after_combine.conv.conv_pw.bias', 'fpn.cell.4.fnode.0.after_combine.conv.bn.weight', 'fpn.cell.4.fnode.0.after_combine.conv.bn.bias', 'fpn.cell.4.fnode.0.after_combine.conv.bn.running_mean', 'fpn.cell.4.fnode.0.after_combine.conv.bn.running_var', 'fpn.cell.4.fnode.0.after_combine.conv.bn.num_batches_tracked', 'fpn.cell.4.fnode.1.combine.edge_weights', 'fpn.cell.4.fnode.1.after_combine.conv.conv_dw.weight', 'fpn.cell.4.fnode.1.after_combine.conv.conv_pw.weight', 'fpn.cell.4.fnode.1.after_combine.conv.conv_pw.bias', 'fpn.cell.4.fnode.1.after_combine.conv.bn.weight', 'fpn.cell.4.fnode.1.after_combine.conv.bn.bias', 'fpn.cell.4.fnode.1.after_combine.conv.bn.running_mean', 'fpn.cell.4.fnode.1.after_combine.conv.bn.running_var', 'fpn.cell.4.fnode.1.after_combine.conv.bn.num_batches_tracked', 'fpn.cell.4.fnode.2.combine.edge_weights', 'fpn.cell.4.fnode.2.after_combine.conv.conv_dw.weight', 'fpn.cell.4.fnode.2.after_combine.conv.conv_pw.weight', 'fpn.cell.4.fnode.2.after_combine.conv.conv_pw.bias', 'fpn.cell.4.fnode.2.after_combine.conv.bn.weight', 'fpn.cell.4.fnode.2.after_combine.conv.bn.bias', 'fpn.cell.4.fnode.2.after_combine.conv.bn.running_mean', 'fpn.cell.4.fnode.2.after_combine.conv.bn.running_var', 'fpn.cell.4.fnode.2.after_combine.conv.bn.num_batches_tracked', 'fpn.cell.4.fnode.3.combine.edge_weights', 'fpn.cell.4.fnode.3.after_combine.conv.conv_dw.weight', 'fpn.cell.4.fnode.3.after_combine.conv.conv_pw.weight', 'fpn.cell.4.fnode.3.after_combine.conv.conv_pw.bias', 'fpn.cell.4.fnode.3.after_combine.conv.bn.weight', 'fpn.cell.4.fnode.3.after_combine.conv.bn.bias', 'fpn.cell.4.fnode.3.after_combine.conv.bn.running_mean', 'fpn.cell.4.fnode.3.after_combine.conv.bn.running_var', 'fpn.cell.4.fnode.3.after_combine.conv.bn.num_batches_tracked', 'fpn.cell.4.fnode.4.combine.edge_weights', 'fpn.cell.4.fnode.4.after_combine.conv.conv_dw.weight', 'fpn.cell.4.fnode.4.after_combine.conv.conv_pw.weight', 'fpn.cell.4.fnode.4.after_combine.conv.conv_pw.bias', 'fpn.cell.4.fnode.4.after_combine.conv.bn.weight', 'fpn.cell.4.fnode.4.after_combine.conv.bn.bias', 'fpn.cell.4.fnode.4.after_combine.conv.bn.running_mean', 'fpn.cell.4.fnode.4.after_combine.conv.bn.running_var', 'fpn.cell.4.fnode.4.after_combine.conv.bn.num_batches_tracked', 'fpn.cell.4.fnode.5.combine.edge_weights', 'fpn.cell.4.fnode.5.after_combine.conv.conv_dw.weight', 'fpn.cell.4.fnode.5.after_combine.conv.conv_pw.weight', 'fpn.cell.4.fnode.5.after_combine.conv.conv_pw.bias', 'fpn.cell.4.fnode.5.after_combine.conv.bn.weight', 'fpn.cell.4.fnode.5.after_combine.conv.bn.bias', 'fpn.cell.4.fnode.5.after_combine.conv.bn.running_mean', 'fpn.cell.4.fnode.5.after_combine.conv.bn.running_var', 'fpn.cell.4.fnode.5.after_combine.conv.bn.num_batches_tracked', 'fpn.cell.4.fnode.6.combine.edge_weights', 'fpn.cell.4.fnode.6.after_combine.conv.conv_dw.weight', 'fpn.cell.4.fnode.6.after_combine.conv.conv_pw.weight', 'fpn.cell.4.fnode.6.after_combine.conv.conv_pw.bias', 'fpn.cell.4.fnode.6.after_combine.conv.bn.weight', 'fpn.cell.4.fnode.6.after_combine.conv.bn.bias', 'fpn.cell.4.fnode.6.after_combine.conv.bn.running_mean', 'fpn.cell.4.fnode.6.after_combine.conv.bn.running_var', 'fpn.cell.4.fnode.6.after_combine.conv.bn.num_batches_tracked', 'fpn.cell.4.fnode.7.combine.edge_weights', 'fpn.cell.4.fnode.7.after_combine.conv.conv_dw.weight', 'fpn.cell.4.fnode.7.after_combine.conv.conv_pw.weight', 'fpn.cell.4.fnode.7.after_combine.conv.conv_pw.bias', 'fpn.cell.4.fnode.7.after_combine.conv.bn.weight', 'fpn.cell.4.fnode.7.after_combine.conv.bn.bias', 'fpn.cell.4.fnode.7.after_combine.conv.bn.running_mean', 'fpn.cell.4.fnode.7.after_combine.conv.bn.running_var', 'fpn.cell.4.fnode.7.after_combine.conv.bn.num_batches_tracked', 'fpn.cell.5.fnode.0.combine.edge_weights', 'fpn.cell.5.fnode.0.after_combine.conv.conv_dw.weight', 'fpn.cell.5.fnode.0.after_combine.conv.conv_pw.weight', 'fpn.cell.5.fnode.0.after_combine.conv.conv_pw.bias', 'fpn.cell.5.fnode.0.after_combine.conv.bn.weight', 'fpn.cell.5.fnode.0.after_combine.conv.bn.bias', 'fpn.cell.5.fnode.0.after_combine.conv.bn.running_mean', 'fpn.cell.5.fnode.0.after_combine.conv.bn.running_var', 'fpn.cell.5.fnode.0.after_combine.conv.bn.num_batches_tracked', 'fpn.cell.5.fnode.1.combine.edge_weights', 'fpn.cell.5.fnode.1.after_combine.conv.conv_dw.weight', 'fpn.cell.5.fnode.1.after_combine.conv.conv_pw.weight', 'fpn.cell.5.fnode.1.after_combine.conv.conv_pw.bias', 'fpn.cell.5.fnode.1.after_combine.conv.bn.weight', 'fpn.cell.5.fnode.1.after_combine.conv.bn.bias', 'fpn.cell.5.fnode.1.after_combine.conv.bn.running_mean', 'fpn.cell.5.fnode.1.after_combine.conv.bn.running_var', 'fpn.cell.5.fnode.1.after_combine.conv.bn.num_batches_tracked', 'fpn.cell.5.fnode.2.combine.edge_weights', 'fpn.cell.5.fnode.2.after_combine.conv.conv_dw.weight', 'fpn.cell.5.fnode.2.after_combine.conv.conv_pw.weight', 'fpn.cell.5.fnode.2.after_combine.conv.conv_pw.bias', 'fpn.cell.5.fnode.2.after_combine.conv.bn.weight', 'fpn.cell.5.fnode.2.after_combine.conv.bn.bias', 'fpn.cell.5.fnode.2.after_combine.conv.bn.running_mean', 'fpn.cell.5.fnode.2.after_combine.conv.bn.running_var', 'fpn.cell.5.fnode.2.after_combine.conv.bn.num_batches_tracked', 'fpn.cell.5.fnode.3.combine.edge_weights', 'fpn.cell.5.fnode.3.after_combine.conv.conv_dw.weight', 'fpn.cell.5.fnode.3.after_combine.conv.conv_pw.weight', 'fpn.cell.5.fnode.3.after_combine.conv.conv_pw.bias', 'fpn.cell.5.fnode.3.after_combine.conv.bn.weight', 'fpn.cell.5.fnode.3.after_combine.conv.bn.bias', 'fpn.cell.5.fnode.3.after_combine.conv.bn.running_mean', 'fpn.cell.5.fnode.3.after_combine.conv.bn.running_var', 'fpn.cell.5.fnode.3.after_combine.conv.bn.num_batches_tracked', 'fpn.cell.5.fnode.4.combine.edge_weights', 'fpn.cell.5.fnode.4.after_combine.conv.conv_dw.weight', 'fpn.cell.5.fnode.4.after_combine.conv.conv_pw.weight', 'fpn.cell.5.fnode.4.after_combine.conv.conv_pw.bias', 'fpn.cell.5.fnode.4.after_combine.conv.bn.weight', 'fpn.cell.5.fnode.4.after_combine.conv.bn.bias', 'fpn.cell.5.fnode.4.after_combine.conv.bn.running_mean', 'fpn.cell.5.fnode.4.after_combine.conv.bn.running_var', 'fpn.cell.5.fnode.4.after_combine.conv.bn.num_batches_tracked', 'fpn.cell.5.fnode.5.combine.edge_weights', 'fpn.cell.5.fnode.5.after_combine.conv.conv_dw.weight', 'fpn.cell.5.fnode.5.after_combine.conv.conv_pw.weight', 'fpn.cell.5.fnode.5.after_combine.conv.conv_pw.bias', 'fpn.cell.5.fnode.5.after_combine.conv.bn.weight', 'fpn.cell.5.fnode.5.after_combine.conv.bn.bias', 'fpn.cell.5.fnode.5.after_combine.conv.bn.running_mean', 'fpn.cell.5.fnode.5.after_combine.conv.bn.running_var', 'fpn.cell.5.fnode.5.after_combine.conv.bn.num_batches_tracked', 'fpn.cell.5.fnode.6.combine.edge_weights', 'fpn.cell.5.fnode.6.after_combine.conv.conv_dw.weight', 'fpn.cell.5.fnode.6.after_combine.conv.conv_pw.weight', 'fpn.cell.5.fnode.6.after_combine.conv.conv_pw.bias', 'fpn.cell.5.fnode.6.after_combine.conv.bn.weight', 'fpn.cell.5.fnode.6.after_combine.conv.bn.bias', 'fpn.cell.5.fnode.6.after_combine.conv.bn.running_mean', 'fpn.cell.5.fnode.6.after_combine.conv.bn.running_var', 'fpn.cell.5.fnode.6.after_combine.conv.bn.num_batches_tracked', 'fpn.cell.5.fnode.7.combine.edge_weights', 'fpn.cell.5.fnode.7.after_combine.conv.conv_dw.weight', 'fpn.cell.5.fnode.7.after_combine.conv.conv_pw.weight', 'fpn.cell.5.fnode.7.after_combine.conv.conv_pw.bias', 'fpn.cell.5.fnode.7.after_combine.conv.bn.weight', 'fpn.cell.5.fnode.7.after_combine.conv.bn.bias', 'fpn.cell.5.fnode.7.after_combine.conv.bn.running_mean', 'fpn.cell.5.fnode.7.after_combine.conv.bn.running_var', 'fpn.cell.5.fnode.7.after_combine.conv.bn.num_batches_tracked', 'fpn.cell.6.fnode.0.combine.edge_weights', 'fpn.cell.6.fnode.0.after_combine.conv.conv_dw.weight', 'fpn.cell.6.fnode.0.after_combine.conv.conv_pw.weight', 'fpn.cell.6.fnode.0.after_combine.conv.conv_pw.bias', 'fpn.cell.6.fnode.0.after_combine.conv.bn.weight', 'fpn.cell.6.fnode.0.after_combine.conv.bn.bias', 'fpn.cell.6.fnode.0.after_combine.conv.bn.running_mean', 'fpn.cell.6.fnode.0.after_combine.conv.bn.running_var', 'fpn.cell.6.fnode.0.after_combine.conv.bn.num_batches_tracked', 'fpn.cell.6.fnode.1.combine.edge_weights', 'fpn.cell.6.fnode.1.after_combine.conv.conv_dw.weight', 'fpn.cell.6.fnode.1.after_combine.conv.conv_pw.weight', 'fpn.cell.6.fnode.1.after_combine.conv.conv_pw.bias', 'fpn.cell.6.fnode.1.after_combine.conv.bn.weight', 'fpn.cell.6.fnode.1.after_combine.conv.bn.bias', 'fpn.cell.6.fnode.1.after_combine.conv.bn.running_mean', 'fpn.cell.6.fnode.1.after_combine.conv.bn.running_var', 'fpn.cell.6.fnode.1.after_combine.conv.bn.num_batches_tracked', 'fpn.cell.6.fnode.2.combine.edge_weights', 'fpn.cell.6.fnode.2.after_combine.conv.conv_dw.weight', 'fpn.cell.6.fnode.2.after_combine.conv.conv_pw.weight', 'fpn.cell.6.fnode.2.after_combine.conv.conv_pw.bias', 'fpn.cell.6.fnode.2.after_combine.conv.bn.weight', 'fpn.cell.6.fnode.2.after_combine.conv.bn.bias', 'fpn.cell.6.fnode.2.after_combine.conv.bn.running_mean', 'fpn.cell.6.fnode.2.after_combine.conv.bn.running_var', 'fpn.cell.6.fnode.2.after_combine.conv.bn.num_batches_tracked', 'fpn.cell.6.fnode.3.combine.edge_weights', 'fpn.cell.6.fnode.3.after_combine.conv.conv_dw.weight', 'fpn.cell.6.fnode.3.after_combine.conv.conv_pw.weight', 'fpn.cell.6.fnode.3.after_combine.conv.conv_pw.bias', 'fpn.cell.6.fnode.3.after_combine.conv.bn.weight', 'fpn.cell.6.fnode.3.after_combine.conv.bn.bias', 'fpn.cell.6.fnode.3.after_combine.conv.bn.running_mean', 'fpn.cell.6.fnode.3.after_combine.conv.bn.running_var', 'fpn.cell.6.fnode.3.after_combine.conv.bn.num_batches_tracked', 'fpn.cell.6.fnode.4.combine.edge_weights', 'fpn.cell.6.fnode.4.after_combine.conv.conv_dw.weight', 'fpn.cell.6.fnode.4.after_combine.conv.conv_pw.weight', 'fpn.cell.6.fnode.4.after_combine.conv.conv_pw.bias', 'fpn.cell.6.fnode.4.after_combine.conv.bn.weight', 'fpn.cell.6.fnode.4.after_combine.conv.bn.bias', 'fpn.cell.6.fnode.4.after_combine.conv.bn.running_mean', 'fpn.cell.6.fnode.4.after_combine.conv.bn.running_var', 'fpn.cell.6.fnode.4.after_combine.conv.bn.num_batches_tracked', 'fpn.cell.6.fnode.5.combine.edge_weights', 'fpn.cell.6.fnode.5.after_combine.conv.conv_dw.weight', 'fpn.cell.6.fnode.5.after_combine.conv.conv_pw.weight', 'fpn.cell.6.fnode.5.after_combine.conv.conv_pw.bias', 'fpn.cell.6.fnode.5.after_combine.conv.bn.weight', 'fpn.cell.6.fnode.5.after_combine.conv.bn.bias', 'fpn.cell.6.fnode.5.after_combine.conv.bn.running_mean', 'fpn.cell.6.fnode.5.after_combine.conv.bn.running_var', 'fpn.cell.6.fnode.5.after_combine.conv.bn.num_batches_tracked', 'fpn.cell.6.fnode.6.combine.edge_weights', 'fpn.cell.6.fnode.6.after_combine.conv.conv_dw.weight', 'fpn.cell.6.fnode.6.after_combine.conv.conv_pw.weight', 'fpn.cell.6.fnode.6.after_combine.conv.conv_pw.bias', 'fpn.cell.6.fnode.6.after_combine.conv.bn.weight', 'fpn.cell.6.fnode.6.after_combine.conv.bn.bias', 'fpn.cell.6.fnode.6.after_combine.conv.bn.running_mean', 'fpn.cell.6.fnode.6.after_combine.conv.bn.running_var', 'fpn.cell.6.fnode.6.after_combine.conv.bn.num_batches_tracked', 'fpn.cell.6.fnode.7.combine.edge_weights', 'fpn.cell.6.fnode.7.after_combine.conv.conv_dw.weight', 'fpn.cell.6.fnode.7.after_combine.conv.conv_pw.weight', 'fpn.cell.6.fnode.7.after_combine.conv.conv_pw.bias', 'fpn.cell.6.fnode.7.after_combine.conv.bn.weight', 'fpn.cell.6.fnode.7.after_combine.conv.bn.bias', 'fpn.cell.6.fnode.7.after_combine.conv.bn.running_mean', 'fpn.cell.6.fnode.7.after_combine.conv.bn.running_var', 'fpn.cell.6.fnode.7.after_combine.conv.bn.num_batches_tracked', 'class_net.conv_rep.0.conv_dw.weight', 'class_net.conv_rep.0.conv_pw.weight', 'class_net.conv_rep.0.conv_pw.bias', 'class_net.conv_rep.1.conv_dw.weight', 'class_net.conv_rep.1.conv_pw.weight', 'class_net.conv_rep.1.conv_pw.bias', 'class_net.conv_rep.2.conv_dw.weight', 'class_net.conv_rep.2.conv_pw.weight', 'class_net.conv_rep.2.conv_pw.bias', 'class_net.conv_rep.3.conv_dw.weight', 'class_net.conv_rep.3.conv_pw.weight', 'class_net.conv_rep.3.conv_pw.bias', 'class_net.bn_rep.0.0.bn.weight', 'class_net.bn_rep.0.0.bn.bias', 'class_net.bn_rep.0.0.bn.running_mean', 'class_net.bn_rep.0.0.bn.running_var', 'class_net.bn_rep.0.0.bn.num_batches_tracked', 'class_net.bn_rep.0.1.bn.weight', 'class_net.bn_rep.0.1.bn.bias', 'class_net.bn_rep.0.1.bn.running_mean', 'class_net.bn_rep.0.1.bn.running_var', 'class_net.bn_rep.0.1.bn.num_batches_tracked', 'class_net.bn_rep.0.2.bn.weight', 'class_net.bn_rep.0.2.bn.bias', 'class_net.bn_rep.0.2.bn.running_mean', 'class_net.bn_rep.0.2.bn.running_var', 'class_net.bn_rep.0.2.bn.num_batches_tracked', 'class_net.bn_rep.0.3.bn.weight', 'class_net.bn_rep.0.3.bn.bias', 'class_net.bn_rep.0.3.bn.running_mean', 'class_net.bn_rep.0.3.bn.running_var', 'class_net.bn_rep.0.3.bn.num_batches_tracked', 'class_net.bn_rep.0.4.bn.weight', 'class_net.bn_rep.0.4.bn.bias', 'class_net.bn_rep.0.4.bn.running_mean', 'class_net.bn_rep.0.4.bn.running_var', 'class_net.bn_rep.0.4.bn.num_batches_tracked', 'class_net.bn_rep.1.0.bn.weight', 'class_net.bn_rep.1.0.bn.bias', 'class_net.bn_rep.1.0.bn.running_mean', 'class_net.bn_rep.1.0.bn.running_var', 'class_net.bn_rep.1.0.bn.num_batches_tracked', 'class_net.bn_rep.1.1.bn.weight', 'class_net.bn_rep.1.1.bn.bias', 'class_net.bn_rep.1.1.bn.running_mean', 'class_net.bn_rep.1.1.bn.running_var', 'class_net.bn_rep.1.1.bn.num_batches_tracked', 'class_net.bn_rep.1.2.bn.weight', 'class_net.bn_rep.1.2.bn.bias', 'class_net.bn_rep.1.2.bn.running_mean', 'class_net.bn_rep.1.2.bn.running_var', 'class_net.bn_rep.1.2.bn.num_batches_tracked', 'class_net.bn_rep.1.3.bn.weight', 'class_net.bn_rep.1.3.bn.bias', 'class_net.bn_rep.1.3.bn.running_mean', 'class_net.bn_rep.1.3.bn.running_var', 'class_net.bn_rep.1.3.bn.num_batches_tracked', 'class_net.bn_rep.1.4.bn.weight', 'class_net.bn_rep.1.4.bn.bias', 'class_net.bn_rep.1.4.bn.running_mean', 'class_net.bn_rep.1.4.bn.running_var', 'class_net.bn_rep.1.4.bn.num_batches_tracked', 'class_net.bn_rep.2.0.bn.weight', 'class_net.bn_rep.2.0.bn.bias', 'class_net.bn_rep.2.0.bn.running_mean', 'class_net.bn_rep.2.0.bn.running_var', 'class_net.bn_rep.2.0.bn.num_batches_tracked', 'class_net.bn_rep.2.1.bn.weight', 'class_net.bn_rep.2.1.bn.bias', 'class_net.bn_rep.2.1.bn.running_mean', 'class_net.bn_rep.2.1.bn.running_var', 'class_net.bn_rep.2.1.bn.num_batches_tracked', 'class_net.bn_rep.2.2.bn.weight', 'class_net.bn_rep.2.2.bn.bias', 'class_net.bn_rep.2.2.bn.running_mean', 'class_net.bn_rep.2.2.bn.running_var', 'class_net.bn_rep.2.2.bn.num_batches_tracked', 'class_net.bn_rep.2.3.bn.weight', 'class_net.bn_rep.2.3.bn.bias', 'class_net.bn_rep.2.3.bn.running_mean', 'class_net.bn_rep.2.3.bn.running_var', 'class_net.bn_rep.2.3.bn.num_batches_tracked', 'class_net.bn_rep.2.4.bn.weight', 'class_net.bn_rep.2.4.bn.bias', 'class_net.bn_rep.2.4.bn.running_mean', 'class_net.bn_rep.2.4.bn.running_var', 'class_net.bn_rep.2.4.bn.num_batches_tracked', 'class_net.bn_rep.3.0.bn.weight', 'class_net.bn_rep.3.0.bn.bias', 'class_net.bn_rep.3.0.bn.running_mean', 'class_net.bn_rep.3.0.bn.running_var', 'class_net.bn_rep.3.0.bn.num_batches_tracked', 'class_net.bn_rep.3.1.bn.weight', 'class_net.bn_rep.3.1.bn.bias', 'class_net.bn_rep.3.1.bn.running_mean', 'class_net.bn_rep.3.1.bn.running_var', 'class_net.bn_rep.3.1.bn.num_batches_tracked', 'class_net.bn_rep.3.2.bn.weight', 'class_net.bn_rep.3.2.bn.bias', 'class_net.bn_rep.3.2.bn.running_mean', 'class_net.bn_rep.3.2.bn.running_var', 'class_net.bn_rep.3.2.bn.num_batches_tracked', 'class_net.bn_rep.3.3.bn.weight', 'class_net.bn_rep.3.3.bn.bias', 'class_net.bn_rep.3.3.bn.running_mean', 'class_net.bn_rep.3.3.bn.running_var', 'class_net.bn_rep.3.3.bn.num_batches_tracked', 'class_net.bn_rep.3.4.bn.weight', 'class_net.bn_rep.3.4.bn.bias', 'class_net.bn_rep.3.4.bn.running_mean', 'class_net.bn_rep.3.4.bn.running_var', 'class_net.bn_rep.3.4.bn.num_batches_tracked', 'class_net.predict.conv_dw.weight', 'class_net.predict.conv_pw.weight', 'class_net.predict.conv_pw.bias', 'box_net.conv_rep.0.conv_dw.weight', 'box_net.conv_rep.0.conv_pw.weight', 'box_net.conv_rep.0.conv_pw.bias', 'box_net.conv_rep.1.conv_dw.weight', 'box_net.conv_rep.1.conv_pw.weight', 'box_net.conv_rep.1.conv_pw.bias', 'box_net.conv_rep.2.conv_dw.weight', 'box_net.conv_rep.2.conv_pw.weight', 'box_net.conv_rep.2.conv_pw.bias', 'box_net.conv_rep.3.conv_dw.weight', 'box_net.conv_rep.3.conv_pw.weight', 'box_net.conv_rep.3.conv_pw.bias', 'box_net.bn_rep.0.0.bn.weight', 'box_net.bn_rep.0.0.bn.bias', 'box_net.bn_rep.0.0.bn.running_mean', 'box_net.bn_rep.0.0.bn.running_var', 'box_net.bn_rep.0.0.bn.num_batches_tracked', 'box_net.bn_rep.0.1.bn.weight', 'box_net.bn_rep.0.1.bn.bias', 'box_net.bn_rep.0.1.bn.running_mean', 'box_net.bn_rep.0.1.bn.running_var', 'box_net.bn_rep.0.1.bn.num_batches_tracked', 'box_net.bn_rep.0.2.bn.weight', 'box_net.bn_rep.0.2.bn.bias', 'box_net.bn_rep.0.2.bn.running_mean', 'box_net.bn_rep.0.2.bn.running_var', 'box_net.bn_rep.0.2.bn.num_batches_tracked', 'box_net.bn_rep.0.3.bn.weight', 'box_net.bn_rep.0.3.bn.bias', 'box_net.bn_rep.0.3.bn.running_mean', 'box_net.bn_rep.0.3.bn.running_var', 'box_net.bn_rep.0.3.bn.num_batches_tracked', 'box_net.bn_rep.0.4.bn.weight', 'box_net.bn_rep.0.4.bn.bias', 'box_net.bn_rep.0.4.bn.running_mean', 'box_net.bn_rep.0.4.bn.running_var', 'box_net.bn_rep.0.4.bn.num_batches_tracked', 'box_net.bn_rep.1.0.bn.weight', 'box_net.bn_rep.1.0.bn.bias', 'box_net.bn_rep.1.0.bn.running_mean', 'box_net.bn_rep.1.0.bn.running_var', 'box_net.bn_rep.1.0.bn.num_batches_tracked', 'box_net.bn_rep.1.1.bn.weight', 'box_net.bn_rep.1.1.bn.bias', 'box_net.bn_rep.1.1.bn.running_mean', 'box_net.bn_rep.1.1.bn.running_var', 'box_net.bn_rep.1.1.bn.num_batches_tracked', 'box_net.bn_rep.1.2.bn.weight', 'box_net.bn_rep.1.2.bn.bias', 'box_net.bn_rep.1.2.bn.running_mean', 'box_net.bn_rep.1.2.bn.running_var', 'box_net.bn_rep.1.2.bn.num_batches_tracked', 'box_net.bn_rep.1.3.bn.weight', 'box_net.bn_rep.1.3.bn.bias', 'box_net.bn_rep.1.3.bn.running_mean', 'box_net.bn_rep.1.3.bn.running_var', 'box_net.bn_rep.1.3.bn.num_batches_tracked', 'box_net.bn_rep.1.4.bn.weight', 'box_net.bn_rep.1.4.bn.bias', 'box_net.bn_rep.1.4.bn.running_mean', 'box_net.bn_rep.1.4.bn.running_var', 'box_net.bn_rep.1.4.bn.num_batches_tracked', 'box_net.bn_rep.2.0.bn.weight', 'box_net.bn_rep.2.0.bn.bias', 'box_net.bn_rep.2.0.bn.running_mean', 'box_net.bn_rep.2.0.bn.running_var', 'box_net.bn_rep.2.0.bn.num_batches_tracked', 'box_net.bn_rep.2.1.bn.weight', 'box_net.bn_rep.2.1.bn.bias', 'box_net.bn_rep.2.1.bn.running_mean', 'box_net.bn_rep.2.1.bn.running_var', 'box_net.bn_rep.2.1.bn.num_batches_tracked', 'box_net.bn_rep.2.2.bn.weight', 'box_net.bn_rep.2.2.bn.bias', 'box_net.bn_rep.2.2.bn.running_mean', 'box_net.bn_rep.2.2.bn.running_var', 'box_net.bn_rep.2.2.bn.num_batches_tracked', 'box_net.bn_rep.2.3.bn.weight', 'box_net.bn_rep.2.3.bn.bias', 'box_net.bn_rep.2.3.bn.running_mean', 'box_net.bn_rep.2.3.bn.running_var', 'box_net.bn_rep.2.3.bn.num_batches_tracked', 'box_net.bn_rep.2.4.bn.weight', 'box_net.bn_rep.2.4.bn.bias', 'box_net.bn_rep.2.4.bn.running_mean', 'box_net.bn_rep.2.4.bn.running_var', 'box_net.bn_rep.2.4.bn.num_batches_tracked', 'box_net.bn_rep.3.0.bn.weight', 'box_net.bn_rep.3.0.bn.bias', 'box_net.bn_rep.3.0.bn.running_mean', 'box_net.bn_rep.3.0.bn.running_var', 'box_net.bn_rep.3.0.bn.num_batches_tracked', 'box_net.bn_rep.3.1.bn.weight', 'box_net.bn_rep.3.1.bn.bias', 'box_net.bn_rep.3.1.bn.running_mean', 'box_net.bn_rep.3.1.bn.running_var', 'box_net.bn_rep.3.1.bn.num_batches_tracked', 'box_net.bn_rep.3.2.bn.weight', 'box_net.bn_rep.3.2.bn.bias', 'box_net.bn_rep.3.2.bn.running_mean', 'box_net.bn_rep.3.2.bn.running_var', 'box_net.bn_rep.3.2.bn.num_batches_tracked', 'box_net.bn_rep.3.3.bn.weight', 'box_net.bn_rep.3.3.bn.bias', 'box_net.bn_rep.3.3.bn.running_mean', 'box_net.bn_rep.3.3.bn.running_var', 'box_net.bn_rep.3.3.bn.num_batches_tracked', 'box_net.bn_rep.3.4.bn.weight', 'box_net.bn_rep.3.4.bn.bias', 'box_net.bn_rep.3.4.bn.running_mean', 'box_net.bn_rep.3.4.bn.running_var', 'box_net.bn_rep.3.4.bn.num_batches_tracked', 'box_net.predict.conv_dw.weight', 'box_net.predict.conv_pw.weight', 'box_net.predict.conv_pw.bias'])"
      ]
     },
     "execution_count": 414,
     "metadata": {},
     "output_type": "execute_result"
    }
   ],
   "source": [
    "state_dict.keys()"
   ]
  },
  {
   "cell_type": "code",
   "execution_count": 415,
   "metadata": {},
   "outputs": [],
   "source": [
    "from model import EfficientDet"
   ]
  },
  {
   "cell_type": "code",
   "execution_count": 416,
   "metadata": {},
   "outputs": [
    {
     "name": "stdout",
     "output_type": "stream",
     "text": [
      "Loaded pretrained weights for efficientnet-b5\n"
     ]
    }
   ],
   "source": [
    "model = EfficientDet('efficientdet-d{}'.format(MODEL_NAME))"
   ]
  },
  {
   "cell_type": "code",
   "execution_count": 417,
   "metadata": {},
   "outputs": [],
   "source": [
    "to = model.state_dict()"
   ]
  },
  {
   "cell_type": "code",
   "execution_count": 418,
   "metadata": {},
   "outputs": [],
   "source": [
    "remove_to_keys_when_filled = [k for k in to.keys()]"
   ]
  },
  {
   "cell_type": "code",
   "execution_count": 419,
   "metadata": {},
   "outputs": [],
   "source": [
    "remove_state_dict_keys_when_filled = [k for k in state_dict.keys()]"
   ]
  },
  {
   "cell_type": "code",
   "execution_count": 420,
   "metadata": {},
   "outputs": [
    {
     "data": {
      "text/plain": [
       "odict_keys(['backbone.model._conv_stem.weight', 'backbone.model._bn0.weight', 'backbone.model._bn0.bias', 'backbone.model._bn0.running_mean', 'backbone.model._bn0.running_var', 'backbone.model._bn0.num_batches_tracked', 'backbone.model._blocks.0._depthwise_conv.weight', 'backbone.model._blocks.0._bn1.weight', 'backbone.model._blocks.0._bn1.bias', 'backbone.model._blocks.0._bn1.running_mean', 'backbone.model._blocks.0._bn1.running_var', 'backbone.model._blocks.0._bn1.num_batches_tracked', 'backbone.model._blocks.0._se_reduce.weight', 'backbone.model._blocks.0._se_reduce.bias', 'backbone.model._blocks.0._se_expand.weight', 'backbone.model._blocks.0._se_expand.bias', 'backbone.model._blocks.0._project_conv.weight', 'backbone.model._blocks.0._bn2.weight', 'backbone.model._blocks.0._bn2.bias', 'backbone.model._blocks.0._bn2.running_mean', 'backbone.model._blocks.0._bn2.running_var', 'backbone.model._blocks.0._bn2.num_batches_tracked', 'backbone.model._blocks.1._depthwise_conv.weight', 'backbone.model._blocks.1._bn1.weight', 'backbone.model._blocks.1._bn1.bias', 'backbone.model._blocks.1._bn1.running_mean', 'backbone.model._blocks.1._bn1.running_var', 'backbone.model._blocks.1._bn1.num_batches_tracked', 'backbone.model._blocks.1._se_reduce.weight', 'backbone.model._blocks.1._se_reduce.bias', 'backbone.model._blocks.1._se_expand.weight', 'backbone.model._blocks.1._se_expand.bias', 'backbone.model._blocks.1._project_conv.weight', 'backbone.model._blocks.1._bn2.weight', 'backbone.model._blocks.1._bn2.bias', 'backbone.model._blocks.1._bn2.running_mean', 'backbone.model._blocks.1._bn2.running_var', 'backbone.model._blocks.1._bn2.num_batches_tracked', 'backbone.model._blocks.2._depthwise_conv.weight', 'backbone.model._blocks.2._bn1.weight', 'backbone.model._blocks.2._bn1.bias', 'backbone.model._blocks.2._bn1.running_mean', 'backbone.model._blocks.2._bn1.running_var', 'backbone.model._blocks.2._bn1.num_batches_tracked', 'backbone.model._blocks.2._se_reduce.weight', 'backbone.model._blocks.2._se_reduce.bias', 'backbone.model._blocks.2._se_expand.weight', 'backbone.model._blocks.2._se_expand.bias', 'backbone.model._blocks.2._project_conv.weight', 'backbone.model._blocks.2._bn2.weight', 'backbone.model._blocks.2._bn2.bias', 'backbone.model._blocks.2._bn2.running_mean', 'backbone.model._blocks.2._bn2.running_var', 'backbone.model._blocks.2._bn2.num_batches_tracked', 'backbone.model._blocks.3._expand_conv.weight', 'backbone.model._blocks.3._bn0.weight', 'backbone.model._blocks.3._bn0.bias', 'backbone.model._blocks.3._bn0.running_mean', 'backbone.model._blocks.3._bn0.running_var', 'backbone.model._blocks.3._bn0.num_batches_tracked', 'backbone.model._blocks.3._depthwise_conv.weight', 'backbone.model._blocks.3._bn1.weight', 'backbone.model._blocks.3._bn1.bias', 'backbone.model._blocks.3._bn1.running_mean', 'backbone.model._blocks.3._bn1.running_var', 'backbone.model._blocks.3._bn1.num_batches_tracked', 'backbone.model._blocks.3._se_reduce.weight', 'backbone.model._blocks.3._se_reduce.bias', 'backbone.model._blocks.3._se_expand.weight', 'backbone.model._blocks.3._se_expand.bias', 'backbone.model._blocks.3._project_conv.weight', 'backbone.model._blocks.3._bn2.weight', 'backbone.model._blocks.3._bn2.bias', 'backbone.model._blocks.3._bn2.running_mean', 'backbone.model._blocks.3._bn2.running_var', 'backbone.model._blocks.3._bn2.num_batches_tracked', 'backbone.model._blocks.4._expand_conv.weight', 'backbone.model._blocks.4._bn0.weight', 'backbone.model._blocks.4._bn0.bias', 'backbone.model._blocks.4._bn0.running_mean', 'backbone.model._blocks.4._bn0.running_var', 'backbone.model._blocks.4._bn0.num_batches_tracked', 'backbone.model._blocks.4._depthwise_conv.weight', 'backbone.model._blocks.4._bn1.weight', 'backbone.model._blocks.4._bn1.bias', 'backbone.model._blocks.4._bn1.running_mean', 'backbone.model._blocks.4._bn1.running_var', 'backbone.model._blocks.4._bn1.num_batches_tracked', 'backbone.model._blocks.4._se_reduce.weight', 'backbone.model._blocks.4._se_reduce.bias', 'backbone.model._blocks.4._se_expand.weight', 'backbone.model._blocks.4._se_expand.bias', 'backbone.model._blocks.4._project_conv.weight', 'backbone.model._blocks.4._bn2.weight', 'backbone.model._blocks.4._bn2.bias', 'backbone.model._blocks.4._bn2.running_mean', 'backbone.model._blocks.4._bn2.running_var', 'backbone.model._blocks.4._bn2.num_batches_tracked', 'backbone.model._blocks.5._expand_conv.weight', 'backbone.model._blocks.5._bn0.weight', 'backbone.model._blocks.5._bn0.bias', 'backbone.model._blocks.5._bn0.running_mean', 'backbone.model._blocks.5._bn0.running_var', 'backbone.model._blocks.5._bn0.num_batches_tracked', 'backbone.model._blocks.5._depthwise_conv.weight', 'backbone.model._blocks.5._bn1.weight', 'backbone.model._blocks.5._bn1.bias', 'backbone.model._blocks.5._bn1.running_mean', 'backbone.model._blocks.5._bn1.running_var', 'backbone.model._blocks.5._bn1.num_batches_tracked', 'backbone.model._blocks.5._se_reduce.weight', 'backbone.model._blocks.5._se_reduce.bias', 'backbone.model._blocks.5._se_expand.weight', 'backbone.model._blocks.5._se_expand.bias', 'backbone.model._blocks.5._project_conv.weight', 'backbone.model._blocks.5._bn2.weight', 'backbone.model._blocks.5._bn2.bias', 'backbone.model._blocks.5._bn2.running_mean', 'backbone.model._blocks.5._bn2.running_var', 'backbone.model._blocks.5._bn2.num_batches_tracked', 'backbone.model._blocks.6._expand_conv.weight', 'backbone.model._blocks.6._bn0.weight', 'backbone.model._blocks.6._bn0.bias', 'backbone.model._blocks.6._bn0.running_mean', 'backbone.model._blocks.6._bn0.running_var', 'backbone.model._blocks.6._bn0.num_batches_tracked', 'backbone.model._blocks.6._depthwise_conv.weight', 'backbone.model._blocks.6._bn1.weight', 'backbone.model._blocks.6._bn1.bias', 'backbone.model._blocks.6._bn1.running_mean', 'backbone.model._blocks.6._bn1.running_var', 'backbone.model._blocks.6._bn1.num_batches_tracked', 'backbone.model._blocks.6._se_reduce.weight', 'backbone.model._blocks.6._se_reduce.bias', 'backbone.model._blocks.6._se_expand.weight', 'backbone.model._blocks.6._se_expand.bias', 'backbone.model._blocks.6._project_conv.weight', 'backbone.model._blocks.6._bn2.weight', 'backbone.model._blocks.6._bn2.bias', 'backbone.model._blocks.6._bn2.running_mean', 'backbone.model._blocks.6._bn2.running_var', 'backbone.model._blocks.6._bn2.num_batches_tracked', 'backbone.model._blocks.7._expand_conv.weight', 'backbone.model._blocks.7._bn0.weight', 'backbone.model._blocks.7._bn0.bias', 'backbone.model._blocks.7._bn0.running_mean', 'backbone.model._blocks.7._bn0.running_var', 'backbone.model._blocks.7._bn0.num_batches_tracked', 'backbone.model._blocks.7._depthwise_conv.weight', 'backbone.model._blocks.7._bn1.weight', 'backbone.model._blocks.7._bn1.bias', 'backbone.model._blocks.7._bn1.running_mean', 'backbone.model._blocks.7._bn1.running_var', 'backbone.model._blocks.7._bn1.num_batches_tracked', 'backbone.model._blocks.7._se_reduce.weight', 'backbone.model._blocks.7._se_reduce.bias', 'backbone.model._blocks.7._se_expand.weight', 'backbone.model._blocks.7._se_expand.bias', 'backbone.model._blocks.7._project_conv.weight', 'backbone.model._blocks.7._bn2.weight', 'backbone.model._blocks.7._bn2.bias', 'backbone.model._blocks.7._bn2.running_mean', 'backbone.model._blocks.7._bn2.running_var', 'backbone.model._blocks.7._bn2.num_batches_tracked', 'backbone.model._blocks.8._expand_conv.weight', 'backbone.model._blocks.8._bn0.weight', 'backbone.model._blocks.8._bn0.bias', 'backbone.model._blocks.8._bn0.running_mean', 'backbone.model._blocks.8._bn0.running_var', 'backbone.model._blocks.8._bn0.num_batches_tracked', 'backbone.model._blocks.8._depthwise_conv.weight', 'backbone.model._blocks.8._bn1.weight', 'backbone.model._blocks.8._bn1.bias', 'backbone.model._blocks.8._bn1.running_mean', 'backbone.model._blocks.8._bn1.running_var', 'backbone.model._blocks.8._bn1.num_batches_tracked', 'backbone.model._blocks.8._se_reduce.weight', 'backbone.model._blocks.8._se_reduce.bias', 'backbone.model._blocks.8._se_expand.weight', 'backbone.model._blocks.8._se_expand.bias', 'backbone.model._blocks.8._project_conv.weight', 'backbone.model._blocks.8._bn2.weight', 'backbone.model._blocks.8._bn2.bias', 'backbone.model._blocks.8._bn2.running_mean', 'backbone.model._blocks.8._bn2.running_var', 'backbone.model._blocks.8._bn2.num_batches_tracked', 'backbone.model._blocks.9._expand_conv.weight', 'backbone.model._blocks.9._bn0.weight', 'backbone.model._blocks.9._bn0.bias', 'backbone.model._blocks.9._bn0.running_mean', 'backbone.model._blocks.9._bn0.running_var', 'backbone.model._blocks.9._bn0.num_batches_tracked', 'backbone.model._blocks.9._depthwise_conv.weight', 'backbone.model._blocks.9._bn1.weight', 'backbone.model._blocks.9._bn1.bias', 'backbone.model._blocks.9._bn1.running_mean', 'backbone.model._blocks.9._bn1.running_var', 'backbone.model._blocks.9._bn1.num_batches_tracked', 'backbone.model._blocks.9._se_reduce.weight', 'backbone.model._blocks.9._se_reduce.bias', 'backbone.model._blocks.9._se_expand.weight', 'backbone.model._blocks.9._se_expand.bias', 'backbone.model._blocks.9._project_conv.weight', 'backbone.model._blocks.9._bn2.weight', 'backbone.model._blocks.9._bn2.bias', 'backbone.model._blocks.9._bn2.running_mean', 'backbone.model._blocks.9._bn2.running_var', 'backbone.model._blocks.9._bn2.num_batches_tracked', 'backbone.model._blocks.10._expand_conv.weight', 'backbone.model._blocks.10._bn0.weight', 'backbone.model._blocks.10._bn0.bias', 'backbone.model._blocks.10._bn0.running_mean', 'backbone.model._blocks.10._bn0.running_var', 'backbone.model._blocks.10._bn0.num_batches_tracked', 'backbone.model._blocks.10._depthwise_conv.weight', 'backbone.model._blocks.10._bn1.weight', 'backbone.model._blocks.10._bn1.bias', 'backbone.model._blocks.10._bn1.running_mean', 'backbone.model._blocks.10._bn1.running_var', 'backbone.model._blocks.10._bn1.num_batches_tracked', 'backbone.model._blocks.10._se_reduce.weight', 'backbone.model._blocks.10._se_reduce.bias', 'backbone.model._blocks.10._se_expand.weight', 'backbone.model._blocks.10._se_expand.bias', 'backbone.model._blocks.10._project_conv.weight', 'backbone.model._blocks.10._bn2.weight', 'backbone.model._blocks.10._bn2.bias', 'backbone.model._blocks.10._bn2.running_mean', 'backbone.model._blocks.10._bn2.running_var', 'backbone.model._blocks.10._bn2.num_batches_tracked', 'backbone.model._blocks.11._expand_conv.weight', 'backbone.model._blocks.11._bn0.weight', 'backbone.model._blocks.11._bn0.bias', 'backbone.model._blocks.11._bn0.running_mean', 'backbone.model._blocks.11._bn0.running_var', 'backbone.model._blocks.11._bn0.num_batches_tracked', 'backbone.model._blocks.11._depthwise_conv.weight', 'backbone.model._blocks.11._bn1.weight', 'backbone.model._blocks.11._bn1.bias', 'backbone.model._blocks.11._bn1.running_mean', 'backbone.model._blocks.11._bn1.running_var', 'backbone.model._blocks.11._bn1.num_batches_tracked', 'backbone.model._blocks.11._se_reduce.weight', 'backbone.model._blocks.11._se_reduce.bias', 'backbone.model._blocks.11._se_expand.weight', 'backbone.model._blocks.11._se_expand.bias', 'backbone.model._blocks.11._project_conv.weight', 'backbone.model._blocks.11._bn2.weight', 'backbone.model._blocks.11._bn2.bias', 'backbone.model._blocks.11._bn2.running_mean', 'backbone.model._blocks.11._bn2.running_var', 'backbone.model._blocks.11._bn2.num_batches_tracked', 'backbone.model._blocks.12._expand_conv.weight', 'backbone.model._blocks.12._bn0.weight', 'backbone.model._blocks.12._bn0.bias', 'backbone.model._blocks.12._bn0.running_mean', 'backbone.model._blocks.12._bn0.running_var', 'backbone.model._blocks.12._bn0.num_batches_tracked', 'backbone.model._blocks.12._depthwise_conv.weight', 'backbone.model._blocks.12._bn1.weight', 'backbone.model._blocks.12._bn1.bias', 'backbone.model._blocks.12._bn1.running_mean', 'backbone.model._blocks.12._bn1.running_var', 'backbone.model._blocks.12._bn1.num_batches_tracked', 'backbone.model._blocks.12._se_reduce.weight', 'backbone.model._blocks.12._se_reduce.bias', 'backbone.model._blocks.12._se_expand.weight', 'backbone.model._blocks.12._se_expand.bias', 'backbone.model._blocks.12._project_conv.weight', 'backbone.model._blocks.12._bn2.weight', 'backbone.model._blocks.12._bn2.bias', 'backbone.model._blocks.12._bn2.running_mean', 'backbone.model._blocks.12._bn2.running_var', 'backbone.model._blocks.12._bn2.num_batches_tracked', 'backbone.model._blocks.13._expand_conv.weight', 'backbone.model._blocks.13._bn0.weight', 'backbone.model._blocks.13._bn0.bias', 'backbone.model._blocks.13._bn0.running_mean', 'backbone.model._blocks.13._bn0.running_var', 'backbone.model._blocks.13._bn0.num_batches_tracked', 'backbone.model._blocks.13._depthwise_conv.weight', 'backbone.model._blocks.13._bn1.weight', 'backbone.model._blocks.13._bn1.bias', 'backbone.model._blocks.13._bn1.running_mean', 'backbone.model._blocks.13._bn1.running_var', 'backbone.model._blocks.13._bn1.num_batches_tracked', 'backbone.model._blocks.13._se_reduce.weight', 'backbone.model._blocks.13._se_reduce.bias', 'backbone.model._blocks.13._se_expand.weight', 'backbone.model._blocks.13._se_expand.bias', 'backbone.model._blocks.13._project_conv.weight', 'backbone.model._blocks.13._bn2.weight', 'backbone.model._blocks.13._bn2.bias', 'backbone.model._blocks.13._bn2.running_mean', 'backbone.model._blocks.13._bn2.running_var', 'backbone.model._blocks.13._bn2.num_batches_tracked', 'backbone.model._blocks.14._expand_conv.weight', 'backbone.model._blocks.14._bn0.weight', 'backbone.model._blocks.14._bn0.bias', 'backbone.model._blocks.14._bn0.running_mean', 'backbone.model._blocks.14._bn0.running_var', 'backbone.model._blocks.14._bn0.num_batches_tracked', 'backbone.model._blocks.14._depthwise_conv.weight', 'backbone.model._blocks.14._bn1.weight', 'backbone.model._blocks.14._bn1.bias', 'backbone.model._blocks.14._bn1.running_mean', 'backbone.model._blocks.14._bn1.running_var', 'backbone.model._blocks.14._bn1.num_batches_tracked', 'backbone.model._blocks.14._se_reduce.weight', 'backbone.model._blocks.14._se_reduce.bias', 'backbone.model._blocks.14._se_expand.weight', 'backbone.model._blocks.14._se_expand.bias', 'backbone.model._blocks.14._project_conv.weight', 'backbone.model._blocks.14._bn2.weight', 'backbone.model._blocks.14._bn2.bias', 'backbone.model._blocks.14._bn2.running_mean', 'backbone.model._blocks.14._bn2.running_var', 'backbone.model._blocks.14._bn2.num_batches_tracked', 'backbone.model._blocks.15._expand_conv.weight', 'backbone.model._blocks.15._bn0.weight', 'backbone.model._blocks.15._bn0.bias', 'backbone.model._blocks.15._bn0.running_mean', 'backbone.model._blocks.15._bn0.running_var', 'backbone.model._blocks.15._bn0.num_batches_tracked', 'backbone.model._blocks.15._depthwise_conv.weight', 'backbone.model._blocks.15._bn1.weight', 'backbone.model._blocks.15._bn1.bias', 'backbone.model._blocks.15._bn1.running_mean', 'backbone.model._blocks.15._bn1.running_var', 'backbone.model._blocks.15._bn1.num_batches_tracked', 'backbone.model._blocks.15._se_reduce.weight', 'backbone.model._blocks.15._se_reduce.bias', 'backbone.model._blocks.15._se_expand.weight', 'backbone.model._blocks.15._se_expand.bias', 'backbone.model._blocks.15._project_conv.weight', 'backbone.model._blocks.15._bn2.weight', 'backbone.model._blocks.15._bn2.bias', 'backbone.model._blocks.15._bn2.running_mean', 'backbone.model._blocks.15._bn2.running_var', 'backbone.model._blocks.15._bn2.num_batches_tracked', 'backbone.model._blocks.16._expand_conv.weight', 'backbone.model._blocks.16._bn0.weight', 'backbone.model._blocks.16._bn0.bias', 'backbone.model._blocks.16._bn0.running_mean', 'backbone.model._blocks.16._bn0.running_var', 'backbone.model._blocks.16._bn0.num_batches_tracked', 'backbone.model._blocks.16._depthwise_conv.weight', 'backbone.model._blocks.16._bn1.weight', 'backbone.model._blocks.16._bn1.bias', 'backbone.model._blocks.16._bn1.running_mean', 'backbone.model._blocks.16._bn1.running_var', 'backbone.model._blocks.16._bn1.num_batches_tracked', 'backbone.model._blocks.16._se_reduce.weight', 'backbone.model._blocks.16._se_reduce.bias', 'backbone.model._blocks.16._se_expand.weight', 'backbone.model._blocks.16._se_expand.bias', 'backbone.model._blocks.16._project_conv.weight', 'backbone.model._blocks.16._bn2.weight', 'backbone.model._blocks.16._bn2.bias', 'backbone.model._blocks.16._bn2.running_mean', 'backbone.model._blocks.16._bn2.running_var', 'backbone.model._blocks.16._bn2.num_batches_tracked', 'backbone.model._blocks.17._expand_conv.weight', 'backbone.model._blocks.17._bn0.weight', 'backbone.model._blocks.17._bn0.bias', 'backbone.model._blocks.17._bn0.running_mean', 'backbone.model._blocks.17._bn0.running_var', 'backbone.model._blocks.17._bn0.num_batches_tracked', 'backbone.model._blocks.17._depthwise_conv.weight', 'backbone.model._blocks.17._bn1.weight', 'backbone.model._blocks.17._bn1.bias', 'backbone.model._blocks.17._bn1.running_mean', 'backbone.model._blocks.17._bn1.running_var', 'backbone.model._blocks.17._bn1.num_batches_tracked', 'backbone.model._blocks.17._se_reduce.weight', 'backbone.model._blocks.17._se_reduce.bias', 'backbone.model._blocks.17._se_expand.weight', 'backbone.model._blocks.17._se_expand.bias', 'backbone.model._blocks.17._project_conv.weight', 'backbone.model._blocks.17._bn2.weight', 'backbone.model._blocks.17._bn2.bias', 'backbone.model._blocks.17._bn2.running_mean', 'backbone.model._blocks.17._bn2.running_var', 'backbone.model._blocks.17._bn2.num_batches_tracked', 'backbone.model._blocks.18._expand_conv.weight', 'backbone.model._blocks.18._bn0.weight', 'backbone.model._blocks.18._bn0.bias', 'backbone.model._blocks.18._bn0.running_mean', 'backbone.model._blocks.18._bn0.running_var', 'backbone.model._blocks.18._bn0.num_batches_tracked', 'backbone.model._blocks.18._depthwise_conv.weight', 'backbone.model._blocks.18._bn1.weight', 'backbone.model._blocks.18._bn1.bias', 'backbone.model._blocks.18._bn1.running_mean', 'backbone.model._blocks.18._bn1.running_var', 'backbone.model._blocks.18._bn1.num_batches_tracked', 'backbone.model._blocks.18._se_reduce.weight', 'backbone.model._blocks.18._se_reduce.bias', 'backbone.model._blocks.18._se_expand.weight', 'backbone.model._blocks.18._se_expand.bias', 'backbone.model._blocks.18._project_conv.weight', 'backbone.model._blocks.18._bn2.weight', 'backbone.model._blocks.18._bn2.bias', 'backbone.model._blocks.18._bn2.running_mean', 'backbone.model._blocks.18._bn2.running_var', 'backbone.model._blocks.18._bn2.num_batches_tracked', 'backbone.model._blocks.19._expand_conv.weight', 'backbone.model._blocks.19._bn0.weight', 'backbone.model._blocks.19._bn0.bias', 'backbone.model._blocks.19._bn0.running_mean', 'backbone.model._blocks.19._bn0.running_var', 'backbone.model._blocks.19._bn0.num_batches_tracked', 'backbone.model._blocks.19._depthwise_conv.weight', 'backbone.model._blocks.19._bn1.weight', 'backbone.model._blocks.19._bn1.bias', 'backbone.model._blocks.19._bn1.running_mean', 'backbone.model._blocks.19._bn1.running_var', 'backbone.model._blocks.19._bn1.num_batches_tracked', 'backbone.model._blocks.19._se_reduce.weight', 'backbone.model._blocks.19._se_reduce.bias', 'backbone.model._blocks.19._se_expand.weight', 'backbone.model._blocks.19._se_expand.bias', 'backbone.model._blocks.19._project_conv.weight', 'backbone.model._blocks.19._bn2.weight', 'backbone.model._blocks.19._bn2.bias', 'backbone.model._blocks.19._bn2.running_mean', 'backbone.model._blocks.19._bn2.running_var', 'backbone.model._blocks.19._bn2.num_batches_tracked', 'backbone.model._blocks.20._expand_conv.weight', 'backbone.model._blocks.20._bn0.weight', 'backbone.model._blocks.20._bn0.bias', 'backbone.model._blocks.20._bn0.running_mean', 'backbone.model._blocks.20._bn0.running_var', 'backbone.model._blocks.20._bn0.num_batches_tracked', 'backbone.model._blocks.20._depthwise_conv.weight', 'backbone.model._blocks.20._bn1.weight', 'backbone.model._blocks.20._bn1.bias', 'backbone.model._blocks.20._bn1.running_mean', 'backbone.model._blocks.20._bn1.running_var', 'backbone.model._blocks.20._bn1.num_batches_tracked', 'backbone.model._blocks.20._se_reduce.weight', 'backbone.model._blocks.20._se_reduce.bias', 'backbone.model._blocks.20._se_expand.weight', 'backbone.model._blocks.20._se_expand.bias', 'backbone.model._blocks.20._project_conv.weight', 'backbone.model._blocks.20._bn2.weight', 'backbone.model._blocks.20._bn2.bias', 'backbone.model._blocks.20._bn2.running_mean', 'backbone.model._blocks.20._bn2.running_var', 'backbone.model._blocks.20._bn2.num_batches_tracked', 'backbone.model._blocks.21._expand_conv.weight', 'backbone.model._blocks.21._bn0.weight', 'backbone.model._blocks.21._bn0.bias', 'backbone.model._blocks.21._bn0.running_mean', 'backbone.model._blocks.21._bn0.running_var', 'backbone.model._blocks.21._bn0.num_batches_tracked', 'backbone.model._blocks.21._depthwise_conv.weight', 'backbone.model._blocks.21._bn1.weight', 'backbone.model._blocks.21._bn1.bias', 'backbone.model._blocks.21._bn1.running_mean', 'backbone.model._blocks.21._bn1.running_var', 'backbone.model._blocks.21._bn1.num_batches_tracked', 'backbone.model._blocks.21._se_reduce.weight', 'backbone.model._blocks.21._se_reduce.bias', 'backbone.model._blocks.21._se_expand.weight', 'backbone.model._blocks.21._se_expand.bias', 'backbone.model._blocks.21._project_conv.weight', 'backbone.model._blocks.21._bn2.weight', 'backbone.model._blocks.21._bn2.bias', 'backbone.model._blocks.21._bn2.running_mean', 'backbone.model._blocks.21._bn2.running_var', 'backbone.model._blocks.21._bn2.num_batches_tracked', 'backbone.model._blocks.22._expand_conv.weight', 'backbone.model._blocks.22._bn0.weight', 'backbone.model._blocks.22._bn0.bias', 'backbone.model._blocks.22._bn0.running_mean', 'backbone.model._blocks.22._bn0.running_var', 'backbone.model._blocks.22._bn0.num_batches_tracked', 'backbone.model._blocks.22._depthwise_conv.weight', 'backbone.model._blocks.22._bn1.weight', 'backbone.model._blocks.22._bn1.bias', 'backbone.model._blocks.22._bn1.running_mean', 'backbone.model._blocks.22._bn1.running_var', 'backbone.model._blocks.22._bn1.num_batches_tracked', 'backbone.model._blocks.22._se_reduce.weight', 'backbone.model._blocks.22._se_reduce.bias', 'backbone.model._blocks.22._se_expand.weight', 'backbone.model._blocks.22._se_expand.bias', 'backbone.model._blocks.22._project_conv.weight', 'backbone.model._blocks.22._bn2.weight', 'backbone.model._blocks.22._bn2.bias', 'backbone.model._blocks.22._bn2.running_mean', 'backbone.model._blocks.22._bn2.running_var', 'backbone.model._blocks.22._bn2.num_batches_tracked', 'backbone.model._blocks.23._expand_conv.weight', 'backbone.model._blocks.23._bn0.weight', 'backbone.model._blocks.23._bn0.bias', 'backbone.model._blocks.23._bn0.running_mean', 'backbone.model._blocks.23._bn0.running_var', 'backbone.model._blocks.23._bn0.num_batches_tracked', 'backbone.model._blocks.23._depthwise_conv.weight', 'backbone.model._blocks.23._bn1.weight', 'backbone.model._blocks.23._bn1.bias', 'backbone.model._blocks.23._bn1.running_mean', 'backbone.model._blocks.23._bn1.running_var', 'backbone.model._blocks.23._bn1.num_batches_tracked', 'backbone.model._blocks.23._se_reduce.weight', 'backbone.model._blocks.23._se_reduce.bias', 'backbone.model._blocks.23._se_expand.weight', 'backbone.model._blocks.23._se_expand.bias', 'backbone.model._blocks.23._project_conv.weight', 'backbone.model._blocks.23._bn2.weight', 'backbone.model._blocks.23._bn2.bias', 'backbone.model._blocks.23._bn2.running_mean', 'backbone.model._blocks.23._bn2.running_var', 'backbone.model._blocks.23._bn2.num_batches_tracked', 'backbone.model._blocks.24._expand_conv.weight', 'backbone.model._blocks.24._bn0.weight', 'backbone.model._blocks.24._bn0.bias', 'backbone.model._blocks.24._bn0.running_mean', 'backbone.model._blocks.24._bn0.running_var', 'backbone.model._blocks.24._bn0.num_batches_tracked', 'backbone.model._blocks.24._depthwise_conv.weight', 'backbone.model._blocks.24._bn1.weight', 'backbone.model._blocks.24._bn1.bias', 'backbone.model._blocks.24._bn1.running_mean', 'backbone.model._blocks.24._bn1.running_var', 'backbone.model._blocks.24._bn1.num_batches_tracked', 'backbone.model._blocks.24._se_reduce.weight', 'backbone.model._blocks.24._se_reduce.bias', 'backbone.model._blocks.24._se_expand.weight', 'backbone.model._blocks.24._se_expand.bias', 'backbone.model._blocks.24._project_conv.weight', 'backbone.model._blocks.24._bn2.weight', 'backbone.model._blocks.24._bn2.bias', 'backbone.model._blocks.24._bn2.running_mean', 'backbone.model._blocks.24._bn2.running_var', 'backbone.model._blocks.24._bn2.num_batches_tracked', 'backbone.model._blocks.25._expand_conv.weight', 'backbone.model._blocks.25._bn0.weight', 'backbone.model._blocks.25._bn0.bias', 'backbone.model._blocks.25._bn0.running_mean', 'backbone.model._blocks.25._bn0.running_var', 'backbone.model._blocks.25._bn0.num_batches_tracked', 'backbone.model._blocks.25._depthwise_conv.weight', 'backbone.model._blocks.25._bn1.weight', 'backbone.model._blocks.25._bn1.bias', 'backbone.model._blocks.25._bn1.running_mean', 'backbone.model._blocks.25._bn1.running_var', 'backbone.model._blocks.25._bn1.num_batches_tracked', 'backbone.model._blocks.25._se_reduce.weight', 'backbone.model._blocks.25._se_reduce.bias', 'backbone.model._blocks.25._se_expand.weight', 'backbone.model._blocks.25._se_expand.bias', 'backbone.model._blocks.25._project_conv.weight', 'backbone.model._blocks.25._bn2.weight', 'backbone.model._blocks.25._bn2.bias', 'backbone.model._blocks.25._bn2.running_mean', 'backbone.model._blocks.25._bn2.running_var', 'backbone.model._blocks.25._bn2.num_batches_tracked', 'backbone.model._blocks.26._expand_conv.weight', 'backbone.model._blocks.26._bn0.weight', 'backbone.model._blocks.26._bn0.bias', 'backbone.model._blocks.26._bn0.running_mean', 'backbone.model._blocks.26._bn0.running_var', 'backbone.model._blocks.26._bn0.num_batches_tracked', 'backbone.model._blocks.26._depthwise_conv.weight', 'backbone.model._blocks.26._bn1.weight', 'backbone.model._blocks.26._bn1.bias', 'backbone.model._blocks.26._bn1.running_mean', 'backbone.model._blocks.26._bn1.running_var', 'backbone.model._blocks.26._bn1.num_batches_tracked', 'backbone.model._blocks.26._se_reduce.weight', 'backbone.model._blocks.26._se_reduce.bias', 'backbone.model._blocks.26._se_expand.weight', 'backbone.model._blocks.26._se_expand.bias', 'backbone.model._blocks.26._project_conv.weight', 'backbone.model._blocks.26._bn2.weight', 'backbone.model._blocks.26._bn2.bias', 'backbone.model._blocks.26._bn2.running_mean', 'backbone.model._blocks.26._bn2.running_var', 'backbone.model._blocks.26._bn2.num_batches_tracked', 'backbone.model._blocks.27._expand_conv.weight', 'backbone.model._blocks.27._bn0.weight', 'backbone.model._blocks.27._bn0.bias', 'backbone.model._blocks.27._bn0.running_mean', 'backbone.model._blocks.27._bn0.running_var', 'backbone.model._blocks.27._bn0.num_batches_tracked', 'backbone.model._blocks.27._depthwise_conv.weight', 'backbone.model._blocks.27._bn1.weight', 'backbone.model._blocks.27._bn1.bias', 'backbone.model._blocks.27._bn1.running_mean', 'backbone.model._blocks.27._bn1.running_var', 'backbone.model._blocks.27._bn1.num_batches_tracked', 'backbone.model._blocks.27._se_reduce.weight', 'backbone.model._blocks.27._se_reduce.bias', 'backbone.model._blocks.27._se_expand.weight', 'backbone.model._blocks.27._se_expand.bias', 'backbone.model._blocks.27._project_conv.weight', 'backbone.model._blocks.27._bn2.weight', 'backbone.model._blocks.27._bn2.bias', 'backbone.model._blocks.27._bn2.running_mean', 'backbone.model._blocks.27._bn2.running_var', 'backbone.model._blocks.27._bn2.num_batches_tracked', 'backbone.model._blocks.28._expand_conv.weight', 'backbone.model._blocks.28._bn0.weight', 'backbone.model._blocks.28._bn0.bias', 'backbone.model._blocks.28._bn0.running_mean', 'backbone.model._blocks.28._bn0.running_var', 'backbone.model._blocks.28._bn0.num_batches_tracked', 'backbone.model._blocks.28._depthwise_conv.weight', 'backbone.model._blocks.28._bn1.weight', 'backbone.model._blocks.28._bn1.bias', 'backbone.model._blocks.28._bn1.running_mean', 'backbone.model._blocks.28._bn1.running_var', 'backbone.model._blocks.28._bn1.num_batches_tracked', 'backbone.model._blocks.28._se_reduce.weight', 'backbone.model._blocks.28._se_reduce.bias', 'backbone.model._blocks.28._se_expand.weight', 'backbone.model._blocks.28._se_expand.bias', 'backbone.model._blocks.28._project_conv.weight', 'backbone.model._blocks.28._bn2.weight', 'backbone.model._blocks.28._bn2.bias', 'backbone.model._blocks.28._bn2.running_mean', 'backbone.model._blocks.28._bn2.running_var', 'backbone.model._blocks.28._bn2.num_batches_tracked', 'backbone.model._blocks.29._expand_conv.weight', 'backbone.model._blocks.29._bn0.weight', 'backbone.model._blocks.29._bn0.bias', 'backbone.model._blocks.29._bn0.running_mean', 'backbone.model._blocks.29._bn0.running_var', 'backbone.model._blocks.29._bn0.num_batches_tracked', 'backbone.model._blocks.29._depthwise_conv.weight', 'backbone.model._blocks.29._bn1.weight', 'backbone.model._blocks.29._bn1.bias', 'backbone.model._blocks.29._bn1.running_mean', 'backbone.model._blocks.29._bn1.running_var', 'backbone.model._blocks.29._bn1.num_batches_tracked', 'backbone.model._blocks.29._se_reduce.weight', 'backbone.model._blocks.29._se_reduce.bias', 'backbone.model._blocks.29._se_expand.weight', 'backbone.model._blocks.29._se_expand.bias', 'backbone.model._blocks.29._project_conv.weight', 'backbone.model._blocks.29._bn2.weight', 'backbone.model._blocks.29._bn2.bias', 'backbone.model._blocks.29._bn2.running_mean', 'backbone.model._blocks.29._bn2.running_var', 'backbone.model._blocks.29._bn2.num_batches_tracked', 'backbone.model._blocks.30._expand_conv.weight', 'backbone.model._blocks.30._bn0.weight', 'backbone.model._blocks.30._bn0.bias', 'backbone.model._blocks.30._bn0.running_mean', 'backbone.model._blocks.30._bn0.running_var', 'backbone.model._blocks.30._bn0.num_batches_tracked', 'backbone.model._blocks.30._depthwise_conv.weight', 'backbone.model._blocks.30._bn1.weight', 'backbone.model._blocks.30._bn1.bias', 'backbone.model._blocks.30._bn1.running_mean', 'backbone.model._blocks.30._bn1.running_var', 'backbone.model._blocks.30._bn1.num_batches_tracked', 'backbone.model._blocks.30._se_reduce.weight', 'backbone.model._blocks.30._se_reduce.bias', 'backbone.model._blocks.30._se_expand.weight', 'backbone.model._blocks.30._se_expand.bias', 'backbone.model._blocks.30._project_conv.weight', 'backbone.model._blocks.30._bn2.weight', 'backbone.model._blocks.30._bn2.bias', 'backbone.model._blocks.30._bn2.running_mean', 'backbone.model._blocks.30._bn2.running_var', 'backbone.model._blocks.30._bn2.num_batches_tracked', 'backbone.model._blocks.31._expand_conv.weight', 'backbone.model._blocks.31._bn0.weight', 'backbone.model._blocks.31._bn0.bias', 'backbone.model._blocks.31._bn0.running_mean', 'backbone.model._blocks.31._bn0.running_var', 'backbone.model._blocks.31._bn0.num_batches_tracked', 'backbone.model._blocks.31._depthwise_conv.weight', 'backbone.model._blocks.31._bn1.weight', 'backbone.model._blocks.31._bn1.bias', 'backbone.model._blocks.31._bn1.running_mean', 'backbone.model._blocks.31._bn1.running_var', 'backbone.model._blocks.31._bn1.num_batches_tracked', 'backbone.model._blocks.31._se_reduce.weight', 'backbone.model._blocks.31._se_reduce.bias', 'backbone.model._blocks.31._se_expand.weight', 'backbone.model._blocks.31._se_expand.bias', 'backbone.model._blocks.31._project_conv.weight', 'backbone.model._blocks.31._bn2.weight', 'backbone.model._blocks.31._bn2.bias', 'backbone.model._blocks.31._bn2.running_mean', 'backbone.model._blocks.31._bn2.running_var', 'backbone.model._blocks.31._bn2.num_batches_tracked', 'backbone.model._blocks.32._expand_conv.weight', 'backbone.model._blocks.32._bn0.weight', 'backbone.model._blocks.32._bn0.bias', 'backbone.model._blocks.32._bn0.running_mean', 'backbone.model._blocks.32._bn0.running_var', 'backbone.model._blocks.32._bn0.num_batches_tracked', 'backbone.model._blocks.32._depthwise_conv.weight', 'backbone.model._blocks.32._bn1.weight', 'backbone.model._blocks.32._bn1.bias', 'backbone.model._blocks.32._bn1.running_mean', 'backbone.model._blocks.32._bn1.running_var', 'backbone.model._blocks.32._bn1.num_batches_tracked', 'backbone.model._blocks.32._se_reduce.weight', 'backbone.model._blocks.32._se_reduce.bias', 'backbone.model._blocks.32._se_expand.weight', 'backbone.model._blocks.32._se_expand.bias', 'backbone.model._blocks.32._project_conv.weight', 'backbone.model._blocks.32._bn2.weight', 'backbone.model._blocks.32._bn2.bias', 'backbone.model._blocks.32._bn2.running_mean', 'backbone.model._blocks.32._bn2.running_var', 'backbone.model._blocks.32._bn2.num_batches_tracked', 'backbone.model._blocks.33._expand_conv.weight', 'backbone.model._blocks.33._bn0.weight', 'backbone.model._blocks.33._bn0.bias', 'backbone.model._blocks.33._bn0.running_mean', 'backbone.model._blocks.33._bn0.running_var', 'backbone.model._blocks.33._bn0.num_batches_tracked', 'backbone.model._blocks.33._depthwise_conv.weight', 'backbone.model._blocks.33._bn1.weight', 'backbone.model._blocks.33._bn1.bias', 'backbone.model._blocks.33._bn1.running_mean', 'backbone.model._blocks.33._bn1.running_var', 'backbone.model._blocks.33._bn1.num_batches_tracked', 'backbone.model._blocks.33._se_reduce.weight', 'backbone.model._blocks.33._se_reduce.bias', 'backbone.model._blocks.33._se_expand.weight', 'backbone.model._blocks.33._se_expand.bias', 'backbone.model._blocks.33._project_conv.weight', 'backbone.model._blocks.33._bn2.weight', 'backbone.model._blocks.33._bn2.bias', 'backbone.model._blocks.33._bn2.running_mean', 'backbone.model._blocks.33._bn2.running_var', 'backbone.model._blocks.33._bn2.num_batches_tracked', 'backbone.model._blocks.34._expand_conv.weight', 'backbone.model._blocks.34._bn0.weight', 'backbone.model._blocks.34._bn0.bias', 'backbone.model._blocks.34._bn0.running_mean', 'backbone.model._blocks.34._bn0.running_var', 'backbone.model._blocks.34._bn0.num_batches_tracked', 'backbone.model._blocks.34._depthwise_conv.weight', 'backbone.model._blocks.34._bn1.weight', 'backbone.model._blocks.34._bn1.bias', 'backbone.model._blocks.34._bn1.running_mean', 'backbone.model._blocks.34._bn1.running_var', 'backbone.model._blocks.34._bn1.num_batches_tracked', 'backbone.model._blocks.34._se_reduce.weight', 'backbone.model._blocks.34._se_reduce.bias', 'backbone.model._blocks.34._se_expand.weight', 'backbone.model._blocks.34._se_expand.bias', 'backbone.model._blocks.34._project_conv.weight', 'backbone.model._blocks.34._bn2.weight', 'backbone.model._blocks.34._bn2.bias', 'backbone.model._blocks.34._bn2.running_mean', 'backbone.model._blocks.34._bn2.running_var', 'backbone.model._blocks.34._bn2.num_batches_tracked', 'backbone.model._blocks.35._expand_conv.weight', 'backbone.model._blocks.35._bn0.weight', 'backbone.model._blocks.35._bn0.bias', 'backbone.model._blocks.35._bn0.running_mean', 'backbone.model._blocks.35._bn0.running_var', 'backbone.model._blocks.35._bn0.num_batches_tracked', 'backbone.model._blocks.35._depthwise_conv.weight', 'backbone.model._blocks.35._bn1.weight', 'backbone.model._blocks.35._bn1.bias', 'backbone.model._blocks.35._bn1.running_mean', 'backbone.model._blocks.35._bn1.running_var', 'backbone.model._blocks.35._bn1.num_batches_tracked', 'backbone.model._blocks.35._se_reduce.weight', 'backbone.model._blocks.35._se_reduce.bias', 'backbone.model._blocks.35._se_expand.weight', 'backbone.model._blocks.35._se_expand.bias', 'backbone.model._blocks.35._project_conv.weight', 'backbone.model._blocks.35._bn2.weight', 'backbone.model._blocks.35._bn2.bias', 'backbone.model._blocks.35._bn2.running_mean', 'backbone.model._blocks.35._bn2.running_var', 'backbone.model._blocks.35._bn2.num_batches_tracked', 'backbone.model._blocks.36._expand_conv.weight', 'backbone.model._blocks.36._bn0.weight', 'backbone.model._blocks.36._bn0.bias', 'backbone.model._blocks.36._bn0.running_mean', 'backbone.model._blocks.36._bn0.running_var', 'backbone.model._blocks.36._bn0.num_batches_tracked', 'backbone.model._blocks.36._depthwise_conv.weight', 'backbone.model._blocks.36._bn1.weight', 'backbone.model._blocks.36._bn1.bias', 'backbone.model._blocks.36._bn1.running_mean', 'backbone.model._blocks.36._bn1.running_var', 'backbone.model._blocks.36._bn1.num_batches_tracked', 'backbone.model._blocks.36._se_reduce.weight', 'backbone.model._blocks.36._se_reduce.bias', 'backbone.model._blocks.36._se_expand.weight', 'backbone.model._blocks.36._se_expand.bias', 'backbone.model._blocks.36._project_conv.weight', 'backbone.model._blocks.36._bn2.weight', 'backbone.model._blocks.36._bn2.bias', 'backbone.model._blocks.36._bn2.running_mean', 'backbone.model._blocks.36._bn2.running_var', 'backbone.model._blocks.36._bn2.num_batches_tracked', 'backbone.model._blocks.37._expand_conv.weight', 'backbone.model._blocks.37._bn0.weight', 'backbone.model._blocks.37._bn0.bias', 'backbone.model._blocks.37._bn0.running_mean', 'backbone.model._blocks.37._bn0.running_var', 'backbone.model._blocks.37._bn0.num_batches_tracked', 'backbone.model._blocks.37._depthwise_conv.weight', 'backbone.model._blocks.37._bn1.weight', 'backbone.model._blocks.37._bn1.bias', 'backbone.model._blocks.37._bn1.running_mean', 'backbone.model._blocks.37._bn1.running_var', 'backbone.model._blocks.37._bn1.num_batches_tracked', 'backbone.model._blocks.37._se_reduce.weight', 'backbone.model._blocks.37._se_reduce.bias', 'backbone.model._blocks.37._se_expand.weight', 'backbone.model._blocks.37._se_expand.bias', 'backbone.model._blocks.37._project_conv.weight', 'backbone.model._blocks.37._bn2.weight', 'backbone.model._blocks.37._bn2.bias', 'backbone.model._blocks.37._bn2.running_mean', 'backbone.model._blocks.37._bn2.running_var', 'backbone.model._blocks.37._bn2.num_batches_tracked', 'backbone.model._blocks.38._expand_conv.weight', 'backbone.model._blocks.38._bn0.weight', 'backbone.model._blocks.38._bn0.bias', 'backbone.model._blocks.38._bn0.running_mean', 'backbone.model._blocks.38._bn0.running_var', 'backbone.model._blocks.38._bn0.num_batches_tracked', 'backbone.model._blocks.38._depthwise_conv.weight', 'backbone.model._blocks.38._bn1.weight', 'backbone.model._blocks.38._bn1.bias', 'backbone.model._blocks.38._bn1.running_mean', 'backbone.model._blocks.38._bn1.running_var', 'backbone.model._blocks.38._bn1.num_batches_tracked', 'backbone.model._blocks.38._se_reduce.weight', 'backbone.model._blocks.38._se_reduce.bias', 'backbone.model._blocks.38._se_expand.weight', 'backbone.model._blocks.38._se_expand.bias', 'backbone.model._blocks.38._project_conv.weight', 'backbone.model._blocks.38._bn2.weight', 'backbone.model._blocks.38._bn2.bias', 'backbone.model._blocks.38._bn2.running_mean', 'backbone.model._blocks.38._bn2.running_var', 'backbone.model._blocks.38._bn2.num_batches_tracked', 'adjuster.convs.0.conv.weight', 'adjuster.convs.0.bn.weight', 'adjuster.convs.0.bn.bias', 'adjuster.convs.0.bn.running_mean', 'adjuster.convs.0.bn.running_var', 'adjuster.convs.0.bn.num_batches_tracked', 'adjuster.convs.1.conv.weight', 'adjuster.convs.1.bn.weight', 'adjuster.convs.1.bn.bias', 'adjuster.convs.1.bn.running_mean', 'adjuster.convs.1.bn.running_var', 'adjuster.convs.1.bn.num_batches_tracked', 'adjuster.convs.2.conv.weight', 'adjuster.convs.2.bn.weight', 'adjuster.convs.2.bn.bias', 'adjuster.convs.2.bn.running_mean', 'adjuster.convs.2.bn.running_var', 'adjuster.convs.2.bn.num_batches_tracked', 'adjuster.convs.3.conv.weight', 'adjuster.convs.3.bn.weight', 'adjuster.convs.3.bn.bias', 'adjuster.convs.3.bn.running_mean', 'adjuster.convs.3.bn.running_var', 'adjuster.convs.3.bn.num_batches_tracked', 'adjuster.convs.4.conv.weight', 'adjuster.convs.4.bn.weight', 'adjuster.convs.4.bn.bias', 'adjuster.convs.4.bn.running_mean', 'adjuster.convs.4.bn.running_var', 'adjuster.convs.4.bn.num_batches_tracked', 'adjuster.p5_to_p6.0.conv.weight', 'adjuster.p5_to_p6.0.bn.weight', 'adjuster.p5_to_p6.0.bn.bias', 'adjuster.p5_to_p6.0.bn.running_mean', 'adjuster.p5_to_p6.0.bn.running_var', 'adjuster.p5_to_p6.0.bn.num_batches_tracked', 'bifpn.0.weights_4_td', 'bifpn.0.weights_5_td', 'bifpn.0.weights_6_td', 'bifpn.0.weights_3_out', 'bifpn.0.weights_4_out', 'bifpn.0.weights_5_out', 'bifpn.0.weights_6_out', 'bifpn.0.weights_7_out', 'bifpn.0.conv_4_td.conv_dw.weight', 'bifpn.0.conv_4_td.conv_pw.weight', 'bifpn.0.conv_4_td.bn.weight', 'bifpn.0.conv_4_td.bn.bias', 'bifpn.0.conv_4_td.bn.running_mean', 'bifpn.0.conv_4_td.bn.running_var', 'bifpn.0.conv_4_td.bn.num_batches_tracked', 'bifpn.0.conv_5_td.conv_dw.weight', 'bifpn.0.conv_5_td.conv_pw.weight', 'bifpn.0.conv_5_td.bn.weight', 'bifpn.0.conv_5_td.bn.bias', 'bifpn.0.conv_5_td.bn.running_mean', 'bifpn.0.conv_5_td.bn.running_var', 'bifpn.0.conv_5_td.bn.num_batches_tracked', 'bifpn.0.conv_6_td.conv_dw.weight', 'bifpn.0.conv_6_td.conv_pw.weight', 'bifpn.0.conv_6_td.bn.weight', 'bifpn.0.conv_6_td.bn.bias', 'bifpn.0.conv_6_td.bn.running_mean', 'bifpn.0.conv_6_td.bn.running_var', 'bifpn.0.conv_6_td.bn.num_batches_tracked', 'bifpn.0.conv_3_out.conv_dw.weight', 'bifpn.0.conv_3_out.conv_pw.weight', 'bifpn.0.conv_3_out.bn.weight', 'bifpn.0.conv_3_out.bn.bias', 'bifpn.0.conv_3_out.bn.running_mean', 'bifpn.0.conv_3_out.bn.running_var', 'bifpn.0.conv_3_out.bn.num_batches_tracked', 'bifpn.0.conv_4_out.conv_dw.weight', 'bifpn.0.conv_4_out.conv_pw.weight', 'bifpn.0.conv_4_out.bn.weight', 'bifpn.0.conv_4_out.bn.bias', 'bifpn.0.conv_4_out.bn.running_mean', 'bifpn.0.conv_4_out.bn.running_var', 'bifpn.0.conv_4_out.bn.num_batches_tracked', 'bifpn.0.conv_5_out.conv_dw.weight', 'bifpn.0.conv_5_out.conv_pw.weight', 'bifpn.0.conv_5_out.bn.weight', 'bifpn.0.conv_5_out.bn.bias', 'bifpn.0.conv_5_out.bn.running_mean', 'bifpn.0.conv_5_out.bn.running_var', 'bifpn.0.conv_5_out.bn.num_batches_tracked', 'bifpn.0.conv_6_out.conv_dw.weight', 'bifpn.0.conv_6_out.conv_pw.weight', 'bifpn.0.conv_6_out.bn.weight', 'bifpn.0.conv_6_out.bn.bias', 'bifpn.0.conv_6_out.bn.running_mean', 'bifpn.0.conv_6_out.bn.running_var', 'bifpn.0.conv_6_out.bn.num_batches_tracked', 'bifpn.0.conv_7_out.conv_dw.weight', 'bifpn.0.conv_7_out.conv_pw.weight', 'bifpn.0.conv_7_out.bn.weight', 'bifpn.0.conv_7_out.bn.bias', 'bifpn.0.conv_7_out.bn.running_mean', 'bifpn.0.conv_7_out.bn.running_var', 'bifpn.0.conv_7_out.bn.num_batches_tracked', 'bifpn.1.weights_4_td', 'bifpn.1.weights_5_td', 'bifpn.1.weights_6_td', 'bifpn.1.weights_3_out', 'bifpn.1.weights_4_out', 'bifpn.1.weights_5_out', 'bifpn.1.weights_6_out', 'bifpn.1.weights_7_out', 'bifpn.1.conv_4_td.conv_dw.weight', 'bifpn.1.conv_4_td.conv_pw.weight', 'bifpn.1.conv_4_td.bn.weight', 'bifpn.1.conv_4_td.bn.bias', 'bifpn.1.conv_4_td.bn.running_mean', 'bifpn.1.conv_4_td.bn.running_var', 'bifpn.1.conv_4_td.bn.num_batches_tracked', 'bifpn.1.conv_5_td.conv_dw.weight', 'bifpn.1.conv_5_td.conv_pw.weight', 'bifpn.1.conv_5_td.bn.weight', 'bifpn.1.conv_5_td.bn.bias', 'bifpn.1.conv_5_td.bn.running_mean', 'bifpn.1.conv_5_td.bn.running_var', 'bifpn.1.conv_5_td.bn.num_batches_tracked', 'bifpn.1.conv_6_td.conv_dw.weight', 'bifpn.1.conv_6_td.conv_pw.weight', 'bifpn.1.conv_6_td.bn.weight', 'bifpn.1.conv_6_td.bn.bias', 'bifpn.1.conv_6_td.bn.running_mean', 'bifpn.1.conv_6_td.bn.running_var', 'bifpn.1.conv_6_td.bn.num_batches_tracked', 'bifpn.1.conv_3_out.conv_dw.weight', 'bifpn.1.conv_3_out.conv_pw.weight', 'bifpn.1.conv_3_out.bn.weight', 'bifpn.1.conv_3_out.bn.bias', 'bifpn.1.conv_3_out.bn.running_mean', 'bifpn.1.conv_3_out.bn.running_var', 'bifpn.1.conv_3_out.bn.num_batches_tracked', 'bifpn.1.conv_4_out.conv_dw.weight', 'bifpn.1.conv_4_out.conv_pw.weight', 'bifpn.1.conv_4_out.bn.weight', 'bifpn.1.conv_4_out.bn.bias', 'bifpn.1.conv_4_out.bn.running_mean', 'bifpn.1.conv_4_out.bn.running_var', 'bifpn.1.conv_4_out.bn.num_batches_tracked', 'bifpn.1.conv_5_out.conv_dw.weight', 'bifpn.1.conv_5_out.conv_pw.weight', 'bifpn.1.conv_5_out.bn.weight', 'bifpn.1.conv_5_out.bn.bias', 'bifpn.1.conv_5_out.bn.running_mean', 'bifpn.1.conv_5_out.bn.running_var', 'bifpn.1.conv_5_out.bn.num_batches_tracked', 'bifpn.1.conv_6_out.conv_dw.weight', 'bifpn.1.conv_6_out.conv_pw.weight', 'bifpn.1.conv_6_out.bn.weight', 'bifpn.1.conv_6_out.bn.bias', 'bifpn.1.conv_6_out.bn.running_mean', 'bifpn.1.conv_6_out.bn.running_var', 'bifpn.1.conv_6_out.bn.num_batches_tracked', 'bifpn.1.conv_7_out.conv_dw.weight', 'bifpn.1.conv_7_out.conv_pw.weight', 'bifpn.1.conv_7_out.bn.weight', 'bifpn.1.conv_7_out.bn.bias', 'bifpn.1.conv_7_out.bn.running_mean', 'bifpn.1.conv_7_out.bn.running_var', 'bifpn.1.conv_7_out.bn.num_batches_tracked', 'bifpn.2.weights_4_td', 'bifpn.2.weights_5_td', 'bifpn.2.weights_6_td', 'bifpn.2.weights_3_out', 'bifpn.2.weights_4_out', 'bifpn.2.weights_5_out', 'bifpn.2.weights_6_out', 'bifpn.2.weights_7_out', 'bifpn.2.conv_4_td.conv_dw.weight', 'bifpn.2.conv_4_td.conv_pw.weight', 'bifpn.2.conv_4_td.bn.weight', 'bifpn.2.conv_4_td.bn.bias', 'bifpn.2.conv_4_td.bn.running_mean', 'bifpn.2.conv_4_td.bn.running_var', 'bifpn.2.conv_4_td.bn.num_batches_tracked', 'bifpn.2.conv_5_td.conv_dw.weight', 'bifpn.2.conv_5_td.conv_pw.weight', 'bifpn.2.conv_5_td.bn.weight', 'bifpn.2.conv_5_td.bn.bias', 'bifpn.2.conv_5_td.bn.running_mean', 'bifpn.2.conv_5_td.bn.running_var', 'bifpn.2.conv_5_td.bn.num_batches_tracked', 'bifpn.2.conv_6_td.conv_dw.weight', 'bifpn.2.conv_6_td.conv_pw.weight', 'bifpn.2.conv_6_td.bn.weight', 'bifpn.2.conv_6_td.bn.bias', 'bifpn.2.conv_6_td.bn.running_mean', 'bifpn.2.conv_6_td.bn.running_var', 'bifpn.2.conv_6_td.bn.num_batches_tracked', 'bifpn.2.conv_3_out.conv_dw.weight', 'bifpn.2.conv_3_out.conv_pw.weight', 'bifpn.2.conv_3_out.bn.weight', 'bifpn.2.conv_3_out.bn.bias', 'bifpn.2.conv_3_out.bn.running_mean', 'bifpn.2.conv_3_out.bn.running_var', 'bifpn.2.conv_3_out.bn.num_batches_tracked', 'bifpn.2.conv_4_out.conv_dw.weight', 'bifpn.2.conv_4_out.conv_pw.weight', 'bifpn.2.conv_4_out.bn.weight', 'bifpn.2.conv_4_out.bn.bias', 'bifpn.2.conv_4_out.bn.running_mean', 'bifpn.2.conv_4_out.bn.running_var', 'bifpn.2.conv_4_out.bn.num_batches_tracked', 'bifpn.2.conv_5_out.conv_dw.weight', 'bifpn.2.conv_5_out.conv_pw.weight', 'bifpn.2.conv_5_out.bn.weight', 'bifpn.2.conv_5_out.bn.bias', 'bifpn.2.conv_5_out.bn.running_mean', 'bifpn.2.conv_5_out.bn.running_var', 'bifpn.2.conv_5_out.bn.num_batches_tracked', 'bifpn.2.conv_6_out.conv_dw.weight', 'bifpn.2.conv_6_out.conv_pw.weight', 'bifpn.2.conv_6_out.bn.weight', 'bifpn.2.conv_6_out.bn.bias', 'bifpn.2.conv_6_out.bn.running_mean', 'bifpn.2.conv_6_out.bn.running_var', 'bifpn.2.conv_6_out.bn.num_batches_tracked', 'bifpn.2.conv_7_out.conv_dw.weight', 'bifpn.2.conv_7_out.conv_pw.weight', 'bifpn.2.conv_7_out.bn.weight', 'bifpn.2.conv_7_out.bn.bias', 'bifpn.2.conv_7_out.bn.running_mean', 'bifpn.2.conv_7_out.bn.running_var', 'bifpn.2.conv_7_out.bn.num_batches_tracked', 'bifpn.3.weights_4_td', 'bifpn.3.weights_5_td', 'bifpn.3.weights_6_td', 'bifpn.3.weights_3_out', 'bifpn.3.weights_4_out', 'bifpn.3.weights_5_out', 'bifpn.3.weights_6_out', 'bifpn.3.weights_7_out', 'bifpn.3.conv_4_td.conv_dw.weight', 'bifpn.3.conv_4_td.conv_pw.weight', 'bifpn.3.conv_4_td.bn.weight', 'bifpn.3.conv_4_td.bn.bias', 'bifpn.3.conv_4_td.bn.running_mean', 'bifpn.3.conv_4_td.bn.running_var', 'bifpn.3.conv_4_td.bn.num_batches_tracked', 'bifpn.3.conv_5_td.conv_dw.weight', 'bifpn.3.conv_5_td.conv_pw.weight', 'bifpn.3.conv_5_td.bn.weight', 'bifpn.3.conv_5_td.bn.bias', 'bifpn.3.conv_5_td.bn.running_mean', 'bifpn.3.conv_5_td.bn.running_var', 'bifpn.3.conv_5_td.bn.num_batches_tracked', 'bifpn.3.conv_6_td.conv_dw.weight', 'bifpn.3.conv_6_td.conv_pw.weight', 'bifpn.3.conv_6_td.bn.weight', 'bifpn.3.conv_6_td.bn.bias', 'bifpn.3.conv_6_td.bn.running_mean', 'bifpn.3.conv_6_td.bn.running_var', 'bifpn.3.conv_6_td.bn.num_batches_tracked', 'bifpn.3.conv_3_out.conv_dw.weight', 'bifpn.3.conv_3_out.conv_pw.weight', 'bifpn.3.conv_3_out.bn.weight', 'bifpn.3.conv_3_out.bn.bias', 'bifpn.3.conv_3_out.bn.running_mean', 'bifpn.3.conv_3_out.bn.running_var', 'bifpn.3.conv_3_out.bn.num_batches_tracked', 'bifpn.3.conv_4_out.conv_dw.weight', 'bifpn.3.conv_4_out.conv_pw.weight', 'bifpn.3.conv_4_out.bn.weight', 'bifpn.3.conv_4_out.bn.bias', 'bifpn.3.conv_4_out.bn.running_mean', 'bifpn.3.conv_4_out.bn.running_var', 'bifpn.3.conv_4_out.bn.num_batches_tracked', 'bifpn.3.conv_5_out.conv_dw.weight', 'bifpn.3.conv_5_out.conv_pw.weight', 'bifpn.3.conv_5_out.bn.weight', 'bifpn.3.conv_5_out.bn.bias', 'bifpn.3.conv_5_out.bn.running_mean', 'bifpn.3.conv_5_out.bn.running_var', 'bifpn.3.conv_5_out.bn.num_batches_tracked', 'bifpn.3.conv_6_out.conv_dw.weight', 'bifpn.3.conv_6_out.conv_pw.weight', 'bifpn.3.conv_6_out.bn.weight', 'bifpn.3.conv_6_out.bn.bias', 'bifpn.3.conv_6_out.bn.running_mean', 'bifpn.3.conv_6_out.bn.running_var', 'bifpn.3.conv_6_out.bn.num_batches_tracked', 'bifpn.3.conv_7_out.conv_dw.weight', 'bifpn.3.conv_7_out.conv_pw.weight', 'bifpn.3.conv_7_out.bn.weight', 'bifpn.3.conv_7_out.bn.bias', 'bifpn.3.conv_7_out.bn.running_mean', 'bifpn.3.conv_7_out.bn.running_var', 'bifpn.3.conv_7_out.bn.num_batches_tracked', 'bifpn.4.weights_4_td', 'bifpn.4.weights_5_td', 'bifpn.4.weights_6_td', 'bifpn.4.weights_3_out', 'bifpn.4.weights_4_out', 'bifpn.4.weights_5_out', 'bifpn.4.weights_6_out', 'bifpn.4.weights_7_out', 'bifpn.4.conv_4_td.conv_dw.weight', 'bifpn.4.conv_4_td.conv_pw.weight', 'bifpn.4.conv_4_td.bn.weight', 'bifpn.4.conv_4_td.bn.bias', 'bifpn.4.conv_4_td.bn.running_mean', 'bifpn.4.conv_4_td.bn.running_var', 'bifpn.4.conv_4_td.bn.num_batches_tracked', 'bifpn.4.conv_5_td.conv_dw.weight', 'bifpn.4.conv_5_td.conv_pw.weight', 'bifpn.4.conv_5_td.bn.weight', 'bifpn.4.conv_5_td.bn.bias', 'bifpn.4.conv_5_td.bn.running_mean', 'bifpn.4.conv_5_td.bn.running_var', 'bifpn.4.conv_5_td.bn.num_batches_tracked', 'bifpn.4.conv_6_td.conv_dw.weight', 'bifpn.4.conv_6_td.conv_pw.weight', 'bifpn.4.conv_6_td.bn.weight', 'bifpn.4.conv_6_td.bn.bias', 'bifpn.4.conv_6_td.bn.running_mean', 'bifpn.4.conv_6_td.bn.running_var', 'bifpn.4.conv_6_td.bn.num_batches_tracked', 'bifpn.4.conv_3_out.conv_dw.weight', 'bifpn.4.conv_3_out.conv_pw.weight', 'bifpn.4.conv_3_out.bn.weight', 'bifpn.4.conv_3_out.bn.bias', 'bifpn.4.conv_3_out.bn.running_mean', 'bifpn.4.conv_3_out.bn.running_var', 'bifpn.4.conv_3_out.bn.num_batches_tracked', 'bifpn.4.conv_4_out.conv_dw.weight', 'bifpn.4.conv_4_out.conv_pw.weight', 'bifpn.4.conv_4_out.bn.weight', 'bifpn.4.conv_4_out.bn.bias', 'bifpn.4.conv_4_out.bn.running_mean', 'bifpn.4.conv_4_out.bn.running_var', 'bifpn.4.conv_4_out.bn.num_batches_tracked', 'bifpn.4.conv_5_out.conv_dw.weight', 'bifpn.4.conv_5_out.conv_pw.weight', 'bifpn.4.conv_5_out.bn.weight', 'bifpn.4.conv_5_out.bn.bias', 'bifpn.4.conv_5_out.bn.running_mean', 'bifpn.4.conv_5_out.bn.running_var', 'bifpn.4.conv_5_out.bn.num_batches_tracked', 'bifpn.4.conv_6_out.conv_dw.weight', 'bifpn.4.conv_6_out.conv_pw.weight', 'bifpn.4.conv_6_out.bn.weight', 'bifpn.4.conv_6_out.bn.bias', 'bifpn.4.conv_6_out.bn.running_mean', 'bifpn.4.conv_6_out.bn.running_var', 'bifpn.4.conv_6_out.bn.num_batches_tracked', 'bifpn.4.conv_7_out.conv_dw.weight', 'bifpn.4.conv_7_out.conv_pw.weight', 'bifpn.4.conv_7_out.bn.weight', 'bifpn.4.conv_7_out.bn.bias', 'bifpn.4.conv_7_out.bn.running_mean', 'bifpn.4.conv_7_out.bn.running_var', 'bifpn.4.conv_7_out.bn.num_batches_tracked', 'bifpn.5.weights_4_td', 'bifpn.5.weights_5_td', 'bifpn.5.weights_6_td', 'bifpn.5.weights_3_out', 'bifpn.5.weights_4_out', 'bifpn.5.weights_5_out', 'bifpn.5.weights_6_out', 'bifpn.5.weights_7_out', 'bifpn.5.conv_4_td.conv_dw.weight', 'bifpn.5.conv_4_td.conv_pw.weight', 'bifpn.5.conv_4_td.bn.weight', 'bifpn.5.conv_4_td.bn.bias', 'bifpn.5.conv_4_td.bn.running_mean', 'bifpn.5.conv_4_td.bn.running_var', 'bifpn.5.conv_4_td.bn.num_batches_tracked', 'bifpn.5.conv_5_td.conv_dw.weight', 'bifpn.5.conv_5_td.conv_pw.weight', 'bifpn.5.conv_5_td.bn.weight', 'bifpn.5.conv_5_td.bn.bias', 'bifpn.5.conv_5_td.bn.running_mean', 'bifpn.5.conv_5_td.bn.running_var', 'bifpn.5.conv_5_td.bn.num_batches_tracked', 'bifpn.5.conv_6_td.conv_dw.weight', 'bifpn.5.conv_6_td.conv_pw.weight', 'bifpn.5.conv_6_td.bn.weight', 'bifpn.5.conv_6_td.bn.bias', 'bifpn.5.conv_6_td.bn.running_mean', 'bifpn.5.conv_6_td.bn.running_var', 'bifpn.5.conv_6_td.bn.num_batches_tracked', 'bifpn.5.conv_3_out.conv_dw.weight', 'bifpn.5.conv_3_out.conv_pw.weight', 'bifpn.5.conv_3_out.bn.weight', 'bifpn.5.conv_3_out.bn.bias', 'bifpn.5.conv_3_out.bn.running_mean', 'bifpn.5.conv_3_out.bn.running_var', 'bifpn.5.conv_3_out.bn.num_batches_tracked', 'bifpn.5.conv_4_out.conv_dw.weight', 'bifpn.5.conv_4_out.conv_pw.weight', 'bifpn.5.conv_4_out.bn.weight', 'bifpn.5.conv_4_out.bn.bias', 'bifpn.5.conv_4_out.bn.running_mean', 'bifpn.5.conv_4_out.bn.running_var', 'bifpn.5.conv_4_out.bn.num_batches_tracked', 'bifpn.5.conv_5_out.conv_dw.weight', 'bifpn.5.conv_5_out.conv_pw.weight', 'bifpn.5.conv_5_out.bn.weight', 'bifpn.5.conv_5_out.bn.bias', 'bifpn.5.conv_5_out.bn.running_mean', 'bifpn.5.conv_5_out.bn.running_var', 'bifpn.5.conv_5_out.bn.num_batches_tracked', 'bifpn.5.conv_6_out.conv_dw.weight', 'bifpn.5.conv_6_out.conv_pw.weight', 'bifpn.5.conv_6_out.bn.weight', 'bifpn.5.conv_6_out.bn.bias', 'bifpn.5.conv_6_out.bn.running_mean', 'bifpn.5.conv_6_out.bn.running_var', 'bifpn.5.conv_6_out.bn.num_batches_tracked', 'bifpn.5.conv_7_out.conv_dw.weight', 'bifpn.5.conv_7_out.conv_pw.weight', 'bifpn.5.conv_7_out.bn.weight', 'bifpn.5.conv_7_out.bn.bias', 'bifpn.5.conv_7_out.bn.running_mean', 'bifpn.5.conv_7_out.bn.running_var', 'bifpn.5.conv_7_out.bn.num_batches_tracked', 'bifpn.6.weights_4_td', 'bifpn.6.weights_5_td', 'bifpn.6.weights_6_td', 'bifpn.6.weights_3_out', 'bifpn.6.weights_4_out', 'bifpn.6.weights_5_out', 'bifpn.6.weights_6_out', 'bifpn.6.weights_7_out', 'bifpn.6.conv_4_td.conv_dw.weight', 'bifpn.6.conv_4_td.conv_pw.weight', 'bifpn.6.conv_4_td.bn.weight', 'bifpn.6.conv_4_td.bn.bias', 'bifpn.6.conv_4_td.bn.running_mean', 'bifpn.6.conv_4_td.bn.running_var', 'bifpn.6.conv_4_td.bn.num_batches_tracked', 'bifpn.6.conv_5_td.conv_dw.weight', 'bifpn.6.conv_5_td.conv_pw.weight', 'bifpn.6.conv_5_td.bn.weight', 'bifpn.6.conv_5_td.bn.bias', 'bifpn.6.conv_5_td.bn.running_mean', 'bifpn.6.conv_5_td.bn.running_var', 'bifpn.6.conv_5_td.bn.num_batches_tracked', 'bifpn.6.conv_6_td.conv_dw.weight', 'bifpn.6.conv_6_td.conv_pw.weight', 'bifpn.6.conv_6_td.bn.weight', 'bifpn.6.conv_6_td.bn.bias', 'bifpn.6.conv_6_td.bn.running_mean', 'bifpn.6.conv_6_td.bn.running_var', 'bifpn.6.conv_6_td.bn.num_batches_tracked', 'bifpn.6.conv_3_out.conv_dw.weight', 'bifpn.6.conv_3_out.conv_pw.weight', 'bifpn.6.conv_3_out.bn.weight', 'bifpn.6.conv_3_out.bn.bias', 'bifpn.6.conv_3_out.bn.running_mean', 'bifpn.6.conv_3_out.bn.running_var', 'bifpn.6.conv_3_out.bn.num_batches_tracked', 'bifpn.6.conv_4_out.conv_dw.weight', 'bifpn.6.conv_4_out.conv_pw.weight', 'bifpn.6.conv_4_out.bn.weight', 'bifpn.6.conv_4_out.bn.bias', 'bifpn.6.conv_4_out.bn.running_mean', 'bifpn.6.conv_4_out.bn.running_var', 'bifpn.6.conv_4_out.bn.num_batches_tracked', 'bifpn.6.conv_5_out.conv_dw.weight', 'bifpn.6.conv_5_out.conv_pw.weight', 'bifpn.6.conv_5_out.bn.weight', 'bifpn.6.conv_5_out.bn.bias', 'bifpn.6.conv_5_out.bn.running_mean', 'bifpn.6.conv_5_out.bn.running_var', 'bifpn.6.conv_5_out.bn.num_batches_tracked', 'bifpn.6.conv_6_out.conv_dw.weight', 'bifpn.6.conv_6_out.conv_pw.weight', 'bifpn.6.conv_6_out.bn.weight', 'bifpn.6.conv_6_out.bn.bias', 'bifpn.6.conv_6_out.bn.running_mean', 'bifpn.6.conv_6_out.bn.running_var', 'bifpn.6.conv_6_out.bn.num_batches_tracked', 'bifpn.6.conv_7_out.conv_dw.weight', 'bifpn.6.conv_7_out.conv_pw.weight', 'bifpn.6.conv_7_out.bn.weight', 'bifpn.6.conv_7_out.bn.bias', 'bifpn.6.conv_7_out.bn.running_mean', 'bifpn.6.conv_7_out.bn.running_var', 'bifpn.6.conv_7_out.bn.num_batches_tracked', 'regresser.convs.0.conv_dw.weight', 'regresser.convs.0.conv_pw.weight', 'regresser.convs.1.conv_dw.weight', 'regresser.convs.1.conv_pw.weight', 'regresser.convs.2.conv_dw.weight', 'regresser.convs.2.conv_pw.weight', 'regresser.convs.3.conv_dw.weight', 'regresser.convs.3.conv_pw.weight', 'regresser.bns.0.0.weight', 'regresser.bns.0.0.bias', 'regresser.bns.0.0.running_mean', 'regresser.bns.0.0.running_var', 'regresser.bns.0.0.num_batches_tracked', 'regresser.bns.0.1.weight', 'regresser.bns.0.1.bias', 'regresser.bns.0.1.running_mean', 'regresser.bns.0.1.running_var', 'regresser.bns.0.1.num_batches_tracked', 'regresser.bns.0.2.weight', 'regresser.bns.0.2.bias', 'regresser.bns.0.2.running_mean', 'regresser.bns.0.2.running_var', 'regresser.bns.0.2.num_batches_tracked', 'regresser.bns.0.3.weight', 'regresser.bns.0.3.bias', 'regresser.bns.0.3.running_mean', 'regresser.bns.0.3.running_var', 'regresser.bns.0.3.num_batches_tracked', 'regresser.bns.0.4.weight', 'regresser.bns.0.4.bias', 'regresser.bns.0.4.running_mean', 'regresser.bns.0.4.running_var', 'regresser.bns.0.4.num_batches_tracked', 'regresser.bns.1.0.weight', 'regresser.bns.1.0.bias', 'regresser.bns.1.0.running_mean', 'regresser.bns.1.0.running_var', 'regresser.bns.1.0.num_batches_tracked', 'regresser.bns.1.1.weight', 'regresser.bns.1.1.bias', 'regresser.bns.1.1.running_mean', 'regresser.bns.1.1.running_var', 'regresser.bns.1.1.num_batches_tracked', 'regresser.bns.1.2.weight', 'regresser.bns.1.2.bias', 'regresser.bns.1.2.running_mean', 'regresser.bns.1.2.running_var', 'regresser.bns.1.2.num_batches_tracked', 'regresser.bns.1.3.weight', 'regresser.bns.1.3.bias', 'regresser.bns.1.3.running_mean', 'regresser.bns.1.3.running_var', 'regresser.bns.1.3.num_batches_tracked', 'regresser.bns.1.4.weight', 'regresser.bns.1.4.bias', 'regresser.bns.1.4.running_mean', 'regresser.bns.1.4.running_var', 'regresser.bns.1.4.num_batches_tracked', 'regresser.bns.2.0.weight', 'regresser.bns.2.0.bias', 'regresser.bns.2.0.running_mean', 'regresser.bns.2.0.running_var', 'regresser.bns.2.0.num_batches_tracked', 'regresser.bns.2.1.weight', 'regresser.bns.2.1.bias', 'regresser.bns.2.1.running_mean', 'regresser.bns.2.1.running_var', 'regresser.bns.2.1.num_batches_tracked', 'regresser.bns.2.2.weight', 'regresser.bns.2.2.bias', 'regresser.bns.2.2.running_mean', 'regresser.bns.2.2.running_var', 'regresser.bns.2.2.num_batches_tracked', 'regresser.bns.2.3.weight', 'regresser.bns.2.3.bias', 'regresser.bns.2.3.running_mean', 'regresser.bns.2.3.running_var', 'regresser.bns.2.3.num_batches_tracked', 'regresser.bns.2.4.weight', 'regresser.bns.2.4.bias', 'regresser.bns.2.4.running_mean', 'regresser.bns.2.4.running_var', 'regresser.bns.2.4.num_batches_tracked', 'regresser.bns.3.0.weight', 'regresser.bns.3.0.bias', 'regresser.bns.3.0.running_mean', 'regresser.bns.3.0.running_var', 'regresser.bns.3.0.num_batches_tracked', 'regresser.bns.3.1.weight', 'regresser.bns.3.1.bias', 'regresser.bns.3.1.running_mean', 'regresser.bns.3.1.running_var', 'regresser.bns.3.1.num_batches_tracked', 'regresser.bns.3.2.weight', 'regresser.bns.3.2.bias', 'regresser.bns.3.2.running_mean', 'regresser.bns.3.2.running_var', 'regresser.bns.3.2.num_batches_tracked', 'regresser.bns.3.3.weight', 'regresser.bns.3.3.bias', 'regresser.bns.3.3.running_mean', 'regresser.bns.3.3.running_var', 'regresser.bns.3.3.num_batches_tracked', 'regresser.bns.3.4.weight', 'regresser.bns.3.4.bias', 'regresser.bns.3.4.running_mean', 'regresser.bns.3.4.running_var', 'regresser.bns.3.4.num_batches_tracked', 'regresser.head.conv_dw.weight', 'regresser.head.conv_pw.weight', 'regresser.head.conv_pw.bias', 'classifier.convs.0.conv_dw.weight', 'classifier.convs.0.conv_pw.weight', 'classifier.convs.1.conv_dw.weight', 'classifier.convs.1.conv_pw.weight', 'classifier.convs.2.conv_dw.weight', 'classifier.convs.2.conv_pw.weight', 'classifier.convs.3.conv_dw.weight', 'classifier.convs.3.conv_pw.weight', 'classifier.bns.0.0.weight', 'classifier.bns.0.0.bias', 'classifier.bns.0.0.running_mean', 'classifier.bns.0.0.running_var', 'classifier.bns.0.0.num_batches_tracked', 'classifier.bns.0.1.weight', 'classifier.bns.0.1.bias', 'classifier.bns.0.1.running_mean', 'classifier.bns.0.1.running_var', 'classifier.bns.0.1.num_batches_tracked', 'classifier.bns.0.2.weight', 'classifier.bns.0.2.bias', 'classifier.bns.0.2.running_mean', 'classifier.bns.0.2.running_var', 'classifier.bns.0.2.num_batches_tracked', 'classifier.bns.0.3.weight', 'classifier.bns.0.3.bias', 'classifier.bns.0.3.running_mean', 'classifier.bns.0.3.running_var', 'classifier.bns.0.3.num_batches_tracked', 'classifier.bns.0.4.weight', 'classifier.bns.0.4.bias', 'classifier.bns.0.4.running_mean', 'classifier.bns.0.4.running_var', 'classifier.bns.0.4.num_batches_tracked', 'classifier.bns.1.0.weight', 'classifier.bns.1.0.bias', 'classifier.bns.1.0.running_mean', 'classifier.bns.1.0.running_var', 'classifier.bns.1.0.num_batches_tracked', 'classifier.bns.1.1.weight', 'classifier.bns.1.1.bias', 'classifier.bns.1.1.running_mean', 'classifier.bns.1.1.running_var', 'classifier.bns.1.1.num_batches_tracked', 'classifier.bns.1.2.weight', 'classifier.bns.1.2.bias', 'classifier.bns.1.2.running_mean', 'classifier.bns.1.2.running_var', 'classifier.bns.1.2.num_batches_tracked', 'classifier.bns.1.3.weight', 'classifier.bns.1.3.bias', 'classifier.bns.1.3.running_mean', 'classifier.bns.1.3.running_var', 'classifier.bns.1.3.num_batches_tracked', 'classifier.bns.1.4.weight', 'classifier.bns.1.4.bias', 'classifier.bns.1.4.running_mean', 'classifier.bns.1.4.running_var', 'classifier.bns.1.4.num_batches_tracked', 'classifier.bns.2.0.weight', 'classifier.bns.2.0.bias', 'classifier.bns.2.0.running_mean', 'classifier.bns.2.0.running_var', 'classifier.bns.2.0.num_batches_tracked', 'classifier.bns.2.1.weight', 'classifier.bns.2.1.bias', 'classifier.bns.2.1.running_mean', 'classifier.bns.2.1.running_var', 'classifier.bns.2.1.num_batches_tracked', 'classifier.bns.2.2.weight', 'classifier.bns.2.2.bias', 'classifier.bns.2.2.running_mean', 'classifier.bns.2.2.running_var', 'classifier.bns.2.2.num_batches_tracked', 'classifier.bns.2.3.weight', 'classifier.bns.2.3.bias', 'classifier.bns.2.3.running_mean', 'classifier.bns.2.3.running_var', 'classifier.bns.2.3.num_batches_tracked', 'classifier.bns.2.4.weight', 'classifier.bns.2.4.bias', 'classifier.bns.2.4.running_mean', 'classifier.bns.2.4.running_var', 'classifier.bns.2.4.num_batches_tracked', 'classifier.bns.3.0.weight', 'classifier.bns.3.0.bias', 'classifier.bns.3.0.running_mean', 'classifier.bns.3.0.running_var', 'classifier.bns.3.0.num_batches_tracked', 'classifier.bns.3.1.weight', 'classifier.bns.3.1.bias', 'classifier.bns.3.1.running_mean', 'classifier.bns.3.1.running_var', 'classifier.bns.3.1.num_batches_tracked', 'classifier.bns.3.2.weight', 'classifier.bns.3.2.bias', 'classifier.bns.3.2.running_mean', 'classifier.bns.3.2.running_var', 'classifier.bns.3.2.num_batches_tracked', 'classifier.bns.3.3.weight', 'classifier.bns.3.3.bias', 'classifier.bns.3.3.running_mean', 'classifier.bns.3.3.running_var', 'classifier.bns.3.3.num_batches_tracked', 'classifier.bns.3.4.weight', 'classifier.bns.3.4.bias', 'classifier.bns.3.4.running_mean', 'classifier.bns.3.4.running_var', 'classifier.bns.3.4.num_batches_tracked', 'classifier.head.conv_dw.weight', 'classifier.head.conv_pw.weight', 'classifier.head.conv_pw.bias'])"
      ]
     },
     "execution_count": 420,
     "metadata": {},
     "output_type": "execute_result"
    }
   ],
   "source": [
    "to.keys()"
   ]
  },
  {
   "cell_type": "code",
   "execution_count": 421,
   "metadata": {},
   "outputs": [
    {
     "data": {
      "text/plain": [
       "odict_keys(['backbone.conv_stem.weight', 'backbone.bn1.weight', 'backbone.bn1.bias', 'backbone.bn1.running_mean', 'backbone.bn1.running_var', 'backbone.bn1.num_batches_tracked', 'backbone.blocks.0.0.conv_dw.weight', 'backbone.blocks.0.0.bn1.weight', 'backbone.blocks.0.0.bn1.bias', 'backbone.blocks.0.0.bn1.running_mean', 'backbone.blocks.0.0.bn1.running_var', 'backbone.blocks.0.0.bn1.num_batches_tracked', 'backbone.blocks.0.0.se.conv_reduce.weight', 'backbone.blocks.0.0.se.conv_reduce.bias', 'backbone.blocks.0.0.se.conv_expand.weight', 'backbone.blocks.0.0.se.conv_expand.bias', 'backbone.blocks.0.0.conv_pw.weight', 'backbone.blocks.0.0.bn2.weight', 'backbone.blocks.0.0.bn2.bias', 'backbone.blocks.0.0.bn2.running_mean', 'backbone.blocks.0.0.bn2.running_var', 'backbone.blocks.0.0.bn2.num_batches_tracked', 'backbone.blocks.0.1.conv_dw.weight', 'backbone.blocks.0.1.bn1.weight', 'backbone.blocks.0.1.bn1.bias', 'backbone.blocks.0.1.bn1.running_mean', 'backbone.blocks.0.1.bn1.running_var', 'backbone.blocks.0.1.bn1.num_batches_tracked', 'backbone.blocks.0.1.se.conv_reduce.weight', 'backbone.blocks.0.1.se.conv_reduce.bias', 'backbone.blocks.0.1.se.conv_expand.weight', 'backbone.blocks.0.1.se.conv_expand.bias', 'backbone.blocks.0.1.conv_pw.weight', 'backbone.blocks.0.1.bn2.weight', 'backbone.blocks.0.1.bn2.bias', 'backbone.blocks.0.1.bn2.running_mean', 'backbone.blocks.0.1.bn2.running_var', 'backbone.blocks.0.1.bn2.num_batches_tracked', 'backbone.blocks.0.2.conv_dw.weight', 'backbone.blocks.0.2.bn1.weight', 'backbone.blocks.0.2.bn1.bias', 'backbone.blocks.0.2.bn1.running_mean', 'backbone.blocks.0.2.bn1.running_var', 'backbone.blocks.0.2.bn1.num_batches_tracked', 'backbone.blocks.0.2.se.conv_reduce.weight', 'backbone.blocks.0.2.se.conv_reduce.bias', 'backbone.blocks.0.2.se.conv_expand.weight', 'backbone.blocks.0.2.se.conv_expand.bias', 'backbone.blocks.0.2.conv_pw.weight', 'backbone.blocks.0.2.bn2.weight', 'backbone.blocks.0.2.bn2.bias', 'backbone.blocks.0.2.bn2.running_mean', 'backbone.blocks.0.2.bn2.running_var', 'backbone.blocks.0.2.bn2.num_batches_tracked', 'backbone.blocks.1.0.conv_pw.weight', 'backbone.blocks.1.0.bn1.weight', 'backbone.blocks.1.0.bn1.bias', 'backbone.blocks.1.0.bn1.running_mean', 'backbone.blocks.1.0.bn1.running_var', 'backbone.blocks.1.0.bn1.num_batches_tracked', 'backbone.blocks.1.0.conv_dw.weight', 'backbone.blocks.1.0.bn2.weight', 'backbone.blocks.1.0.bn2.bias', 'backbone.blocks.1.0.bn2.running_mean', 'backbone.blocks.1.0.bn2.running_var', 'backbone.blocks.1.0.bn2.num_batches_tracked', 'backbone.blocks.1.0.se.conv_reduce.weight', 'backbone.blocks.1.0.se.conv_reduce.bias', 'backbone.blocks.1.0.se.conv_expand.weight', 'backbone.blocks.1.0.se.conv_expand.bias', 'backbone.blocks.1.0.conv_pwl.weight', 'backbone.blocks.1.0.bn3.weight', 'backbone.blocks.1.0.bn3.bias', 'backbone.blocks.1.0.bn3.running_mean', 'backbone.blocks.1.0.bn3.running_var', 'backbone.blocks.1.0.bn3.num_batches_tracked', 'backbone.blocks.1.1.conv_pw.weight', 'backbone.blocks.1.1.bn1.weight', 'backbone.blocks.1.1.bn1.bias', 'backbone.blocks.1.1.bn1.running_mean', 'backbone.blocks.1.1.bn1.running_var', 'backbone.blocks.1.1.bn1.num_batches_tracked', 'backbone.blocks.1.1.conv_dw.weight', 'backbone.blocks.1.1.bn2.weight', 'backbone.blocks.1.1.bn2.bias', 'backbone.blocks.1.1.bn2.running_mean', 'backbone.blocks.1.1.bn2.running_var', 'backbone.blocks.1.1.bn2.num_batches_tracked', 'backbone.blocks.1.1.se.conv_reduce.weight', 'backbone.blocks.1.1.se.conv_reduce.bias', 'backbone.blocks.1.1.se.conv_expand.weight', 'backbone.blocks.1.1.se.conv_expand.bias', 'backbone.blocks.1.1.conv_pwl.weight', 'backbone.blocks.1.1.bn3.weight', 'backbone.blocks.1.1.bn3.bias', 'backbone.blocks.1.1.bn3.running_mean', 'backbone.blocks.1.1.bn3.running_var', 'backbone.blocks.1.1.bn3.num_batches_tracked', 'backbone.blocks.1.2.conv_pw.weight', 'backbone.blocks.1.2.bn1.weight', 'backbone.blocks.1.2.bn1.bias', 'backbone.blocks.1.2.bn1.running_mean', 'backbone.blocks.1.2.bn1.running_var', 'backbone.blocks.1.2.bn1.num_batches_tracked', 'backbone.blocks.1.2.conv_dw.weight', 'backbone.blocks.1.2.bn2.weight', 'backbone.blocks.1.2.bn2.bias', 'backbone.blocks.1.2.bn2.running_mean', 'backbone.blocks.1.2.bn2.running_var', 'backbone.blocks.1.2.bn2.num_batches_tracked', 'backbone.blocks.1.2.se.conv_reduce.weight', 'backbone.blocks.1.2.se.conv_reduce.bias', 'backbone.blocks.1.2.se.conv_expand.weight', 'backbone.blocks.1.2.se.conv_expand.bias', 'backbone.blocks.1.2.conv_pwl.weight', 'backbone.blocks.1.2.bn3.weight', 'backbone.blocks.1.2.bn3.bias', 'backbone.blocks.1.2.bn3.running_mean', 'backbone.blocks.1.2.bn3.running_var', 'backbone.blocks.1.2.bn3.num_batches_tracked', 'backbone.blocks.1.3.conv_pw.weight', 'backbone.blocks.1.3.bn1.weight', 'backbone.blocks.1.3.bn1.bias', 'backbone.blocks.1.3.bn1.running_mean', 'backbone.blocks.1.3.bn1.running_var', 'backbone.blocks.1.3.bn1.num_batches_tracked', 'backbone.blocks.1.3.conv_dw.weight', 'backbone.blocks.1.3.bn2.weight', 'backbone.blocks.1.3.bn2.bias', 'backbone.blocks.1.3.bn2.running_mean', 'backbone.blocks.1.3.bn2.running_var', 'backbone.blocks.1.3.bn2.num_batches_tracked', 'backbone.blocks.1.3.se.conv_reduce.weight', 'backbone.blocks.1.3.se.conv_reduce.bias', 'backbone.blocks.1.3.se.conv_expand.weight', 'backbone.blocks.1.3.se.conv_expand.bias', 'backbone.blocks.1.3.conv_pwl.weight', 'backbone.blocks.1.3.bn3.weight', 'backbone.blocks.1.3.bn3.bias', 'backbone.blocks.1.3.bn3.running_mean', 'backbone.blocks.1.3.bn3.running_var', 'backbone.blocks.1.3.bn3.num_batches_tracked', 'backbone.blocks.1.4.conv_pw.weight', 'backbone.blocks.1.4.bn1.weight', 'backbone.blocks.1.4.bn1.bias', 'backbone.blocks.1.4.bn1.running_mean', 'backbone.blocks.1.4.bn1.running_var', 'backbone.blocks.1.4.bn1.num_batches_tracked', 'backbone.blocks.1.4.conv_dw.weight', 'backbone.blocks.1.4.bn2.weight', 'backbone.blocks.1.4.bn2.bias', 'backbone.blocks.1.4.bn2.running_mean', 'backbone.blocks.1.4.bn2.running_var', 'backbone.blocks.1.4.bn2.num_batches_tracked', 'backbone.blocks.1.4.se.conv_reduce.weight', 'backbone.blocks.1.4.se.conv_reduce.bias', 'backbone.blocks.1.4.se.conv_expand.weight', 'backbone.blocks.1.4.se.conv_expand.bias', 'backbone.blocks.1.4.conv_pwl.weight', 'backbone.blocks.1.4.bn3.weight', 'backbone.blocks.1.4.bn3.bias', 'backbone.blocks.1.4.bn3.running_mean', 'backbone.blocks.1.4.bn3.running_var', 'backbone.blocks.1.4.bn3.num_batches_tracked', 'backbone.blocks.2.0.conv_pw.weight', 'backbone.blocks.2.0.bn1.weight', 'backbone.blocks.2.0.bn1.bias', 'backbone.blocks.2.0.bn1.running_mean', 'backbone.blocks.2.0.bn1.running_var', 'backbone.blocks.2.0.bn1.num_batches_tracked', 'backbone.blocks.2.0.conv_dw.weight', 'backbone.blocks.2.0.bn2.weight', 'backbone.blocks.2.0.bn2.bias', 'backbone.blocks.2.0.bn2.running_mean', 'backbone.blocks.2.0.bn2.running_var', 'backbone.blocks.2.0.bn2.num_batches_tracked', 'backbone.blocks.2.0.se.conv_reduce.weight', 'backbone.blocks.2.0.se.conv_reduce.bias', 'backbone.blocks.2.0.se.conv_expand.weight', 'backbone.blocks.2.0.se.conv_expand.bias', 'backbone.blocks.2.0.conv_pwl.weight', 'backbone.blocks.2.0.bn3.weight', 'backbone.blocks.2.0.bn3.bias', 'backbone.blocks.2.0.bn3.running_mean', 'backbone.blocks.2.0.bn3.running_var', 'backbone.blocks.2.0.bn3.num_batches_tracked', 'backbone.blocks.2.1.conv_pw.weight', 'backbone.blocks.2.1.bn1.weight', 'backbone.blocks.2.1.bn1.bias', 'backbone.blocks.2.1.bn1.running_mean', 'backbone.blocks.2.1.bn1.running_var', 'backbone.blocks.2.1.bn1.num_batches_tracked', 'backbone.blocks.2.1.conv_dw.weight', 'backbone.blocks.2.1.bn2.weight', 'backbone.blocks.2.1.bn2.bias', 'backbone.blocks.2.1.bn2.running_mean', 'backbone.blocks.2.1.bn2.running_var', 'backbone.blocks.2.1.bn2.num_batches_tracked', 'backbone.blocks.2.1.se.conv_reduce.weight', 'backbone.blocks.2.1.se.conv_reduce.bias', 'backbone.blocks.2.1.se.conv_expand.weight', 'backbone.blocks.2.1.se.conv_expand.bias', 'backbone.blocks.2.1.conv_pwl.weight', 'backbone.blocks.2.1.bn3.weight', 'backbone.blocks.2.1.bn3.bias', 'backbone.blocks.2.1.bn3.running_mean', 'backbone.blocks.2.1.bn3.running_var', 'backbone.blocks.2.1.bn3.num_batches_tracked', 'backbone.blocks.2.2.conv_pw.weight', 'backbone.blocks.2.2.bn1.weight', 'backbone.blocks.2.2.bn1.bias', 'backbone.blocks.2.2.bn1.running_mean', 'backbone.blocks.2.2.bn1.running_var', 'backbone.blocks.2.2.bn1.num_batches_tracked', 'backbone.blocks.2.2.conv_dw.weight', 'backbone.blocks.2.2.bn2.weight', 'backbone.blocks.2.2.bn2.bias', 'backbone.blocks.2.2.bn2.running_mean', 'backbone.blocks.2.2.bn2.running_var', 'backbone.blocks.2.2.bn2.num_batches_tracked', 'backbone.blocks.2.2.se.conv_reduce.weight', 'backbone.blocks.2.2.se.conv_reduce.bias', 'backbone.blocks.2.2.se.conv_expand.weight', 'backbone.blocks.2.2.se.conv_expand.bias', 'backbone.blocks.2.2.conv_pwl.weight', 'backbone.blocks.2.2.bn3.weight', 'backbone.blocks.2.2.bn3.bias', 'backbone.blocks.2.2.bn3.running_mean', 'backbone.blocks.2.2.bn3.running_var', 'backbone.blocks.2.2.bn3.num_batches_tracked', 'backbone.blocks.2.3.conv_pw.weight', 'backbone.blocks.2.3.bn1.weight', 'backbone.blocks.2.3.bn1.bias', 'backbone.blocks.2.3.bn1.running_mean', 'backbone.blocks.2.3.bn1.running_var', 'backbone.blocks.2.3.bn1.num_batches_tracked', 'backbone.blocks.2.3.conv_dw.weight', 'backbone.blocks.2.3.bn2.weight', 'backbone.blocks.2.3.bn2.bias', 'backbone.blocks.2.3.bn2.running_mean', 'backbone.blocks.2.3.bn2.running_var', 'backbone.blocks.2.3.bn2.num_batches_tracked', 'backbone.blocks.2.3.se.conv_reduce.weight', 'backbone.blocks.2.3.se.conv_reduce.bias', 'backbone.blocks.2.3.se.conv_expand.weight', 'backbone.blocks.2.3.se.conv_expand.bias', 'backbone.blocks.2.3.conv_pwl.weight', 'backbone.blocks.2.3.bn3.weight', 'backbone.blocks.2.3.bn3.bias', 'backbone.blocks.2.3.bn3.running_mean', 'backbone.blocks.2.3.bn3.running_var', 'backbone.blocks.2.3.bn3.num_batches_tracked', 'backbone.blocks.2.4.conv_pw.weight', 'backbone.blocks.2.4.bn1.weight', 'backbone.blocks.2.4.bn1.bias', 'backbone.blocks.2.4.bn1.running_mean', 'backbone.blocks.2.4.bn1.running_var', 'backbone.blocks.2.4.bn1.num_batches_tracked', 'backbone.blocks.2.4.conv_dw.weight', 'backbone.blocks.2.4.bn2.weight', 'backbone.blocks.2.4.bn2.bias', 'backbone.blocks.2.4.bn2.running_mean', 'backbone.blocks.2.4.bn2.running_var', 'backbone.blocks.2.4.bn2.num_batches_tracked', 'backbone.blocks.2.4.se.conv_reduce.weight', 'backbone.blocks.2.4.se.conv_reduce.bias', 'backbone.blocks.2.4.se.conv_expand.weight', 'backbone.blocks.2.4.se.conv_expand.bias', 'backbone.blocks.2.4.conv_pwl.weight', 'backbone.blocks.2.4.bn3.weight', 'backbone.blocks.2.4.bn3.bias', 'backbone.blocks.2.4.bn3.running_mean', 'backbone.blocks.2.4.bn3.running_var', 'backbone.blocks.2.4.bn3.num_batches_tracked', 'backbone.blocks.3.0.conv_pw.weight', 'backbone.blocks.3.0.bn1.weight', 'backbone.blocks.3.0.bn1.bias', 'backbone.blocks.3.0.bn1.running_mean', 'backbone.blocks.3.0.bn1.running_var', 'backbone.blocks.3.0.bn1.num_batches_tracked', 'backbone.blocks.3.0.conv_dw.weight', 'backbone.blocks.3.0.bn2.weight', 'backbone.blocks.3.0.bn2.bias', 'backbone.blocks.3.0.bn2.running_mean', 'backbone.blocks.3.0.bn2.running_var', 'backbone.blocks.3.0.bn2.num_batches_tracked', 'backbone.blocks.3.0.se.conv_reduce.weight', 'backbone.blocks.3.0.se.conv_reduce.bias', 'backbone.blocks.3.0.se.conv_expand.weight', 'backbone.blocks.3.0.se.conv_expand.bias', 'backbone.blocks.3.0.conv_pwl.weight', 'backbone.blocks.3.0.bn3.weight', 'backbone.blocks.3.0.bn3.bias', 'backbone.blocks.3.0.bn3.running_mean', 'backbone.blocks.3.0.bn3.running_var', 'backbone.blocks.3.0.bn3.num_batches_tracked', 'backbone.blocks.3.1.conv_pw.weight', 'backbone.blocks.3.1.bn1.weight', 'backbone.blocks.3.1.bn1.bias', 'backbone.blocks.3.1.bn1.running_mean', 'backbone.blocks.3.1.bn1.running_var', 'backbone.blocks.3.1.bn1.num_batches_tracked', 'backbone.blocks.3.1.conv_dw.weight', 'backbone.blocks.3.1.bn2.weight', 'backbone.blocks.3.1.bn2.bias', 'backbone.blocks.3.1.bn2.running_mean', 'backbone.blocks.3.1.bn2.running_var', 'backbone.blocks.3.1.bn2.num_batches_tracked', 'backbone.blocks.3.1.se.conv_reduce.weight', 'backbone.blocks.3.1.se.conv_reduce.bias', 'backbone.blocks.3.1.se.conv_expand.weight', 'backbone.blocks.3.1.se.conv_expand.bias', 'backbone.blocks.3.1.conv_pwl.weight', 'backbone.blocks.3.1.bn3.weight', 'backbone.blocks.3.1.bn3.bias', 'backbone.blocks.3.1.bn3.running_mean', 'backbone.blocks.3.1.bn3.running_var', 'backbone.blocks.3.1.bn3.num_batches_tracked', 'backbone.blocks.3.2.conv_pw.weight', 'backbone.blocks.3.2.bn1.weight', 'backbone.blocks.3.2.bn1.bias', 'backbone.blocks.3.2.bn1.running_mean', 'backbone.blocks.3.2.bn1.running_var', 'backbone.blocks.3.2.bn1.num_batches_tracked', 'backbone.blocks.3.2.conv_dw.weight', 'backbone.blocks.3.2.bn2.weight', 'backbone.blocks.3.2.bn2.bias', 'backbone.blocks.3.2.bn2.running_mean', 'backbone.blocks.3.2.bn2.running_var', 'backbone.blocks.3.2.bn2.num_batches_tracked', 'backbone.blocks.3.2.se.conv_reduce.weight', 'backbone.blocks.3.2.se.conv_reduce.bias', 'backbone.blocks.3.2.se.conv_expand.weight', 'backbone.blocks.3.2.se.conv_expand.bias', 'backbone.blocks.3.2.conv_pwl.weight', 'backbone.blocks.3.2.bn3.weight', 'backbone.blocks.3.2.bn3.bias', 'backbone.blocks.3.2.bn3.running_mean', 'backbone.blocks.3.2.bn3.running_var', 'backbone.blocks.3.2.bn3.num_batches_tracked', 'backbone.blocks.3.3.conv_pw.weight', 'backbone.blocks.3.3.bn1.weight', 'backbone.blocks.3.3.bn1.bias', 'backbone.blocks.3.3.bn1.running_mean', 'backbone.blocks.3.3.bn1.running_var', 'backbone.blocks.3.3.bn1.num_batches_tracked', 'backbone.blocks.3.3.conv_dw.weight', 'backbone.blocks.3.3.bn2.weight', 'backbone.blocks.3.3.bn2.bias', 'backbone.blocks.3.3.bn2.running_mean', 'backbone.blocks.3.3.bn2.running_var', 'backbone.blocks.3.3.bn2.num_batches_tracked', 'backbone.blocks.3.3.se.conv_reduce.weight', 'backbone.blocks.3.3.se.conv_reduce.bias', 'backbone.blocks.3.3.se.conv_expand.weight', 'backbone.blocks.3.3.se.conv_expand.bias', 'backbone.blocks.3.3.conv_pwl.weight', 'backbone.blocks.3.3.bn3.weight', 'backbone.blocks.3.3.bn3.bias', 'backbone.blocks.3.3.bn3.running_mean', 'backbone.blocks.3.3.bn3.running_var', 'backbone.blocks.3.3.bn3.num_batches_tracked', 'backbone.blocks.3.4.conv_pw.weight', 'backbone.blocks.3.4.bn1.weight', 'backbone.blocks.3.4.bn1.bias', 'backbone.blocks.3.4.bn1.running_mean', 'backbone.blocks.3.4.bn1.running_var', 'backbone.blocks.3.4.bn1.num_batches_tracked', 'backbone.blocks.3.4.conv_dw.weight', 'backbone.blocks.3.4.bn2.weight', 'backbone.blocks.3.4.bn2.bias', 'backbone.blocks.3.4.bn2.running_mean', 'backbone.blocks.3.4.bn2.running_var', 'backbone.blocks.3.4.bn2.num_batches_tracked', 'backbone.blocks.3.4.se.conv_reduce.weight', 'backbone.blocks.3.4.se.conv_reduce.bias', 'backbone.blocks.3.4.se.conv_expand.weight', 'backbone.blocks.3.4.se.conv_expand.bias', 'backbone.blocks.3.4.conv_pwl.weight', 'backbone.blocks.3.4.bn3.weight', 'backbone.blocks.3.4.bn3.bias', 'backbone.blocks.3.4.bn3.running_mean', 'backbone.blocks.3.4.bn3.running_var', 'backbone.blocks.3.4.bn3.num_batches_tracked', 'backbone.blocks.3.5.conv_pw.weight', 'backbone.blocks.3.5.bn1.weight', 'backbone.blocks.3.5.bn1.bias', 'backbone.blocks.3.5.bn1.running_mean', 'backbone.blocks.3.5.bn1.running_var', 'backbone.blocks.3.5.bn1.num_batches_tracked', 'backbone.blocks.3.5.conv_dw.weight', 'backbone.blocks.3.5.bn2.weight', 'backbone.blocks.3.5.bn2.bias', 'backbone.blocks.3.5.bn2.running_mean', 'backbone.blocks.3.5.bn2.running_var', 'backbone.blocks.3.5.bn2.num_batches_tracked', 'backbone.blocks.3.5.se.conv_reduce.weight', 'backbone.blocks.3.5.se.conv_reduce.bias', 'backbone.blocks.3.5.se.conv_expand.weight', 'backbone.blocks.3.5.se.conv_expand.bias', 'backbone.blocks.3.5.conv_pwl.weight', 'backbone.blocks.3.5.bn3.weight', 'backbone.blocks.3.5.bn3.bias', 'backbone.blocks.3.5.bn3.running_mean', 'backbone.blocks.3.5.bn3.running_var', 'backbone.blocks.3.5.bn3.num_batches_tracked', 'backbone.blocks.3.6.conv_pw.weight', 'backbone.blocks.3.6.bn1.weight', 'backbone.blocks.3.6.bn1.bias', 'backbone.blocks.3.6.bn1.running_mean', 'backbone.blocks.3.6.bn1.running_var', 'backbone.blocks.3.6.bn1.num_batches_tracked', 'backbone.blocks.3.6.conv_dw.weight', 'backbone.blocks.3.6.bn2.weight', 'backbone.blocks.3.6.bn2.bias', 'backbone.blocks.3.6.bn2.running_mean', 'backbone.blocks.3.6.bn2.running_var', 'backbone.blocks.3.6.bn2.num_batches_tracked', 'backbone.blocks.3.6.se.conv_reduce.weight', 'backbone.blocks.3.6.se.conv_reduce.bias', 'backbone.blocks.3.6.se.conv_expand.weight', 'backbone.blocks.3.6.se.conv_expand.bias', 'backbone.blocks.3.6.conv_pwl.weight', 'backbone.blocks.3.6.bn3.weight', 'backbone.blocks.3.6.bn3.bias', 'backbone.blocks.3.6.bn3.running_mean', 'backbone.blocks.3.6.bn3.running_var', 'backbone.blocks.3.6.bn3.num_batches_tracked', 'backbone.blocks.4.0.conv_pw.weight', 'backbone.blocks.4.0.bn1.weight', 'backbone.blocks.4.0.bn1.bias', 'backbone.blocks.4.0.bn1.running_mean', 'backbone.blocks.4.0.bn1.running_var', 'backbone.blocks.4.0.bn1.num_batches_tracked', 'backbone.blocks.4.0.conv_dw.weight', 'backbone.blocks.4.0.bn2.weight', 'backbone.blocks.4.0.bn2.bias', 'backbone.blocks.4.0.bn2.running_mean', 'backbone.blocks.4.0.bn2.running_var', 'backbone.blocks.4.0.bn2.num_batches_tracked', 'backbone.blocks.4.0.se.conv_reduce.weight', 'backbone.blocks.4.0.se.conv_reduce.bias', 'backbone.blocks.4.0.se.conv_expand.weight', 'backbone.blocks.4.0.se.conv_expand.bias', 'backbone.blocks.4.0.conv_pwl.weight', 'backbone.blocks.4.0.bn3.weight', 'backbone.blocks.4.0.bn3.bias', 'backbone.blocks.4.0.bn3.running_mean', 'backbone.blocks.4.0.bn3.running_var', 'backbone.blocks.4.0.bn3.num_batches_tracked', 'backbone.blocks.4.1.conv_pw.weight', 'backbone.blocks.4.1.bn1.weight', 'backbone.blocks.4.1.bn1.bias', 'backbone.blocks.4.1.bn1.running_mean', 'backbone.blocks.4.1.bn1.running_var', 'backbone.blocks.4.1.bn1.num_batches_tracked', 'backbone.blocks.4.1.conv_dw.weight', 'backbone.blocks.4.1.bn2.weight', 'backbone.blocks.4.1.bn2.bias', 'backbone.blocks.4.1.bn2.running_mean', 'backbone.blocks.4.1.bn2.running_var', 'backbone.blocks.4.1.bn2.num_batches_tracked', 'backbone.blocks.4.1.se.conv_reduce.weight', 'backbone.blocks.4.1.se.conv_reduce.bias', 'backbone.blocks.4.1.se.conv_expand.weight', 'backbone.blocks.4.1.se.conv_expand.bias', 'backbone.blocks.4.1.conv_pwl.weight', 'backbone.blocks.4.1.bn3.weight', 'backbone.blocks.4.1.bn3.bias', 'backbone.blocks.4.1.bn3.running_mean', 'backbone.blocks.4.1.bn3.running_var', 'backbone.blocks.4.1.bn3.num_batches_tracked', 'backbone.blocks.4.2.conv_pw.weight', 'backbone.blocks.4.2.bn1.weight', 'backbone.blocks.4.2.bn1.bias', 'backbone.blocks.4.2.bn1.running_mean', 'backbone.blocks.4.2.bn1.running_var', 'backbone.blocks.4.2.bn1.num_batches_tracked', 'backbone.blocks.4.2.conv_dw.weight', 'backbone.blocks.4.2.bn2.weight', 'backbone.blocks.4.2.bn2.bias', 'backbone.blocks.4.2.bn2.running_mean', 'backbone.blocks.4.2.bn2.running_var', 'backbone.blocks.4.2.bn2.num_batches_tracked', 'backbone.blocks.4.2.se.conv_reduce.weight', 'backbone.blocks.4.2.se.conv_reduce.bias', 'backbone.blocks.4.2.se.conv_expand.weight', 'backbone.blocks.4.2.se.conv_expand.bias', 'backbone.blocks.4.2.conv_pwl.weight', 'backbone.blocks.4.2.bn3.weight', 'backbone.blocks.4.2.bn3.bias', 'backbone.blocks.4.2.bn3.running_mean', 'backbone.blocks.4.2.bn3.running_var', 'backbone.blocks.4.2.bn3.num_batches_tracked', 'backbone.blocks.4.3.conv_pw.weight', 'backbone.blocks.4.3.bn1.weight', 'backbone.blocks.4.3.bn1.bias', 'backbone.blocks.4.3.bn1.running_mean', 'backbone.blocks.4.3.bn1.running_var', 'backbone.blocks.4.3.bn1.num_batches_tracked', 'backbone.blocks.4.3.conv_dw.weight', 'backbone.blocks.4.3.bn2.weight', 'backbone.blocks.4.3.bn2.bias', 'backbone.blocks.4.3.bn2.running_mean', 'backbone.blocks.4.3.bn2.running_var', 'backbone.blocks.4.3.bn2.num_batches_tracked', 'backbone.blocks.4.3.se.conv_reduce.weight', 'backbone.blocks.4.3.se.conv_reduce.bias', 'backbone.blocks.4.3.se.conv_expand.weight', 'backbone.blocks.4.3.se.conv_expand.bias', 'backbone.blocks.4.3.conv_pwl.weight', 'backbone.blocks.4.3.bn3.weight', 'backbone.blocks.4.3.bn3.bias', 'backbone.blocks.4.3.bn3.running_mean', 'backbone.blocks.4.3.bn3.running_var', 'backbone.blocks.4.3.bn3.num_batches_tracked', 'backbone.blocks.4.4.conv_pw.weight', 'backbone.blocks.4.4.bn1.weight', 'backbone.blocks.4.4.bn1.bias', 'backbone.blocks.4.4.bn1.running_mean', 'backbone.blocks.4.4.bn1.running_var', 'backbone.blocks.4.4.bn1.num_batches_tracked', 'backbone.blocks.4.4.conv_dw.weight', 'backbone.blocks.4.4.bn2.weight', 'backbone.blocks.4.4.bn2.bias', 'backbone.blocks.4.4.bn2.running_mean', 'backbone.blocks.4.4.bn2.running_var', 'backbone.blocks.4.4.bn2.num_batches_tracked', 'backbone.blocks.4.4.se.conv_reduce.weight', 'backbone.blocks.4.4.se.conv_reduce.bias', 'backbone.blocks.4.4.se.conv_expand.weight', 'backbone.blocks.4.4.se.conv_expand.bias', 'backbone.blocks.4.4.conv_pwl.weight', 'backbone.blocks.4.4.bn3.weight', 'backbone.blocks.4.4.bn3.bias', 'backbone.blocks.4.4.bn3.running_mean', 'backbone.blocks.4.4.bn3.running_var', 'backbone.blocks.4.4.bn3.num_batches_tracked', 'backbone.blocks.4.5.conv_pw.weight', 'backbone.blocks.4.5.bn1.weight', 'backbone.blocks.4.5.bn1.bias', 'backbone.blocks.4.5.bn1.running_mean', 'backbone.blocks.4.5.bn1.running_var', 'backbone.blocks.4.5.bn1.num_batches_tracked', 'backbone.blocks.4.5.conv_dw.weight', 'backbone.blocks.4.5.bn2.weight', 'backbone.blocks.4.5.bn2.bias', 'backbone.blocks.4.5.bn2.running_mean', 'backbone.blocks.4.5.bn2.running_var', 'backbone.blocks.4.5.bn2.num_batches_tracked', 'backbone.blocks.4.5.se.conv_reduce.weight', 'backbone.blocks.4.5.se.conv_reduce.bias', 'backbone.blocks.4.5.se.conv_expand.weight', 'backbone.blocks.4.5.se.conv_expand.bias', 'backbone.blocks.4.5.conv_pwl.weight', 'backbone.blocks.4.5.bn3.weight', 'backbone.blocks.4.5.bn3.bias', 'backbone.blocks.4.5.bn3.running_mean', 'backbone.blocks.4.5.bn3.running_var', 'backbone.blocks.4.5.bn3.num_batches_tracked', 'backbone.blocks.4.6.conv_pw.weight', 'backbone.blocks.4.6.bn1.weight', 'backbone.blocks.4.6.bn1.bias', 'backbone.blocks.4.6.bn1.running_mean', 'backbone.blocks.4.6.bn1.running_var', 'backbone.blocks.4.6.bn1.num_batches_tracked', 'backbone.blocks.4.6.conv_dw.weight', 'backbone.blocks.4.6.bn2.weight', 'backbone.blocks.4.6.bn2.bias', 'backbone.blocks.4.6.bn2.running_mean', 'backbone.blocks.4.6.bn2.running_var', 'backbone.blocks.4.6.bn2.num_batches_tracked', 'backbone.blocks.4.6.se.conv_reduce.weight', 'backbone.blocks.4.6.se.conv_reduce.bias', 'backbone.blocks.4.6.se.conv_expand.weight', 'backbone.blocks.4.6.se.conv_expand.bias', 'backbone.blocks.4.6.conv_pwl.weight', 'backbone.blocks.4.6.bn3.weight', 'backbone.blocks.4.6.bn3.bias', 'backbone.blocks.4.6.bn3.running_mean', 'backbone.blocks.4.6.bn3.running_var', 'backbone.blocks.4.6.bn3.num_batches_tracked', 'backbone.blocks.5.0.conv_pw.weight', 'backbone.blocks.5.0.bn1.weight', 'backbone.blocks.5.0.bn1.bias', 'backbone.blocks.5.0.bn1.running_mean', 'backbone.blocks.5.0.bn1.running_var', 'backbone.blocks.5.0.bn1.num_batches_tracked', 'backbone.blocks.5.0.conv_dw.weight', 'backbone.blocks.5.0.bn2.weight', 'backbone.blocks.5.0.bn2.bias', 'backbone.blocks.5.0.bn2.running_mean', 'backbone.blocks.5.0.bn2.running_var', 'backbone.blocks.5.0.bn2.num_batches_tracked', 'backbone.blocks.5.0.se.conv_reduce.weight', 'backbone.blocks.5.0.se.conv_reduce.bias', 'backbone.blocks.5.0.se.conv_expand.weight', 'backbone.blocks.5.0.se.conv_expand.bias', 'backbone.blocks.5.0.conv_pwl.weight', 'backbone.blocks.5.0.bn3.weight', 'backbone.blocks.5.0.bn3.bias', 'backbone.blocks.5.0.bn3.running_mean', 'backbone.blocks.5.0.bn3.running_var', 'backbone.blocks.5.0.bn3.num_batches_tracked', 'backbone.blocks.5.1.conv_pw.weight', 'backbone.blocks.5.1.bn1.weight', 'backbone.blocks.5.1.bn1.bias', 'backbone.blocks.5.1.bn1.running_mean', 'backbone.blocks.5.1.bn1.running_var', 'backbone.blocks.5.1.bn1.num_batches_tracked', 'backbone.blocks.5.1.conv_dw.weight', 'backbone.blocks.5.1.bn2.weight', 'backbone.blocks.5.1.bn2.bias', 'backbone.blocks.5.1.bn2.running_mean', 'backbone.blocks.5.1.bn2.running_var', 'backbone.blocks.5.1.bn2.num_batches_tracked', 'backbone.blocks.5.1.se.conv_reduce.weight', 'backbone.blocks.5.1.se.conv_reduce.bias', 'backbone.blocks.5.1.se.conv_expand.weight', 'backbone.blocks.5.1.se.conv_expand.bias', 'backbone.blocks.5.1.conv_pwl.weight', 'backbone.blocks.5.1.bn3.weight', 'backbone.blocks.5.1.bn3.bias', 'backbone.blocks.5.1.bn3.running_mean', 'backbone.blocks.5.1.bn3.running_var', 'backbone.blocks.5.1.bn3.num_batches_tracked', 'backbone.blocks.5.2.conv_pw.weight', 'backbone.blocks.5.2.bn1.weight', 'backbone.blocks.5.2.bn1.bias', 'backbone.blocks.5.2.bn1.running_mean', 'backbone.blocks.5.2.bn1.running_var', 'backbone.blocks.5.2.bn1.num_batches_tracked', 'backbone.blocks.5.2.conv_dw.weight', 'backbone.blocks.5.2.bn2.weight', 'backbone.blocks.5.2.bn2.bias', 'backbone.blocks.5.2.bn2.running_mean', 'backbone.blocks.5.2.bn2.running_var', 'backbone.blocks.5.2.bn2.num_batches_tracked', 'backbone.blocks.5.2.se.conv_reduce.weight', 'backbone.blocks.5.2.se.conv_reduce.bias', 'backbone.blocks.5.2.se.conv_expand.weight', 'backbone.blocks.5.2.se.conv_expand.bias', 'backbone.blocks.5.2.conv_pwl.weight', 'backbone.blocks.5.2.bn3.weight', 'backbone.blocks.5.2.bn3.bias', 'backbone.blocks.5.2.bn3.running_mean', 'backbone.blocks.5.2.bn3.running_var', 'backbone.blocks.5.2.bn3.num_batches_tracked', 'backbone.blocks.5.3.conv_pw.weight', 'backbone.blocks.5.3.bn1.weight', 'backbone.blocks.5.3.bn1.bias', 'backbone.blocks.5.3.bn1.running_mean', 'backbone.blocks.5.3.bn1.running_var', 'backbone.blocks.5.3.bn1.num_batches_tracked', 'backbone.blocks.5.3.conv_dw.weight', 'backbone.blocks.5.3.bn2.weight', 'backbone.blocks.5.3.bn2.bias', 'backbone.blocks.5.3.bn2.running_mean', 'backbone.blocks.5.3.bn2.running_var', 'backbone.blocks.5.3.bn2.num_batches_tracked', 'backbone.blocks.5.3.se.conv_reduce.weight', 'backbone.blocks.5.3.se.conv_reduce.bias', 'backbone.blocks.5.3.se.conv_expand.weight', 'backbone.blocks.5.3.se.conv_expand.bias', 'backbone.blocks.5.3.conv_pwl.weight', 'backbone.blocks.5.3.bn3.weight', 'backbone.blocks.5.3.bn3.bias', 'backbone.blocks.5.3.bn3.running_mean', 'backbone.blocks.5.3.bn3.running_var', 'backbone.blocks.5.3.bn3.num_batches_tracked', 'backbone.blocks.5.4.conv_pw.weight', 'backbone.blocks.5.4.bn1.weight', 'backbone.blocks.5.4.bn1.bias', 'backbone.blocks.5.4.bn1.running_mean', 'backbone.blocks.5.4.bn1.running_var', 'backbone.blocks.5.4.bn1.num_batches_tracked', 'backbone.blocks.5.4.conv_dw.weight', 'backbone.blocks.5.4.bn2.weight', 'backbone.blocks.5.4.bn2.bias', 'backbone.blocks.5.4.bn2.running_mean', 'backbone.blocks.5.4.bn2.running_var', 'backbone.blocks.5.4.bn2.num_batches_tracked', 'backbone.blocks.5.4.se.conv_reduce.weight', 'backbone.blocks.5.4.se.conv_reduce.bias', 'backbone.blocks.5.4.se.conv_expand.weight', 'backbone.blocks.5.4.se.conv_expand.bias', 'backbone.blocks.5.4.conv_pwl.weight', 'backbone.blocks.5.4.bn3.weight', 'backbone.blocks.5.4.bn3.bias', 'backbone.blocks.5.4.bn3.running_mean', 'backbone.blocks.5.4.bn3.running_var', 'backbone.blocks.5.4.bn3.num_batches_tracked', 'backbone.blocks.5.5.conv_pw.weight', 'backbone.blocks.5.5.bn1.weight', 'backbone.blocks.5.5.bn1.bias', 'backbone.blocks.5.5.bn1.running_mean', 'backbone.blocks.5.5.bn1.running_var', 'backbone.blocks.5.5.bn1.num_batches_tracked', 'backbone.blocks.5.5.conv_dw.weight', 'backbone.blocks.5.5.bn2.weight', 'backbone.blocks.5.5.bn2.bias', 'backbone.blocks.5.5.bn2.running_mean', 'backbone.blocks.5.5.bn2.running_var', 'backbone.blocks.5.5.bn2.num_batches_tracked', 'backbone.blocks.5.5.se.conv_reduce.weight', 'backbone.blocks.5.5.se.conv_reduce.bias', 'backbone.blocks.5.5.se.conv_expand.weight', 'backbone.blocks.5.5.se.conv_expand.bias', 'backbone.blocks.5.5.conv_pwl.weight', 'backbone.blocks.5.5.bn3.weight', 'backbone.blocks.5.5.bn3.bias', 'backbone.blocks.5.5.bn3.running_mean', 'backbone.blocks.5.5.bn3.running_var', 'backbone.blocks.5.5.bn3.num_batches_tracked', 'backbone.blocks.5.6.conv_pw.weight', 'backbone.blocks.5.6.bn1.weight', 'backbone.blocks.5.6.bn1.bias', 'backbone.blocks.5.6.bn1.running_mean', 'backbone.blocks.5.6.bn1.running_var', 'backbone.blocks.5.6.bn1.num_batches_tracked', 'backbone.blocks.5.6.conv_dw.weight', 'backbone.blocks.5.6.bn2.weight', 'backbone.blocks.5.6.bn2.bias', 'backbone.blocks.5.6.bn2.running_mean', 'backbone.blocks.5.6.bn2.running_var', 'backbone.blocks.5.6.bn2.num_batches_tracked', 'backbone.blocks.5.6.se.conv_reduce.weight', 'backbone.blocks.5.6.se.conv_reduce.bias', 'backbone.blocks.5.6.se.conv_expand.weight', 'backbone.blocks.5.6.se.conv_expand.bias', 'backbone.blocks.5.6.conv_pwl.weight', 'backbone.blocks.5.6.bn3.weight', 'backbone.blocks.5.6.bn3.bias', 'backbone.blocks.5.6.bn3.running_mean', 'backbone.blocks.5.6.bn3.running_var', 'backbone.blocks.5.6.bn3.num_batches_tracked', 'backbone.blocks.5.7.conv_pw.weight', 'backbone.blocks.5.7.bn1.weight', 'backbone.blocks.5.7.bn1.bias', 'backbone.blocks.5.7.bn1.running_mean', 'backbone.blocks.5.7.bn1.running_var', 'backbone.blocks.5.7.bn1.num_batches_tracked', 'backbone.blocks.5.7.conv_dw.weight', 'backbone.blocks.5.7.bn2.weight', 'backbone.blocks.5.7.bn2.bias', 'backbone.blocks.5.7.bn2.running_mean', 'backbone.blocks.5.7.bn2.running_var', 'backbone.blocks.5.7.bn2.num_batches_tracked', 'backbone.blocks.5.7.se.conv_reduce.weight', 'backbone.blocks.5.7.se.conv_reduce.bias', 'backbone.blocks.5.7.se.conv_expand.weight', 'backbone.blocks.5.7.se.conv_expand.bias', 'backbone.blocks.5.7.conv_pwl.weight', 'backbone.blocks.5.7.bn3.weight', 'backbone.blocks.5.7.bn3.bias', 'backbone.blocks.5.7.bn3.running_mean', 'backbone.blocks.5.7.bn3.running_var', 'backbone.blocks.5.7.bn3.num_batches_tracked', 'backbone.blocks.5.8.conv_pw.weight', 'backbone.blocks.5.8.bn1.weight', 'backbone.blocks.5.8.bn1.bias', 'backbone.blocks.5.8.bn1.running_mean', 'backbone.blocks.5.8.bn1.running_var', 'backbone.blocks.5.8.bn1.num_batches_tracked', 'backbone.blocks.5.8.conv_dw.weight', 'backbone.blocks.5.8.bn2.weight', 'backbone.blocks.5.8.bn2.bias', 'backbone.blocks.5.8.bn2.running_mean', 'backbone.blocks.5.8.bn2.running_var', 'backbone.blocks.5.8.bn2.num_batches_tracked', 'backbone.blocks.5.8.se.conv_reduce.weight', 'backbone.blocks.5.8.se.conv_reduce.bias', 'backbone.blocks.5.8.se.conv_expand.weight', 'backbone.blocks.5.8.se.conv_expand.bias', 'backbone.blocks.5.8.conv_pwl.weight', 'backbone.blocks.5.8.bn3.weight', 'backbone.blocks.5.8.bn3.bias', 'backbone.blocks.5.8.bn3.running_mean', 'backbone.blocks.5.8.bn3.running_var', 'backbone.blocks.5.8.bn3.num_batches_tracked', 'backbone.blocks.6.0.conv_pw.weight', 'backbone.blocks.6.0.bn1.weight', 'backbone.blocks.6.0.bn1.bias', 'backbone.blocks.6.0.bn1.running_mean', 'backbone.blocks.6.0.bn1.running_var', 'backbone.blocks.6.0.bn1.num_batches_tracked', 'backbone.blocks.6.0.conv_dw.weight', 'backbone.blocks.6.0.bn2.weight', 'backbone.blocks.6.0.bn2.bias', 'backbone.blocks.6.0.bn2.running_mean', 'backbone.blocks.6.0.bn2.running_var', 'backbone.blocks.6.0.bn2.num_batches_tracked', 'backbone.blocks.6.0.se.conv_reduce.weight', 'backbone.blocks.6.0.se.conv_reduce.bias', 'backbone.blocks.6.0.se.conv_expand.weight', 'backbone.blocks.6.0.se.conv_expand.bias', 'backbone.blocks.6.0.conv_pwl.weight', 'backbone.blocks.6.0.bn3.weight', 'backbone.blocks.6.0.bn3.bias', 'backbone.blocks.6.0.bn3.running_mean', 'backbone.blocks.6.0.bn3.running_var', 'backbone.blocks.6.0.bn3.num_batches_tracked', 'backbone.blocks.6.1.conv_pw.weight', 'backbone.blocks.6.1.bn1.weight', 'backbone.blocks.6.1.bn1.bias', 'backbone.blocks.6.1.bn1.running_mean', 'backbone.blocks.6.1.bn1.running_var', 'backbone.blocks.6.1.bn1.num_batches_tracked', 'backbone.blocks.6.1.conv_dw.weight', 'backbone.blocks.6.1.bn2.weight', 'backbone.blocks.6.1.bn2.bias', 'backbone.blocks.6.1.bn2.running_mean', 'backbone.blocks.6.1.bn2.running_var', 'backbone.blocks.6.1.bn2.num_batches_tracked', 'backbone.blocks.6.1.se.conv_reduce.weight', 'backbone.blocks.6.1.se.conv_reduce.bias', 'backbone.blocks.6.1.se.conv_expand.weight', 'backbone.blocks.6.1.se.conv_expand.bias', 'backbone.blocks.6.1.conv_pwl.weight', 'backbone.blocks.6.1.bn3.weight', 'backbone.blocks.6.1.bn3.bias', 'backbone.blocks.6.1.bn3.running_mean', 'backbone.blocks.6.1.bn3.running_var', 'backbone.blocks.6.1.bn3.num_batches_tracked', 'backbone.blocks.6.2.conv_pw.weight', 'backbone.blocks.6.2.bn1.weight', 'backbone.blocks.6.2.bn1.bias', 'backbone.blocks.6.2.bn1.running_mean', 'backbone.blocks.6.2.bn1.running_var', 'backbone.blocks.6.2.bn1.num_batches_tracked', 'backbone.blocks.6.2.conv_dw.weight', 'backbone.blocks.6.2.bn2.weight', 'backbone.blocks.6.2.bn2.bias', 'backbone.blocks.6.2.bn2.running_mean', 'backbone.blocks.6.2.bn2.running_var', 'backbone.blocks.6.2.bn2.num_batches_tracked', 'backbone.blocks.6.2.se.conv_reduce.weight', 'backbone.blocks.6.2.se.conv_reduce.bias', 'backbone.blocks.6.2.se.conv_expand.weight', 'backbone.blocks.6.2.se.conv_expand.bias', 'backbone.blocks.6.2.conv_pwl.weight', 'backbone.blocks.6.2.bn3.weight', 'backbone.blocks.6.2.bn3.bias', 'backbone.blocks.6.2.bn3.running_mean', 'backbone.blocks.6.2.bn3.running_var', 'backbone.blocks.6.2.bn3.num_batches_tracked', 'fpn.resample.3.conv.conv.weight', 'fpn.resample.3.conv.conv.bias', 'fpn.resample.3.conv.bn.weight', 'fpn.resample.3.conv.bn.bias', 'fpn.resample.3.conv.bn.running_mean', 'fpn.resample.3.conv.bn.running_var', 'fpn.resample.3.conv.bn.num_batches_tracked', 'fpn.cell.0.fnode.0.combine.edge_weights', 'fpn.cell.0.fnode.0.after_combine.conv.conv_dw.weight', 'fpn.cell.0.fnode.0.after_combine.conv.conv_pw.weight', 'fpn.cell.0.fnode.0.after_combine.conv.conv_pw.bias', 'fpn.cell.0.fnode.0.after_combine.conv.bn.weight', 'fpn.cell.0.fnode.0.after_combine.conv.bn.bias', 'fpn.cell.0.fnode.0.after_combine.conv.bn.running_mean', 'fpn.cell.0.fnode.0.after_combine.conv.bn.running_var', 'fpn.cell.0.fnode.0.after_combine.conv.bn.num_batches_tracked', 'fpn.cell.0.fnode.1.combine.edge_weights', 'fpn.cell.0.fnode.1.combine.resample.2.conv.conv.weight', 'fpn.cell.0.fnode.1.combine.resample.2.conv.conv.bias', 'fpn.cell.0.fnode.1.combine.resample.2.conv.bn.weight', 'fpn.cell.0.fnode.1.combine.resample.2.conv.bn.bias', 'fpn.cell.0.fnode.1.combine.resample.2.conv.bn.running_mean', 'fpn.cell.0.fnode.1.combine.resample.2.conv.bn.running_var', 'fpn.cell.0.fnode.1.combine.resample.2.conv.bn.num_batches_tracked', 'fpn.cell.0.fnode.1.after_combine.conv.conv_dw.weight', 'fpn.cell.0.fnode.1.after_combine.conv.conv_pw.weight', 'fpn.cell.0.fnode.1.after_combine.conv.conv_pw.bias', 'fpn.cell.0.fnode.1.after_combine.conv.bn.weight', 'fpn.cell.0.fnode.1.after_combine.conv.bn.bias', 'fpn.cell.0.fnode.1.after_combine.conv.bn.running_mean', 'fpn.cell.0.fnode.1.after_combine.conv.bn.running_var', 'fpn.cell.0.fnode.1.after_combine.conv.bn.num_batches_tracked', 'fpn.cell.0.fnode.2.combine.edge_weights', 'fpn.cell.0.fnode.2.combine.resample.1.conv.conv.weight', 'fpn.cell.0.fnode.2.combine.resample.1.conv.conv.bias', 'fpn.cell.0.fnode.2.combine.resample.1.conv.bn.weight', 'fpn.cell.0.fnode.2.combine.resample.1.conv.bn.bias', 'fpn.cell.0.fnode.2.combine.resample.1.conv.bn.running_mean', 'fpn.cell.0.fnode.2.combine.resample.1.conv.bn.running_var', 'fpn.cell.0.fnode.2.combine.resample.1.conv.bn.num_batches_tracked', 'fpn.cell.0.fnode.2.after_combine.conv.conv_dw.weight', 'fpn.cell.0.fnode.2.after_combine.conv.conv_pw.weight', 'fpn.cell.0.fnode.2.after_combine.conv.conv_pw.bias', 'fpn.cell.0.fnode.2.after_combine.conv.bn.weight', 'fpn.cell.0.fnode.2.after_combine.conv.bn.bias', 'fpn.cell.0.fnode.2.after_combine.conv.bn.running_mean', 'fpn.cell.0.fnode.2.after_combine.conv.bn.running_var', 'fpn.cell.0.fnode.2.after_combine.conv.bn.num_batches_tracked', 'fpn.cell.0.fnode.3.combine.edge_weights', 'fpn.cell.0.fnode.3.combine.resample.0.conv.conv.weight', 'fpn.cell.0.fnode.3.combine.resample.0.conv.conv.bias', 'fpn.cell.0.fnode.3.combine.resample.0.conv.bn.weight', 'fpn.cell.0.fnode.3.combine.resample.0.conv.bn.bias', 'fpn.cell.0.fnode.3.combine.resample.0.conv.bn.running_mean', 'fpn.cell.0.fnode.3.combine.resample.0.conv.bn.running_var', 'fpn.cell.0.fnode.3.combine.resample.0.conv.bn.num_batches_tracked', 'fpn.cell.0.fnode.3.after_combine.conv.conv_dw.weight', 'fpn.cell.0.fnode.3.after_combine.conv.conv_pw.weight', 'fpn.cell.0.fnode.3.after_combine.conv.conv_pw.bias', 'fpn.cell.0.fnode.3.after_combine.conv.bn.weight', 'fpn.cell.0.fnode.3.after_combine.conv.bn.bias', 'fpn.cell.0.fnode.3.after_combine.conv.bn.running_mean', 'fpn.cell.0.fnode.3.after_combine.conv.bn.running_var', 'fpn.cell.0.fnode.3.after_combine.conv.bn.num_batches_tracked', 'fpn.cell.0.fnode.4.combine.edge_weights', 'fpn.cell.0.fnode.4.combine.resample.1.conv.conv.weight', 'fpn.cell.0.fnode.4.combine.resample.1.conv.conv.bias', 'fpn.cell.0.fnode.4.combine.resample.1.conv.bn.weight', 'fpn.cell.0.fnode.4.combine.resample.1.conv.bn.bias', 'fpn.cell.0.fnode.4.combine.resample.1.conv.bn.running_mean', 'fpn.cell.0.fnode.4.combine.resample.1.conv.bn.running_var', 'fpn.cell.0.fnode.4.combine.resample.1.conv.bn.num_batches_tracked', 'fpn.cell.0.fnode.4.after_combine.conv.conv_dw.weight', 'fpn.cell.0.fnode.4.after_combine.conv.conv_pw.weight', 'fpn.cell.0.fnode.4.after_combine.conv.conv_pw.bias', 'fpn.cell.0.fnode.4.after_combine.conv.bn.weight', 'fpn.cell.0.fnode.4.after_combine.conv.bn.bias', 'fpn.cell.0.fnode.4.after_combine.conv.bn.running_mean', 'fpn.cell.0.fnode.4.after_combine.conv.bn.running_var', 'fpn.cell.0.fnode.4.after_combine.conv.bn.num_batches_tracked', 'fpn.cell.0.fnode.5.combine.edge_weights', 'fpn.cell.0.fnode.5.combine.resample.2.conv.conv.weight', 'fpn.cell.0.fnode.5.combine.resample.2.conv.conv.bias', 'fpn.cell.0.fnode.5.combine.resample.2.conv.bn.weight', 'fpn.cell.0.fnode.5.combine.resample.2.conv.bn.bias', 'fpn.cell.0.fnode.5.combine.resample.2.conv.bn.running_mean', 'fpn.cell.0.fnode.5.combine.resample.2.conv.bn.running_var', 'fpn.cell.0.fnode.5.combine.resample.2.conv.bn.num_batches_tracked', 'fpn.cell.0.fnode.5.after_combine.conv.conv_dw.weight', 'fpn.cell.0.fnode.5.after_combine.conv.conv_pw.weight', 'fpn.cell.0.fnode.5.after_combine.conv.conv_pw.bias', 'fpn.cell.0.fnode.5.after_combine.conv.bn.weight', 'fpn.cell.0.fnode.5.after_combine.conv.bn.bias', 'fpn.cell.0.fnode.5.after_combine.conv.bn.running_mean', 'fpn.cell.0.fnode.5.after_combine.conv.bn.running_var', 'fpn.cell.0.fnode.5.after_combine.conv.bn.num_batches_tracked', 'fpn.cell.0.fnode.6.combine.edge_weights', 'fpn.cell.0.fnode.6.after_combine.conv.conv_dw.weight', 'fpn.cell.0.fnode.6.after_combine.conv.conv_pw.weight', 'fpn.cell.0.fnode.6.after_combine.conv.conv_pw.bias', 'fpn.cell.0.fnode.6.after_combine.conv.bn.weight', 'fpn.cell.0.fnode.6.after_combine.conv.bn.bias', 'fpn.cell.0.fnode.6.after_combine.conv.bn.running_mean', 'fpn.cell.0.fnode.6.after_combine.conv.bn.running_var', 'fpn.cell.0.fnode.6.after_combine.conv.bn.num_batches_tracked', 'fpn.cell.0.fnode.7.combine.edge_weights', 'fpn.cell.0.fnode.7.after_combine.conv.conv_dw.weight', 'fpn.cell.0.fnode.7.after_combine.conv.conv_pw.weight', 'fpn.cell.0.fnode.7.after_combine.conv.conv_pw.bias', 'fpn.cell.0.fnode.7.after_combine.conv.bn.weight', 'fpn.cell.0.fnode.7.after_combine.conv.bn.bias', 'fpn.cell.0.fnode.7.after_combine.conv.bn.running_mean', 'fpn.cell.0.fnode.7.after_combine.conv.bn.running_var', 'fpn.cell.0.fnode.7.after_combine.conv.bn.num_batches_tracked', 'fpn.cell.1.fnode.0.combine.edge_weights', 'fpn.cell.1.fnode.0.after_combine.conv.conv_dw.weight', 'fpn.cell.1.fnode.0.after_combine.conv.conv_pw.weight', 'fpn.cell.1.fnode.0.after_combine.conv.conv_pw.bias', 'fpn.cell.1.fnode.0.after_combine.conv.bn.weight', 'fpn.cell.1.fnode.0.after_combine.conv.bn.bias', 'fpn.cell.1.fnode.0.after_combine.conv.bn.running_mean', 'fpn.cell.1.fnode.0.after_combine.conv.bn.running_var', 'fpn.cell.1.fnode.0.after_combine.conv.bn.num_batches_tracked', 'fpn.cell.1.fnode.1.combine.edge_weights', 'fpn.cell.1.fnode.1.after_combine.conv.conv_dw.weight', 'fpn.cell.1.fnode.1.after_combine.conv.conv_pw.weight', 'fpn.cell.1.fnode.1.after_combine.conv.conv_pw.bias', 'fpn.cell.1.fnode.1.after_combine.conv.bn.weight', 'fpn.cell.1.fnode.1.after_combine.conv.bn.bias', 'fpn.cell.1.fnode.1.after_combine.conv.bn.running_mean', 'fpn.cell.1.fnode.1.after_combine.conv.bn.running_var', 'fpn.cell.1.fnode.1.after_combine.conv.bn.num_batches_tracked', 'fpn.cell.1.fnode.2.combine.edge_weights', 'fpn.cell.1.fnode.2.after_combine.conv.conv_dw.weight', 'fpn.cell.1.fnode.2.after_combine.conv.conv_pw.weight', 'fpn.cell.1.fnode.2.after_combine.conv.conv_pw.bias', 'fpn.cell.1.fnode.2.after_combine.conv.bn.weight', 'fpn.cell.1.fnode.2.after_combine.conv.bn.bias', 'fpn.cell.1.fnode.2.after_combine.conv.bn.running_mean', 'fpn.cell.1.fnode.2.after_combine.conv.bn.running_var', 'fpn.cell.1.fnode.2.after_combine.conv.bn.num_batches_tracked', 'fpn.cell.1.fnode.3.combine.edge_weights', 'fpn.cell.1.fnode.3.after_combine.conv.conv_dw.weight', 'fpn.cell.1.fnode.3.after_combine.conv.conv_pw.weight', 'fpn.cell.1.fnode.3.after_combine.conv.conv_pw.bias', 'fpn.cell.1.fnode.3.after_combine.conv.bn.weight', 'fpn.cell.1.fnode.3.after_combine.conv.bn.bias', 'fpn.cell.1.fnode.3.after_combine.conv.bn.running_mean', 'fpn.cell.1.fnode.3.after_combine.conv.bn.running_var', 'fpn.cell.1.fnode.3.after_combine.conv.bn.num_batches_tracked', 'fpn.cell.1.fnode.4.combine.edge_weights', 'fpn.cell.1.fnode.4.after_combine.conv.conv_dw.weight', 'fpn.cell.1.fnode.4.after_combine.conv.conv_pw.weight', 'fpn.cell.1.fnode.4.after_combine.conv.conv_pw.bias', 'fpn.cell.1.fnode.4.after_combine.conv.bn.weight', 'fpn.cell.1.fnode.4.after_combine.conv.bn.bias', 'fpn.cell.1.fnode.4.after_combine.conv.bn.running_mean', 'fpn.cell.1.fnode.4.after_combine.conv.bn.running_var', 'fpn.cell.1.fnode.4.after_combine.conv.bn.num_batches_tracked', 'fpn.cell.1.fnode.5.combine.edge_weights', 'fpn.cell.1.fnode.5.after_combine.conv.conv_dw.weight', 'fpn.cell.1.fnode.5.after_combine.conv.conv_pw.weight', 'fpn.cell.1.fnode.5.after_combine.conv.conv_pw.bias', 'fpn.cell.1.fnode.5.after_combine.conv.bn.weight', 'fpn.cell.1.fnode.5.after_combine.conv.bn.bias', 'fpn.cell.1.fnode.5.after_combine.conv.bn.running_mean', 'fpn.cell.1.fnode.5.after_combine.conv.bn.running_var', 'fpn.cell.1.fnode.5.after_combine.conv.bn.num_batches_tracked', 'fpn.cell.1.fnode.6.combine.edge_weights', 'fpn.cell.1.fnode.6.after_combine.conv.conv_dw.weight', 'fpn.cell.1.fnode.6.after_combine.conv.conv_pw.weight', 'fpn.cell.1.fnode.6.after_combine.conv.conv_pw.bias', 'fpn.cell.1.fnode.6.after_combine.conv.bn.weight', 'fpn.cell.1.fnode.6.after_combine.conv.bn.bias', 'fpn.cell.1.fnode.6.after_combine.conv.bn.running_mean', 'fpn.cell.1.fnode.6.after_combine.conv.bn.running_var', 'fpn.cell.1.fnode.6.after_combine.conv.bn.num_batches_tracked', 'fpn.cell.1.fnode.7.combine.edge_weights', 'fpn.cell.1.fnode.7.after_combine.conv.conv_dw.weight', 'fpn.cell.1.fnode.7.after_combine.conv.conv_pw.weight', 'fpn.cell.1.fnode.7.after_combine.conv.conv_pw.bias', 'fpn.cell.1.fnode.7.after_combine.conv.bn.weight', 'fpn.cell.1.fnode.7.after_combine.conv.bn.bias', 'fpn.cell.1.fnode.7.after_combine.conv.bn.running_mean', 'fpn.cell.1.fnode.7.after_combine.conv.bn.running_var', 'fpn.cell.1.fnode.7.after_combine.conv.bn.num_batches_tracked', 'fpn.cell.2.fnode.0.combine.edge_weights', 'fpn.cell.2.fnode.0.after_combine.conv.conv_dw.weight', 'fpn.cell.2.fnode.0.after_combine.conv.conv_pw.weight', 'fpn.cell.2.fnode.0.after_combine.conv.conv_pw.bias', 'fpn.cell.2.fnode.0.after_combine.conv.bn.weight', 'fpn.cell.2.fnode.0.after_combine.conv.bn.bias', 'fpn.cell.2.fnode.0.after_combine.conv.bn.running_mean', 'fpn.cell.2.fnode.0.after_combine.conv.bn.running_var', 'fpn.cell.2.fnode.0.after_combine.conv.bn.num_batches_tracked', 'fpn.cell.2.fnode.1.combine.edge_weights', 'fpn.cell.2.fnode.1.after_combine.conv.conv_dw.weight', 'fpn.cell.2.fnode.1.after_combine.conv.conv_pw.weight', 'fpn.cell.2.fnode.1.after_combine.conv.conv_pw.bias', 'fpn.cell.2.fnode.1.after_combine.conv.bn.weight', 'fpn.cell.2.fnode.1.after_combine.conv.bn.bias', 'fpn.cell.2.fnode.1.after_combine.conv.bn.running_mean', 'fpn.cell.2.fnode.1.after_combine.conv.bn.running_var', 'fpn.cell.2.fnode.1.after_combine.conv.bn.num_batches_tracked', 'fpn.cell.2.fnode.2.combine.edge_weights', 'fpn.cell.2.fnode.2.after_combine.conv.conv_dw.weight', 'fpn.cell.2.fnode.2.after_combine.conv.conv_pw.weight', 'fpn.cell.2.fnode.2.after_combine.conv.conv_pw.bias', 'fpn.cell.2.fnode.2.after_combine.conv.bn.weight', 'fpn.cell.2.fnode.2.after_combine.conv.bn.bias', 'fpn.cell.2.fnode.2.after_combine.conv.bn.running_mean', 'fpn.cell.2.fnode.2.after_combine.conv.bn.running_var', 'fpn.cell.2.fnode.2.after_combine.conv.bn.num_batches_tracked', 'fpn.cell.2.fnode.3.combine.edge_weights', 'fpn.cell.2.fnode.3.after_combine.conv.conv_dw.weight', 'fpn.cell.2.fnode.3.after_combine.conv.conv_pw.weight', 'fpn.cell.2.fnode.3.after_combine.conv.conv_pw.bias', 'fpn.cell.2.fnode.3.after_combine.conv.bn.weight', 'fpn.cell.2.fnode.3.after_combine.conv.bn.bias', 'fpn.cell.2.fnode.3.after_combine.conv.bn.running_mean', 'fpn.cell.2.fnode.3.after_combine.conv.bn.running_var', 'fpn.cell.2.fnode.3.after_combine.conv.bn.num_batches_tracked', 'fpn.cell.2.fnode.4.combine.edge_weights', 'fpn.cell.2.fnode.4.after_combine.conv.conv_dw.weight', 'fpn.cell.2.fnode.4.after_combine.conv.conv_pw.weight', 'fpn.cell.2.fnode.4.after_combine.conv.conv_pw.bias', 'fpn.cell.2.fnode.4.after_combine.conv.bn.weight', 'fpn.cell.2.fnode.4.after_combine.conv.bn.bias', 'fpn.cell.2.fnode.4.after_combine.conv.bn.running_mean', 'fpn.cell.2.fnode.4.after_combine.conv.bn.running_var', 'fpn.cell.2.fnode.4.after_combine.conv.bn.num_batches_tracked', 'fpn.cell.2.fnode.5.combine.edge_weights', 'fpn.cell.2.fnode.5.after_combine.conv.conv_dw.weight', 'fpn.cell.2.fnode.5.after_combine.conv.conv_pw.weight', 'fpn.cell.2.fnode.5.after_combine.conv.conv_pw.bias', 'fpn.cell.2.fnode.5.after_combine.conv.bn.weight', 'fpn.cell.2.fnode.5.after_combine.conv.bn.bias', 'fpn.cell.2.fnode.5.after_combine.conv.bn.running_mean', 'fpn.cell.2.fnode.5.after_combine.conv.bn.running_var', 'fpn.cell.2.fnode.5.after_combine.conv.bn.num_batches_tracked', 'fpn.cell.2.fnode.6.combine.edge_weights', 'fpn.cell.2.fnode.6.after_combine.conv.conv_dw.weight', 'fpn.cell.2.fnode.6.after_combine.conv.conv_pw.weight', 'fpn.cell.2.fnode.6.after_combine.conv.conv_pw.bias', 'fpn.cell.2.fnode.6.after_combine.conv.bn.weight', 'fpn.cell.2.fnode.6.after_combine.conv.bn.bias', 'fpn.cell.2.fnode.6.after_combine.conv.bn.running_mean', 'fpn.cell.2.fnode.6.after_combine.conv.bn.running_var', 'fpn.cell.2.fnode.6.after_combine.conv.bn.num_batches_tracked', 'fpn.cell.2.fnode.7.combine.edge_weights', 'fpn.cell.2.fnode.7.after_combine.conv.conv_dw.weight', 'fpn.cell.2.fnode.7.after_combine.conv.conv_pw.weight', 'fpn.cell.2.fnode.7.after_combine.conv.conv_pw.bias', 'fpn.cell.2.fnode.7.after_combine.conv.bn.weight', 'fpn.cell.2.fnode.7.after_combine.conv.bn.bias', 'fpn.cell.2.fnode.7.after_combine.conv.bn.running_mean', 'fpn.cell.2.fnode.7.after_combine.conv.bn.running_var', 'fpn.cell.2.fnode.7.after_combine.conv.bn.num_batches_tracked', 'fpn.cell.3.fnode.0.combine.edge_weights', 'fpn.cell.3.fnode.0.after_combine.conv.conv_dw.weight', 'fpn.cell.3.fnode.0.after_combine.conv.conv_pw.weight', 'fpn.cell.3.fnode.0.after_combine.conv.conv_pw.bias', 'fpn.cell.3.fnode.0.after_combine.conv.bn.weight', 'fpn.cell.3.fnode.0.after_combine.conv.bn.bias', 'fpn.cell.3.fnode.0.after_combine.conv.bn.running_mean', 'fpn.cell.3.fnode.0.after_combine.conv.bn.running_var', 'fpn.cell.3.fnode.0.after_combine.conv.bn.num_batches_tracked', 'fpn.cell.3.fnode.1.combine.edge_weights', 'fpn.cell.3.fnode.1.after_combine.conv.conv_dw.weight', 'fpn.cell.3.fnode.1.after_combine.conv.conv_pw.weight', 'fpn.cell.3.fnode.1.after_combine.conv.conv_pw.bias', 'fpn.cell.3.fnode.1.after_combine.conv.bn.weight', 'fpn.cell.3.fnode.1.after_combine.conv.bn.bias', 'fpn.cell.3.fnode.1.after_combine.conv.bn.running_mean', 'fpn.cell.3.fnode.1.after_combine.conv.bn.running_var', 'fpn.cell.3.fnode.1.after_combine.conv.bn.num_batches_tracked', 'fpn.cell.3.fnode.2.combine.edge_weights', 'fpn.cell.3.fnode.2.after_combine.conv.conv_dw.weight', 'fpn.cell.3.fnode.2.after_combine.conv.conv_pw.weight', 'fpn.cell.3.fnode.2.after_combine.conv.conv_pw.bias', 'fpn.cell.3.fnode.2.after_combine.conv.bn.weight', 'fpn.cell.3.fnode.2.after_combine.conv.bn.bias', 'fpn.cell.3.fnode.2.after_combine.conv.bn.running_mean', 'fpn.cell.3.fnode.2.after_combine.conv.bn.running_var', 'fpn.cell.3.fnode.2.after_combine.conv.bn.num_batches_tracked', 'fpn.cell.3.fnode.3.combine.edge_weights', 'fpn.cell.3.fnode.3.after_combine.conv.conv_dw.weight', 'fpn.cell.3.fnode.3.after_combine.conv.conv_pw.weight', 'fpn.cell.3.fnode.3.after_combine.conv.conv_pw.bias', 'fpn.cell.3.fnode.3.after_combine.conv.bn.weight', 'fpn.cell.3.fnode.3.after_combine.conv.bn.bias', 'fpn.cell.3.fnode.3.after_combine.conv.bn.running_mean', 'fpn.cell.3.fnode.3.after_combine.conv.bn.running_var', 'fpn.cell.3.fnode.3.after_combine.conv.bn.num_batches_tracked', 'fpn.cell.3.fnode.4.combine.edge_weights', 'fpn.cell.3.fnode.4.after_combine.conv.conv_dw.weight', 'fpn.cell.3.fnode.4.after_combine.conv.conv_pw.weight', 'fpn.cell.3.fnode.4.after_combine.conv.conv_pw.bias', 'fpn.cell.3.fnode.4.after_combine.conv.bn.weight', 'fpn.cell.3.fnode.4.after_combine.conv.bn.bias', 'fpn.cell.3.fnode.4.after_combine.conv.bn.running_mean', 'fpn.cell.3.fnode.4.after_combine.conv.bn.running_var', 'fpn.cell.3.fnode.4.after_combine.conv.bn.num_batches_tracked', 'fpn.cell.3.fnode.5.combine.edge_weights', 'fpn.cell.3.fnode.5.after_combine.conv.conv_dw.weight', 'fpn.cell.3.fnode.5.after_combine.conv.conv_pw.weight', 'fpn.cell.3.fnode.5.after_combine.conv.conv_pw.bias', 'fpn.cell.3.fnode.5.after_combine.conv.bn.weight', 'fpn.cell.3.fnode.5.after_combine.conv.bn.bias', 'fpn.cell.3.fnode.5.after_combine.conv.bn.running_mean', 'fpn.cell.3.fnode.5.after_combine.conv.bn.running_var', 'fpn.cell.3.fnode.5.after_combine.conv.bn.num_batches_tracked', 'fpn.cell.3.fnode.6.combine.edge_weights', 'fpn.cell.3.fnode.6.after_combine.conv.conv_dw.weight', 'fpn.cell.3.fnode.6.after_combine.conv.conv_pw.weight', 'fpn.cell.3.fnode.6.after_combine.conv.conv_pw.bias', 'fpn.cell.3.fnode.6.after_combine.conv.bn.weight', 'fpn.cell.3.fnode.6.after_combine.conv.bn.bias', 'fpn.cell.3.fnode.6.after_combine.conv.bn.running_mean', 'fpn.cell.3.fnode.6.after_combine.conv.bn.running_var', 'fpn.cell.3.fnode.6.after_combine.conv.bn.num_batches_tracked', 'fpn.cell.3.fnode.7.combine.edge_weights', 'fpn.cell.3.fnode.7.after_combine.conv.conv_dw.weight', 'fpn.cell.3.fnode.7.after_combine.conv.conv_pw.weight', 'fpn.cell.3.fnode.7.after_combine.conv.conv_pw.bias', 'fpn.cell.3.fnode.7.after_combine.conv.bn.weight', 'fpn.cell.3.fnode.7.after_combine.conv.bn.bias', 'fpn.cell.3.fnode.7.after_combine.conv.bn.running_mean', 'fpn.cell.3.fnode.7.after_combine.conv.bn.running_var', 'fpn.cell.3.fnode.7.after_combine.conv.bn.num_batches_tracked', 'fpn.cell.4.fnode.0.combine.edge_weights', 'fpn.cell.4.fnode.0.after_combine.conv.conv_dw.weight', 'fpn.cell.4.fnode.0.after_combine.conv.conv_pw.weight', 'fpn.cell.4.fnode.0.after_combine.conv.conv_pw.bias', 'fpn.cell.4.fnode.0.after_combine.conv.bn.weight', 'fpn.cell.4.fnode.0.after_combine.conv.bn.bias', 'fpn.cell.4.fnode.0.after_combine.conv.bn.running_mean', 'fpn.cell.4.fnode.0.after_combine.conv.bn.running_var', 'fpn.cell.4.fnode.0.after_combine.conv.bn.num_batches_tracked', 'fpn.cell.4.fnode.1.combine.edge_weights', 'fpn.cell.4.fnode.1.after_combine.conv.conv_dw.weight', 'fpn.cell.4.fnode.1.after_combine.conv.conv_pw.weight', 'fpn.cell.4.fnode.1.after_combine.conv.conv_pw.bias', 'fpn.cell.4.fnode.1.after_combine.conv.bn.weight', 'fpn.cell.4.fnode.1.after_combine.conv.bn.bias', 'fpn.cell.4.fnode.1.after_combine.conv.bn.running_mean', 'fpn.cell.4.fnode.1.after_combine.conv.bn.running_var', 'fpn.cell.4.fnode.1.after_combine.conv.bn.num_batches_tracked', 'fpn.cell.4.fnode.2.combine.edge_weights', 'fpn.cell.4.fnode.2.after_combine.conv.conv_dw.weight', 'fpn.cell.4.fnode.2.after_combine.conv.conv_pw.weight', 'fpn.cell.4.fnode.2.after_combine.conv.conv_pw.bias', 'fpn.cell.4.fnode.2.after_combine.conv.bn.weight', 'fpn.cell.4.fnode.2.after_combine.conv.bn.bias', 'fpn.cell.4.fnode.2.after_combine.conv.bn.running_mean', 'fpn.cell.4.fnode.2.after_combine.conv.bn.running_var', 'fpn.cell.4.fnode.2.after_combine.conv.bn.num_batches_tracked', 'fpn.cell.4.fnode.3.combine.edge_weights', 'fpn.cell.4.fnode.3.after_combine.conv.conv_dw.weight', 'fpn.cell.4.fnode.3.after_combine.conv.conv_pw.weight', 'fpn.cell.4.fnode.3.after_combine.conv.conv_pw.bias', 'fpn.cell.4.fnode.3.after_combine.conv.bn.weight', 'fpn.cell.4.fnode.3.after_combine.conv.bn.bias', 'fpn.cell.4.fnode.3.after_combine.conv.bn.running_mean', 'fpn.cell.4.fnode.3.after_combine.conv.bn.running_var', 'fpn.cell.4.fnode.3.after_combine.conv.bn.num_batches_tracked', 'fpn.cell.4.fnode.4.combine.edge_weights', 'fpn.cell.4.fnode.4.after_combine.conv.conv_dw.weight', 'fpn.cell.4.fnode.4.after_combine.conv.conv_pw.weight', 'fpn.cell.4.fnode.4.after_combine.conv.conv_pw.bias', 'fpn.cell.4.fnode.4.after_combine.conv.bn.weight', 'fpn.cell.4.fnode.4.after_combine.conv.bn.bias', 'fpn.cell.4.fnode.4.after_combine.conv.bn.running_mean', 'fpn.cell.4.fnode.4.after_combine.conv.bn.running_var', 'fpn.cell.4.fnode.4.after_combine.conv.bn.num_batches_tracked', 'fpn.cell.4.fnode.5.combine.edge_weights', 'fpn.cell.4.fnode.5.after_combine.conv.conv_dw.weight', 'fpn.cell.4.fnode.5.after_combine.conv.conv_pw.weight', 'fpn.cell.4.fnode.5.after_combine.conv.conv_pw.bias', 'fpn.cell.4.fnode.5.after_combine.conv.bn.weight', 'fpn.cell.4.fnode.5.after_combine.conv.bn.bias', 'fpn.cell.4.fnode.5.after_combine.conv.bn.running_mean', 'fpn.cell.4.fnode.5.after_combine.conv.bn.running_var', 'fpn.cell.4.fnode.5.after_combine.conv.bn.num_batches_tracked', 'fpn.cell.4.fnode.6.combine.edge_weights', 'fpn.cell.4.fnode.6.after_combine.conv.conv_dw.weight', 'fpn.cell.4.fnode.6.after_combine.conv.conv_pw.weight', 'fpn.cell.4.fnode.6.after_combine.conv.conv_pw.bias', 'fpn.cell.4.fnode.6.after_combine.conv.bn.weight', 'fpn.cell.4.fnode.6.after_combine.conv.bn.bias', 'fpn.cell.4.fnode.6.after_combine.conv.bn.running_mean', 'fpn.cell.4.fnode.6.after_combine.conv.bn.running_var', 'fpn.cell.4.fnode.6.after_combine.conv.bn.num_batches_tracked', 'fpn.cell.4.fnode.7.combine.edge_weights', 'fpn.cell.4.fnode.7.after_combine.conv.conv_dw.weight', 'fpn.cell.4.fnode.7.after_combine.conv.conv_pw.weight', 'fpn.cell.4.fnode.7.after_combine.conv.conv_pw.bias', 'fpn.cell.4.fnode.7.after_combine.conv.bn.weight', 'fpn.cell.4.fnode.7.after_combine.conv.bn.bias', 'fpn.cell.4.fnode.7.after_combine.conv.bn.running_mean', 'fpn.cell.4.fnode.7.after_combine.conv.bn.running_var', 'fpn.cell.4.fnode.7.after_combine.conv.bn.num_batches_tracked', 'fpn.cell.5.fnode.0.combine.edge_weights', 'fpn.cell.5.fnode.0.after_combine.conv.conv_dw.weight', 'fpn.cell.5.fnode.0.after_combine.conv.conv_pw.weight', 'fpn.cell.5.fnode.0.after_combine.conv.conv_pw.bias', 'fpn.cell.5.fnode.0.after_combine.conv.bn.weight', 'fpn.cell.5.fnode.0.after_combine.conv.bn.bias', 'fpn.cell.5.fnode.0.after_combine.conv.bn.running_mean', 'fpn.cell.5.fnode.0.after_combine.conv.bn.running_var', 'fpn.cell.5.fnode.0.after_combine.conv.bn.num_batches_tracked', 'fpn.cell.5.fnode.1.combine.edge_weights', 'fpn.cell.5.fnode.1.after_combine.conv.conv_dw.weight', 'fpn.cell.5.fnode.1.after_combine.conv.conv_pw.weight', 'fpn.cell.5.fnode.1.after_combine.conv.conv_pw.bias', 'fpn.cell.5.fnode.1.after_combine.conv.bn.weight', 'fpn.cell.5.fnode.1.after_combine.conv.bn.bias', 'fpn.cell.5.fnode.1.after_combine.conv.bn.running_mean', 'fpn.cell.5.fnode.1.after_combine.conv.bn.running_var', 'fpn.cell.5.fnode.1.after_combine.conv.bn.num_batches_tracked', 'fpn.cell.5.fnode.2.combine.edge_weights', 'fpn.cell.5.fnode.2.after_combine.conv.conv_dw.weight', 'fpn.cell.5.fnode.2.after_combine.conv.conv_pw.weight', 'fpn.cell.5.fnode.2.after_combine.conv.conv_pw.bias', 'fpn.cell.5.fnode.2.after_combine.conv.bn.weight', 'fpn.cell.5.fnode.2.after_combine.conv.bn.bias', 'fpn.cell.5.fnode.2.after_combine.conv.bn.running_mean', 'fpn.cell.5.fnode.2.after_combine.conv.bn.running_var', 'fpn.cell.5.fnode.2.after_combine.conv.bn.num_batches_tracked', 'fpn.cell.5.fnode.3.combine.edge_weights', 'fpn.cell.5.fnode.3.after_combine.conv.conv_dw.weight', 'fpn.cell.5.fnode.3.after_combine.conv.conv_pw.weight', 'fpn.cell.5.fnode.3.after_combine.conv.conv_pw.bias', 'fpn.cell.5.fnode.3.after_combine.conv.bn.weight', 'fpn.cell.5.fnode.3.after_combine.conv.bn.bias', 'fpn.cell.5.fnode.3.after_combine.conv.bn.running_mean', 'fpn.cell.5.fnode.3.after_combine.conv.bn.running_var', 'fpn.cell.5.fnode.3.after_combine.conv.bn.num_batches_tracked', 'fpn.cell.5.fnode.4.combine.edge_weights', 'fpn.cell.5.fnode.4.after_combine.conv.conv_dw.weight', 'fpn.cell.5.fnode.4.after_combine.conv.conv_pw.weight', 'fpn.cell.5.fnode.4.after_combine.conv.conv_pw.bias', 'fpn.cell.5.fnode.4.after_combine.conv.bn.weight', 'fpn.cell.5.fnode.4.after_combine.conv.bn.bias', 'fpn.cell.5.fnode.4.after_combine.conv.bn.running_mean', 'fpn.cell.5.fnode.4.after_combine.conv.bn.running_var', 'fpn.cell.5.fnode.4.after_combine.conv.bn.num_batches_tracked', 'fpn.cell.5.fnode.5.combine.edge_weights', 'fpn.cell.5.fnode.5.after_combine.conv.conv_dw.weight', 'fpn.cell.5.fnode.5.after_combine.conv.conv_pw.weight', 'fpn.cell.5.fnode.5.after_combine.conv.conv_pw.bias', 'fpn.cell.5.fnode.5.after_combine.conv.bn.weight', 'fpn.cell.5.fnode.5.after_combine.conv.bn.bias', 'fpn.cell.5.fnode.5.after_combine.conv.bn.running_mean', 'fpn.cell.5.fnode.5.after_combine.conv.bn.running_var', 'fpn.cell.5.fnode.5.after_combine.conv.bn.num_batches_tracked', 'fpn.cell.5.fnode.6.combine.edge_weights', 'fpn.cell.5.fnode.6.after_combine.conv.conv_dw.weight', 'fpn.cell.5.fnode.6.after_combine.conv.conv_pw.weight', 'fpn.cell.5.fnode.6.after_combine.conv.conv_pw.bias', 'fpn.cell.5.fnode.6.after_combine.conv.bn.weight', 'fpn.cell.5.fnode.6.after_combine.conv.bn.bias', 'fpn.cell.5.fnode.6.after_combine.conv.bn.running_mean', 'fpn.cell.5.fnode.6.after_combine.conv.bn.running_var', 'fpn.cell.5.fnode.6.after_combine.conv.bn.num_batches_tracked', 'fpn.cell.5.fnode.7.combine.edge_weights', 'fpn.cell.5.fnode.7.after_combine.conv.conv_dw.weight', 'fpn.cell.5.fnode.7.after_combine.conv.conv_pw.weight', 'fpn.cell.5.fnode.7.after_combine.conv.conv_pw.bias', 'fpn.cell.5.fnode.7.after_combine.conv.bn.weight', 'fpn.cell.5.fnode.7.after_combine.conv.bn.bias', 'fpn.cell.5.fnode.7.after_combine.conv.bn.running_mean', 'fpn.cell.5.fnode.7.after_combine.conv.bn.running_var', 'fpn.cell.5.fnode.7.after_combine.conv.bn.num_batches_tracked', 'fpn.cell.6.fnode.0.combine.edge_weights', 'fpn.cell.6.fnode.0.after_combine.conv.conv_dw.weight', 'fpn.cell.6.fnode.0.after_combine.conv.conv_pw.weight', 'fpn.cell.6.fnode.0.after_combine.conv.conv_pw.bias', 'fpn.cell.6.fnode.0.after_combine.conv.bn.weight', 'fpn.cell.6.fnode.0.after_combine.conv.bn.bias', 'fpn.cell.6.fnode.0.after_combine.conv.bn.running_mean', 'fpn.cell.6.fnode.0.after_combine.conv.bn.running_var', 'fpn.cell.6.fnode.0.after_combine.conv.bn.num_batches_tracked', 'fpn.cell.6.fnode.1.combine.edge_weights', 'fpn.cell.6.fnode.1.after_combine.conv.conv_dw.weight', 'fpn.cell.6.fnode.1.after_combine.conv.conv_pw.weight', 'fpn.cell.6.fnode.1.after_combine.conv.conv_pw.bias', 'fpn.cell.6.fnode.1.after_combine.conv.bn.weight', 'fpn.cell.6.fnode.1.after_combine.conv.bn.bias', 'fpn.cell.6.fnode.1.after_combine.conv.bn.running_mean', 'fpn.cell.6.fnode.1.after_combine.conv.bn.running_var', 'fpn.cell.6.fnode.1.after_combine.conv.bn.num_batches_tracked', 'fpn.cell.6.fnode.2.combine.edge_weights', 'fpn.cell.6.fnode.2.after_combine.conv.conv_dw.weight', 'fpn.cell.6.fnode.2.after_combine.conv.conv_pw.weight', 'fpn.cell.6.fnode.2.after_combine.conv.conv_pw.bias', 'fpn.cell.6.fnode.2.after_combine.conv.bn.weight', 'fpn.cell.6.fnode.2.after_combine.conv.bn.bias', 'fpn.cell.6.fnode.2.after_combine.conv.bn.running_mean', 'fpn.cell.6.fnode.2.after_combine.conv.bn.running_var', 'fpn.cell.6.fnode.2.after_combine.conv.bn.num_batches_tracked', 'fpn.cell.6.fnode.3.combine.edge_weights', 'fpn.cell.6.fnode.3.after_combine.conv.conv_dw.weight', 'fpn.cell.6.fnode.3.after_combine.conv.conv_pw.weight', 'fpn.cell.6.fnode.3.after_combine.conv.conv_pw.bias', 'fpn.cell.6.fnode.3.after_combine.conv.bn.weight', 'fpn.cell.6.fnode.3.after_combine.conv.bn.bias', 'fpn.cell.6.fnode.3.after_combine.conv.bn.running_mean', 'fpn.cell.6.fnode.3.after_combine.conv.bn.running_var', 'fpn.cell.6.fnode.3.after_combine.conv.bn.num_batches_tracked', 'fpn.cell.6.fnode.4.combine.edge_weights', 'fpn.cell.6.fnode.4.after_combine.conv.conv_dw.weight', 'fpn.cell.6.fnode.4.after_combine.conv.conv_pw.weight', 'fpn.cell.6.fnode.4.after_combine.conv.conv_pw.bias', 'fpn.cell.6.fnode.4.after_combine.conv.bn.weight', 'fpn.cell.6.fnode.4.after_combine.conv.bn.bias', 'fpn.cell.6.fnode.4.after_combine.conv.bn.running_mean', 'fpn.cell.6.fnode.4.after_combine.conv.bn.running_var', 'fpn.cell.6.fnode.4.after_combine.conv.bn.num_batches_tracked', 'fpn.cell.6.fnode.5.combine.edge_weights', 'fpn.cell.6.fnode.5.after_combine.conv.conv_dw.weight', 'fpn.cell.6.fnode.5.after_combine.conv.conv_pw.weight', 'fpn.cell.6.fnode.5.after_combine.conv.conv_pw.bias', 'fpn.cell.6.fnode.5.after_combine.conv.bn.weight', 'fpn.cell.6.fnode.5.after_combine.conv.bn.bias', 'fpn.cell.6.fnode.5.after_combine.conv.bn.running_mean', 'fpn.cell.6.fnode.5.after_combine.conv.bn.running_var', 'fpn.cell.6.fnode.5.after_combine.conv.bn.num_batches_tracked', 'fpn.cell.6.fnode.6.combine.edge_weights', 'fpn.cell.6.fnode.6.after_combine.conv.conv_dw.weight', 'fpn.cell.6.fnode.6.after_combine.conv.conv_pw.weight', 'fpn.cell.6.fnode.6.after_combine.conv.conv_pw.bias', 'fpn.cell.6.fnode.6.after_combine.conv.bn.weight', 'fpn.cell.6.fnode.6.after_combine.conv.bn.bias', 'fpn.cell.6.fnode.6.after_combine.conv.bn.running_mean', 'fpn.cell.6.fnode.6.after_combine.conv.bn.running_var', 'fpn.cell.6.fnode.6.after_combine.conv.bn.num_batches_tracked', 'fpn.cell.6.fnode.7.combine.edge_weights', 'fpn.cell.6.fnode.7.after_combine.conv.conv_dw.weight', 'fpn.cell.6.fnode.7.after_combine.conv.conv_pw.weight', 'fpn.cell.6.fnode.7.after_combine.conv.conv_pw.bias', 'fpn.cell.6.fnode.7.after_combine.conv.bn.weight', 'fpn.cell.6.fnode.7.after_combine.conv.bn.bias', 'fpn.cell.6.fnode.7.after_combine.conv.bn.running_mean', 'fpn.cell.6.fnode.7.after_combine.conv.bn.running_var', 'fpn.cell.6.fnode.7.after_combine.conv.bn.num_batches_tracked', 'class_net.conv_rep.0.conv_dw.weight', 'class_net.conv_rep.0.conv_pw.weight', 'class_net.conv_rep.0.conv_pw.bias', 'class_net.conv_rep.1.conv_dw.weight', 'class_net.conv_rep.1.conv_pw.weight', 'class_net.conv_rep.1.conv_pw.bias', 'class_net.conv_rep.2.conv_dw.weight', 'class_net.conv_rep.2.conv_pw.weight', 'class_net.conv_rep.2.conv_pw.bias', 'class_net.conv_rep.3.conv_dw.weight', 'class_net.conv_rep.3.conv_pw.weight', 'class_net.conv_rep.3.conv_pw.bias', 'class_net.bn_rep.0.0.bn.weight', 'class_net.bn_rep.0.0.bn.bias', 'class_net.bn_rep.0.0.bn.running_mean', 'class_net.bn_rep.0.0.bn.running_var', 'class_net.bn_rep.0.0.bn.num_batches_tracked', 'class_net.bn_rep.0.1.bn.weight', 'class_net.bn_rep.0.1.bn.bias', 'class_net.bn_rep.0.1.bn.running_mean', 'class_net.bn_rep.0.1.bn.running_var', 'class_net.bn_rep.0.1.bn.num_batches_tracked', 'class_net.bn_rep.0.2.bn.weight', 'class_net.bn_rep.0.2.bn.bias', 'class_net.bn_rep.0.2.bn.running_mean', 'class_net.bn_rep.0.2.bn.running_var', 'class_net.bn_rep.0.2.bn.num_batches_tracked', 'class_net.bn_rep.0.3.bn.weight', 'class_net.bn_rep.0.3.bn.bias', 'class_net.bn_rep.0.3.bn.running_mean', 'class_net.bn_rep.0.3.bn.running_var', 'class_net.bn_rep.0.3.bn.num_batches_tracked', 'class_net.bn_rep.0.4.bn.weight', 'class_net.bn_rep.0.4.bn.bias', 'class_net.bn_rep.0.4.bn.running_mean', 'class_net.bn_rep.0.4.bn.running_var', 'class_net.bn_rep.0.4.bn.num_batches_tracked', 'class_net.bn_rep.1.0.bn.weight', 'class_net.bn_rep.1.0.bn.bias', 'class_net.bn_rep.1.0.bn.running_mean', 'class_net.bn_rep.1.0.bn.running_var', 'class_net.bn_rep.1.0.bn.num_batches_tracked', 'class_net.bn_rep.1.1.bn.weight', 'class_net.bn_rep.1.1.bn.bias', 'class_net.bn_rep.1.1.bn.running_mean', 'class_net.bn_rep.1.1.bn.running_var', 'class_net.bn_rep.1.1.bn.num_batches_tracked', 'class_net.bn_rep.1.2.bn.weight', 'class_net.bn_rep.1.2.bn.bias', 'class_net.bn_rep.1.2.bn.running_mean', 'class_net.bn_rep.1.2.bn.running_var', 'class_net.bn_rep.1.2.bn.num_batches_tracked', 'class_net.bn_rep.1.3.bn.weight', 'class_net.bn_rep.1.3.bn.bias', 'class_net.bn_rep.1.3.bn.running_mean', 'class_net.bn_rep.1.3.bn.running_var', 'class_net.bn_rep.1.3.bn.num_batches_tracked', 'class_net.bn_rep.1.4.bn.weight', 'class_net.bn_rep.1.4.bn.bias', 'class_net.bn_rep.1.4.bn.running_mean', 'class_net.bn_rep.1.4.bn.running_var', 'class_net.bn_rep.1.4.bn.num_batches_tracked', 'class_net.bn_rep.2.0.bn.weight', 'class_net.bn_rep.2.0.bn.bias', 'class_net.bn_rep.2.0.bn.running_mean', 'class_net.bn_rep.2.0.bn.running_var', 'class_net.bn_rep.2.0.bn.num_batches_tracked', 'class_net.bn_rep.2.1.bn.weight', 'class_net.bn_rep.2.1.bn.bias', 'class_net.bn_rep.2.1.bn.running_mean', 'class_net.bn_rep.2.1.bn.running_var', 'class_net.bn_rep.2.1.bn.num_batches_tracked', 'class_net.bn_rep.2.2.bn.weight', 'class_net.bn_rep.2.2.bn.bias', 'class_net.bn_rep.2.2.bn.running_mean', 'class_net.bn_rep.2.2.bn.running_var', 'class_net.bn_rep.2.2.bn.num_batches_tracked', 'class_net.bn_rep.2.3.bn.weight', 'class_net.bn_rep.2.3.bn.bias', 'class_net.bn_rep.2.3.bn.running_mean', 'class_net.bn_rep.2.3.bn.running_var', 'class_net.bn_rep.2.3.bn.num_batches_tracked', 'class_net.bn_rep.2.4.bn.weight', 'class_net.bn_rep.2.4.bn.bias', 'class_net.bn_rep.2.4.bn.running_mean', 'class_net.bn_rep.2.4.bn.running_var', 'class_net.bn_rep.2.4.bn.num_batches_tracked', 'class_net.bn_rep.3.0.bn.weight', 'class_net.bn_rep.3.0.bn.bias', 'class_net.bn_rep.3.0.bn.running_mean', 'class_net.bn_rep.3.0.bn.running_var', 'class_net.bn_rep.3.0.bn.num_batches_tracked', 'class_net.bn_rep.3.1.bn.weight', 'class_net.bn_rep.3.1.bn.bias', 'class_net.bn_rep.3.1.bn.running_mean', 'class_net.bn_rep.3.1.bn.running_var', 'class_net.bn_rep.3.1.bn.num_batches_tracked', 'class_net.bn_rep.3.2.bn.weight', 'class_net.bn_rep.3.2.bn.bias', 'class_net.bn_rep.3.2.bn.running_mean', 'class_net.bn_rep.3.2.bn.running_var', 'class_net.bn_rep.3.2.bn.num_batches_tracked', 'class_net.bn_rep.3.3.bn.weight', 'class_net.bn_rep.3.3.bn.bias', 'class_net.bn_rep.3.3.bn.running_mean', 'class_net.bn_rep.3.3.bn.running_var', 'class_net.bn_rep.3.3.bn.num_batches_tracked', 'class_net.bn_rep.3.4.bn.weight', 'class_net.bn_rep.3.4.bn.bias', 'class_net.bn_rep.3.4.bn.running_mean', 'class_net.bn_rep.3.4.bn.running_var', 'class_net.bn_rep.3.4.bn.num_batches_tracked', 'class_net.predict.conv_dw.weight', 'class_net.predict.conv_pw.weight', 'class_net.predict.conv_pw.bias', 'box_net.conv_rep.0.conv_dw.weight', 'box_net.conv_rep.0.conv_pw.weight', 'box_net.conv_rep.0.conv_pw.bias', 'box_net.conv_rep.1.conv_dw.weight', 'box_net.conv_rep.1.conv_pw.weight', 'box_net.conv_rep.1.conv_pw.bias', 'box_net.conv_rep.2.conv_dw.weight', 'box_net.conv_rep.2.conv_pw.weight', 'box_net.conv_rep.2.conv_pw.bias', 'box_net.conv_rep.3.conv_dw.weight', 'box_net.conv_rep.3.conv_pw.weight', 'box_net.conv_rep.3.conv_pw.bias', 'box_net.bn_rep.0.0.bn.weight', 'box_net.bn_rep.0.0.bn.bias', 'box_net.bn_rep.0.0.bn.running_mean', 'box_net.bn_rep.0.0.bn.running_var', 'box_net.bn_rep.0.0.bn.num_batches_tracked', 'box_net.bn_rep.0.1.bn.weight', 'box_net.bn_rep.0.1.bn.bias', 'box_net.bn_rep.0.1.bn.running_mean', 'box_net.bn_rep.0.1.bn.running_var', 'box_net.bn_rep.0.1.bn.num_batches_tracked', 'box_net.bn_rep.0.2.bn.weight', 'box_net.bn_rep.0.2.bn.bias', 'box_net.bn_rep.0.2.bn.running_mean', 'box_net.bn_rep.0.2.bn.running_var', 'box_net.bn_rep.0.2.bn.num_batches_tracked', 'box_net.bn_rep.0.3.bn.weight', 'box_net.bn_rep.0.3.bn.bias', 'box_net.bn_rep.0.3.bn.running_mean', 'box_net.bn_rep.0.3.bn.running_var', 'box_net.bn_rep.0.3.bn.num_batches_tracked', 'box_net.bn_rep.0.4.bn.weight', 'box_net.bn_rep.0.4.bn.bias', 'box_net.bn_rep.0.4.bn.running_mean', 'box_net.bn_rep.0.4.bn.running_var', 'box_net.bn_rep.0.4.bn.num_batches_tracked', 'box_net.bn_rep.1.0.bn.weight', 'box_net.bn_rep.1.0.bn.bias', 'box_net.bn_rep.1.0.bn.running_mean', 'box_net.bn_rep.1.0.bn.running_var', 'box_net.bn_rep.1.0.bn.num_batches_tracked', 'box_net.bn_rep.1.1.bn.weight', 'box_net.bn_rep.1.1.bn.bias', 'box_net.bn_rep.1.1.bn.running_mean', 'box_net.bn_rep.1.1.bn.running_var', 'box_net.bn_rep.1.1.bn.num_batches_tracked', 'box_net.bn_rep.1.2.bn.weight', 'box_net.bn_rep.1.2.bn.bias', 'box_net.bn_rep.1.2.bn.running_mean', 'box_net.bn_rep.1.2.bn.running_var', 'box_net.bn_rep.1.2.bn.num_batches_tracked', 'box_net.bn_rep.1.3.bn.weight', 'box_net.bn_rep.1.3.bn.bias', 'box_net.bn_rep.1.3.bn.running_mean', 'box_net.bn_rep.1.3.bn.running_var', 'box_net.bn_rep.1.3.bn.num_batches_tracked', 'box_net.bn_rep.1.4.bn.weight', 'box_net.bn_rep.1.4.bn.bias', 'box_net.bn_rep.1.4.bn.running_mean', 'box_net.bn_rep.1.4.bn.running_var', 'box_net.bn_rep.1.4.bn.num_batches_tracked', 'box_net.bn_rep.2.0.bn.weight', 'box_net.bn_rep.2.0.bn.bias', 'box_net.bn_rep.2.0.bn.running_mean', 'box_net.bn_rep.2.0.bn.running_var', 'box_net.bn_rep.2.0.bn.num_batches_tracked', 'box_net.bn_rep.2.1.bn.weight', 'box_net.bn_rep.2.1.bn.bias', 'box_net.bn_rep.2.1.bn.running_mean', 'box_net.bn_rep.2.1.bn.running_var', 'box_net.bn_rep.2.1.bn.num_batches_tracked', 'box_net.bn_rep.2.2.bn.weight', 'box_net.bn_rep.2.2.bn.bias', 'box_net.bn_rep.2.2.bn.running_mean', 'box_net.bn_rep.2.2.bn.running_var', 'box_net.bn_rep.2.2.bn.num_batches_tracked', 'box_net.bn_rep.2.3.bn.weight', 'box_net.bn_rep.2.3.bn.bias', 'box_net.bn_rep.2.3.bn.running_mean', 'box_net.bn_rep.2.3.bn.running_var', 'box_net.bn_rep.2.3.bn.num_batches_tracked', 'box_net.bn_rep.2.4.bn.weight', 'box_net.bn_rep.2.4.bn.bias', 'box_net.bn_rep.2.4.bn.running_mean', 'box_net.bn_rep.2.4.bn.running_var', 'box_net.bn_rep.2.4.bn.num_batches_tracked', 'box_net.bn_rep.3.0.bn.weight', 'box_net.bn_rep.3.0.bn.bias', 'box_net.bn_rep.3.0.bn.running_mean', 'box_net.bn_rep.3.0.bn.running_var', 'box_net.bn_rep.3.0.bn.num_batches_tracked', 'box_net.bn_rep.3.1.bn.weight', 'box_net.bn_rep.3.1.bn.bias', 'box_net.bn_rep.3.1.bn.running_mean', 'box_net.bn_rep.3.1.bn.running_var', 'box_net.bn_rep.3.1.bn.num_batches_tracked', 'box_net.bn_rep.3.2.bn.weight', 'box_net.bn_rep.3.2.bn.bias', 'box_net.bn_rep.3.2.bn.running_mean', 'box_net.bn_rep.3.2.bn.running_var', 'box_net.bn_rep.3.2.bn.num_batches_tracked', 'box_net.bn_rep.3.3.bn.weight', 'box_net.bn_rep.3.3.bn.bias', 'box_net.bn_rep.3.3.bn.running_mean', 'box_net.bn_rep.3.3.bn.running_var', 'box_net.bn_rep.3.3.bn.num_batches_tracked', 'box_net.bn_rep.3.4.bn.weight', 'box_net.bn_rep.3.4.bn.bias', 'box_net.bn_rep.3.4.bn.running_mean', 'box_net.bn_rep.3.4.bn.running_var', 'box_net.bn_rep.3.4.bn.num_batches_tracked', 'box_net.predict.conv_dw.weight', 'box_net.predict.conv_pw.weight', 'box_net.predict.conv_pw.bias'])"
      ]
     },
     "execution_count": 421,
     "metadata": {},
     "output_type": "execute_result"
    }
   ],
   "source": [
    "state_dict.keys()"
   ]
  },
  {
   "cell_type": "markdown",
   "metadata": {},
   "source": [
    "# Backbone"
   ]
  },
  {
   "cell_type": "code",
   "execution_count": 422,
   "metadata": {},
   "outputs": [],
   "source": [
    "for orig, target in zip(state_dict.keys(), to.keys()):\n",
    "    if orig.startswith('backbone'):\n",
    "        assert to[target].shape == state_dict[orig].shape, 'Wrong shapes ooooops {} {} vs {} {}'.format(\n",
    "                                    target, to[target].shape, orig, state_dict[orig].shape)\n",
    "        to[target] = state_dict[orig]\n",
    "        remove_state_dict_keys_when_filled.remove(orig)\n",
    "        remove_to_keys_when_filled.remove(target)\n",
    "        \n",
    "#     print(orig, target)\n",
    "#     a = state_dict[orig].shape\n",
    "#     b = to[target].shape\n",
    "#     print(a == b)"
   ]
  },
  {
   "cell_type": "code",
   "execution_count": 423,
   "metadata": {},
   "outputs": [],
   "source": [
    "for orig, target in zip(state_dict.keys(), to.keys()):\n",
    "    if orig.startswith('backbone'):\n",
    "        if not np.allclose(to[target], state_dict[orig]):\n",
    "            print(orig, target)"
   ]
  },
  {
   "cell_type": "code",
   "execution_count": 424,
   "metadata": {},
   "outputs": [
    {
     "data": {
      "text/plain": [
       "True"
      ]
     },
     "execution_count": 424,
     "metadata": {},
     "output_type": "execute_result"
    }
   ],
   "source": [
    "torch.allclose(to['backbone.model._bn0.bias'], state_dict['backbone.bn1.bias'])"
   ]
  },
  {
   "cell_type": "markdown",
   "metadata": {},
   "source": [
    "\n",
    "# BiFPN"
   ]
  },
  {
   "cell_type": "code",
   "execution_count": 425,
   "metadata": {
    "scrolled": false
   },
   "outputs": [],
   "source": [
    "to_bifpn = []\n",
    "for k in to.keys():\n",
    "    if k.startswith('bifpn') or k.startswith('adjuster'):\n",
    "        to_bifpn.append(k)"
   ]
  },
  {
   "cell_type": "code",
   "execution_count": 426,
   "metadata": {},
   "outputs": [],
   "source": [
    "orig_bifpn = []\n",
    "for k in state_dict.keys():\n",
    "    if k.startswith('fpn'):\n",
    "        if 'conv' in k and 'bn' not in k and k.endswith('bias'):\n",
    "            pass\n",
    "        else:\n",
    "            orig_bifpn.append(k)"
   ]
  },
  {
   "cell_type": "code",
   "execution_count": 427,
   "metadata": {},
   "outputs": [
    {
     "data": {
      "text/plain": [
       "True"
      ]
     },
     "execution_count": 427,
     "metadata": {},
     "output_type": "execute_result"
    }
   ],
   "source": [
    "len(to_bifpn) == len(orig_bifpn)"
   ]
  },
  {
   "cell_type": "markdown",
   "metadata": {},
   "source": [
    "## Resample Part"
   ]
  },
  {
   "cell_type": "code",
   "execution_count": 428,
   "metadata": {},
   "outputs": [],
   "source": [
    "to_resample = []\n",
    "to_rest = []\n",
    "for b in to_bifpn:\n",
    "    if 'adjuster' in b:\n",
    "        to_resample.append(b)\n",
    "    else:\n",
    "        to_rest.append(b)"
   ]
  },
  {
   "cell_type": "code",
   "execution_count": 429,
   "metadata": {},
   "outputs": [],
   "source": [
    "orig_resample = []\n",
    "orig_rest = []\n",
    "for b in orig_bifpn:\n",
    "    if 'resample' in b:\n",
    "        orig_resample.append(b)\n",
    "    else:\n",
    "        orig_rest.append(b)"
   ]
  },
  {
   "cell_type": "code",
   "execution_count": 430,
   "metadata": {},
   "outputs": [
    {
     "name": "stdout",
     "output_type": "stream",
     "text": [
      "adjuster.convs.0.conv.weight torch.Size([288, 64, 1, 1])\n",
      "adjuster.convs.1.conv.weight torch.Size([288, 176, 1, 1])\n",
      "adjuster.convs.2.conv.weight torch.Size([288, 176, 1, 1])\n",
      "adjuster.convs.3.conv.weight torch.Size([288, 512, 1, 1])\n",
      "adjuster.convs.4.conv.weight torch.Size([288, 512, 1, 1])\n",
      "adjuster.p5_to_p6.0.conv.weight torch.Size([288, 512, 1, 1])\n"
     ]
    }
   ],
   "source": [
    "for t in to_resample:\n",
    "    if t.endswith('conv.weight'):\n",
    "        print(t, to[t].shape)"
   ]
  },
  {
   "cell_type": "code",
   "execution_count": 431,
   "metadata": {},
   "outputs": [
    {
     "name": "stdout",
     "output_type": "stream",
     "text": [
      "fpn.resample.3.conv.conv.weight torch.Size([288, 512, 1, 1])\n",
      "fpn.cell.0.fnode.1.combine.resample.2.conv.conv.weight torch.Size([288, 512, 1, 1])\n",
      "fpn.cell.0.fnode.2.combine.resample.1.conv.conv.weight torch.Size([288, 176, 1, 1])\n",
      "fpn.cell.0.fnode.3.combine.resample.0.conv.conv.weight torch.Size([288, 64, 1, 1])\n",
      "fpn.cell.0.fnode.4.combine.resample.1.conv.conv.weight torch.Size([288, 176, 1, 1])\n",
      "fpn.cell.0.fnode.5.combine.resample.2.conv.conv.weight torch.Size([288, 512, 1, 1])\n"
     ]
    }
   ],
   "source": [
    "for t in orig_resample:\n",
    "    if t.endswith('conv.weight'):\n",
    "        print(t, state_dict[t].shape)"
   ]
  },
  {
   "cell_type": "code",
   "execution_count": 432,
   "metadata": {},
   "outputs": [],
   "source": [
    "resample_map = {\n",
    "    'fpn.resample.3.conv': 'adjuster.p5_to_p6.0',\n",
    "    'fpn.cell.0.fnode.1.combine.resample.2.conv': 'adjuster.convs.3',\n",
    "    'fpn.cell.0.fnode.2.combine.resample.1.conv': 'adjuster.convs.1',\n",
    "    'fpn.cell.0.fnode.3.combine.resample.0.conv': 'adjuster.convs.0',\n",
    "    'fpn.cell.0.fnode.4.combine.resample.1.conv': 'adjuster.convs.2',\n",
    "    'fpn.cell.0.fnode.5.combine.resample.2.conv': 'adjuster.convs.4'\n",
    "}"
   ]
  },
  {
   "cell_type": "code",
   "execution_count": 433,
   "metadata": {},
   "outputs": [],
   "source": [
    "additions = ['.conv.weight', '.bn.weight', '.bn.bias', '.bn.running_mean', '.bn.running_var', '.bn.num_batches_tracked']"
   ]
  },
  {
   "cell_type": "code",
   "execution_count": 434,
   "metadata": {},
   "outputs": [
    {
     "name": "stdout",
     "output_type": "stream",
     "text": [
      "adjuster.p5_to_p6.0.conv.weight fpn.resample.3.conv.conv.weight\n",
      "adjuster.p5_to_p6.0.bn.weight fpn.resample.3.conv.bn.weight\n",
      "adjuster.p5_to_p6.0.bn.bias fpn.resample.3.conv.bn.bias\n",
      "adjuster.p5_to_p6.0.bn.running_mean fpn.resample.3.conv.bn.running_mean\n",
      "adjuster.p5_to_p6.0.bn.running_var fpn.resample.3.conv.bn.running_var\n",
      "adjuster.p5_to_p6.0.bn.num_batches_tracked fpn.resample.3.conv.bn.num_batches_tracked\n",
      "adjuster.convs.3.conv.weight fpn.cell.0.fnode.1.combine.resample.2.conv.conv.weight\n",
      "adjuster.convs.3.bn.weight fpn.cell.0.fnode.1.combine.resample.2.conv.bn.weight\n",
      "adjuster.convs.3.bn.bias fpn.cell.0.fnode.1.combine.resample.2.conv.bn.bias\n",
      "adjuster.convs.3.bn.running_mean fpn.cell.0.fnode.1.combine.resample.2.conv.bn.running_mean\n",
      "adjuster.convs.3.bn.running_var fpn.cell.0.fnode.1.combine.resample.2.conv.bn.running_var\n",
      "adjuster.convs.3.bn.num_batches_tracked fpn.cell.0.fnode.1.combine.resample.2.conv.bn.num_batches_tracked\n",
      "adjuster.convs.1.conv.weight fpn.cell.0.fnode.2.combine.resample.1.conv.conv.weight\n",
      "adjuster.convs.1.bn.weight fpn.cell.0.fnode.2.combine.resample.1.conv.bn.weight\n",
      "adjuster.convs.1.bn.bias fpn.cell.0.fnode.2.combine.resample.1.conv.bn.bias\n",
      "adjuster.convs.1.bn.running_mean fpn.cell.0.fnode.2.combine.resample.1.conv.bn.running_mean\n",
      "adjuster.convs.1.bn.running_var fpn.cell.0.fnode.2.combine.resample.1.conv.bn.running_var\n",
      "adjuster.convs.1.bn.num_batches_tracked fpn.cell.0.fnode.2.combine.resample.1.conv.bn.num_batches_tracked\n",
      "adjuster.convs.0.conv.weight fpn.cell.0.fnode.3.combine.resample.0.conv.conv.weight\n",
      "adjuster.convs.0.bn.weight fpn.cell.0.fnode.3.combine.resample.0.conv.bn.weight\n",
      "adjuster.convs.0.bn.bias fpn.cell.0.fnode.3.combine.resample.0.conv.bn.bias\n",
      "adjuster.convs.0.bn.running_mean fpn.cell.0.fnode.3.combine.resample.0.conv.bn.running_mean\n",
      "adjuster.convs.0.bn.running_var fpn.cell.0.fnode.3.combine.resample.0.conv.bn.running_var\n",
      "adjuster.convs.0.bn.num_batches_tracked fpn.cell.0.fnode.3.combine.resample.0.conv.bn.num_batches_tracked\n",
      "adjuster.convs.2.conv.weight fpn.cell.0.fnode.4.combine.resample.1.conv.conv.weight\n",
      "adjuster.convs.2.bn.weight fpn.cell.0.fnode.4.combine.resample.1.conv.bn.weight\n",
      "adjuster.convs.2.bn.bias fpn.cell.0.fnode.4.combine.resample.1.conv.bn.bias\n",
      "adjuster.convs.2.bn.running_mean fpn.cell.0.fnode.4.combine.resample.1.conv.bn.running_mean\n",
      "adjuster.convs.2.bn.running_var fpn.cell.0.fnode.4.combine.resample.1.conv.bn.running_var\n",
      "adjuster.convs.2.bn.num_batches_tracked fpn.cell.0.fnode.4.combine.resample.1.conv.bn.num_batches_tracked\n",
      "adjuster.convs.4.conv.weight fpn.cell.0.fnode.5.combine.resample.2.conv.conv.weight\n",
      "adjuster.convs.4.bn.weight fpn.cell.0.fnode.5.combine.resample.2.conv.bn.weight\n",
      "adjuster.convs.4.bn.bias fpn.cell.0.fnode.5.combine.resample.2.conv.bn.bias\n",
      "adjuster.convs.4.bn.running_mean fpn.cell.0.fnode.5.combine.resample.2.conv.bn.running_mean\n",
      "adjuster.convs.4.bn.running_var fpn.cell.0.fnode.5.combine.resample.2.conv.bn.running_var\n",
      "adjuster.convs.4.bn.num_batches_tracked fpn.cell.0.fnode.5.combine.resample.2.conv.bn.num_batches_tracked\n"
     ]
    }
   ],
   "source": [
    "for from_base, to_base in resample_map.items():\n",
    "    for add in additions:\n",
    "        f = from_base + add\n",
    "        t = to_base + add\n",
    "        assert f in state_dict, 'Missing {}'.format(f)\n",
    "        assert t in to, 'Missing {}'.format(t)\n",
    "        assert to[t].shape == state_dict[f].shape, 'Shapes mismatch {} {} vs {} {}'.format(t, to[t].shape,\n",
    "                                                                                           f, state_dict[f].shape)\n",
    "        print(t, f)\n",
    "        to[t] = state_dict[f]\n",
    "        remove_state_dict_keys_when_filled.remove(f)\n",
    "        remove_to_keys_when_filled.remove(t)"
   ]
  },
  {
   "cell_type": "code",
   "execution_count": 435,
   "metadata": {},
   "outputs": [
    {
     "data": {
      "text/plain": [
       "True"
      ]
     },
     "execution_count": 435,
     "metadata": {},
     "output_type": "execute_result"
    }
   ],
   "source": [
    "torch.allclose(to['adjuster.convs.0.conv.weight'], state_dict['fpn.cell.0.fnode.3.combine.resample.0.conv.conv.weight'])"
   ]
  },
  {
   "cell_type": "code",
   "execution_count": 436,
   "metadata": {},
   "outputs": [],
   "source": [
    "to_blocks = []\n",
    "orig_blocks = []"
   ]
  },
  {
   "cell_type": "code",
   "execution_count": 437,
   "metadata": {},
   "outputs": [],
   "source": [
    "cur_to_block = []\n",
    "cur_orig_block = []\n",
    "cur_block_id = 0\n",
    "for t, f in zip(to_rest, orig_rest):\n",
    "    if int(t[6]) != cur_block_id:\n",
    "        cur_block_id = int(t[6])\n",
    "        \n",
    "        to_blocks.append(cur_to_block)\n",
    "        orig_blocks.append(cur_orig_block)\n",
    " \n",
    "        cur_to_block = []\n",
    "        cur_orig_block = []\n",
    "    \n",
    "    cur_to_block.append(t)\n",
    "    cur_orig_block.append(f)\n",
    "    \n",
    "to_blocks.append(cur_to_block)\n",
    "orig_blocks.append(cur_orig_block)"
   ]
  },
  {
   "cell_type": "code",
   "execution_count": 438,
   "metadata": {},
   "outputs": [],
   "source": [
    "layers_map = {\n",
    "    'weights_4_td': 'fnode.2.combine.edge_weights',\n",
    "    'weights_5_td': 'fnode.1.combine.edge_weights',\n",
    "    'weights_6_td': 'fnode.0.combine.edge_weights',\n",
    "    'weights_3_out': 'fnode.3.combine.edge_weights',\n",
    "    'weights_4_out': 'fnode.4.combine.edge_weights',\n",
    "    'weights_5_out': 'fnode.5.combine.edge_weights',\n",
    "    'weights_6_out': 'fnode.6.combine.edge_weights',\n",
    "    'weights_7_out': 'fnode.7.combine.edge_weights',\n",
    "    'conv_4_td': 'fnode.2.after_combine.conv',\n",
    "    'conv_5_td': 'fnode.1.after_combine.conv',\n",
    "    'conv_6_td': 'fnode.0.after_combine.conv',\n",
    "    'conv_3_out': 'fnode.3.after_combine.conv',\n",
    "    'conv_4_out': 'fnode.4.after_combine.conv',\n",
    "    'conv_5_out': 'fnode.5.after_combine.conv',\n",
    "    'conv_6_out': 'fnode.6.after_combine.conv',\n",
    "    'conv_7_out': 'fnode.7.after_combine.conv',\n",
    "    \n",
    "}\n",
    "\n",
    "\n",
    "def merge_bifpn_blocks(to_block, orig_block, block_id):\n",
    "    for t_name in to_block:\n",
    "        t = t_name[8:].split('.')[0]\n",
    "        \n",
    "        if t not in layers_map:\n",
    "            raise Exception('No {} in layers dict'.format(t))\n",
    "            \n",
    "        match = layers_map[t]\n",
    "        real_match = 'fpn.cell.{}.'.format(block_id) + match\n",
    "        \n",
    "        if not real_match.endswith('weights'):\n",
    "            real_match += t_name[t_name.find(t) + len(t):]\n",
    "            \n",
    "        assert t_name in to.keys(), 'Did not find {}'.format(t_name)\n",
    "        assert real_match in state_dict.keys(), 'Did not find {}'.format(real_match)\n",
    "        \n",
    "        assert to[t_name].shape == state_dict[real_match].shape, 'Shapes mismatch {} {} vs {} {}'.format(t_name, to[t_name].shape,\n",
    "                                                                                           real_match, state_dict[real_match].shape)\n",
    "        \n",
    "        print(t_name, real_match)\n",
    "        to[t_name] = state_dict[real_match]\n",
    "        \n",
    "        remove_state_dict_keys_when_filled.remove(real_match)\n",
    "        remove_to_keys_when_filled.remove(t_name)"
   ]
  },
  {
   "cell_type": "code",
   "execution_count": 439,
   "metadata": {},
   "outputs": [
    {
     "name": "stdout",
     "output_type": "stream",
     "text": [
      "bifpn.0.weights_4_td fpn.cell.0.fnode.2.combine.edge_weights\n",
      "bifpn.0.weights_5_td fpn.cell.0.fnode.1.combine.edge_weights\n",
      "bifpn.0.weights_6_td fpn.cell.0.fnode.0.combine.edge_weights\n",
      "bifpn.0.weights_3_out fpn.cell.0.fnode.3.combine.edge_weights\n",
      "bifpn.0.weights_4_out fpn.cell.0.fnode.4.combine.edge_weights\n",
      "bifpn.0.weights_5_out fpn.cell.0.fnode.5.combine.edge_weights\n",
      "bifpn.0.weights_6_out fpn.cell.0.fnode.6.combine.edge_weights\n",
      "bifpn.0.weights_7_out fpn.cell.0.fnode.7.combine.edge_weights\n",
      "bifpn.0.conv_4_td.conv_dw.weight fpn.cell.0.fnode.2.after_combine.conv.conv_dw.weight\n",
      "bifpn.0.conv_4_td.conv_pw.weight fpn.cell.0.fnode.2.after_combine.conv.conv_pw.weight\n",
      "bifpn.0.conv_4_td.bn.weight fpn.cell.0.fnode.2.after_combine.conv.bn.weight\n",
      "bifpn.0.conv_4_td.bn.bias fpn.cell.0.fnode.2.after_combine.conv.bn.bias\n",
      "bifpn.0.conv_4_td.bn.running_mean fpn.cell.0.fnode.2.after_combine.conv.bn.running_mean\n",
      "bifpn.0.conv_4_td.bn.running_var fpn.cell.0.fnode.2.after_combine.conv.bn.running_var\n",
      "bifpn.0.conv_4_td.bn.num_batches_tracked fpn.cell.0.fnode.2.after_combine.conv.bn.num_batches_tracked\n",
      "bifpn.0.conv_5_td.conv_dw.weight fpn.cell.0.fnode.1.after_combine.conv.conv_dw.weight\n",
      "bifpn.0.conv_5_td.conv_pw.weight fpn.cell.0.fnode.1.after_combine.conv.conv_pw.weight\n",
      "bifpn.0.conv_5_td.bn.weight fpn.cell.0.fnode.1.after_combine.conv.bn.weight\n",
      "bifpn.0.conv_5_td.bn.bias fpn.cell.0.fnode.1.after_combine.conv.bn.bias\n",
      "bifpn.0.conv_5_td.bn.running_mean fpn.cell.0.fnode.1.after_combine.conv.bn.running_mean\n",
      "bifpn.0.conv_5_td.bn.running_var fpn.cell.0.fnode.1.after_combine.conv.bn.running_var\n",
      "bifpn.0.conv_5_td.bn.num_batches_tracked fpn.cell.0.fnode.1.after_combine.conv.bn.num_batches_tracked\n",
      "bifpn.0.conv_6_td.conv_dw.weight fpn.cell.0.fnode.0.after_combine.conv.conv_dw.weight\n",
      "bifpn.0.conv_6_td.conv_pw.weight fpn.cell.0.fnode.0.after_combine.conv.conv_pw.weight\n",
      "bifpn.0.conv_6_td.bn.weight fpn.cell.0.fnode.0.after_combine.conv.bn.weight\n",
      "bifpn.0.conv_6_td.bn.bias fpn.cell.0.fnode.0.after_combine.conv.bn.bias\n",
      "bifpn.0.conv_6_td.bn.running_mean fpn.cell.0.fnode.0.after_combine.conv.bn.running_mean\n",
      "bifpn.0.conv_6_td.bn.running_var fpn.cell.0.fnode.0.after_combine.conv.bn.running_var\n",
      "bifpn.0.conv_6_td.bn.num_batches_tracked fpn.cell.0.fnode.0.after_combine.conv.bn.num_batches_tracked\n",
      "bifpn.0.conv_3_out.conv_dw.weight fpn.cell.0.fnode.3.after_combine.conv.conv_dw.weight\n",
      "bifpn.0.conv_3_out.conv_pw.weight fpn.cell.0.fnode.3.after_combine.conv.conv_pw.weight\n",
      "bifpn.0.conv_3_out.bn.weight fpn.cell.0.fnode.3.after_combine.conv.bn.weight\n",
      "bifpn.0.conv_3_out.bn.bias fpn.cell.0.fnode.3.after_combine.conv.bn.bias\n",
      "bifpn.0.conv_3_out.bn.running_mean fpn.cell.0.fnode.3.after_combine.conv.bn.running_mean\n",
      "bifpn.0.conv_3_out.bn.running_var fpn.cell.0.fnode.3.after_combine.conv.bn.running_var\n",
      "bifpn.0.conv_3_out.bn.num_batches_tracked fpn.cell.0.fnode.3.after_combine.conv.bn.num_batches_tracked\n",
      "bifpn.0.conv_4_out.conv_dw.weight fpn.cell.0.fnode.4.after_combine.conv.conv_dw.weight\n",
      "bifpn.0.conv_4_out.conv_pw.weight fpn.cell.0.fnode.4.after_combine.conv.conv_pw.weight\n",
      "bifpn.0.conv_4_out.bn.weight fpn.cell.0.fnode.4.after_combine.conv.bn.weight\n",
      "bifpn.0.conv_4_out.bn.bias fpn.cell.0.fnode.4.after_combine.conv.bn.bias\n",
      "bifpn.0.conv_4_out.bn.running_mean fpn.cell.0.fnode.4.after_combine.conv.bn.running_mean\n",
      "bifpn.0.conv_4_out.bn.running_var fpn.cell.0.fnode.4.after_combine.conv.bn.running_var\n",
      "bifpn.0.conv_4_out.bn.num_batches_tracked fpn.cell.0.fnode.4.after_combine.conv.bn.num_batches_tracked\n",
      "bifpn.0.conv_5_out.conv_dw.weight fpn.cell.0.fnode.5.after_combine.conv.conv_dw.weight\n",
      "bifpn.0.conv_5_out.conv_pw.weight fpn.cell.0.fnode.5.after_combine.conv.conv_pw.weight\n",
      "bifpn.0.conv_5_out.bn.weight fpn.cell.0.fnode.5.after_combine.conv.bn.weight\n",
      "bifpn.0.conv_5_out.bn.bias fpn.cell.0.fnode.5.after_combine.conv.bn.bias\n",
      "bifpn.0.conv_5_out.bn.running_mean fpn.cell.0.fnode.5.after_combine.conv.bn.running_mean\n",
      "bifpn.0.conv_5_out.bn.running_var fpn.cell.0.fnode.5.after_combine.conv.bn.running_var\n",
      "bifpn.0.conv_5_out.bn.num_batches_tracked fpn.cell.0.fnode.5.after_combine.conv.bn.num_batches_tracked\n",
      "bifpn.0.conv_6_out.conv_dw.weight fpn.cell.0.fnode.6.after_combine.conv.conv_dw.weight\n",
      "bifpn.0.conv_6_out.conv_pw.weight fpn.cell.0.fnode.6.after_combine.conv.conv_pw.weight\n",
      "bifpn.0.conv_6_out.bn.weight fpn.cell.0.fnode.6.after_combine.conv.bn.weight\n",
      "bifpn.0.conv_6_out.bn.bias fpn.cell.0.fnode.6.after_combine.conv.bn.bias\n",
      "bifpn.0.conv_6_out.bn.running_mean fpn.cell.0.fnode.6.after_combine.conv.bn.running_mean\n",
      "bifpn.0.conv_6_out.bn.running_var fpn.cell.0.fnode.6.after_combine.conv.bn.running_var\n",
      "bifpn.0.conv_6_out.bn.num_batches_tracked fpn.cell.0.fnode.6.after_combine.conv.bn.num_batches_tracked\n",
      "bifpn.0.conv_7_out.conv_dw.weight fpn.cell.0.fnode.7.after_combine.conv.conv_dw.weight\n",
      "bifpn.0.conv_7_out.conv_pw.weight fpn.cell.0.fnode.7.after_combine.conv.conv_pw.weight\n",
      "bifpn.0.conv_7_out.bn.weight fpn.cell.0.fnode.7.after_combine.conv.bn.weight\n",
      "bifpn.0.conv_7_out.bn.bias fpn.cell.0.fnode.7.after_combine.conv.bn.bias\n",
      "bifpn.0.conv_7_out.bn.running_mean fpn.cell.0.fnode.7.after_combine.conv.bn.running_mean\n",
      "bifpn.0.conv_7_out.bn.running_var fpn.cell.0.fnode.7.after_combine.conv.bn.running_var\n",
      "bifpn.0.conv_7_out.bn.num_batches_tracked fpn.cell.0.fnode.7.after_combine.conv.bn.num_batches_tracked\n",
      "bifpn.1.weights_4_td fpn.cell.1.fnode.2.combine.edge_weights\n",
      "bifpn.1.weights_5_td fpn.cell.1.fnode.1.combine.edge_weights\n",
      "bifpn.1.weights_6_td fpn.cell.1.fnode.0.combine.edge_weights\n",
      "bifpn.1.weights_3_out fpn.cell.1.fnode.3.combine.edge_weights\n",
      "bifpn.1.weights_4_out fpn.cell.1.fnode.4.combine.edge_weights\n",
      "bifpn.1.weights_5_out fpn.cell.1.fnode.5.combine.edge_weights\n",
      "bifpn.1.weights_6_out fpn.cell.1.fnode.6.combine.edge_weights\n",
      "bifpn.1.weights_7_out fpn.cell.1.fnode.7.combine.edge_weights\n",
      "bifpn.1.conv_4_td.conv_dw.weight fpn.cell.1.fnode.2.after_combine.conv.conv_dw.weight\n",
      "bifpn.1.conv_4_td.conv_pw.weight fpn.cell.1.fnode.2.after_combine.conv.conv_pw.weight\n",
      "bifpn.1.conv_4_td.bn.weight fpn.cell.1.fnode.2.after_combine.conv.bn.weight\n",
      "bifpn.1.conv_4_td.bn.bias fpn.cell.1.fnode.2.after_combine.conv.bn.bias\n",
      "bifpn.1.conv_4_td.bn.running_mean fpn.cell.1.fnode.2.after_combine.conv.bn.running_mean\n",
      "bifpn.1.conv_4_td.bn.running_var fpn.cell.1.fnode.2.after_combine.conv.bn.running_var\n",
      "bifpn.1.conv_4_td.bn.num_batches_tracked fpn.cell.1.fnode.2.after_combine.conv.bn.num_batches_tracked\n",
      "bifpn.1.conv_5_td.conv_dw.weight fpn.cell.1.fnode.1.after_combine.conv.conv_dw.weight\n",
      "bifpn.1.conv_5_td.conv_pw.weight fpn.cell.1.fnode.1.after_combine.conv.conv_pw.weight\n",
      "bifpn.1.conv_5_td.bn.weight fpn.cell.1.fnode.1.after_combine.conv.bn.weight\n",
      "bifpn.1.conv_5_td.bn.bias fpn.cell.1.fnode.1.after_combine.conv.bn.bias\n",
      "bifpn.1.conv_5_td.bn.running_mean fpn.cell.1.fnode.1.after_combine.conv.bn.running_mean\n",
      "bifpn.1.conv_5_td.bn.running_var fpn.cell.1.fnode.1.after_combine.conv.bn.running_var\n",
      "bifpn.1.conv_5_td.bn.num_batches_tracked fpn.cell.1.fnode.1.after_combine.conv.bn.num_batches_tracked\n",
      "bifpn.1.conv_6_td.conv_dw.weight fpn.cell.1.fnode.0.after_combine.conv.conv_dw.weight\n",
      "bifpn.1.conv_6_td.conv_pw.weight fpn.cell.1.fnode.0.after_combine.conv.conv_pw.weight\n",
      "bifpn.1.conv_6_td.bn.weight fpn.cell.1.fnode.0.after_combine.conv.bn.weight\n",
      "bifpn.1.conv_6_td.bn.bias fpn.cell.1.fnode.0.after_combine.conv.bn.bias\n",
      "bifpn.1.conv_6_td.bn.running_mean fpn.cell.1.fnode.0.after_combine.conv.bn.running_mean\n",
      "bifpn.1.conv_6_td.bn.running_var fpn.cell.1.fnode.0.after_combine.conv.bn.running_var\n",
      "bifpn.1.conv_6_td.bn.num_batches_tracked fpn.cell.1.fnode.0.after_combine.conv.bn.num_batches_tracked\n",
      "bifpn.1.conv_3_out.conv_dw.weight fpn.cell.1.fnode.3.after_combine.conv.conv_dw.weight\n",
      "bifpn.1.conv_3_out.conv_pw.weight fpn.cell.1.fnode.3.after_combine.conv.conv_pw.weight\n",
      "bifpn.1.conv_3_out.bn.weight fpn.cell.1.fnode.3.after_combine.conv.bn.weight\n",
      "bifpn.1.conv_3_out.bn.bias fpn.cell.1.fnode.3.after_combine.conv.bn.bias\n",
      "bifpn.1.conv_3_out.bn.running_mean fpn.cell.1.fnode.3.after_combine.conv.bn.running_mean\n",
      "bifpn.1.conv_3_out.bn.running_var fpn.cell.1.fnode.3.after_combine.conv.bn.running_var\n",
      "bifpn.1.conv_3_out.bn.num_batches_tracked fpn.cell.1.fnode.3.after_combine.conv.bn.num_batches_tracked\n",
      "bifpn.1.conv_4_out.conv_dw.weight fpn.cell.1.fnode.4.after_combine.conv.conv_dw.weight\n",
      "bifpn.1.conv_4_out.conv_pw.weight fpn.cell.1.fnode.4.after_combine.conv.conv_pw.weight\n",
      "bifpn.1.conv_4_out.bn.weight fpn.cell.1.fnode.4.after_combine.conv.bn.weight\n",
      "bifpn.1.conv_4_out.bn.bias fpn.cell.1.fnode.4.after_combine.conv.bn.bias\n",
      "bifpn.1.conv_4_out.bn.running_mean fpn.cell.1.fnode.4.after_combine.conv.bn.running_mean\n",
      "bifpn.1.conv_4_out.bn.running_var fpn.cell.1.fnode.4.after_combine.conv.bn.running_var\n",
      "bifpn.1.conv_4_out.bn.num_batches_tracked fpn.cell.1.fnode.4.after_combine.conv.bn.num_batches_tracked\n",
      "bifpn.1.conv_5_out.conv_dw.weight fpn.cell.1.fnode.5.after_combine.conv.conv_dw.weight\n",
      "bifpn.1.conv_5_out.conv_pw.weight fpn.cell.1.fnode.5.after_combine.conv.conv_pw.weight\n",
      "bifpn.1.conv_5_out.bn.weight fpn.cell.1.fnode.5.after_combine.conv.bn.weight\n",
      "bifpn.1.conv_5_out.bn.bias fpn.cell.1.fnode.5.after_combine.conv.bn.bias\n",
      "bifpn.1.conv_5_out.bn.running_mean fpn.cell.1.fnode.5.after_combine.conv.bn.running_mean\n",
      "bifpn.1.conv_5_out.bn.running_var fpn.cell.1.fnode.5.after_combine.conv.bn.running_var\n",
      "bifpn.1.conv_5_out.bn.num_batches_tracked fpn.cell.1.fnode.5.after_combine.conv.bn.num_batches_tracked\n",
      "bifpn.1.conv_6_out.conv_dw.weight fpn.cell.1.fnode.6.after_combine.conv.conv_dw.weight\n",
      "bifpn.1.conv_6_out.conv_pw.weight fpn.cell.1.fnode.6.after_combine.conv.conv_pw.weight\n",
      "bifpn.1.conv_6_out.bn.weight fpn.cell.1.fnode.6.after_combine.conv.bn.weight\n",
      "bifpn.1.conv_6_out.bn.bias fpn.cell.1.fnode.6.after_combine.conv.bn.bias\n",
      "bifpn.1.conv_6_out.bn.running_mean fpn.cell.1.fnode.6.after_combine.conv.bn.running_mean\n",
      "bifpn.1.conv_6_out.bn.running_var fpn.cell.1.fnode.6.after_combine.conv.bn.running_var\n",
      "bifpn.1.conv_6_out.bn.num_batches_tracked fpn.cell.1.fnode.6.after_combine.conv.bn.num_batches_tracked\n",
      "bifpn.1.conv_7_out.conv_dw.weight fpn.cell.1.fnode.7.after_combine.conv.conv_dw.weight\n",
      "bifpn.1.conv_7_out.conv_pw.weight fpn.cell.1.fnode.7.after_combine.conv.conv_pw.weight\n",
      "bifpn.1.conv_7_out.bn.weight fpn.cell.1.fnode.7.after_combine.conv.bn.weight\n",
      "bifpn.1.conv_7_out.bn.bias fpn.cell.1.fnode.7.after_combine.conv.bn.bias\n",
      "bifpn.1.conv_7_out.bn.running_mean fpn.cell.1.fnode.7.after_combine.conv.bn.running_mean\n",
      "bifpn.1.conv_7_out.bn.running_var fpn.cell.1.fnode.7.after_combine.conv.bn.running_var\n",
      "bifpn.1.conv_7_out.bn.num_batches_tracked fpn.cell.1.fnode.7.after_combine.conv.bn.num_batches_tracked\n",
      "bifpn.2.weights_4_td fpn.cell.2.fnode.2.combine.edge_weights\n",
      "bifpn.2.weights_5_td fpn.cell.2.fnode.1.combine.edge_weights\n",
      "bifpn.2.weights_6_td fpn.cell.2.fnode.0.combine.edge_weights\n",
      "bifpn.2.weights_3_out fpn.cell.2.fnode.3.combine.edge_weights\n",
      "bifpn.2.weights_4_out fpn.cell.2.fnode.4.combine.edge_weights\n",
      "bifpn.2.weights_5_out fpn.cell.2.fnode.5.combine.edge_weights\n",
      "bifpn.2.weights_6_out fpn.cell.2.fnode.6.combine.edge_weights\n",
      "bifpn.2.weights_7_out fpn.cell.2.fnode.7.combine.edge_weights\n",
      "bifpn.2.conv_4_td.conv_dw.weight fpn.cell.2.fnode.2.after_combine.conv.conv_dw.weight\n",
      "bifpn.2.conv_4_td.conv_pw.weight fpn.cell.2.fnode.2.after_combine.conv.conv_pw.weight\n",
      "bifpn.2.conv_4_td.bn.weight fpn.cell.2.fnode.2.after_combine.conv.bn.weight\n",
      "bifpn.2.conv_4_td.bn.bias fpn.cell.2.fnode.2.after_combine.conv.bn.bias\n",
      "bifpn.2.conv_4_td.bn.running_mean fpn.cell.2.fnode.2.after_combine.conv.bn.running_mean\n",
      "bifpn.2.conv_4_td.bn.running_var fpn.cell.2.fnode.2.after_combine.conv.bn.running_var\n",
      "bifpn.2.conv_4_td.bn.num_batches_tracked fpn.cell.2.fnode.2.after_combine.conv.bn.num_batches_tracked\n",
      "bifpn.2.conv_5_td.conv_dw.weight fpn.cell.2.fnode.1.after_combine.conv.conv_dw.weight\n",
      "bifpn.2.conv_5_td.conv_pw.weight fpn.cell.2.fnode.1.after_combine.conv.conv_pw.weight\n",
      "bifpn.2.conv_5_td.bn.weight fpn.cell.2.fnode.1.after_combine.conv.bn.weight\n",
      "bifpn.2.conv_5_td.bn.bias fpn.cell.2.fnode.1.after_combine.conv.bn.bias\n",
      "bifpn.2.conv_5_td.bn.running_mean fpn.cell.2.fnode.1.after_combine.conv.bn.running_mean\n",
      "bifpn.2.conv_5_td.bn.running_var fpn.cell.2.fnode.1.after_combine.conv.bn.running_var\n",
      "bifpn.2.conv_5_td.bn.num_batches_tracked fpn.cell.2.fnode.1.after_combine.conv.bn.num_batches_tracked\n",
      "bifpn.2.conv_6_td.conv_dw.weight fpn.cell.2.fnode.0.after_combine.conv.conv_dw.weight\n",
      "bifpn.2.conv_6_td.conv_pw.weight fpn.cell.2.fnode.0.after_combine.conv.conv_pw.weight\n",
      "bifpn.2.conv_6_td.bn.weight fpn.cell.2.fnode.0.after_combine.conv.bn.weight\n",
      "bifpn.2.conv_6_td.bn.bias fpn.cell.2.fnode.0.after_combine.conv.bn.bias\n",
      "bifpn.2.conv_6_td.bn.running_mean fpn.cell.2.fnode.0.after_combine.conv.bn.running_mean\n",
      "bifpn.2.conv_6_td.bn.running_var fpn.cell.2.fnode.0.after_combine.conv.bn.running_var\n",
      "bifpn.2.conv_6_td.bn.num_batches_tracked fpn.cell.2.fnode.0.after_combine.conv.bn.num_batches_tracked\n",
      "bifpn.2.conv_3_out.conv_dw.weight fpn.cell.2.fnode.3.after_combine.conv.conv_dw.weight\n",
      "bifpn.2.conv_3_out.conv_pw.weight fpn.cell.2.fnode.3.after_combine.conv.conv_pw.weight\n",
      "bifpn.2.conv_3_out.bn.weight fpn.cell.2.fnode.3.after_combine.conv.bn.weight\n",
      "bifpn.2.conv_3_out.bn.bias fpn.cell.2.fnode.3.after_combine.conv.bn.bias\n",
      "bifpn.2.conv_3_out.bn.running_mean fpn.cell.2.fnode.3.after_combine.conv.bn.running_mean\n",
      "bifpn.2.conv_3_out.bn.running_var fpn.cell.2.fnode.3.after_combine.conv.bn.running_var\n",
      "bifpn.2.conv_3_out.bn.num_batches_tracked fpn.cell.2.fnode.3.after_combine.conv.bn.num_batches_tracked\n",
      "bifpn.2.conv_4_out.conv_dw.weight fpn.cell.2.fnode.4.after_combine.conv.conv_dw.weight\n",
      "bifpn.2.conv_4_out.conv_pw.weight fpn.cell.2.fnode.4.after_combine.conv.conv_pw.weight\n",
      "bifpn.2.conv_4_out.bn.weight fpn.cell.2.fnode.4.after_combine.conv.bn.weight\n",
      "bifpn.2.conv_4_out.bn.bias fpn.cell.2.fnode.4.after_combine.conv.bn.bias\n",
      "bifpn.2.conv_4_out.bn.running_mean fpn.cell.2.fnode.4.after_combine.conv.bn.running_mean\n",
      "bifpn.2.conv_4_out.bn.running_var fpn.cell.2.fnode.4.after_combine.conv.bn.running_var\n",
      "bifpn.2.conv_4_out.bn.num_batches_tracked fpn.cell.2.fnode.4.after_combine.conv.bn.num_batches_tracked\n",
      "bifpn.2.conv_5_out.conv_dw.weight fpn.cell.2.fnode.5.after_combine.conv.conv_dw.weight\n",
      "bifpn.2.conv_5_out.conv_pw.weight fpn.cell.2.fnode.5.after_combine.conv.conv_pw.weight\n",
      "bifpn.2.conv_5_out.bn.weight fpn.cell.2.fnode.5.after_combine.conv.bn.weight\n",
      "bifpn.2.conv_5_out.bn.bias fpn.cell.2.fnode.5.after_combine.conv.bn.bias\n",
      "bifpn.2.conv_5_out.bn.running_mean fpn.cell.2.fnode.5.after_combine.conv.bn.running_mean\n",
      "bifpn.2.conv_5_out.bn.running_var fpn.cell.2.fnode.5.after_combine.conv.bn.running_var\n",
      "bifpn.2.conv_5_out.bn.num_batches_tracked fpn.cell.2.fnode.5.after_combine.conv.bn.num_batches_tracked\n",
      "bifpn.2.conv_6_out.conv_dw.weight fpn.cell.2.fnode.6.after_combine.conv.conv_dw.weight\n",
      "bifpn.2.conv_6_out.conv_pw.weight fpn.cell.2.fnode.6.after_combine.conv.conv_pw.weight\n",
      "bifpn.2.conv_6_out.bn.weight fpn.cell.2.fnode.6.after_combine.conv.bn.weight\n",
      "bifpn.2.conv_6_out.bn.bias fpn.cell.2.fnode.6.after_combine.conv.bn.bias\n",
      "bifpn.2.conv_6_out.bn.running_mean fpn.cell.2.fnode.6.after_combine.conv.bn.running_mean\n",
      "bifpn.2.conv_6_out.bn.running_var fpn.cell.2.fnode.6.after_combine.conv.bn.running_var\n",
      "bifpn.2.conv_6_out.bn.num_batches_tracked fpn.cell.2.fnode.6.after_combine.conv.bn.num_batches_tracked\n",
      "bifpn.2.conv_7_out.conv_dw.weight fpn.cell.2.fnode.7.after_combine.conv.conv_dw.weight\n",
      "bifpn.2.conv_7_out.conv_pw.weight fpn.cell.2.fnode.7.after_combine.conv.conv_pw.weight\n",
      "bifpn.2.conv_7_out.bn.weight fpn.cell.2.fnode.7.after_combine.conv.bn.weight\n",
      "bifpn.2.conv_7_out.bn.bias fpn.cell.2.fnode.7.after_combine.conv.bn.bias\n",
      "bifpn.2.conv_7_out.bn.running_mean fpn.cell.2.fnode.7.after_combine.conv.bn.running_mean\n",
      "bifpn.2.conv_7_out.bn.running_var fpn.cell.2.fnode.7.after_combine.conv.bn.running_var\n",
      "bifpn.2.conv_7_out.bn.num_batches_tracked fpn.cell.2.fnode.7.after_combine.conv.bn.num_batches_tracked\n",
      "bifpn.3.weights_4_td fpn.cell.3.fnode.2.combine.edge_weights\n",
      "bifpn.3.weights_5_td fpn.cell.3.fnode.1.combine.edge_weights\n",
      "bifpn.3.weights_6_td fpn.cell.3.fnode.0.combine.edge_weights\n",
      "bifpn.3.weights_3_out fpn.cell.3.fnode.3.combine.edge_weights\n",
      "bifpn.3.weights_4_out fpn.cell.3.fnode.4.combine.edge_weights\n",
      "bifpn.3.weights_5_out fpn.cell.3.fnode.5.combine.edge_weights\n",
      "bifpn.3.weights_6_out fpn.cell.3.fnode.6.combine.edge_weights\n",
      "bifpn.3.weights_7_out fpn.cell.3.fnode.7.combine.edge_weights\n",
      "bifpn.3.conv_4_td.conv_dw.weight fpn.cell.3.fnode.2.after_combine.conv.conv_dw.weight\n",
      "bifpn.3.conv_4_td.conv_pw.weight fpn.cell.3.fnode.2.after_combine.conv.conv_pw.weight\n",
      "bifpn.3.conv_4_td.bn.weight fpn.cell.3.fnode.2.after_combine.conv.bn.weight\n",
      "bifpn.3.conv_4_td.bn.bias fpn.cell.3.fnode.2.after_combine.conv.bn.bias\n",
      "bifpn.3.conv_4_td.bn.running_mean fpn.cell.3.fnode.2.after_combine.conv.bn.running_mean\n",
      "bifpn.3.conv_4_td.bn.running_var fpn.cell.3.fnode.2.after_combine.conv.bn.running_var\n",
      "bifpn.3.conv_4_td.bn.num_batches_tracked fpn.cell.3.fnode.2.after_combine.conv.bn.num_batches_tracked\n",
      "bifpn.3.conv_5_td.conv_dw.weight fpn.cell.3.fnode.1.after_combine.conv.conv_dw.weight\n",
      "bifpn.3.conv_5_td.conv_pw.weight fpn.cell.3.fnode.1.after_combine.conv.conv_pw.weight\n",
      "bifpn.3.conv_5_td.bn.weight fpn.cell.3.fnode.1.after_combine.conv.bn.weight\n",
      "bifpn.3.conv_5_td.bn.bias fpn.cell.3.fnode.1.after_combine.conv.bn.bias\n",
      "bifpn.3.conv_5_td.bn.running_mean fpn.cell.3.fnode.1.after_combine.conv.bn.running_mean\n",
      "bifpn.3.conv_5_td.bn.running_var fpn.cell.3.fnode.1.after_combine.conv.bn.running_var\n",
      "bifpn.3.conv_5_td.bn.num_batches_tracked fpn.cell.3.fnode.1.after_combine.conv.bn.num_batches_tracked\n",
      "bifpn.3.conv_6_td.conv_dw.weight fpn.cell.3.fnode.0.after_combine.conv.conv_dw.weight\n",
      "bifpn.3.conv_6_td.conv_pw.weight fpn.cell.3.fnode.0.after_combine.conv.conv_pw.weight\n",
      "bifpn.3.conv_6_td.bn.weight fpn.cell.3.fnode.0.after_combine.conv.bn.weight\n",
      "bifpn.3.conv_6_td.bn.bias fpn.cell.3.fnode.0.after_combine.conv.bn.bias\n",
      "bifpn.3.conv_6_td.bn.running_mean fpn.cell.3.fnode.0.after_combine.conv.bn.running_mean\n",
      "bifpn.3.conv_6_td.bn.running_var fpn.cell.3.fnode.0.after_combine.conv.bn.running_var\n",
      "bifpn.3.conv_6_td.bn.num_batches_tracked fpn.cell.3.fnode.0.after_combine.conv.bn.num_batches_tracked\n",
      "bifpn.3.conv_3_out.conv_dw.weight fpn.cell.3.fnode.3.after_combine.conv.conv_dw.weight\n",
      "bifpn.3.conv_3_out.conv_pw.weight fpn.cell.3.fnode.3.after_combine.conv.conv_pw.weight\n",
      "bifpn.3.conv_3_out.bn.weight fpn.cell.3.fnode.3.after_combine.conv.bn.weight\n",
      "bifpn.3.conv_3_out.bn.bias fpn.cell.3.fnode.3.after_combine.conv.bn.bias\n",
      "bifpn.3.conv_3_out.bn.running_mean fpn.cell.3.fnode.3.after_combine.conv.bn.running_mean\n",
      "bifpn.3.conv_3_out.bn.running_var fpn.cell.3.fnode.3.after_combine.conv.bn.running_var\n",
      "bifpn.3.conv_3_out.bn.num_batches_tracked fpn.cell.3.fnode.3.after_combine.conv.bn.num_batches_tracked\n",
      "bifpn.3.conv_4_out.conv_dw.weight fpn.cell.3.fnode.4.after_combine.conv.conv_dw.weight\n",
      "bifpn.3.conv_4_out.conv_pw.weight fpn.cell.3.fnode.4.after_combine.conv.conv_pw.weight\n",
      "bifpn.3.conv_4_out.bn.weight fpn.cell.3.fnode.4.after_combine.conv.bn.weight\n",
      "bifpn.3.conv_4_out.bn.bias fpn.cell.3.fnode.4.after_combine.conv.bn.bias\n",
      "bifpn.3.conv_4_out.bn.running_mean fpn.cell.3.fnode.4.after_combine.conv.bn.running_mean\n",
      "bifpn.3.conv_4_out.bn.running_var fpn.cell.3.fnode.4.after_combine.conv.bn.running_var\n",
      "bifpn.3.conv_4_out.bn.num_batches_tracked fpn.cell.3.fnode.4.after_combine.conv.bn.num_batches_tracked\n",
      "bifpn.3.conv_5_out.conv_dw.weight fpn.cell.3.fnode.5.after_combine.conv.conv_dw.weight\n",
      "bifpn.3.conv_5_out.conv_pw.weight fpn.cell.3.fnode.5.after_combine.conv.conv_pw.weight\n",
      "bifpn.3.conv_5_out.bn.weight fpn.cell.3.fnode.5.after_combine.conv.bn.weight\n",
      "bifpn.3.conv_5_out.bn.bias fpn.cell.3.fnode.5.after_combine.conv.bn.bias\n",
      "bifpn.3.conv_5_out.bn.running_mean fpn.cell.3.fnode.5.after_combine.conv.bn.running_mean\n",
      "bifpn.3.conv_5_out.bn.running_var fpn.cell.3.fnode.5.after_combine.conv.bn.running_var\n",
      "bifpn.3.conv_5_out.bn.num_batches_tracked fpn.cell.3.fnode.5.after_combine.conv.bn.num_batches_tracked\n",
      "bifpn.3.conv_6_out.conv_dw.weight fpn.cell.3.fnode.6.after_combine.conv.conv_dw.weight\n",
      "bifpn.3.conv_6_out.conv_pw.weight fpn.cell.3.fnode.6.after_combine.conv.conv_pw.weight\n",
      "bifpn.3.conv_6_out.bn.weight fpn.cell.3.fnode.6.after_combine.conv.bn.weight\n",
      "bifpn.3.conv_6_out.bn.bias fpn.cell.3.fnode.6.after_combine.conv.bn.bias\n",
      "bifpn.3.conv_6_out.bn.running_mean fpn.cell.3.fnode.6.after_combine.conv.bn.running_mean\n",
      "bifpn.3.conv_6_out.bn.running_var fpn.cell.3.fnode.6.after_combine.conv.bn.running_var\n",
      "bifpn.3.conv_6_out.bn.num_batches_tracked fpn.cell.3.fnode.6.after_combine.conv.bn.num_batches_tracked\n",
      "bifpn.3.conv_7_out.conv_dw.weight fpn.cell.3.fnode.7.after_combine.conv.conv_dw.weight\n",
      "bifpn.3.conv_7_out.conv_pw.weight fpn.cell.3.fnode.7.after_combine.conv.conv_pw.weight\n",
      "bifpn.3.conv_7_out.bn.weight fpn.cell.3.fnode.7.after_combine.conv.bn.weight\n",
      "bifpn.3.conv_7_out.bn.bias fpn.cell.3.fnode.7.after_combine.conv.bn.bias\n",
      "bifpn.3.conv_7_out.bn.running_mean fpn.cell.3.fnode.7.after_combine.conv.bn.running_mean\n",
      "bifpn.3.conv_7_out.bn.running_var fpn.cell.3.fnode.7.after_combine.conv.bn.running_var\n",
      "bifpn.3.conv_7_out.bn.num_batches_tracked fpn.cell.3.fnode.7.after_combine.conv.bn.num_batches_tracked\n",
      "bifpn.4.weights_4_td fpn.cell.4.fnode.2.combine.edge_weights\n",
      "bifpn.4.weights_5_td fpn.cell.4.fnode.1.combine.edge_weights\n",
      "bifpn.4.weights_6_td fpn.cell.4.fnode.0.combine.edge_weights\n",
      "bifpn.4.weights_3_out fpn.cell.4.fnode.3.combine.edge_weights\n",
      "bifpn.4.weights_4_out fpn.cell.4.fnode.4.combine.edge_weights\n",
      "bifpn.4.weights_5_out fpn.cell.4.fnode.5.combine.edge_weights\n",
      "bifpn.4.weights_6_out fpn.cell.4.fnode.6.combine.edge_weights\n",
      "bifpn.4.weights_7_out fpn.cell.4.fnode.7.combine.edge_weights\n",
      "bifpn.4.conv_4_td.conv_dw.weight fpn.cell.4.fnode.2.after_combine.conv.conv_dw.weight\n",
      "bifpn.4.conv_4_td.conv_pw.weight fpn.cell.4.fnode.2.after_combine.conv.conv_pw.weight\n",
      "bifpn.4.conv_4_td.bn.weight fpn.cell.4.fnode.2.after_combine.conv.bn.weight\n",
      "bifpn.4.conv_4_td.bn.bias fpn.cell.4.fnode.2.after_combine.conv.bn.bias\n",
      "bifpn.4.conv_4_td.bn.running_mean fpn.cell.4.fnode.2.after_combine.conv.bn.running_mean\n",
      "bifpn.4.conv_4_td.bn.running_var fpn.cell.4.fnode.2.after_combine.conv.bn.running_var\n",
      "bifpn.4.conv_4_td.bn.num_batches_tracked fpn.cell.4.fnode.2.after_combine.conv.bn.num_batches_tracked\n",
      "bifpn.4.conv_5_td.conv_dw.weight fpn.cell.4.fnode.1.after_combine.conv.conv_dw.weight\n",
      "bifpn.4.conv_5_td.conv_pw.weight fpn.cell.4.fnode.1.after_combine.conv.conv_pw.weight\n",
      "bifpn.4.conv_5_td.bn.weight fpn.cell.4.fnode.1.after_combine.conv.bn.weight\n",
      "bifpn.4.conv_5_td.bn.bias fpn.cell.4.fnode.1.after_combine.conv.bn.bias\n",
      "bifpn.4.conv_5_td.bn.running_mean fpn.cell.4.fnode.1.after_combine.conv.bn.running_mean\n",
      "bifpn.4.conv_5_td.bn.running_var fpn.cell.4.fnode.1.after_combine.conv.bn.running_var\n",
      "bifpn.4.conv_5_td.bn.num_batches_tracked fpn.cell.4.fnode.1.after_combine.conv.bn.num_batches_tracked\n",
      "bifpn.4.conv_6_td.conv_dw.weight fpn.cell.4.fnode.0.after_combine.conv.conv_dw.weight\n",
      "bifpn.4.conv_6_td.conv_pw.weight fpn.cell.4.fnode.0.after_combine.conv.conv_pw.weight\n",
      "bifpn.4.conv_6_td.bn.weight fpn.cell.4.fnode.0.after_combine.conv.bn.weight\n",
      "bifpn.4.conv_6_td.bn.bias fpn.cell.4.fnode.0.after_combine.conv.bn.bias\n",
      "bifpn.4.conv_6_td.bn.running_mean fpn.cell.4.fnode.0.after_combine.conv.bn.running_mean\n",
      "bifpn.4.conv_6_td.bn.running_var fpn.cell.4.fnode.0.after_combine.conv.bn.running_var\n",
      "bifpn.4.conv_6_td.bn.num_batches_tracked fpn.cell.4.fnode.0.after_combine.conv.bn.num_batches_tracked\n",
      "bifpn.4.conv_3_out.conv_dw.weight fpn.cell.4.fnode.3.after_combine.conv.conv_dw.weight\n",
      "bifpn.4.conv_3_out.conv_pw.weight fpn.cell.4.fnode.3.after_combine.conv.conv_pw.weight\n",
      "bifpn.4.conv_3_out.bn.weight fpn.cell.4.fnode.3.after_combine.conv.bn.weight\n",
      "bifpn.4.conv_3_out.bn.bias fpn.cell.4.fnode.3.after_combine.conv.bn.bias\n",
      "bifpn.4.conv_3_out.bn.running_mean fpn.cell.4.fnode.3.after_combine.conv.bn.running_mean\n",
      "bifpn.4.conv_3_out.bn.running_var fpn.cell.4.fnode.3.after_combine.conv.bn.running_var\n",
      "bifpn.4.conv_3_out.bn.num_batches_tracked fpn.cell.4.fnode.3.after_combine.conv.bn.num_batches_tracked\n",
      "bifpn.4.conv_4_out.conv_dw.weight fpn.cell.4.fnode.4.after_combine.conv.conv_dw.weight\n",
      "bifpn.4.conv_4_out.conv_pw.weight fpn.cell.4.fnode.4.after_combine.conv.conv_pw.weight\n",
      "bifpn.4.conv_4_out.bn.weight fpn.cell.4.fnode.4.after_combine.conv.bn.weight\n",
      "bifpn.4.conv_4_out.bn.bias fpn.cell.4.fnode.4.after_combine.conv.bn.bias\n",
      "bifpn.4.conv_4_out.bn.running_mean fpn.cell.4.fnode.4.after_combine.conv.bn.running_mean\n",
      "bifpn.4.conv_4_out.bn.running_var fpn.cell.4.fnode.4.after_combine.conv.bn.running_var\n",
      "bifpn.4.conv_4_out.bn.num_batches_tracked fpn.cell.4.fnode.4.after_combine.conv.bn.num_batches_tracked\n",
      "bifpn.4.conv_5_out.conv_dw.weight fpn.cell.4.fnode.5.after_combine.conv.conv_dw.weight\n",
      "bifpn.4.conv_5_out.conv_pw.weight fpn.cell.4.fnode.5.after_combine.conv.conv_pw.weight\n",
      "bifpn.4.conv_5_out.bn.weight fpn.cell.4.fnode.5.after_combine.conv.bn.weight\n",
      "bifpn.4.conv_5_out.bn.bias fpn.cell.4.fnode.5.after_combine.conv.bn.bias\n",
      "bifpn.4.conv_5_out.bn.running_mean fpn.cell.4.fnode.5.after_combine.conv.bn.running_mean\n",
      "bifpn.4.conv_5_out.bn.running_var fpn.cell.4.fnode.5.after_combine.conv.bn.running_var\n",
      "bifpn.4.conv_5_out.bn.num_batches_tracked fpn.cell.4.fnode.5.after_combine.conv.bn.num_batches_tracked\n",
      "bifpn.4.conv_6_out.conv_dw.weight fpn.cell.4.fnode.6.after_combine.conv.conv_dw.weight\n",
      "bifpn.4.conv_6_out.conv_pw.weight fpn.cell.4.fnode.6.after_combine.conv.conv_pw.weight\n",
      "bifpn.4.conv_6_out.bn.weight fpn.cell.4.fnode.6.after_combine.conv.bn.weight\n",
      "bifpn.4.conv_6_out.bn.bias fpn.cell.4.fnode.6.after_combine.conv.bn.bias\n",
      "bifpn.4.conv_6_out.bn.running_mean fpn.cell.4.fnode.6.after_combine.conv.bn.running_mean\n",
      "bifpn.4.conv_6_out.bn.running_var fpn.cell.4.fnode.6.after_combine.conv.bn.running_var\n",
      "bifpn.4.conv_6_out.bn.num_batches_tracked fpn.cell.4.fnode.6.after_combine.conv.bn.num_batches_tracked\n",
      "bifpn.4.conv_7_out.conv_dw.weight fpn.cell.4.fnode.7.after_combine.conv.conv_dw.weight\n",
      "bifpn.4.conv_7_out.conv_pw.weight fpn.cell.4.fnode.7.after_combine.conv.conv_pw.weight\n",
      "bifpn.4.conv_7_out.bn.weight fpn.cell.4.fnode.7.after_combine.conv.bn.weight\n",
      "bifpn.4.conv_7_out.bn.bias fpn.cell.4.fnode.7.after_combine.conv.bn.bias\n",
      "bifpn.4.conv_7_out.bn.running_mean fpn.cell.4.fnode.7.after_combine.conv.bn.running_mean\n",
      "bifpn.4.conv_7_out.bn.running_var fpn.cell.4.fnode.7.after_combine.conv.bn.running_var\n",
      "bifpn.4.conv_7_out.bn.num_batches_tracked fpn.cell.4.fnode.7.after_combine.conv.bn.num_batches_tracked\n",
      "bifpn.5.weights_4_td fpn.cell.5.fnode.2.combine.edge_weights\n",
      "bifpn.5.weights_5_td fpn.cell.5.fnode.1.combine.edge_weights\n",
      "bifpn.5.weights_6_td fpn.cell.5.fnode.0.combine.edge_weights\n",
      "bifpn.5.weights_3_out fpn.cell.5.fnode.3.combine.edge_weights\n",
      "bifpn.5.weights_4_out fpn.cell.5.fnode.4.combine.edge_weights\n",
      "bifpn.5.weights_5_out fpn.cell.5.fnode.5.combine.edge_weights\n",
      "bifpn.5.weights_6_out fpn.cell.5.fnode.6.combine.edge_weights\n",
      "bifpn.5.weights_7_out fpn.cell.5.fnode.7.combine.edge_weights\n",
      "bifpn.5.conv_4_td.conv_dw.weight fpn.cell.5.fnode.2.after_combine.conv.conv_dw.weight\n",
      "bifpn.5.conv_4_td.conv_pw.weight fpn.cell.5.fnode.2.after_combine.conv.conv_pw.weight\n",
      "bifpn.5.conv_4_td.bn.weight fpn.cell.5.fnode.2.after_combine.conv.bn.weight\n",
      "bifpn.5.conv_4_td.bn.bias fpn.cell.5.fnode.2.after_combine.conv.bn.bias\n",
      "bifpn.5.conv_4_td.bn.running_mean fpn.cell.5.fnode.2.after_combine.conv.bn.running_mean\n",
      "bifpn.5.conv_4_td.bn.running_var fpn.cell.5.fnode.2.after_combine.conv.bn.running_var\n",
      "bifpn.5.conv_4_td.bn.num_batches_tracked fpn.cell.5.fnode.2.after_combine.conv.bn.num_batches_tracked\n",
      "bifpn.5.conv_5_td.conv_dw.weight fpn.cell.5.fnode.1.after_combine.conv.conv_dw.weight\n",
      "bifpn.5.conv_5_td.conv_pw.weight fpn.cell.5.fnode.1.after_combine.conv.conv_pw.weight\n",
      "bifpn.5.conv_5_td.bn.weight fpn.cell.5.fnode.1.after_combine.conv.bn.weight\n",
      "bifpn.5.conv_5_td.bn.bias fpn.cell.5.fnode.1.after_combine.conv.bn.bias\n",
      "bifpn.5.conv_5_td.bn.running_mean fpn.cell.5.fnode.1.after_combine.conv.bn.running_mean\n",
      "bifpn.5.conv_5_td.bn.running_var fpn.cell.5.fnode.1.after_combine.conv.bn.running_var\n",
      "bifpn.5.conv_5_td.bn.num_batches_tracked fpn.cell.5.fnode.1.after_combine.conv.bn.num_batches_tracked\n",
      "bifpn.5.conv_6_td.conv_dw.weight fpn.cell.5.fnode.0.after_combine.conv.conv_dw.weight\n",
      "bifpn.5.conv_6_td.conv_pw.weight fpn.cell.5.fnode.0.after_combine.conv.conv_pw.weight\n",
      "bifpn.5.conv_6_td.bn.weight fpn.cell.5.fnode.0.after_combine.conv.bn.weight\n",
      "bifpn.5.conv_6_td.bn.bias fpn.cell.5.fnode.0.after_combine.conv.bn.bias\n",
      "bifpn.5.conv_6_td.bn.running_mean fpn.cell.5.fnode.0.after_combine.conv.bn.running_mean\n",
      "bifpn.5.conv_6_td.bn.running_var fpn.cell.5.fnode.0.after_combine.conv.bn.running_var\n",
      "bifpn.5.conv_6_td.bn.num_batches_tracked fpn.cell.5.fnode.0.after_combine.conv.bn.num_batches_tracked\n",
      "bifpn.5.conv_3_out.conv_dw.weight fpn.cell.5.fnode.3.after_combine.conv.conv_dw.weight\n",
      "bifpn.5.conv_3_out.conv_pw.weight fpn.cell.5.fnode.3.after_combine.conv.conv_pw.weight\n",
      "bifpn.5.conv_3_out.bn.weight fpn.cell.5.fnode.3.after_combine.conv.bn.weight\n",
      "bifpn.5.conv_3_out.bn.bias fpn.cell.5.fnode.3.after_combine.conv.bn.bias\n",
      "bifpn.5.conv_3_out.bn.running_mean fpn.cell.5.fnode.3.after_combine.conv.bn.running_mean\n",
      "bifpn.5.conv_3_out.bn.running_var fpn.cell.5.fnode.3.after_combine.conv.bn.running_var\n",
      "bifpn.5.conv_3_out.bn.num_batches_tracked fpn.cell.5.fnode.3.after_combine.conv.bn.num_batches_tracked\n",
      "bifpn.5.conv_4_out.conv_dw.weight fpn.cell.5.fnode.4.after_combine.conv.conv_dw.weight\n",
      "bifpn.5.conv_4_out.conv_pw.weight fpn.cell.5.fnode.4.after_combine.conv.conv_pw.weight\n",
      "bifpn.5.conv_4_out.bn.weight fpn.cell.5.fnode.4.after_combine.conv.bn.weight\n",
      "bifpn.5.conv_4_out.bn.bias fpn.cell.5.fnode.4.after_combine.conv.bn.bias\n",
      "bifpn.5.conv_4_out.bn.running_mean fpn.cell.5.fnode.4.after_combine.conv.bn.running_mean\n",
      "bifpn.5.conv_4_out.bn.running_var fpn.cell.5.fnode.4.after_combine.conv.bn.running_var\n",
      "bifpn.5.conv_4_out.bn.num_batches_tracked fpn.cell.5.fnode.4.after_combine.conv.bn.num_batches_tracked\n",
      "bifpn.5.conv_5_out.conv_dw.weight fpn.cell.5.fnode.5.after_combine.conv.conv_dw.weight\n",
      "bifpn.5.conv_5_out.conv_pw.weight fpn.cell.5.fnode.5.after_combine.conv.conv_pw.weight\n",
      "bifpn.5.conv_5_out.bn.weight fpn.cell.5.fnode.5.after_combine.conv.bn.weight\n",
      "bifpn.5.conv_5_out.bn.bias fpn.cell.5.fnode.5.after_combine.conv.bn.bias\n",
      "bifpn.5.conv_5_out.bn.running_mean fpn.cell.5.fnode.5.after_combine.conv.bn.running_mean\n",
      "bifpn.5.conv_5_out.bn.running_var fpn.cell.5.fnode.5.after_combine.conv.bn.running_var\n",
      "bifpn.5.conv_5_out.bn.num_batches_tracked fpn.cell.5.fnode.5.after_combine.conv.bn.num_batches_tracked\n",
      "bifpn.5.conv_6_out.conv_dw.weight fpn.cell.5.fnode.6.after_combine.conv.conv_dw.weight\n",
      "bifpn.5.conv_6_out.conv_pw.weight fpn.cell.5.fnode.6.after_combine.conv.conv_pw.weight\n",
      "bifpn.5.conv_6_out.bn.weight fpn.cell.5.fnode.6.after_combine.conv.bn.weight\n",
      "bifpn.5.conv_6_out.bn.bias fpn.cell.5.fnode.6.after_combine.conv.bn.bias\n",
      "bifpn.5.conv_6_out.bn.running_mean fpn.cell.5.fnode.6.after_combine.conv.bn.running_mean\n",
      "bifpn.5.conv_6_out.bn.running_var fpn.cell.5.fnode.6.after_combine.conv.bn.running_var\n",
      "bifpn.5.conv_6_out.bn.num_batches_tracked fpn.cell.5.fnode.6.after_combine.conv.bn.num_batches_tracked\n",
      "bifpn.5.conv_7_out.conv_dw.weight fpn.cell.5.fnode.7.after_combine.conv.conv_dw.weight\n",
      "bifpn.5.conv_7_out.conv_pw.weight fpn.cell.5.fnode.7.after_combine.conv.conv_pw.weight\n",
      "bifpn.5.conv_7_out.bn.weight fpn.cell.5.fnode.7.after_combine.conv.bn.weight\n",
      "bifpn.5.conv_7_out.bn.bias fpn.cell.5.fnode.7.after_combine.conv.bn.bias\n",
      "bifpn.5.conv_7_out.bn.running_mean fpn.cell.5.fnode.7.after_combine.conv.bn.running_mean\n",
      "bifpn.5.conv_7_out.bn.running_var fpn.cell.5.fnode.7.after_combine.conv.bn.running_var\n",
      "bifpn.5.conv_7_out.bn.num_batches_tracked fpn.cell.5.fnode.7.after_combine.conv.bn.num_batches_tracked\n",
      "bifpn.6.weights_4_td fpn.cell.6.fnode.2.combine.edge_weights\n",
      "bifpn.6.weights_5_td fpn.cell.6.fnode.1.combine.edge_weights\n",
      "bifpn.6.weights_6_td fpn.cell.6.fnode.0.combine.edge_weights\n",
      "bifpn.6.weights_3_out fpn.cell.6.fnode.3.combine.edge_weights\n",
      "bifpn.6.weights_4_out fpn.cell.6.fnode.4.combine.edge_weights\n",
      "bifpn.6.weights_5_out fpn.cell.6.fnode.5.combine.edge_weights\n",
      "bifpn.6.weights_6_out fpn.cell.6.fnode.6.combine.edge_weights\n",
      "bifpn.6.weights_7_out fpn.cell.6.fnode.7.combine.edge_weights\n",
      "bifpn.6.conv_4_td.conv_dw.weight fpn.cell.6.fnode.2.after_combine.conv.conv_dw.weight\n",
      "bifpn.6.conv_4_td.conv_pw.weight fpn.cell.6.fnode.2.after_combine.conv.conv_pw.weight\n",
      "bifpn.6.conv_4_td.bn.weight fpn.cell.6.fnode.2.after_combine.conv.bn.weight\n",
      "bifpn.6.conv_4_td.bn.bias fpn.cell.6.fnode.2.after_combine.conv.bn.bias\n",
      "bifpn.6.conv_4_td.bn.running_mean fpn.cell.6.fnode.2.after_combine.conv.bn.running_mean\n",
      "bifpn.6.conv_4_td.bn.running_var fpn.cell.6.fnode.2.after_combine.conv.bn.running_var\n",
      "bifpn.6.conv_4_td.bn.num_batches_tracked fpn.cell.6.fnode.2.after_combine.conv.bn.num_batches_tracked\n",
      "bifpn.6.conv_5_td.conv_dw.weight fpn.cell.6.fnode.1.after_combine.conv.conv_dw.weight\n",
      "bifpn.6.conv_5_td.conv_pw.weight fpn.cell.6.fnode.1.after_combine.conv.conv_pw.weight\n",
      "bifpn.6.conv_5_td.bn.weight fpn.cell.6.fnode.1.after_combine.conv.bn.weight\n",
      "bifpn.6.conv_5_td.bn.bias fpn.cell.6.fnode.1.after_combine.conv.bn.bias\n",
      "bifpn.6.conv_5_td.bn.running_mean fpn.cell.6.fnode.1.after_combine.conv.bn.running_mean\n",
      "bifpn.6.conv_5_td.bn.running_var fpn.cell.6.fnode.1.after_combine.conv.bn.running_var\n",
      "bifpn.6.conv_5_td.bn.num_batches_tracked fpn.cell.6.fnode.1.after_combine.conv.bn.num_batches_tracked\n",
      "bifpn.6.conv_6_td.conv_dw.weight fpn.cell.6.fnode.0.after_combine.conv.conv_dw.weight\n",
      "bifpn.6.conv_6_td.conv_pw.weight fpn.cell.6.fnode.0.after_combine.conv.conv_pw.weight\n",
      "bifpn.6.conv_6_td.bn.weight fpn.cell.6.fnode.0.after_combine.conv.bn.weight\n",
      "bifpn.6.conv_6_td.bn.bias fpn.cell.6.fnode.0.after_combine.conv.bn.bias\n",
      "bifpn.6.conv_6_td.bn.running_mean fpn.cell.6.fnode.0.after_combine.conv.bn.running_mean\n",
      "bifpn.6.conv_6_td.bn.running_var fpn.cell.6.fnode.0.after_combine.conv.bn.running_var\n",
      "bifpn.6.conv_6_td.bn.num_batches_tracked fpn.cell.6.fnode.0.after_combine.conv.bn.num_batches_tracked\n",
      "bifpn.6.conv_3_out.conv_dw.weight fpn.cell.6.fnode.3.after_combine.conv.conv_dw.weight\n",
      "bifpn.6.conv_3_out.conv_pw.weight fpn.cell.6.fnode.3.after_combine.conv.conv_pw.weight\n",
      "bifpn.6.conv_3_out.bn.weight fpn.cell.6.fnode.3.after_combine.conv.bn.weight\n",
      "bifpn.6.conv_3_out.bn.bias fpn.cell.6.fnode.3.after_combine.conv.bn.bias\n",
      "bifpn.6.conv_3_out.bn.running_mean fpn.cell.6.fnode.3.after_combine.conv.bn.running_mean\n",
      "bifpn.6.conv_3_out.bn.running_var fpn.cell.6.fnode.3.after_combine.conv.bn.running_var\n",
      "bifpn.6.conv_3_out.bn.num_batches_tracked fpn.cell.6.fnode.3.after_combine.conv.bn.num_batches_tracked\n",
      "bifpn.6.conv_4_out.conv_dw.weight fpn.cell.6.fnode.4.after_combine.conv.conv_dw.weight\n",
      "bifpn.6.conv_4_out.conv_pw.weight fpn.cell.6.fnode.4.after_combine.conv.conv_pw.weight\n",
      "bifpn.6.conv_4_out.bn.weight fpn.cell.6.fnode.4.after_combine.conv.bn.weight\n",
      "bifpn.6.conv_4_out.bn.bias fpn.cell.6.fnode.4.after_combine.conv.bn.bias\n",
      "bifpn.6.conv_4_out.bn.running_mean fpn.cell.6.fnode.4.after_combine.conv.bn.running_mean\n",
      "bifpn.6.conv_4_out.bn.running_var fpn.cell.6.fnode.4.after_combine.conv.bn.running_var\n",
      "bifpn.6.conv_4_out.bn.num_batches_tracked fpn.cell.6.fnode.4.after_combine.conv.bn.num_batches_tracked\n",
      "bifpn.6.conv_5_out.conv_dw.weight fpn.cell.6.fnode.5.after_combine.conv.conv_dw.weight\n",
      "bifpn.6.conv_5_out.conv_pw.weight fpn.cell.6.fnode.5.after_combine.conv.conv_pw.weight\n",
      "bifpn.6.conv_5_out.bn.weight fpn.cell.6.fnode.5.after_combine.conv.bn.weight\n",
      "bifpn.6.conv_5_out.bn.bias fpn.cell.6.fnode.5.after_combine.conv.bn.bias\n",
      "bifpn.6.conv_5_out.bn.running_mean fpn.cell.6.fnode.5.after_combine.conv.bn.running_mean\n",
      "bifpn.6.conv_5_out.bn.running_var fpn.cell.6.fnode.5.after_combine.conv.bn.running_var\n",
      "bifpn.6.conv_5_out.bn.num_batches_tracked fpn.cell.6.fnode.5.after_combine.conv.bn.num_batches_tracked\n",
      "bifpn.6.conv_6_out.conv_dw.weight fpn.cell.6.fnode.6.after_combine.conv.conv_dw.weight\n",
      "bifpn.6.conv_6_out.conv_pw.weight fpn.cell.6.fnode.6.after_combine.conv.conv_pw.weight\n",
      "bifpn.6.conv_6_out.bn.weight fpn.cell.6.fnode.6.after_combine.conv.bn.weight\n",
      "bifpn.6.conv_6_out.bn.bias fpn.cell.6.fnode.6.after_combine.conv.bn.bias\n",
      "bifpn.6.conv_6_out.bn.running_mean fpn.cell.6.fnode.6.after_combine.conv.bn.running_mean\n",
      "bifpn.6.conv_6_out.bn.running_var fpn.cell.6.fnode.6.after_combine.conv.bn.running_var\n",
      "bifpn.6.conv_6_out.bn.num_batches_tracked fpn.cell.6.fnode.6.after_combine.conv.bn.num_batches_tracked\n",
      "bifpn.6.conv_7_out.conv_dw.weight fpn.cell.6.fnode.7.after_combine.conv.conv_dw.weight\n",
      "bifpn.6.conv_7_out.conv_pw.weight fpn.cell.6.fnode.7.after_combine.conv.conv_pw.weight\n",
      "bifpn.6.conv_7_out.bn.weight fpn.cell.6.fnode.7.after_combine.conv.bn.weight\n",
      "bifpn.6.conv_7_out.bn.bias fpn.cell.6.fnode.7.after_combine.conv.bn.bias\n",
      "bifpn.6.conv_7_out.bn.running_mean fpn.cell.6.fnode.7.after_combine.conv.bn.running_mean\n",
      "bifpn.6.conv_7_out.bn.running_var fpn.cell.6.fnode.7.after_combine.conv.bn.running_var\n",
      "bifpn.6.conv_7_out.bn.num_batches_tracked fpn.cell.6.fnode.7.after_combine.conv.bn.num_batches_tracked\n"
     ]
    }
   ],
   "source": [
    "block_id = 0\n",
    "for to_block, orig_block in zip(to_blocks, orig_blocks):\n",
    "    merge_bifpn_blocks(to_block, orig_block, block_id)\n",
    "    block_id += 1"
   ]
  },
  {
   "cell_type": "code",
   "execution_count": 440,
   "metadata": {},
   "outputs": [
    {
     "data": {
      "text/plain": [
       "True"
      ]
     },
     "execution_count": 440,
     "metadata": {},
     "output_type": "execute_result"
    }
   ],
   "source": [
    "torch.allclose(to['bifpn.0.conv_7_out.conv_dw.weight'], state_dict['fpn.cell.0.fnode.7.after_combine.conv.conv_dw.weight'])"
   ]
  },
  {
   "cell_type": "markdown",
   "metadata": {},
   "source": [
    "# Box Regresser and Classification"
   ]
  },
  {
   "cell_type": "code",
   "execution_count": 441,
   "metadata": {
    "scrolled": true
   },
   "outputs": [
    {
     "name": "stdout",
     "output_type": "stream",
     "text": [
      "Deleting class_net.conv_rep.0.conv_pw.bias\n",
      "Deleting class_net.conv_rep.1.conv_pw.bias\n",
      "Deleting class_net.conv_rep.2.conv_pw.bias\n",
      "Deleting class_net.conv_rep.3.conv_pw.bias\n",
      "Deleting box_net.conv_rep.0.conv_pw.bias\n",
      "Deleting box_net.conv_rep.1.conv_pw.bias\n",
      "Deleting box_net.conv_rep.2.conv_pw.bias\n",
      "Deleting box_net.conv_rep.3.conv_pw.bias\n"
     ]
    }
   ],
   "source": [
    "to_delete = []\n",
    "for k in state_dict.keys():\n",
    "    if k.endswith('conv_pw.bias') and 'predict' not in k and (k.startswith('box_net') or k.startswith('class_net')):\n",
    "        print('Deleting {}'.format(k))\n",
    "        to_delete.append(k)"
   ]
  },
  {
   "cell_type": "code",
   "execution_count": 442,
   "metadata": {},
   "outputs": [],
   "source": [
    "to_keys = []\n",
    "for k in to.keys():\n",
    "    if k.startswith('regresser'):\n",
    "        to_keys.append(k)"
   ]
  },
  {
   "cell_type": "code",
   "execution_count": 443,
   "metadata": {},
   "outputs": [],
   "source": [
    "orig_keys = []\n",
    "for k in state_dict.keys():\n",
    "    if k.startswith('box') and k not in to_delete:\n",
    "        orig_keys.append(k)"
   ]
  },
  {
   "cell_type": "code",
   "execution_count": 444,
   "metadata": {},
   "outputs": [
    {
     "name": "stdout",
     "output_type": "stream",
     "text": [
      "box_net.conv_rep.0.conv_dw.weight regresser.convs.0.conv_dw.weight\n",
      "box_net.conv_rep.0.conv_pw.weight regresser.convs.0.conv_pw.weight\n",
      "box_net.conv_rep.1.conv_dw.weight regresser.convs.1.conv_dw.weight\n",
      "box_net.conv_rep.1.conv_pw.weight regresser.convs.1.conv_pw.weight\n",
      "box_net.conv_rep.2.conv_dw.weight regresser.convs.2.conv_dw.weight\n",
      "box_net.conv_rep.2.conv_pw.weight regresser.convs.2.conv_pw.weight\n",
      "box_net.conv_rep.3.conv_dw.weight regresser.convs.3.conv_dw.weight\n",
      "box_net.conv_rep.3.conv_pw.weight regresser.convs.3.conv_pw.weight\n",
      "box_net.bn_rep.0.0.bn.weight regresser.bns.0.0.weight\n",
      "box_net.bn_rep.0.0.bn.bias regresser.bns.0.0.bias\n",
      "box_net.bn_rep.0.0.bn.running_mean regresser.bns.0.0.running_mean\n",
      "box_net.bn_rep.0.0.bn.running_var regresser.bns.0.0.running_var\n",
      "box_net.bn_rep.0.0.bn.num_batches_tracked regresser.bns.0.0.num_batches_tracked\n",
      "box_net.bn_rep.0.1.bn.weight regresser.bns.0.1.weight\n",
      "box_net.bn_rep.0.1.bn.bias regresser.bns.0.1.bias\n",
      "box_net.bn_rep.0.1.bn.running_mean regresser.bns.0.1.running_mean\n",
      "box_net.bn_rep.0.1.bn.running_var regresser.bns.0.1.running_var\n",
      "box_net.bn_rep.0.1.bn.num_batches_tracked regresser.bns.0.1.num_batches_tracked\n",
      "box_net.bn_rep.0.2.bn.weight regresser.bns.0.2.weight\n",
      "box_net.bn_rep.0.2.bn.bias regresser.bns.0.2.bias\n",
      "box_net.bn_rep.0.2.bn.running_mean regresser.bns.0.2.running_mean\n",
      "box_net.bn_rep.0.2.bn.running_var regresser.bns.0.2.running_var\n",
      "box_net.bn_rep.0.2.bn.num_batches_tracked regresser.bns.0.2.num_batches_tracked\n",
      "box_net.bn_rep.0.3.bn.weight regresser.bns.0.3.weight\n",
      "box_net.bn_rep.0.3.bn.bias regresser.bns.0.3.bias\n",
      "box_net.bn_rep.0.3.bn.running_mean regresser.bns.0.3.running_mean\n",
      "box_net.bn_rep.0.3.bn.running_var regresser.bns.0.3.running_var\n",
      "box_net.bn_rep.0.3.bn.num_batches_tracked regresser.bns.0.3.num_batches_tracked\n",
      "box_net.bn_rep.0.4.bn.weight regresser.bns.0.4.weight\n",
      "box_net.bn_rep.0.4.bn.bias regresser.bns.0.4.bias\n",
      "box_net.bn_rep.0.4.bn.running_mean regresser.bns.0.4.running_mean\n",
      "box_net.bn_rep.0.4.bn.running_var regresser.bns.0.4.running_var\n",
      "box_net.bn_rep.0.4.bn.num_batches_tracked regresser.bns.0.4.num_batches_tracked\n",
      "box_net.bn_rep.1.0.bn.weight regresser.bns.1.0.weight\n",
      "box_net.bn_rep.1.0.bn.bias regresser.bns.1.0.bias\n",
      "box_net.bn_rep.1.0.bn.running_mean regresser.bns.1.0.running_mean\n",
      "box_net.bn_rep.1.0.bn.running_var regresser.bns.1.0.running_var\n",
      "box_net.bn_rep.1.0.bn.num_batches_tracked regresser.bns.1.0.num_batches_tracked\n",
      "box_net.bn_rep.1.1.bn.weight regresser.bns.1.1.weight\n",
      "box_net.bn_rep.1.1.bn.bias regresser.bns.1.1.bias\n",
      "box_net.bn_rep.1.1.bn.running_mean regresser.bns.1.1.running_mean\n",
      "box_net.bn_rep.1.1.bn.running_var regresser.bns.1.1.running_var\n",
      "box_net.bn_rep.1.1.bn.num_batches_tracked regresser.bns.1.1.num_batches_tracked\n",
      "box_net.bn_rep.1.2.bn.weight regresser.bns.1.2.weight\n",
      "box_net.bn_rep.1.2.bn.bias regresser.bns.1.2.bias\n",
      "box_net.bn_rep.1.2.bn.running_mean regresser.bns.1.2.running_mean\n",
      "box_net.bn_rep.1.2.bn.running_var regresser.bns.1.2.running_var\n",
      "box_net.bn_rep.1.2.bn.num_batches_tracked regresser.bns.1.2.num_batches_tracked\n",
      "box_net.bn_rep.1.3.bn.weight regresser.bns.1.3.weight\n",
      "box_net.bn_rep.1.3.bn.bias regresser.bns.1.3.bias\n",
      "box_net.bn_rep.1.3.bn.running_mean regresser.bns.1.3.running_mean\n",
      "box_net.bn_rep.1.3.bn.running_var regresser.bns.1.3.running_var\n",
      "box_net.bn_rep.1.3.bn.num_batches_tracked regresser.bns.1.3.num_batches_tracked\n",
      "box_net.bn_rep.1.4.bn.weight regresser.bns.1.4.weight\n",
      "box_net.bn_rep.1.4.bn.bias regresser.bns.1.4.bias\n",
      "box_net.bn_rep.1.4.bn.running_mean regresser.bns.1.4.running_mean\n",
      "box_net.bn_rep.1.4.bn.running_var regresser.bns.1.4.running_var\n",
      "box_net.bn_rep.1.4.bn.num_batches_tracked regresser.bns.1.4.num_batches_tracked\n",
      "box_net.bn_rep.2.0.bn.weight regresser.bns.2.0.weight\n",
      "box_net.bn_rep.2.0.bn.bias regresser.bns.2.0.bias\n",
      "box_net.bn_rep.2.0.bn.running_mean regresser.bns.2.0.running_mean\n",
      "box_net.bn_rep.2.0.bn.running_var regresser.bns.2.0.running_var\n",
      "box_net.bn_rep.2.0.bn.num_batches_tracked regresser.bns.2.0.num_batches_tracked\n",
      "box_net.bn_rep.2.1.bn.weight regresser.bns.2.1.weight\n",
      "box_net.bn_rep.2.1.bn.bias regresser.bns.2.1.bias\n",
      "box_net.bn_rep.2.1.bn.running_mean regresser.bns.2.1.running_mean\n",
      "box_net.bn_rep.2.1.bn.running_var regresser.bns.2.1.running_var\n",
      "box_net.bn_rep.2.1.bn.num_batches_tracked regresser.bns.2.1.num_batches_tracked\n",
      "box_net.bn_rep.2.2.bn.weight regresser.bns.2.2.weight\n",
      "box_net.bn_rep.2.2.bn.bias regresser.bns.2.2.bias\n",
      "box_net.bn_rep.2.2.bn.running_mean regresser.bns.2.2.running_mean\n",
      "box_net.bn_rep.2.2.bn.running_var regresser.bns.2.2.running_var\n",
      "box_net.bn_rep.2.2.bn.num_batches_tracked regresser.bns.2.2.num_batches_tracked\n",
      "box_net.bn_rep.2.3.bn.weight regresser.bns.2.3.weight\n",
      "box_net.bn_rep.2.3.bn.bias regresser.bns.2.3.bias\n",
      "box_net.bn_rep.2.3.bn.running_mean regresser.bns.2.3.running_mean\n",
      "box_net.bn_rep.2.3.bn.running_var regresser.bns.2.3.running_var\n",
      "box_net.bn_rep.2.3.bn.num_batches_tracked regresser.bns.2.3.num_batches_tracked\n",
      "box_net.bn_rep.2.4.bn.weight regresser.bns.2.4.weight\n",
      "box_net.bn_rep.2.4.bn.bias regresser.bns.2.4.bias\n",
      "box_net.bn_rep.2.4.bn.running_mean regresser.bns.2.4.running_mean\n",
      "box_net.bn_rep.2.4.bn.running_var regresser.bns.2.4.running_var\n",
      "box_net.bn_rep.2.4.bn.num_batches_tracked regresser.bns.2.4.num_batches_tracked\n",
      "box_net.bn_rep.3.0.bn.weight regresser.bns.3.0.weight\n",
      "box_net.bn_rep.3.0.bn.bias regresser.bns.3.0.bias\n",
      "box_net.bn_rep.3.0.bn.running_mean regresser.bns.3.0.running_mean\n",
      "box_net.bn_rep.3.0.bn.running_var regresser.bns.3.0.running_var\n",
      "box_net.bn_rep.3.0.bn.num_batches_tracked regresser.bns.3.0.num_batches_tracked\n",
      "box_net.bn_rep.3.1.bn.weight regresser.bns.3.1.weight\n",
      "box_net.bn_rep.3.1.bn.bias regresser.bns.3.1.bias\n",
      "box_net.bn_rep.3.1.bn.running_mean regresser.bns.3.1.running_mean\n",
      "box_net.bn_rep.3.1.bn.running_var regresser.bns.3.1.running_var\n",
      "box_net.bn_rep.3.1.bn.num_batches_tracked regresser.bns.3.1.num_batches_tracked\n",
      "box_net.bn_rep.3.2.bn.weight regresser.bns.3.2.weight\n",
      "box_net.bn_rep.3.2.bn.bias regresser.bns.3.2.bias\n",
      "box_net.bn_rep.3.2.bn.running_mean regresser.bns.3.2.running_mean\n",
      "box_net.bn_rep.3.2.bn.running_var regresser.bns.3.2.running_var\n",
      "box_net.bn_rep.3.2.bn.num_batches_tracked regresser.bns.3.2.num_batches_tracked\n",
      "box_net.bn_rep.3.3.bn.weight regresser.bns.3.3.weight\n",
      "box_net.bn_rep.3.3.bn.bias regresser.bns.3.3.bias\n",
      "box_net.bn_rep.3.3.bn.running_mean regresser.bns.3.3.running_mean\n",
      "box_net.bn_rep.3.3.bn.running_var regresser.bns.3.3.running_var\n",
      "box_net.bn_rep.3.3.bn.num_batches_tracked regresser.bns.3.3.num_batches_tracked\n",
      "box_net.bn_rep.3.4.bn.weight regresser.bns.3.4.weight\n",
      "box_net.bn_rep.3.4.bn.bias regresser.bns.3.4.bias\n",
      "box_net.bn_rep.3.4.bn.running_mean regresser.bns.3.4.running_mean\n",
      "box_net.bn_rep.3.4.bn.running_var regresser.bns.3.4.running_var\n",
      "box_net.bn_rep.3.4.bn.num_batches_tracked regresser.bns.3.4.num_batches_tracked\n",
      "box_net.predict.conv_dw.weight regresser.head.conv_dw.weight\n",
      "box_net.predict.conv_pw.weight regresser.head.conv_pw.weight\n",
      "box_net.predict.conv_pw.bias regresser.head.conv_pw.bias\n"
     ]
    }
   ],
   "source": [
    "for f, t in zip(orig_keys, to_keys):\n",
    "    print(f, t)\n",
    "    assert to[t].shape == state_dict[f].shape, 'Wrong shapes ooooops: {} and {}, {} {}'.format(to[t].shape, state_dict[f].shape, t, f)\n",
    "    to[t] = state_dict[f]\n",
    "    \n",
    "    remove_state_dict_keys_when_filled.remove(f)\n",
    "    remove_to_keys_when_filled.remove(t)"
   ]
  },
  {
   "cell_type": "code",
   "execution_count": 445,
   "metadata": {},
   "outputs": [
    {
     "data": {
      "text/plain": [
       "True"
      ]
     },
     "execution_count": 445,
     "metadata": {},
     "output_type": "execute_result"
    }
   ],
   "source": [
    "torch.allclose(to['regresser.head.conv_pw.bias'], state_dict['box_net.predict.conv_pw.bias'])"
   ]
  },
  {
   "cell_type": "code",
   "execution_count": 446,
   "metadata": {},
   "outputs": [],
   "source": [
    "to_keys = []\n",
    "for k in to.keys():\n",
    "    if k.startswith('classifier'):\n",
    "        to_keys.append(k)\n",
    "        \n",
    "orig_keys = []\n",
    "for k in state_dict.keys():\n",
    "    if k.startswith('class') and k not in to_delete:\n",
    "        orig_keys.append(k)\n",
    "        \n",
    "assert len(to_keys) == len(orig_keys), 'oops smth went wrong'"
   ]
  },
  {
   "cell_type": "code",
   "execution_count": 447,
   "metadata": {},
   "outputs": [
    {
     "name": "stdout",
     "output_type": "stream",
     "text": [
      "class_net.conv_rep.0.conv_dw.weight classifier.convs.0.conv_dw.weight\n",
      "class_net.conv_rep.0.conv_pw.weight classifier.convs.0.conv_pw.weight\n",
      "class_net.conv_rep.1.conv_dw.weight classifier.convs.1.conv_dw.weight\n",
      "class_net.conv_rep.1.conv_pw.weight classifier.convs.1.conv_pw.weight\n",
      "class_net.conv_rep.2.conv_dw.weight classifier.convs.2.conv_dw.weight\n",
      "class_net.conv_rep.2.conv_pw.weight classifier.convs.2.conv_pw.weight\n",
      "class_net.conv_rep.3.conv_dw.weight classifier.convs.3.conv_dw.weight\n",
      "class_net.conv_rep.3.conv_pw.weight classifier.convs.3.conv_pw.weight\n",
      "class_net.bn_rep.0.0.bn.weight classifier.bns.0.0.weight\n",
      "class_net.bn_rep.0.0.bn.bias classifier.bns.0.0.bias\n",
      "class_net.bn_rep.0.0.bn.running_mean classifier.bns.0.0.running_mean\n",
      "class_net.bn_rep.0.0.bn.running_var classifier.bns.0.0.running_var\n",
      "class_net.bn_rep.0.0.bn.num_batches_tracked classifier.bns.0.0.num_batches_tracked\n",
      "class_net.bn_rep.0.1.bn.weight classifier.bns.0.1.weight\n",
      "class_net.bn_rep.0.1.bn.bias classifier.bns.0.1.bias\n",
      "class_net.bn_rep.0.1.bn.running_mean classifier.bns.0.1.running_mean\n",
      "class_net.bn_rep.0.1.bn.running_var classifier.bns.0.1.running_var\n",
      "class_net.bn_rep.0.1.bn.num_batches_tracked classifier.bns.0.1.num_batches_tracked\n",
      "class_net.bn_rep.0.2.bn.weight classifier.bns.0.2.weight\n",
      "class_net.bn_rep.0.2.bn.bias classifier.bns.0.2.bias\n",
      "class_net.bn_rep.0.2.bn.running_mean classifier.bns.0.2.running_mean\n",
      "class_net.bn_rep.0.2.bn.running_var classifier.bns.0.2.running_var\n",
      "class_net.bn_rep.0.2.bn.num_batches_tracked classifier.bns.0.2.num_batches_tracked\n",
      "class_net.bn_rep.0.3.bn.weight classifier.bns.0.3.weight\n",
      "class_net.bn_rep.0.3.bn.bias classifier.bns.0.3.bias\n",
      "class_net.bn_rep.0.3.bn.running_mean classifier.bns.0.3.running_mean\n",
      "class_net.bn_rep.0.3.bn.running_var classifier.bns.0.3.running_var\n",
      "class_net.bn_rep.0.3.bn.num_batches_tracked classifier.bns.0.3.num_batches_tracked\n",
      "class_net.bn_rep.0.4.bn.weight classifier.bns.0.4.weight\n",
      "class_net.bn_rep.0.4.bn.bias classifier.bns.0.4.bias\n",
      "class_net.bn_rep.0.4.bn.running_mean classifier.bns.0.4.running_mean\n",
      "class_net.bn_rep.0.4.bn.running_var classifier.bns.0.4.running_var\n",
      "class_net.bn_rep.0.4.bn.num_batches_tracked classifier.bns.0.4.num_batches_tracked\n",
      "class_net.bn_rep.1.0.bn.weight classifier.bns.1.0.weight\n",
      "class_net.bn_rep.1.0.bn.bias classifier.bns.1.0.bias\n",
      "class_net.bn_rep.1.0.bn.running_mean classifier.bns.1.0.running_mean\n",
      "class_net.bn_rep.1.0.bn.running_var classifier.bns.1.0.running_var\n",
      "class_net.bn_rep.1.0.bn.num_batches_tracked classifier.bns.1.0.num_batches_tracked\n",
      "class_net.bn_rep.1.1.bn.weight classifier.bns.1.1.weight\n",
      "class_net.bn_rep.1.1.bn.bias classifier.bns.1.1.bias\n",
      "class_net.bn_rep.1.1.bn.running_mean classifier.bns.1.1.running_mean\n",
      "class_net.bn_rep.1.1.bn.running_var classifier.bns.1.1.running_var\n",
      "class_net.bn_rep.1.1.bn.num_batches_tracked classifier.bns.1.1.num_batches_tracked\n",
      "class_net.bn_rep.1.2.bn.weight classifier.bns.1.2.weight\n",
      "class_net.bn_rep.1.2.bn.bias classifier.bns.1.2.bias\n",
      "class_net.bn_rep.1.2.bn.running_mean classifier.bns.1.2.running_mean\n",
      "class_net.bn_rep.1.2.bn.running_var classifier.bns.1.2.running_var\n",
      "class_net.bn_rep.1.2.bn.num_batches_tracked classifier.bns.1.2.num_batches_tracked\n",
      "class_net.bn_rep.1.3.bn.weight classifier.bns.1.3.weight\n",
      "class_net.bn_rep.1.3.bn.bias classifier.bns.1.3.bias\n",
      "class_net.bn_rep.1.3.bn.running_mean classifier.bns.1.3.running_mean\n",
      "class_net.bn_rep.1.3.bn.running_var classifier.bns.1.3.running_var\n",
      "class_net.bn_rep.1.3.bn.num_batches_tracked classifier.bns.1.3.num_batches_tracked\n",
      "class_net.bn_rep.1.4.bn.weight classifier.bns.1.4.weight\n",
      "class_net.bn_rep.1.4.bn.bias classifier.bns.1.4.bias\n",
      "class_net.bn_rep.1.4.bn.running_mean classifier.bns.1.4.running_mean\n",
      "class_net.bn_rep.1.4.bn.running_var classifier.bns.1.4.running_var\n",
      "class_net.bn_rep.1.4.bn.num_batches_tracked classifier.bns.1.4.num_batches_tracked\n",
      "class_net.bn_rep.2.0.bn.weight classifier.bns.2.0.weight\n",
      "class_net.bn_rep.2.0.bn.bias classifier.bns.2.0.bias\n",
      "class_net.bn_rep.2.0.bn.running_mean classifier.bns.2.0.running_mean\n",
      "class_net.bn_rep.2.0.bn.running_var classifier.bns.2.0.running_var\n",
      "class_net.bn_rep.2.0.bn.num_batches_tracked classifier.bns.2.0.num_batches_tracked\n",
      "class_net.bn_rep.2.1.bn.weight classifier.bns.2.1.weight\n",
      "class_net.bn_rep.2.1.bn.bias classifier.bns.2.1.bias\n",
      "class_net.bn_rep.2.1.bn.running_mean classifier.bns.2.1.running_mean\n",
      "class_net.bn_rep.2.1.bn.running_var classifier.bns.2.1.running_var\n",
      "class_net.bn_rep.2.1.bn.num_batches_tracked classifier.bns.2.1.num_batches_tracked\n",
      "class_net.bn_rep.2.2.bn.weight classifier.bns.2.2.weight\n",
      "class_net.bn_rep.2.2.bn.bias classifier.bns.2.2.bias\n",
      "class_net.bn_rep.2.2.bn.running_mean classifier.bns.2.2.running_mean\n",
      "class_net.bn_rep.2.2.bn.running_var classifier.bns.2.2.running_var\n",
      "class_net.bn_rep.2.2.bn.num_batches_tracked classifier.bns.2.2.num_batches_tracked\n",
      "class_net.bn_rep.2.3.bn.weight classifier.bns.2.3.weight\n",
      "class_net.bn_rep.2.3.bn.bias classifier.bns.2.3.bias\n",
      "class_net.bn_rep.2.3.bn.running_mean classifier.bns.2.3.running_mean\n",
      "class_net.bn_rep.2.3.bn.running_var classifier.bns.2.3.running_var\n",
      "class_net.bn_rep.2.3.bn.num_batches_tracked classifier.bns.2.3.num_batches_tracked\n",
      "class_net.bn_rep.2.4.bn.weight classifier.bns.2.4.weight\n",
      "class_net.bn_rep.2.4.bn.bias classifier.bns.2.4.bias\n",
      "class_net.bn_rep.2.4.bn.running_mean classifier.bns.2.4.running_mean\n",
      "class_net.bn_rep.2.4.bn.running_var classifier.bns.2.4.running_var\n",
      "class_net.bn_rep.2.4.bn.num_batches_tracked classifier.bns.2.4.num_batches_tracked\n",
      "class_net.bn_rep.3.0.bn.weight classifier.bns.3.0.weight\n",
      "class_net.bn_rep.3.0.bn.bias classifier.bns.3.0.bias\n",
      "class_net.bn_rep.3.0.bn.running_mean classifier.bns.3.0.running_mean\n",
      "class_net.bn_rep.3.0.bn.running_var classifier.bns.3.0.running_var\n",
      "class_net.bn_rep.3.0.bn.num_batches_tracked classifier.bns.3.0.num_batches_tracked\n",
      "class_net.bn_rep.3.1.bn.weight classifier.bns.3.1.weight\n",
      "class_net.bn_rep.3.1.bn.bias classifier.bns.3.1.bias\n",
      "class_net.bn_rep.3.1.bn.running_mean classifier.bns.3.1.running_mean\n",
      "class_net.bn_rep.3.1.bn.running_var classifier.bns.3.1.running_var\n",
      "class_net.bn_rep.3.1.bn.num_batches_tracked classifier.bns.3.1.num_batches_tracked\n",
      "class_net.bn_rep.3.2.bn.weight classifier.bns.3.2.weight\n",
      "class_net.bn_rep.3.2.bn.bias classifier.bns.3.2.bias\n",
      "class_net.bn_rep.3.2.bn.running_mean classifier.bns.3.2.running_mean\n",
      "class_net.bn_rep.3.2.bn.running_var classifier.bns.3.2.running_var\n",
      "class_net.bn_rep.3.2.bn.num_batches_tracked classifier.bns.3.2.num_batches_tracked\n",
      "class_net.bn_rep.3.3.bn.weight classifier.bns.3.3.weight\n",
      "class_net.bn_rep.3.3.bn.bias classifier.bns.3.3.bias\n",
      "class_net.bn_rep.3.3.bn.running_mean classifier.bns.3.3.running_mean\n",
      "class_net.bn_rep.3.3.bn.running_var classifier.bns.3.3.running_var\n",
      "class_net.bn_rep.3.3.bn.num_batches_tracked classifier.bns.3.3.num_batches_tracked\n",
      "class_net.bn_rep.3.4.bn.weight classifier.bns.3.4.weight\n",
      "class_net.bn_rep.3.4.bn.bias classifier.bns.3.4.bias\n",
      "class_net.bn_rep.3.4.bn.running_mean classifier.bns.3.4.running_mean\n",
      "class_net.bn_rep.3.4.bn.running_var classifier.bns.3.4.running_var\n",
      "class_net.bn_rep.3.4.bn.num_batches_tracked classifier.bns.3.4.num_batches_tracked\n",
      "class_net.predict.conv_dw.weight classifier.head.conv_dw.weight\n",
      "class_net.predict.conv_pw.weight classifier.head.conv_pw.weight\n",
      "class_net.predict.conv_pw.bias classifier.head.conv_pw.bias\n"
     ]
    }
   ],
   "source": [
    "for f, t in zip(orig_keys, to_keys):\n",
    "    print(f, t)\n",
    "    assert to[t].shape == state_dict[f].shape, 'Wrong shapes ooooops: {} and {}, {} {}'.format(to[t].shape, state_dict[f].shape, t, f)\n",
    "    to[t] = state_dict[f]\n",
    "    \n",
    "    remove_state_dict_keys_when_filled.remove(f)\n",
    "    remove_to_keys_when_filled.remove(t)"
   ]
  },
  {
   "cell_type": "code",
   "execution_count": 448,
   "metadata": {
    "scrolled": true
   },
   "outputs": [
    {
     "data": {
      "text/plain": [
       "True"
      ]
     },
     "execution_count": 448,
     "metadata": {},
     "output_type": "execute_result"
    }
   ],
   "source": [
    "torch.allclose(to['classifier.head.conv_pw.bias'], state_dict['class_net.predict.conv_pw.bias'])"
   ]
  },
  {
   "cell_type": "code",
   "execution_count": 449,
   "metadata": {},
   "outputs": [],
   "source": [
    "torch.save(to, 'efficientdet-d{}.pth'.format(MODEL_NAME))"
   ]
  },
  {
   "cell_type": "code",
   "execution_count": 450,
   "metadata": {},
   "outputs": [
    {
     "data": {
      "text/plain": [
       "[]"
      ]
     },
     "execution_count": 450,
     "metadata": {},
     "output_type": "execute_result"
    }
   ],
   "source": [
    "remove_to_keys_when_filled"
   ]
  },
  {
   "cell_type": "code",
   "execution_count": 451,
   "metadata": {},
   "outputs": [
    {
     "data": {
      "text/plain": [
       "['fpn.resample.3.conv.conv.bias',\n",
       " 'fpn.cell.0.fnode.0.after_combine.conv.conv_pw.bias',\n",
       " 'fpn.cell.0.fnode.1.combine.resample.2.conv.conv.bias',\n",
       " 'fpn.cell.0.fnode.1.after_combine.conv.conv_pw.bias',\n",
       " 'fpn.cell.0.fnode.2.combine.resample.1.conv.conv.bias',\n",
       " 'fpn.cell.0.fnode.2.after_combine.conv.conv_pw.bias',\n",
       " 'fpn.cell.0.fnode.3.combine.resample.0.conv.conv.bias',\n",
       " 'fpn.cell.0.fnode.3.after_combine.conv.conv_pw.bias',\n",
       " 'fpn.cell.0.fnode.4.combine.resample.1.conv.conv.bias',\n",
       " 'fpn.cell.0.fnode.4.after_combine.conv.conv_pw.bias',\n",
       " 'fpn.cell.0.fnode.5.combine.resample.2.conv.conv.bias',\n",
       " 'fpn.cell.0.fnode.5.after_combine.conv.conv_pw.bias',\n",
       " 'fpn.cell.0.fnode.6.after_combine.conv.conv_pw.bias',\n",
       " 'fpn.cell.0.fnode.7.after_combine.conv.conv_pw.bias',\n",
       " 'fpn.cell.1.fnode.0.after_combine.conv.conv_pw.bias',\n",
       " 'fpn.cell.1.fnode.1.after_combine.conv.conv_pw.bias',\n",
       " 'fpn.cell.1.fnode.2.after_combine.conv.conv_pw.bias',\n",
       " 'fpn.cell.1.fnode.3.after_combine.conv.conv_pw.bias',\n",
       " 'fpn.cell.1.fnode.4.after_combine.conv.conv_pw.bias',\n",
       " 'fpn.cell.1.fnode.5.after_combine.conv.conv_pw.bias',\n",
       " 'fpn.cell.1.fnode.6.after_combine.conv.conv_pw.bias',\n",
       " 'fpn.cell.1.fnode.7.after_combine.conv.conv_pw.bias',\n",
       " 'fpn.cell.2.fnode.0.after_combine.conv.conv_pw.bias',\n",
       " 'fpn.cell.2.fnode.1.after_combine.conv.conv_pw.bias',\n",
       " 'fpn.cell.2.fnode.2.after_combine.conv.conv_pw.bias',\n",
       " 'fpn.cell.2.fnode.3.after_combine.conv.conv_pw.bias',\n",
       " 'fpn.cell.2.fnode.4.after_combine.conv.conv_pw.bias',\n",
       " 'fpn.cell.2.fnode.5.after_combine.conv.conv_pw.bias',\n",
       " 'fpn.cell.2.fnode.6.after_combine.conv.conv_pw.bias',\n",
       " 'fpn.cell.2.fnode.7.after_combine.conv.conv_pw.bias',\n",
       " 'fpn.cell.3.fnode.0.after_combine.conv.conv_pw.bias',\n",
       " 'fpn.cell.3.fnode.1.after_combine.conv.conv_pw.bias',\n",
       " 'fpn.cell.3.fnode.2.after_combine.conv.conv_pw.bias',\n",
       " 'fpn.cell.3.fnode.3.after_combine.conv.conv_pw.bias',\n",
       " 'fpn.cell.3.fnode.4.after_combine.conv.conv_pw.bias',\n",
       " 'fpn.cell.3.fnode.5.after_combine.conv.conv_pw.bias',\n",
       " 'fpn.cell.3.fnode.6.after_combine.conv.conv_pw.bias',\n",
       " 'fpn.cell.3.fnode.7.after_combine.conv.conv_pw.bias',\n",
       " 'fpn.cell.4.fnode.0.after_combine.conv.conv_pw.bias',\n",
       " 'fpn.cell.4.fnode.1.after_combine.conv.conv_pw.bias',\n",
       " 'fpn.cell.4.fnode.2.after_combine.conv.conv_pw.bias',\n",
       " 'fpn.cell.4.fnode.3.after_combine.conv.conv_pw.bias',\n",
       " 'fpn.cell.4.fnode.4.after_combine.conv.conv_pw.bias',\n",
       " 'fpn.cell.4.fnode.5.after_combine.conv.conv_pw.bias',\n",
       " 'fpn.cell.4.fnode.6.after_combine.conv.conv_pw.bias',\n",
       " 'fpn.cell.4.fnode.7.after_combine.conv.conv_pw.bias',\n",
       " 'fpn.cell.5.fnode.0.after_combine.conv.conv_pw.bias',\n",
       " 'fpn.cell.5.fnode.1.after_combine.conv.conv_pw.bias',\n",
       " 'fpn.cell.5.fnode.2.after_combine.conv.conv_pw.bias',\n",
       " 'fpn.cell.5.fnode.3.after_combine.conv.conv_pw.bias',\n",
       " 'fpn.cell.5.fnode.4.after_combine.conv.conv_pw.bias',\n",
       " 'fpn.cell.5.fnode.5.after_combine.conv.conv_pw.bias',\n",
       " 'fpn.cell.5.fnode.6.after_combine.conv.conv_pw.bias',\n",
       " 'fpn.cell.5.fnode.7.after_combine.conv.conv_pw.bias',\n",
       " 'fpn.cell.6.fnode.0.after_combine.conv.conv_pw.bias',\n",
       " 'fpn.cell.6.fnode.1.after_combine.conv.conv_pw.bias',\n",
       " 'fpn.cell.6.fnode.2.after_combine.conv.conv_pw.bias',\n",
       " 'fpn.cell.6.fnode.3.after_combine.conv.conv_pw.bias',\n",
       " 'fpn.cell.6.fnode.4.after_combine.conv.conv_pw.bias',\n",
       " 'fpn.cell.6.fnode.5.after_combine.conv.conv_pw.bias',\n",
       " 'fpn.cell.6.fnode.6.after_combine.conv.conv_pw.bias',\n",
       " 'fpn.cell.6.fnode.7.after_combine.conv.conv_pw.bias',\n",
       " 'class_net.conv_rep.0.conv_pw.bias',\n",
       " 'class_net.conv_rep.1.conv_pw.bias',\n",
       " 'class_net.conv_rep.2.conv_pw.bias',\n",
       " 'class_net.conv_rep.3.conv_pw.bias',\n",
       " 'box_net.conv_rep.0.conv_pw.bias',\n",
       " 'box_net.conv_rep.1.conv_pw.bias',\n",
       " 'box_net.conv_rep.2.conv_pw.bias',\n",
       " 'box_net.conv_rep.3.conv_pw.bias']"
      ]
     },
     "execution_count": 451,
     "metadata": {},
     "output_type": "execute_result"
    }
   ],
   "source": [
    "remove_state_dict_keys_when_filled"
   ]
  },
  {
   "cell_type": "code",
   "execution_count": null,
   "metadata": {},
   "outputs": [],
   "source": []
  }
 ],
 "metadata": {
  "kernelspec": {
   "display_name": "Python 3",
   "language": "python",
   "name": "python3"
  },
  "language_info": {
   "codemirror_mode": {
    "name": "ipython",
    "version": 3
   },
   "file_extension": ".py",
   "mimetype": "text/x-python",
   "name": "python",
   "nbconvert_exporter": "python",
   "pygments_lexer": "ipython3",
   "version": "3.7.7"
  }
 },
 "nbformat": 4,
 "nbformat_minor": 4
}